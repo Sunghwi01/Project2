{
 "cells": [
  {
   "cell_type": "code",
   "execution_count": 2,
   "metadata": {},
   "outputs": [],
   "source": [
    "import pandas as pd\n",
    "import numpy as np"
   ]
  },
  {
   "cell_type": "code",
   "execution_count": 57,
   "metadata": {},
   "outputs": [],
   "source": [
    "df = pd.read_csv('./dataset/label지정(이자배상배율복귀).csv', encoding='CP949')\n",
    "df12 = pd.read_csv('./dataset/이자보상배율.csv', encoding='CP949')"
   ]
  },
  {
   "cell_type": "code",
   "execution_count": 50,
   "metadata": {},
   "outputs": [],
   "source": [
    "df_i = df[df['[제조]이자보상배율(이자비용)']==999999999]\n",
    "df_ni = df[df['[제조]이자보상배율(이자비용)']==999999999].index\n",
    "df_nn = df.drop(df_ni)"
   ]
  },
  {
   "cell_type": "code",
   "execution_count": 79,
   "metadata": {},
   "outputs": [],
   "source": [
    "dc = df_nn['[제조]이자보상배율(이자비용)'].max()\n",
    "dm = df_nn['[제조]이자보상배율(이자비용)'].min()"
   ]
  },
  {
   "cell_type": "code",
   "execution_count": 84,
   "metadata": {},
   "outputs": [
    {
     "data": {
      "text/plain": [
       "8432098.32"
      ]
     },
     "execution_count": 84,
     "metadata": {},
     "output_type": "execute_result"
    }
   ],
   "source": [
    "dc"
   ]
  },
  {
   "cell_type": "code",
   "execution_count": 52,
   "metadata": {},
   "outputs": [],
   "source": [
    "df12.drop(['[제조]영업이익(손실)'],axis=1,inplace=True)"
   ]
  },
  {
   "cell_type": "code",
   "execution_count": 68,
   "metadata": {},
   "outputs": [],
   "source": [
    "df_i['회계년도'] = pd.to_datetime(df_i['회계년도'], format='%Y-%m-%d')"
   ]
  },
  {
   "cell_type": "code",
   "execution_count": 69,
   "metadata": {},
   "outputs": [
    {
     "name": "stdout",
     "output_type": "stream",
     "text": [
      "<class 'pandas.core.frame.DataFrame'>\n",
      "Int64Index: 635 entries, 5 to 10661\n",
      "Data columns (total 58 columns):\n",
      " #   Column            Non-Null Count  Dtype         \n",
      "---  ------            --------------  -----         \n",
      " 0   회사명               635 non-null    object        \n",
      " 1   거래소코드             635 non-null    int64         \n",
      " 2   회계년도              635 non-null    datetime64[ns]\n",
      " 3   상장일               635 non-null    object        \n",
      " 4   상장폐지일             23 non-null     object        \n",
      " 5   산업명               635 non-null    object        \n",
      " 6   소속코드              635 non-null    int64         \n",
      " 7   [제조]매출액증가율        635 non-null    float64       \n",
      " 8   [제조]유형자산증가율       635 non-null    float64       \n",
      " 9   [제조]비유동자산증가율      635 non-null    float64       \n",
      " 10  [제조]총자본증가율        635 non-null    float64       \n",
      " 11  [제조]자기자본증가율       635 non-null    float64       \n",
      " 12  [제조]유동자산증가율       635 non-null    float64       \n",
      " 13  [제조]순이익증가율        635 non-null    float64       \n",
      " 14  [제조]재고자산증가율       635 non-null    float64       \n",
      " 15  [제조]매출액총이익률       635 non-null    float64       \n",
      " 16  [제조]매출액순이익률       635 non-null    float64       \n",
      " 17  [제조]총자본사업이익률      635 non-null    float64       \n",
      " 18  [제조]총자본순이익률       635 non-null    float64       \n",
      " 19  [제조]자기자본순이익률      635 non-null    float64       \n",
      " 20  [제조]1주당순이익        635 non-null    float64       \n",
      " 21  [제조]1주당매출액        635 non-null    float64       \n",
      " 22  [제조]총자본회전률        635 non-null    float64       \n",
      " 23  [제조]자기자본회전률       635 non-null    float64       \n",
      " 24  [제조]비유동자산회전률      635 non-null    float64       \n",
      " 25  [제조]재고자산회전률       635 non-null    float64       \n",
      " 26  [제조]매출채권회전률       635 non-null    float64       \n",
      " 27  [제조]매입채무회전률       635 non-null    float64       \n",
      " 28  [제조]매입채무회전기간      635 non-null    float64       \n",
      " 29  [제조]재고자산회전기간      635 non-null    float64       \n",
      " 30  [제조]매출채권회전기간      635 non-null    float64       \n",
      " 31  [제조]1회전기간         635 non-null    float64       \n",
      " 32  [제조]운전자본회전률       635 non-null    float64       \n",
      " 33  [제조]순운전자본회전률      635 non-null    float64       \n",
      " 34  [제조]유동자산회전률       635 non-null    float64       \n",
      " 35  [제조]당좌자산회전률       635 non-null    float64       \n",
      " 36  [제조]유동비율          635 non-null    float64       \n",
      " 37  [제조]당좌비율          635 non-null    float64       \n",
      " 38  [제조]현금비율          635 non-null    float64       \n",
      " 39  [제조]부채비율          635 non-null    float64       \n",
      " 40  [제조]순운전자본비율       635 non-null    float64       \n",
      " 41  [제조]자기자본배율        635 non-null    float64       \n",
      " 42  [제조]비유동비율         635 non-null    float64       \n",
      " 43  [제조]유동자산구성비율      635 non-null    float64       \n",
      " 44  [제조]자기자본구성비율      635 non-null    float64       \n",
      " 45  [제조]부가가치          635 non-null    float64       \n",
      " 46  [제조]총자본투자효율       635 non-null    float64       \n",
      " 47  [제조]설비투자효율        635 non-null    float64       \n",
      " 48  [제조]기계투자효율        635 non-null    float64       \n",
      " 49  [제조]부가가치율         635 non-null    float64       \n",
      " 50  [제조]노동소득분배율       635 non-null    float64       \n",
      " 51  [제조]자본분배율         635 non-null    float64       \n",
      " 52  [제조]이윤분배율         635 non-null    float64       \n",
      " 53  [제조]유형자산회전율       635 non-null    float64       \n",
      " 54  [제조]이자보상배율(이자비용)  635 non-null    float64       \n",
      " 55  year              635 non-null    int64         \n",
      " 56  month             635 non-null    int64         \n",
      " 57  label             635 non-null    int64         \n",
      "dtypes: datetime64[ns](1), float64(48), int64(5), object(4)\n",
      "memory usage: 292.7+ KB\n"
     ]
    }
   ],
   "source": [
    "df_i.info()"
   ]
  },
  {
   "cell_type": "code",
   "execution_count": 66,
   "metadata": {},
   "outputs": [
    {
     "name": "stdout",
     "output_type": "stream",
     "text": [
      "<class 'pandas.core.frame.DataFrame'>\n",
      "RangeIndex: 2116 entries, 0 to 2115\n",
      "Data columns (total 5 columns):\n",
      " #   Column            Non-Null Count  Dtype         \n",
      "---  ------            --------------  -----         \n",
      " 0   회사명               2116 non-null   object        \n",
      " 1   거래소코드             2116 non-null   int64         \n",
      " 2   회계년도              2116 non-null   datetime64[ns]\n",
      " 3   [제조]영업이익(손실)      2097 non-null   float64       \n",
      " 4   [제조]영업이익(손실)(연결)  2110 non-null   float64       \n",
      "dtypes: datetime64[ns](1), float64(2), int64(1), object(1)\n",
      "memory usage: 82.8+ KB\n"
     ]
    }
   ],
   "source": [
    "df12.info()"
   ]
  },
  {
   "cell_type": "code",
   "execution_count": 60,
   "metadata": {},
   "outputs": [
    {
     "ename": "AttributeError",
     "evalue": "Can only use .dt accessor with datetimelike values",
     "output_type": "error",
     "traceback": [
      "\u001b[1;31m---------------------------------------------------------------------------\u001b[0m",
      "\u001b[1;31mAttributeError\u001b[0m                            Traceback (most recent call last)",
      "\u001b[1;32m<ipython-input-60-2e0a0e793f7b>\u001b[0m in \u001b[0;36m<module>\u001b[1;34m\u001b[0m\n\u001b[1;32m----> 1\u001b[1;33m \u001b[0mdf12\u001b[0m\u001b[1;33m[\u001b[0m\u001b[1;34m'year'\u001b[0m\u001b[1;33m]\u001b[0m \u001b[1;33m=\u001b[0m \u001b[0mdf12\u001b[0m\u001b[1;33m[\u001b[0m\u001b[1;34m'회계년도'\u001b[0m\u001b[1;33m]\u001b[0m\u001b[1;33m.\u001b[0m\u001b[0mdt\u001b[0m\u001b[1;33m.\u001b[0m\u001b[0myear\u001b[0m\u001b[1;33m\u001b[0m\u001b[1;33m\u001b[0m\u001b[0m\n\u001b[0m\u001b[0;32m      2\u001b[0m \u001b[0mdf12\u001b[0m\u001b[1;33m[\u001b[0m\u001b[1;34m'month'\u001b[0m\u001b[1;33m]\u001b[0m \u001b[1;33m=\u001b[0m \u001b[0mdf12\u001b[0m\u001b[1;33m[\u001b[0m\u001b[1;34m'회계년도'\u001b[0m\u001b[1;33m]\u001b[0m\u001b[1;33m.\u001b[0m\u001b[0mdt\u001b[0m\u001b[1;33m.\u001b[0m\u001b[0mmonth\u001b[0m\u001b[1;33m\u001b[0m\u001b[1;33m\u001b[0m\u001b[0m\n",
      "\u001b[1;32mc:\\ProgramData\\Anaconda3\\lib\\site-packages\\pandas\\core\\generic.py\u001b[0m in \u001b[0;36m__getattr__\u001b[1;34m(self, name)\u001b[0m\n\u001b[0;32m   5459\u001b[0m             \u001b[1;32mor\u001b[0m \u001b[0mname\u001b[0m \u001b[1;32min\u001b[0m \u001b[0mself\u001b[0m\u001b[1;33m.\u001b[0m\u001b[0m_accessors\u001b[0m\u001b[1;33m\u001b[0m\u001b[1;33m\u001b[0m\u001b[0m\n\u001b[0;32m   5460\u001b[0m         ):\n\u001b[1;32m-> 5461\u001b[1;33m             \u001b[1;32mreturn\u001b[0m \u001b[0mobject\u001b[0m\u001b[1;33m.\u001b[0m\u001b[0m__getattribute__\u001b[0m\u001b[1;33m(\u001b[0m\u001b[0mself\u001b[0m\u001b[1;33m,\u001b[0m \u001b[0mname\u001b[0m\u001b[1;33m)\u001b[0m\u001b[1;33m\u001b[0m\u001b[1;33m\u001b[0m\u001b[0m\n\u001b[0m\u001b[0;32m   5462\u001b[0m         \u001b[1;32melse\u001b[0m\u001b[1;33m:\u001b[0m\u001b[1;33m\u001b[0m\u001b[1;33m\u001b[0m\u001b[0m\n\u001b[0;32m   5463\u001b[0m             \u001b[1;32mif\u001b[0m \u001b[0mself\u001b[0m\u001b[1;33m.\u001b[0m\u001b[0m_info_axis\u001b[0m\u001b[1;33m.\u001b[0m\u001b[0m_can_hold_identifiers_and_holds_name\u001b[0m\u001b[1;33m(\u001b[0m\u001b[0mname\u001b[0m\u001b[1;33m)\u001b[0m\u001b[1;33m:\u001b[0m\u001b[1;33m\u001b[0m\u001b[1;33m\u001b[0m\u001b[0m\n",
      "\u001b[1;32mc:\\ProgramData\\Anaconda3\\lib\\site-packages\\pandas\\core\\accessor.py\u001b[0m in \u001b[0;36m__get__\u001b[1;34m(self, obj, cls)\u001b[0m\n\u001b[0;32m    178\u001b[0m             \u001b[1;31m# we're accessing the attribute of the class, i.e., Dataset.geo\u001b[0m\u001b[1;33m\u001b[0m\u001b[1;33m\u001b[0m\u001b[1;33m\u001b[0m\u001b[0m\n\u001b[0;32m    179\u001b[0m             \u001b[1;32mreturn\u001b[0m \u001b[0mself\u001b[0m\u001b[1;33m.\u001b[0m\u001b[0m_accessor\u001b[0m\u001b[1;33m\u001b[0m\u001b[1;33m\u001b[0m\u001b[0m\n\u001b[1;32m--> 180\u001b[1;33m         \u001b[0maccessor_obj\u001b[0m \u001b[1;33m=\u001b[0m \u001b[0mself\u001b[0m\u001b[1;33m.\u001b[0m\u001b[0m_accessor\u001b[0m\u001b[1;33m(\u001b[0m\u001b[0mobj\u001b[0m\u001b[1;33m)\u001b[0m\u001b[1;33m\u001b[0m\u001b[1;33m\u001b[0m\u001b[0m\n\u001b[0m\u001b[0;32m    181\u001b[0m         \u001b[1;31m# Replace the property with the accessor object. Inspired by:\u001b[0m\u001b[1;33m\u001b[0m\u001b[1;33m\u001b[0m\u001b[1;33m\u001b[0m\u001b[0m\n\u001b[0;32m    182\u001b[0m         \u001b[1;31m# https://www.pydanny.com/cached-property.html\u001b[0m\u001b[1;33m\u001b[0m\u001b[1;33m\u001b[0m\u001b[1;33m\u001b[0m\u001b[0m\n",
      "\u001b[1;32mc:\\ProgramData\\Anaconda3\\lib\\site-packages\\pandas\\core\\indexes\\accessors.py\u001b[0m in \u001b[0;36m__new__\u001b[1;34m(cls, data)\u001b[0m\n\u001b[0;32m    492\u001b[0m             \u001b[1;32mreturn\u001b[0m \u001b[0mPeriodProperties\u001b[0m\u001b[1;33m(\u001b[0m\u001b[0mdata\u001b[0m\u001b[1;33m,\u001b[0m \u001b[0morig\u001b[0m\u001b[1;33m)\u001b[0m\u001b[1;33m\u001b[0m\u001b[1;33m\u001b[0m\u001b[0m\n\u001b[0;32m    493\u001b[0m \u001b[1;33m\u001b[0m\u001b[0m\n\u001b[1;32m--> 494\u001b[1;33m         \u001b[1;32mraise\u001b[0m \u001b[0mAttributeError\u001b[0m\u001b[1;33m(\u001b[0m\u001b[1;34m\"Can only use .dt accessor with datetimelike values\"\u001b[0m\u001b[1;33m)\u001b[0m\u001b[1;33m\u001b[0m\u001b[1;33m\u001b[0m\u001b[0m\n\u001b[0m",
      "\u001b[1;31mAttributeError\u001b[0m: Can only use .dt accessor with datetimelike values"
     ]
    }
   ],
   "source": [
    "\n",
    "df12['year'] = df12['회계년도'].dt.year\n",
    "df12['month'] = df12['회계년도'].dt.month"
   ]
  },
  {
   "cell_type": "code",
   "execution_count": 38,
   "metadata": {},
   "outputs": [
    {
     "data": {
      "text/html": [
       "<div>\n",
       "<style scoped>\n",
       "    .dataframe tbody tr th:only-of-type {\n",
       "        vertical-align: middle;\n",
       "    }\n",
       "\n",
       "    .dataframe tbody tr th {\n",
       "        vertical-align: top;\n",
       "    }\n",
       "\n",
       "    .dataframe thead th {\n",
       "        text-align: right;\n",
       "    }\n",
       "</style>\n",
       "<table border=\"1\" class=\"dataframe\">\n",
       "  <thead>\n",
       "    <tr style=\"text-align: right;\">\n",
       "      <th></th>\n",
       "      <th>회사명</th>\n",
       "      <th>거래소코드</th>\n",
       "      <th>회계년도</th>\n",
       "      <th>[제조]영업이익(손실)(연결)</th>\n",
       "    </tr>\n",
       "  </thead>\n",
       "  <tbody>\n",
       "    <tr>\n",
       "      <th>0</th>\n",
       "      <td>(주)CMG제약</td>\n",
       "      <td>58820</td>\n",
       "      <td>2011-12-01</td>\n",
       "      <td>623816.0</td>\n",
       "    </tr>\n",
       "    <tr>\n",
       "      <th>1</th>\n",
       "      <td>(주)CMG제약</td>\n",
       "      <td>58820</td>\n",
       "      <td>2012-12-01</td>\n",
       "      <td>-4205503.0</td>\n",
       "    </tr>\n",
       "    <tr>\n",
       "      <th>2</th>\n",
       "      <td>(주)CMG제약</td>\n",
       "      <td>58820</td>\n",
       "      <td>2013-12-01</td>\n",
       "      <td>791250.0</td>\n",
       "    </tr>\n",
       "    <tr>\n",
       "      <th>3</th>\n",
       "      <td>(주)CMG제약</td>\n",
       "      <td>58820</td>\n",
       "      <td>2014-12-01</td>\n",
       "      <td>442322.0</td>\n",
       "    </tr>\n",
       "    <tr>\n",
       "      <th>4</th>\n",
       "      <td>(주)CMG제약</td>\n",
       "      <td>58820</td>\n",
       "      <td>2015-12-01</td>\n",
       "      <td>-2572168.0</td>\n",
       "    </tr>\n",
       "    <tr>\n",
       "      <th>...</th>\n",
       "      <td>...</td>\n",
       "      <td>...</td>\n",
       "      <td>...</td>\n",
       "      <td>...</td>\n",
       "    </tr>\n",
       "    <tr>\n",
       "      <th>2111</th>\n",
       "      <td>흥구석유(주)</td>\n",
       "      <td>24060</td>\n",
       "      <td>2018-12-01</td>\n",
       "      <td>963788.0</td>\n",
       "    </tr>\n",
       "    <tr>\n",
       "      <th>2112</th>\n",
       "      <td>흥구석유(주)</td>\n",
       "      <td>24060</td>\n",
       "      <td>2019-12-01</td>\n",
       "      <td>751487.0</td>\n",
       "    </tr>\n",
       "    <tr>\n",
       "      <th>2113</th>\n",
       "      <td>흥구석유(주)</td>\n",
       "      <td>24060</td>\n",
       "      <td>2020-12-01</td>\n",
       "      <td>1092436.0</td>\n",
       "    </tr>\n",
       "    <tr>\n",
       "      <th>2114</th>\n",
       "      <td>흥구석유(주)</td>\n",
       "      <td>24060</td>\n",
       "      <td>2017-12-01</td>\n",
       "      <td>500763.0</td>\n",
       "    </tr>\n",
       "    <tr>\n",
       "      <th>2115</th>\n",
       "      <td>흥구석유(주)</td>\n",
       "      <td>24060</td>\n",
       "      <td>2018-12-01</td>\n",
       "      <td>-493797.0</td>\n",
       "    </tr>\n",
       "  </tbody>\n",
       "</table>\n",
       "<p>2116 rows × 4 columns</p>\n",
       "</div>"
      ],
      "text/plain": [
       "           회사명  거래소코드       회계년도  [제조]영업이익(손실)(연결)\n",
       "0     (주)CMG제약  58820 2011-12-01          623816.0\n",
       "1     (주)CMG제약  58820 2012-12-01        -4205503.0\n",
       "2     (주)CMG제약  58820 2013-12-01          791250.0\n",
       "3     (주)CMG제약  58820 2014-12-01          442322.0\n",
       "4     (주)CMG제약  58820 2015-12-01        -2572168.0\n",
       "...        ...    ...        ...               ...\n",
       "2111   흥구석유(주)  24060 2018-12-01          963788.0\n",
       "2112   흥구석유(주)  24060 2019-12-01          751487.0\n",
       "2113   흥구석유(주)  24060 2020-12-01         1092436.0\n",
       "2114   흥구석유(주)  24060 2017-12-01          500763.0\n",
       "2115   흥구석유(주)  24060 2018-12-01         -493797.0\n",
       "\n",
       "[2116 rows x 4 columns]"
      ]
     },
     "execution_count": 38,
     "metadata": {},
     "output_type": "execute_result"
    }
   ],
   "source": [
    "df12"
   ]
  },
  {
   "cell_type": "code",
   "execution_count": 72,
   "metadata": {},
   "outputs": [],
   "source": [
    "df_i12 = pd.merge(df_i,df12,on=['회사명','거래소코드', '회계년도'], how='inner')\n",
    "df_i12.drop(['[제조]이자보상배율(이자비용)'], axis=1, inplace=True)\n",
    "df_i12['[제조]이자보상배율(이자비용)'] =''"
   ]
  },
  {
   "cell_type": "code",
   "execution_count": 92,
   "metadata": {},
   "outputs": [
    {
     "name": "stderr",
     "output_type": "stream",
     "text": [
      "<ipython-input-92-667d4d3d3e64>:3: SettingWithCopyWarning: \n",
      "A value is trying to be set on a copy of a slice from a DataFrame\n",
      "\n",
      "See the caveats in the documentation: https://pandas.pydata.org/pandas-docs/stable/user_guide/indexing.html#returning-a-view-versus-a-copy\n",
      "  df_i12['[제조]이자보상배율(이자비용)'][i] = 8432098.32\n",
      "<ipython-input-92-667d4d3d3e64>:5: SettingWithCopyWarning: \n",
      "A value is trying to be set on a copy of a slice from a DataFrame\n",
      "\n",
      "See the caveats in the documentation: https://pandas.pydata.org/pandas-docs/stable/user_guide/indexing.html#returning-a-view-versus-a-copy\n",
      "  df_i12['[제조]이자보상배율(이자비용)'][i] = -4493653.05\n"
     ]
    }
   ],
   "source": [
    "for i in range(len(df_i12)):\n",
    "    if df_i12['[제조]영업이익(손실)(연결)'][i] > 0:\n",
    "        df_i12['[제조]이자보상배율(이자비용)'][i] = 8432098.32\n",
    "    elif df_i12['[제조]영업이익(손실)(연결)'][i] < 0:\n",
    "        df_i12['[제조]이자보상배율(이자비용)'][i] = -4493653.05\n",
    "    else:\n",
    "        df_i12['[제조]이자보상배율(이자비용)'][i] = 0"
   ]
  },
  {
   "cell_type": "code",
   "execution_count": 98,
   "metadata": {},
   "outputs": [],
   "source": [
    "df_i12 = df_i12[['회사명', '거래소코드', '회계년도', '상장일', '상장폐지일', '산업명', '소속코드', '[제조]매출액증가율',\n",
    "       '[제조]유형자산증가율', '[제조]비유동자산증가율', '[제조]총자본증가율', '[제조]자기자본증가율',\n",
    "       '[제조]유동자산증가율', '[제조]순이익증가율', '[제조]재고자산증가율', '[제조]매출액총이익률',\n",
    "       '[제조]매출액순이익률', '[제조]총자본사업이익률', '[제조]총자본순이익률', '[제조]자기자본순이익률',\n",
    "       '[제조]1주당순이익', '[제조]1주당매출액', '[제조]총자본회전률', '[제조]자기자본회전률', '[제조]비유동자산회전률',\n",
    "       '[제조]재고자산회전률', '[제조]매출채권회전률', '[제조]매입채무회전률', '[제조]매입채무회전기간',\n",
    "       '[제조]재고자산회전기간', '[제조]매출채권회전기간', '[제조]1회전기간', '[제조]운전자본회전률',\n",
    "       '[제조]순운전자본회전률', '[제조]유동자산회전률', '[제조]당좌자산회전률', '[제조]유동비율', '[제조]당좌비율',\n",
    "       '[제조]현금비율', '[제조]부채비율', '[제조]순운전자본비율', '[제조]자기자본배율', '[제조]비유동비율',\n",
    "       '[제조]유동자산구성비율', '[제조]자기자본구성비율', '[제조]부가가치', '[제조]총자본투자효율', '[제조]설비투자효율',\n",
    "       '[제조]기계투자효율', '[제조]부가가치율', '[제조]노동소득분배율', '[제조]자본분배율', '[제조]이윤분배율',\n",
    "       '[제조]유형자산회전율', '[제조]이자보상배율(이자비용)', 'year', 'month', 'label']]"
   ]
  },
  {
   "cell_type": "code",
   "execution_count": 99,
   "metadata": {},
   "outputs": [],
   "source": [
    "df = pd.concat([df_nn,df_i12])"
   ]
  },
  {
   "cell_type": "code",
   "execution_count": 102,
   "metadata": {},
   "outputs": [],
   "source": [
    "df.sort_values(['회사명','회계년도'], ascending=True, inplace=True)\n",
    "df.reset_index(drop=True, inplace=True)"
   ]
  },
  {
   "cell_type": "code",
   "execution_count": 104,
   "metadata": {},
   "outputs": [],
   "source": [
    "df.to_csv('./dataset/Dataset(이자보상배율수정).csv', encoding='CP949', index=False)"
   ]
  },
  {
   "cell_type": "code",
   "execution_count": null,
   "metadata": {},
   "outputs": [],
   "source": []
  }
 ],
 "metadata": {
  "kernelspec": {
   "display_name": "Python 3.8.8 ('base')",
   "language": "python",
   "name": "python3"
  },
  "language_info": {
   "codemirror_mode": {
    "name": "ipython",
    "version": 3
   },
   "file_extension": ".py",
   "mimetype": "text/x-python",
   "name": "python",
   "nbconvert_exporter": "python",
   "pygments_lexer": "ipython3",
   "version": "3.8.8"
  },
  "orig_nbformat": 4,
  "vscode": {
   "interpreter": {
    "hash": "ad2bdc8ecc057115af97d19610ffacc2b4e99fae6737bb82f5d7fb13d2f2c186"
   }
  }
 },
 "nbformat": 4,
 "nbformat_minor": 2
}
