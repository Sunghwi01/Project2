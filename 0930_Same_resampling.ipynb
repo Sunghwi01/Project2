{
 "cells": [
  {
   "cell_type": "code",
   "execution_count": 1,
   "metadata": {},
   "outputs": [],
   "source": [
    "import matplotlib.pyplot as plt\n",
    "import pandas as pd\n",
    "import seaborn as sns\n",
    "import statsmodels.api as sm\n",
    "from statsmodels.stats.outliers_influence import variance_inflation_factor\n",
    "from scipy.stats.mstats import winsorize\n",
    "import numpy as np\n",
    "from scipy.stats import norm\n",
    "from scipy import stats\n",
    "from statsmodels.formula.api import ols\n",
    "plt.rcParams['font.family'] = 'Malgun Gothic'\n",
    "plt.rcParams['axes.unicode_minus'] = False\n",
    "import warnings\n",
    "warnings.filterwarnings('ignore')"
   ]
  },
  {
   "cell_type": "code",
   "execution_count": 2,
   "metadata": {},
   "outputs": [],
   "source": [
    "from imblearn.under_sampling import RandomUnderSampler\n",
    "from imblearn.over_sampling import RandomOverSampler\n",
    "from imblearn.over_sampling import SMOTE\n",
    "\n",
    "from sklearn.datasets import make_classification\n",
    "from collections import Counter\n",
    "\n",
    "from matplotlib import pyplot as plt\n",
    "import seaborn as sns"
   ]
  },
  {
   "cell_type": "code",
   "execution_count": 20,
   "metadata": {},
   "outputs": [],
   "source": [
    "df = pd.read_csv('./dataset/윈저데이터셋.csv', encoding='CP949')\n",
    "df_y = df['label']\n",
    "df_1 = df[['[제조]노동소득분배율',\n",
    "'[제조]자기자본배율',\n",
    "'[제조]현금비율',\n",
    "'[제조]자기자본증가율',\n",
    "'[제조]총자본증가율',\n",
    "'[제조]재고자산증가율',\n",
    "'[제조]매출액순이익률',\n",
    "'[제조]매입채무회전기간',\n",
    "'[제조]재고자산회전기간',\n",
    "'[제조]비유동자산회전률','label']]"
   ]
  },
  {
   "cell_type": "code",
   "execution_count": 21,
   "metadata": {},
   "outputs": [],
   "source": [
    "from sklearn.preprocessing import StandardScaler\n",
    "scaler = StandardScaler()\n",
    "scaler.fit(df_1)\n",
    "\n",
    "df_scaled = scaler.transform(df_1)\n",
    "\n",
    "df_scaled_df = pd.DataFrame(df_scaled,columns = df_1.columns)"
   ]
  },
  {
   "cell_type": "markdown",
   "metadata": {},
   "source": [
    "## 엘라스틱넷 데이터셋 "
   ]
  },
  {
   "cell_type": "code",
   "execution_count": 22,
   "metadata": {},
   "outputs": [],
   "source": [
    "from sklearn.model_selection import train_test_split\n",
    "Same_X = df_scaled_df.iloc[:,:-1]\n",
    "Same_y = df_y"
   ]
  },
  {
   "cell_type": "code",
   "execution_count": 23,
   "metadata": {},
   "outputs": [
    {
     "name": "stdout",
     "output_type": "stream",
     "text": [
      "RS 적용 전 학습용 피처/레이블 데이터 세트:  (10652, 10) (10652,)\n",
      "RS 적용 후 학습용 피처/레이블 데이터 세트:  (1793, 10) (1793,)\n",
      "RS 적용 후 레이블 값 분포: \n",
      " 0    1630\n",
      "1     163\n",
      "Name: label, dtype: int64\n"
     ]
    }
   ],
   "source": [
    "Same_X_samp_1, Same_y_samp_1 = RandomUnderSampler(random_state=0,sampling_strategy=0.1).fit_resample(Same_X, Same_y)\n",
    "\n",
    "print('RS 적용 전 학습용 피처/레이블 데이터 세트: ', Same_X.shape, Same_y.shape)\n",
    "print('RS 적용 후 학습용 피처/레이블 데이터 세트: ', Same_X_samp_1.shape, Same_y_samp_1.shape)\n",
    "print('RS 적용 후 레이블 값 분포: \\n', pd.Series(Same_y_samp_1).value_counts())"
   ]
  },
  {
   "cell_type": "code",
   "execution_count": 24,
   "metadata": {},
   "outputs": [
    {
     "data": {
      "text/html": [
       "<div>\n",
       "<style scoped>\n",
       "    .dataframe tbody tr th:only-of-type {\n",
       "        vertical-align: middle;\n",
       "    }\n",
       "\n",
       "    .dataframe tbody tr th {\n",
       "        vertical-align: top;\n",
       "    }\n",
       "\n",
       "    .dataframe thead th {\n",
       "        text-align: right;\n",
       "    }\n",
       "</style>\n",
       "<table border=\"1\" class=\"dataframe\">\n",
       "  <thead>\n",
       "    <tr style=\"text-align: right;\">\n",
       "      <th></th>\n",
       "      <th>[제조]노동소득분배율</th>\n",
       "      <th>[제조]자기자본배율</th>\n",
       "      <th>[제조]현금비율</th>\n",
       "      <th>[제조]자기자본증가율</th>\n",
       "      <th>[제조]총자본증가율</th>\n",
       "      <th>[제조]재고자산증가율</th>\n",
       "      <th>[제조]매출액순이익률</th>\n",
       "      <th>[제조]매입채무회전기간</th>\n",
       "      <th>[제조]재고자산회전기간</th>\n",
       "      <th>[제조]비유동자산회전률</th>\n",
       "      <th>label</th>\n",
       "    </tr>\n",
       "  </thead>\n",
       "  <tbody>\n",
       "    <tr>\n",
       "      <th>0</th>\n",
       "      <td>-0.680366</td>\n",
       "      <td>0.364327</td>\n",
       "      <td>-0.551356</td>\n",
       "      <td>0.127162</td>\n",
       "      <td>0.082208</td>\n",
       "      <td>-0.217657</td>\n",
       "      <td>0.568340</td>\n",
       "      <td>2.311054</td>\n",
       "      <td>0.087583</td>\n",
       "      <td>-0.826928</td>\n",
       "      <td>0</td>\n",
       "    </tr>\n",
       "    <tr>\n",
       "      <th>1</th>\n",
       "      <td>-0.510463</td>\n",
       "      <td>0.372378</td>\n",
       "      <td>-0.700173</td>\n",
       "      <td>-0.082138</td>\n",
       "      <td>0.042988</td>\n",
       "      <td>-0.069416</td>\n",
       "      <td>0.284942</td>\n",
       "      <td>1.467702</td>\n",
       "      <td>0.830181</td>\n",
       "      <td>-0.006370</td>\n",
       "      <td>0</td>\n",
       "    </tr>\n",
       "    <tr>\n",
       "      <th>2</th>\n",
       "      <td>-1.430155</td>\n",
       "      <td>-0.927537</td>\n",
       "      <td>-0.772674</td>\n",
       "      <td>-2.150465</td>\n",
       "      <td>0.680942</td>\n",
       "      <td>-0.210768</td>\n",
       "      <td>-4.391570</td>\n",
       "      <td>-1.394061</td>\n",
       "      <td>-1.160594</td>\n",
       "      <td>-1.044134</td>\n",
       "      <td>0</td>\n",
       "    </tr>\n",
       "    <tr>\n",
       "      <th>3</th>\n",
       "      <td>-0.212902</td>\n",
       "      <td>0.252307</td>\n",
       "      <td>2.601317</td>\n",
       "      <td>0.183011</td>\n",
       "      <td>0.215724</td>\n",
       "      <td>0.120873</td>\n",
       "      <td>0.621168</td>\n",
       "      <td>-0.968750</td>\n",
       "      <td>-0.083108</td>\n",
       "      <td>-0.302012</td>\n",
       "      <td>0</td>\n",
       "    </tr>\n",
       "    <tr>\n",
       "      <th>4</th>\n",
       "      <td>0.204930</td>\n",
       "      <td>-0.082687</td>\n",
       "      <td>2.117363</td>\n",
       "      <td>-0.097591</td>\n",
       "      <td>-0.067580</td>\n",
       "      <td>-0.042096</td>\n",
       "      <td>0.507633</td>\n",
       "      <td>-1.062809</td>\n",
       "      <td>1.360110</td>\n",
       "      <td>-0.235643</td>\n",
       "      <td>0</td>\n",
       "    </tr>\n",
       "    <tr>\n",
       "      <th>...</th>\n",
       "      <td>...</td>\n",
       "      <td>...</td>\n",
       "      <td>...</td>\n",
       "      <td>...</td>\n",
       "      <td>...</td>\n",
       "      <td>...</td>\n",
       "      <td>...</td>\n",
       "      <td>...</td>\n",
       "      <td>...</td>\n",
       "      <td>...</td>\n",
       "      <td>...</td>\n",
       "    </tr>\n",
       "    <tr>\n",
       "      <th>1788</th>\n",
       "      <td>-1.430155</td>\n",
       "      <td>-1.148362</td>\n",
       "      <td>-0.568856</td>\n",
       "      <td>-2.791921</td>\n",
       "      <td>-2.321910</td>\n",
       "      <td>-1.464874</td>\n",
       "      <td>-1.627341</td>\n",
       "      <td>2.311054</td>\n",
       "      <td>1.111728</td>\n",
       "      <td>-0.277878</td>\n",
       "      <td>1</td>\n",
       "    </tr>\n",
       "    <tr>\n",
       "      <th>1789</th>\n",
       "      <td>2.826654</td>\n",
       "      <td>-0.478738</td>\n",
       "      <td>-0.562672</td>\n",
       "      <td>-0.669371</td>\n",
       "      <td>0.269547</td>\n",
       "      <td>1.188729</td>\n",
       "      <td>-0.977071</td>\n",
       "      <td>0.495756</td>\n",
       "      <td>1.724684</td>\n",
       "      <td>-0.428716</td>\n",
       "      <td>1</td>\n",
       "    </tr>\n",
       "    <tr>\n",
       "      <th>1790</th>\n",
       "      <td>-1.002627</td>\n",
       "      <td>2.585154</td>\n",
       "      <td>2.955926</td>\n",
       "      <td>-0.106538</td>\n",
       "      <td>-0.307491</td>\n",
       "      <td>0.069797</td>\n",
       "      <td>0.407524</td>\n",
       "      <td>-0.129487</td>\n",
       "      <td>-1.140881</td>\n",
       "      <td>2.666476</td>\n",
       "      <td>1</td>\n",
       "    </tr>\n",
       "    <tr>\n",
       "      <th>1791</th>\n",
       "      <td>-1.430155</td>\n",
       "      <td>-0.969556</td>\n",
       "      <td>0.525237</td>\n",
       "      <td>-1.252536</td>\n",
       "      <td>-2.061554</td>\n",
       "      <td>-0.633871</td>\n",
       "      <td>-0.600569</td>\n",
       "      <td>-0.298521</td>\n",
       "      <td>-0.921024</td>\n",
       "      <td>0.784020</td>\n",
       "      <td>1</td>\n",
       "    </tr>\n",
       "    <tr>\n",
       "      <th>1792</th>\n",
       "      <td>-1.430155</td>\n",
       "      <td>-1.023755</td>\n",
       "      <td>-0.669252</td>\n",
       "      <td>-1.558624</td>\n",
       "      <td>-0.874933</td>\n",
       "      <td>0.722389</td>\n",
       "      <td>-0.844274</td>\n",
       "      <td>2.311054</td>\n",
       "      <td>-0.604921</td>\n",
       "      <td>-0.549386</td>\n",
       "      <td>1</td>\n",
       "    </tr>\n",
       "  </tbody>\n",
       "</table>\n",
       "<p>1793 rows × 11 columns</p>\n",
       "</div>"
      ],
      "text/plain": [
       "      [제조]노동소득분배율  [제조]자기자본배율  [제조]현금비율  [제조]자기자본증가율  [제조]총자본증가율  [제조]재고자산증가율  \\\n",
       "0       -0.680366    0.364327 -0.551356     0.127162    0.082208    -0.217657   \n",
       "1       -0.510463    0.372378 -0.700173    -0.082138    0.042988    -0.069416   \n",
       "2       -1.430155   -0.927537 -0.772674    -2.150465    0.680942    -0.210768   \n",
       "3       -0.212902    0.252307  2.601317     0.183011    0.215724     0.120873   \n",
       "4        0.204930   -0.082687  2.117363    -0.097591   -0.067580    -0.042096   \n",
       "...           ...         ...       ...          ...         ...          ...   \n",
       "1788    -1.430155   -1.148362 -0.568856    -2.791921   -2.321910    -1.464874   \n",
       "1789     2.826654   -0.478738 -0.562672    -0.669371    0.269547     1.188729   \n",
       "1790    -1.002627    2.585154  2.955926    -0.106538   -0.307491     0.069797   \n",
       "1791    -1.430155   -0.969556  0.525237    -1.252536   -2.061554    -0.633871   \n",
       "1792    -1.430155   -1.023755 -0.669252    -1.558624   -0.874933     0.722389   \n",
       "\n",
       "      [제조]매출액순이익률  [제조]매입채무회전기간  [제조]재고자산회전기간  [제조]비유동자산회전률  label  \n",
       "0        0.568340      2.311054      0.087583     -0.826928      0  \n",
       "1        0.284942      1.467702      0.830181     -0.006370      0  \n",
       "2       -4.391570     -1.394061     -1.160594     -1.044134      0  \n",
       "3        0.621168     -0.968750     -0.083108     -0.302012      0  \n",
       "4        0.507633     -1.062809      1.360110     -0.235643      0  \n",
       "...           ...           ...           ...           ...    ...  \n",
       "1788    -1.627341      2.311054      1.111728     -0.277878      1  \n",
       "1789    -0.977071      0.495756      1.724684     -0.428716      1  \n",
       "1790     0.407524     -0.129487     -1.140881      2.666476      1  \n",
       "1791    -0.600569     -0.298521     -0.921024      0.784020      1  \n",
       "1792    -0.844274      2.311054     -0.604921     -0.549386      1  \n",
       "\n",
       "[1793 rows x 11 columns]"
      ]
     },
     "execution_count": 24,
     "metadata": {},
     "output_type": "execute_result"
    }
   ],
   "source": [
    "Same_Under_samp = pd.concat([Same_X_samp_1,Same_y_samp_1], axis=1)\n",
    "Same_Under_samp"
   ]
  },
  {
   "cell_type": "code",
   "execution_count": 26,
   "metadata": {},
   "outputs": [],
   "source": [
    "# Same_Under_samp.to_csv('./dataset/Same_Undersampling.csv',encoding='CP949', index=False)"
   ]
  },
  {
   "cell_type": "code",
   "execution_count": 27,
   "metadata": {},
   "outputs": [
    {
     "data": {
      "text/plain": [
       "0       0\n",
       "1       0\n",
       "2       0\n",
       "3       0\n",
       "4       0\n",
       "       ..\n",
       "1788    1\n",
       "1789    1\n",
       "1790    1\n",
       "1791    1\n",
       "1792    1\n",
       "Name: label, Length: 1793, dtype: int64"
      ]
     },
     "execution_count": 27,
     "metadata": {},
     "output_type": "execute_result"
    }
   ],
   "source": [
    "Same_y_samp_1"
   ]
  },
  {
   "cell_type": "code",
   "execution_count": 28,
   "metadata": {},
   "outputs": [],
   "source": [
    "Same_x_train, Same_x_test, Same_y_train, Same_y_test = train_test_split(Same_X_samp_1, Same_y_samp_1, test_size=0.2, random_state=0)"
   ]
  },
  {
   "cell_type": "code",
   "execution_count": 29,
   "metadata": {},
   "outputs": [
    {
     "name": "stdout",
     "output_type": "stream",
     "text": [
      "RS 적용 전 학습용 피처/레이블 데이터 세트:  (1434, 10) (1434,)\n",
      "RS 적용 후 학습용 피처/레이블 데이터 세트:  (1622, 10) (1622,)\n",
      "RS 적용 후 레이블 값 분포: \n",
      " 0    1298\n",
      "1     324\n",
      "Name: label, dtype: int64\n"
     ]
    }
   ],
   "source": [
    "Same_X_samp_2, Same_y_samp_2 = RandomOverSampler(random_state=0,sampling_strategy=0.25).fit_resample(Same_x_train, Same_y_train)\n",
    "\n",
    "print('RS 적용 전 학습용 피처/레이블 데이터 세트: ', Same_x_train.shape, Same_y_train.shape)\n",
    "print('RS 적용 후 학습용 피처/레이블 데이터 세트: ', Same_X_samp_2.shape, Same_y_samp_2.shape)\n",
    "print('RS 적용 후 레이블 값 분포: \\n', pd.Series(Same_y_samp_2).value_counts())"
   ]
  },
  {
   "cell_type": "code",
   "execution_count": 30,
   "metadata": {},
   "outputs": [],
   "source": [
    "Same_train = pd.concat([Same_x_train, Same_y_train], axis=1)\n",
    "Same_test = pd.concat([Same_x_test, Same_y_test], axis=1)"
   ]
  },
  {
   "cell_type": "code",
   "execution_count": 31,
   "metadata": {},
   "outputs": [],
   "source": [
    "# Same_train.to_csv('./dataset/Same_trainUnderOverSampling.csv', encoding='CP949', index=False)\n",
    "# Same_test.to_csv('./dataset/Same_testUnderOverSampling.csv', encoding='CP949', index=False)"
   ]
  },
  {
   "cell_type": "code",
   "execution_count": null,
   "metadata": {},
   "outputs": [],
   "source": []
  }
 ],
 "metadata": {
  "kernelspec": {
   "display_name": "Python 3.8.8 ('base')",
   "language": "python",
   "name": "python3"
  },
  "language_info": {
   "codemirror_mode": {
    "name": "ipython",
    "version": 3
   },
   "file_extension": ".py",
   "mimetype": "text/x-python",
   "name": "python",
   "nbconvert_exporter": "python",
   "pygments_lexer": "ipython3",
   "version": "3.8.8"
  },
  "orig_nbformat": 4,
  "vscode": {
   "interpreter": {
    "hash": "ad2bdc8ecc057115af97d19610ffacc2b4e99fae6737bb82f5d7fb13d2f2c186"
   }
  }
 },
 "nbformat": 4,
 "nbformat_minor": 2
}
