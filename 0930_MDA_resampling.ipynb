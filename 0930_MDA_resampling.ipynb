{
 "cells": [
  {
   "cell_type": "code",
   "execution_count": 1,
   "metadata": {},
   "outputs": [],
   "source": [
    "import matplotlib.pyplot as plt\n",
    "import pandas as pd\n",
    "import seaborn as sns\n",
    "import statsmodels.api as sm\n",
    "from statsmodels.stats.outliers_influence import variance_inflation_factor\n",
    "from scipy.stats.mstats import winsorize\n",
    "import numpy as np\n",
    "from scipy.stats import norm\n",
    "from scipy import stats\n",
    "from statsmodels.formula.api import ols\n",
    "plt.rcParams['font.family'] = 'Malgun Gothic'\n",
    "plt.rcParams['axes.unicode_minus'] = False\n",
    "import warnings\n",
    "warnings.filterwarnings('ignore')"
   ]
  },
  {
   "cell_type": "code",
   "execution_count": 2,
   "metadata": {},
   "outputs": [],
   "source": [
    "from imblearn.under_sampling import RandomUnderSampler\n",
    "from imblearn.over_sampling import RandomOverSampler\n",
    "from imblearn.over_sampling import SMOTE\n",
    "\n",
    "from sklearn.datasets import make_classification\n",
    "from collections import Counter\n",
    "\n",
    "from matplotlib import pyplot as plt\n",
    "import seaborn as sns"
   ]
  },
  {
   "cell_type": "code",
   "execution_count": 4,
   "metadata": {},
   "outputs": [],
   "source": [
    "df = pd.read_csv('./dataset/윈저데이터셋.csv', encoding='CP949')\n",
    "df_y = df['label']\n",
    "df_1 = df[['[제조]자기자본배율',\n",
    " '[제조]1주당순이익',\n",
    " '[제조]매출액순이익률',\n",
    " '[제조]부가가치',\n",
    " '[제조]총자본증가율',\n",
    " '[제조]총자본투자효율',\n",
    " '[제조]유동비율',\n",
    " '[제조]비유동자산회전률',\n",
    " '[제조]매입채무회전률',\n",
    " '[제조]유형자산증가율','label']]"
   ]
  },
  {
   "cell_type": "code",
   "execution_count": 5,
   "metadata": {},
   "outputs": [],
   "source": [
    "from sklearn.preprocessing import StandardScaler\n",
    "scaler = StandardScaler()\n",
    "scaler.fit(df_1)\n",
    "\n",
    "df_scaled = scaler.transform(df_1)\n",
    "\n",
    "df_scaled_df = pd.DataFrame(df_scaled,columns = df_1.columns)"
   ]
  },
  {
   "cell_type": "markdown",
   "metadata": {},
   "source": [
    "## MDA 데이터셋 "
   ]
  },
  {
   "cell_type": "code",
   "execution_count": 6,
   "metadata": {},
   "outputs": [],
   "source": [
    "from sklearn.model_selection import train_test_split\n",
    "MDA_X = df_scaled_df.iloc[:,:-1]\n",
    "MDA_y = df_y"
   ]
  },
  {
   "cell_type": "code",
   "execution_count": 7,
   "metadata": {},
   "outputs": [
    {
     "name": "stdout",
     "output_type": "stream",
     "text": [
      "RS 적용 전 학습용 피처/레이블 데이터 세트:  (10652, 10) (10652,)\n",
      "RS 적용 후 학습용 피처/레이블 데이터 세트:  (1793, 10) (1793,)\n",
      "RS 적용 후 레이블 값 분포: \n",
      " 0    1630\n",
      "1     163\n",
      "Name: label, dtype: int64\n"
     ]
    }
   ],
   "source": [
    "MDA_X_samp_1, MDA_y_samp_1 = RandomUnderSampler(random_state=0,sampling_strategy=0.1).fit_resample(MDA_X, MDA_y)\n",
    "\n",
    "print('RS 적용 전 학습용 피처/레이블 데이터 세트: ', MDA_X.shape, MDA_y.shape)\n",
    "print('RS 적용 후 학습용 피처/레이블 데이터 세트: ', MDA_X_samp_1.shape, MDA_y_samp_1.shape)\n",
    "print('RS 적용 후 레이블 값 분포: \\n', pd.Series(MDA_y_samp_1).value_counts())"
   ]
  },
  {
   "cell_type": "code",
   "execution_count": 8,
   "metadata": {},
   "outputs": [
    {
     "data": {
      "text/html": [
       "<div>\n",
       "<style scoped>\n",
       "    .dataframe tbody tr th:only-of-type {\n",
       "        vertical-align: middle;\n",
       "    }\n",
       "\n",
       "    .dataframe tbody tr th {\n",
       "        vertical-align: top;\n",
       "    }\n",
       "\n",
       "    .dataframe thead th {\n",
       "        text-align: right;\n",
       "    }\n",
       "</style>\n",
       "<table border=\"1\" class=\"dataframe\">\n",
       "  <thead>\n",
       "    <tr style=\"text-align: right;\">\n",
       "      <th></th>\n",
       "      <th>[제조]자기자본배율</th>\n",
       "      <th>[제조]1주당순이익</th>\n",
       "      <th>[제조]매출액순이익률</th>\n",
       "      <th>[제조]부가가치</th>\n",
       "      <th>[제조]총자본증가율</th>\n",
       "      <th>[제조]총자본투자효율</th>\n",
       "      <th>[제조]유동비율</th>\n",
       "      <th>[제조]비유동자산회전률</th>\n",
       "      <th>[제조]매입채무회전률</th>\n",
       "      <th>[제조]유형자산증가율</th>\n",
       "      <th>label</th>\n",
       "    </tr>\n",
       "  </thead>\n",
       "  <tbody>\n",
       "    <tr>\n",
       "      <th>0</th>\n",
       "      <td>0.364327</td>\n",
       "      <td>-0.268370</td>\n",
       "      <td>0.568340</td>\n",
       "      <td>2.499486</td>\n",
       "      <td>0.082208</td>\n",
       "      <td>0.124169</td>\n",
       "      <td>-0.725350</td>\n",
       "      <td>-0.826928</td>\n",
       "      <td>-0.801640</td>\n",
       "      <td>0.356101</td>\n",
       "      <td>0</td>\n",
       "    </tr>\n",
       "    <tr>\n",
       "      <th>1</th>\n",
       "      <td>0.372378</td>\n",
       "      <td>-0.131817</td>\n",
       "      <td>0.284942</td>\n",
       "      <td>1.196291</td>\n",
       "      <td>0.042988</td>\n",
       "      <td>0.260256</td>\n",
       "      <td>-0.548393</td>\n",
       "      <td>-0.006370</td>\n",
       "      <td>-0.673000</td>\n",
       "      <td>0.241722</td>\n",
       "      <td>0</td>\n",
       "    </tr>\n",
       "    <tr>\n",
       "      <th>2</th>\n",
       "      <td>-0.927537</td>\n",
       "      <td>-0.268370</td>\n",
       "      <td>-4.391570</td>\n",
       "      <td>-1.110847</td>\n",
       "      <td>0.680942</td>\n",
       "      <td>-1.765992</td>\n",
       "      <td>-0.733482</td>\n",
       "      <td>-1.044134</td>\n",
       "      <td>-0.953492</td>\n",
       "      <td>1.432766</td>\n",
       "      <td>0</td>\n",
       "    </tr>\n",
       "    <tr>\n",
       "      <th>3</th>\n",
       "      <td>0.252307</td>\n",
       "      <td>0.488586</td>\n",
       "      <td>0.621168</td>\n",
       "      <td>0.941650</td>\n",
       "      <td>0.215724</td>\n",
       "      <td>0.680431</td>\n",
       "      <td>1.150418</td>\n",
       "      <td>-0.302012</td>\n",
       "      <td>0.932574</td>\n",
       "      <td>-0.416896</td>\n",
       "      <td>0</td>\n",
       "    </tr>\n",
       "    <tr>\n",
       "      <th>4</th>\n",
       "      <td>-0.082687</td>\n",
       "      <td>0.000436</td>\n",
       "      <td>0.507633</td>\n",
       "      <td>-0.618378</td>\n",
       "      <td>-0.067580</td>\n",
       "      <td>0.066473</td>\n",
       "      <td>2.851670</td>\n",
       "      <td>-0.235643</td>\n",
       "      <td>1.467443</td>\n",
       "      <td>-0.133903</td>\n",
       "      <td>0</td>\n",
       "    </tr>\n",
       "    <tr>\n",
       "      <th>...</th>\n",
       "      <td>...</td>\n",
       "      <td>...</td>\n",
       "      <td>...</td>\n",
       "      <td>...</td>\n",
       "      <td>...</td>\n",
       "      <td>...</td>\n",
       "      <td>...</td>\n",
       "      <td>...</td>\n",
       "      <td>...</td>\n",
       "      <td>...</td>\n",
       "      <td>...</td>\n",
       "    </tr>\n",
       "    <tr>\n",
       "      <th>1788</th>\n",
       "      <td>-1.148362</td>\n",
       "      <td>-1.531755</td>\n",
       "      <td>-1.627341</td>\n",
       "      <td>-1.145277</td>\n",
       "      <td>-2.321910</td>\n",
       "      <td>-1.765992</td>\n",
       "      <td>-0.891937</td>\n",
       "      <td>-0.277878</td>\n",
       "      <td>-0.803090</td>\n",
       "      <td>1.027876</td>\n",
       "      <td>1</td>\n",
       "    </tr>\n",
       "    <tr>\n",
       "      <th>1789</th>\n",
       "      <td>-0.478738</td>\n",
       "      <td>-1.910233</td>\n",
       "      <td>-0.977071</td>\n",
       "      <td>-0.703650</td>\n",
       "      <td>0.269547</td>\n",
       "      <td>-0.972049</td>\n",
       "      <td>-0.363549</td>\n",
       "      <td>-0.428716</td>\n",
       "      <td>-0.528885</td>\n",
       "      <td>-0.398907</td>\n",
       "      <td>1</td>\n",
       "    </tr>\n",
       "    <tr>\n",
       "      <th>1790</th>\n",
       "      <td>2.585154</td>\n",
       "      <td>0.001511</td>\n",
       "      <td>0.407524</td>\n",
       "      <td>1.016888</td>\n",
       "      <td>-0.307491</td>\n",
       "      <td>-0.299142</td>\n",
       "      <td>2.404075</td>\n",
       "      <td>2.666476</td>\n",
       "      <td>-0.319000</td>\n",
       "      <td>-0.614509</td>\n",
       "      <td>1</td>\n",
       "    </tr>\n",
       "    <tr>\n",
       "      <th>1791</th>\n",
       "      <td>-0.969556</td>\n",
       "      <td>-1.840344</td>\n",
       "      <td>-0.600569</td>\n",
       "      <td>-1.145277</td>\n",
       "      <td>-2.061554</td>\n",
       "      <td>-1.765992</td>\n",
       "      <td>-0.318131</td>\n",
       "      <td>0.784020</td>\n",
       "      <td>-0.221312</td>\n",
       "      <td>-1.185061</td>\n",
       "      <td>1</td>\n",
       "    </tr>\n",
       "    <tr>\n",
       "      <th>1792</th>\n",
       "      <td>-1.023755</td>\n",
       "      <td>-1.039304</td>\n",
       "      <td>-0.844274</td>\n",
       "      <td>-0.957690</td>\n",
       "      <td>-0.874933</td>\n",
       "      <td>-1.350207</td>\n",
       "      <td>-0.771215</td>\n",
       "      <td>-0.549386</td>\n",
       "      <td>-0.807927</td>\n",
       "      <td>-0.450727</td>\n",
       "      <td>1</td>\n",
       "    </tr>\n",
       "  </tbody>\n",
       "</table>\n",
       "<p>1793 rows × 11 columns</p>\n",
       "</div>"
      ],
      "text/plain": [
       "      [제조]자기자본배율  [제조]1주당순이익  [제조]매출액순이익률  [제조]부가가치  [제조]총자본증가율  [제조]총자본투자효율  \\\n",
       "0       0.364327   -0.268370     0.568340  2.499486    0.082208     0.124169   \n",
       "1       0.372378   -0.131817     0.284942  1.196291    0.042988     0.260256   \n",
       "2      -0.927537   -0.268370    -4.391570 -1.110847    0.680942    -1.765992   \n",
       "3       0.252307    0.488586     0.621168  0.941650    0.215724     0.680431   \n",
       "4      -0.082687    0.000436     0.507633 -0.618378   -0.067580     0.066473   \n",
       "...          ...         ...          ...       ...         ...          ...   \n",
       "1788   -1.148362   -1.531755    -1.627341 -1.145277   -2.321910    -1.765992   \n",
       "1789   -0.478738   -1.910233    -0.977071 -0.703650    0.269547    -0.972049   \n",
       "1790    2.585154    0.001511     0.407524  1.016888   -0.307491    -0.299142   \n",
       "1791   -0.969556   -1.840344    -0.600569 -1.145277   -2.061554    -1.765992   \n",
       "1792   -1.023755   -1.039304    -0.844274 -0.957690   -0.874933    -1.350207   \n",
       "\n",
       "      [제조]유동비율  [제조]비유동자산회전률  [제조]매입채무회전률  [제조]유형자산증가율  label  \n",
       "0    -0.725350     -0.826928    -0.801640     0.356101      0  \n",
       "1    -0.548393     -0.006370    -0.673000     0.241722      0  \n",
       "2    -0.733482     -1.044134    -0.953492     1.432766      0  \n",
       "3     1.150418     -0.302012     0.932574    -0.416896      0  \n",
       "4     2.851670     -0.235643     1.467443    -0.133903      0  \n",
       "...        ...           ...          ...          ...    ...  \n",
       "1788 -0.891937     -0.277878    -0.803090     1.027876      1  \n",
       "1789 -0.363549     -0.428716    -0.528885    -0.398907      1  \n",
       "1790  2.404075      2.666476    -0.319000    -0.614509      1  \n",
       "1791 -0.318131      0.784020    -0.221312    -1.185061      1  \n",
       "1792 -0.771215     -0.549386    -0.807927    -0.450727      1  \n",
       "\n",
       "[1793 rows x 11 columns]"
      ]
     },
     "execution_count": 8,
     "metadata": {},
     "output_type": "execute_result"
    }
   ],
   "source": [
    "MDA_Under_samp = pd.concat([MDA_X_samp_1,MDA_y_samp_1], axis=1)\n",
    "MDA_Under_samp"
   ]
  },
  {
   "cell_type": "code",
   "execution_count": 16,
   "metadata": {},
   "outputs": [],
   "source": [
    "# MDA_Under_samp.to_csv('./dataset/MDA_Undersampling.csv',encoding='CP949', index=False)"
   ]
  },
  {
   "cell_type": "code",
   "execution_count": 11,
   "metadata": {},
   "outputs": [],
   "source": [
    "MDA_x_train, MDA_x_test, MDA_y_train, MDA_y_test = train_test_split(MDA_X_samp_1, MDA_y_samp_1, test_size=0.2, random_state=0)"
   ]
  },
  {
   "cell_type": "code",
   "execution_count": 19,
   "metadata": {},
   "outputs": [
    {
     "name": "stdout",
     "output_type": "stream",
     "text": [
      "RS 적용 전 학습용 피처/레이블 데이터 세트:  (1434, 10) (1434,)\n",
      "RS 적용 후 학습용 피처/레이블 데이터 세트:  (1622, 10) (1622,)\n",
      "RS 적용 후 레이블 값 분포: \n",
      " 0    1298\n",
      "1     324\n",
      "Name: label, dtype: int64\n"
     ]
    }
   ],
   "source": [
    "MDA_X_samp_2, MDA_y_samp_2 = RandomOverSampler(random_state=0,sampling_strategy=0.25).fit_resample(MDA_x_train, MDA_y_train)\n",
    "\n",
    "print('RS 적용 전 학습용 피처/레이블 데이터 세트: ', MDA_x_train.shape, MDA_y_train.shape)\n",
    "print('RS 적용 후 학습용 피처/레이블 데이터 세트: ', MDA_X_samp_2.shape, MDA_y_samp_2.shape)\n",
    "print('RS 적용 후 레이블 값 분포: \\n', pd.Series(MDA_y_samp_2).value_counts())"
   ]
  },
  {
   "cell_type": "code",
   "execution_count": 20,
   "metadata": {},
   "outputs": [],
   "source": [
    "MDA_train = pd.concat([MDA_x_train, MDA_y_train], axis=1)\n",
    "MDA_test = pd.concat([MDA_x_test, MDA_y_test], axis=1)"
   ]
  },
  {
   "cell_type": "code",
   "execution_count": 21,
   "metadata": {},
   "outputs": [],
   "source": [
    "# MDA_train.to_csv('./dataset/MDA_trainUnderOverSampling.csv', encoding='CP949', index=False)\n",
    "# MDA_test.to_csv('./dataset/MDA_testUnderOverSampling.csv', encoding='CP949', index=False)"
   ]
  },
  {
   "cell_type": "code",
   "execution_count": null,
   "metadata": {},
   "outputs": [],
   "source": []
  }
 ],
 "metadata": {
  "kernelspec": {
   "display_name": "Python 3.8.8 ('base')",
   "language": "python",
   "name": "python3"
  },
  "language_info": {
   "codemirror_mode": {
    "name": "ipython",
    "version": 3
   },
   "file_extension": ".py",
   "mimetype": "text/x-python",
   "name": "python",
   "nbconvert_exporter": "python",
   "pygments_lexer": "ipython3",
   "version": "3.8.8"
  },
  "orig_nbformat": 4,
  "vscode": {
   "interpreter": {
    "hash": "ad2bdc8ecc057115af97d19610ffacc2b4e99fae6737bb82f5d7fb13d2f2c186"
   }
  }
 },
 "nbformat": 4,
 "nbformat_minor": 2
}
