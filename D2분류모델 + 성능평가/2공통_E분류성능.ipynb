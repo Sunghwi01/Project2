{
 "cells": [
  {
   "cell_type": "code",
   "execution_count": 1,
   "metadata": {},
   "outputs": [],
   "source": [
    "# 필요 라이브러리 import \n",
    "import pandas as pd\n",
    "import numpy as np\n",
    "from scipy.stats.mstats import winsorize\n",
    "from sklearn.preprocessing import StandardScaler\n",
    "from sklearn.preprocessing import MinMaxScaler\n",
    "import matplotlib.pyplot as plt\n",
    "%matplotlib inline"
   ]
  },
  {
   "cell_type": "code",
   "execution_count": 2,
   "metadata": {},
   "outputs": [],
   "source": [
    "# 윈저사이저 적용\n",
    "df = pd.read_csv('../D2분류모델 + 성능평가/.csv', encoding='CP949')\n",
    "df.drop(['회사명', '거래소코드', '회계년도', '상장일', '상장폐지일', '산업명', '소속코드', 'month'],axis=1,inplace=True)\n",
    "for col in df.columns:\n",
    "     df[col] = winsorize(df[col], limits= 0.01)"
   ]
  },
  {
   "cell_type": "code",
   "execution_count": 3,
   "metadata": {},
   "outputs": [
    {
     "data": {
      "text/plain": [
       "[['[제조]이자보상배율',\n",
       "  '[제조]기계투자효율',\n",
       "  '[제조]1주당 순이익',\n",
       "  '[제조]자기자본배율',\n",
       "  '[제조]매출액순이익률',\n",
       "  '[제조]순이익증가율',\n",
       "  '[제조]1주당매출액',\n",
       "  '[제조]부가가치',\n",
       "  '[제조]부채비율',\n",
       "  '[제조]자기자본배율',\n",
       "  '[제조]순운전자본비율']]"
      ]
     },
     "execution_count": 3,
     "metadata": {},
     "output_type": "execute_result"
    }
   ],
   "source": [
    "# 공통선정피쳐\n",
    "[['[제조]이자보상배율','[제조]기계투자효율','[제조]1주당 순이익','[제조]자기자본배율','[제조]매출액순이익률','[제조]순이익증가율','[제조]1주당매출액','[제조]부가가치','[제조]부채비율','[제조]자기자본배율','[제조]순운전자본비율']]"
   ]
  },
  {
   "cell_type": "code",
   "execution_count": 5,
   "metadata": {},
   "outputs": [
    {
     "ename": "KeyError",
     "evalue": "\"['[제조]이자보상배율', '[제조]1주당 순이익'] not in index\"",
     "output_type": "error",
     "traceback": [
      "\u001b[1;31m---------------------------------------------------------------------------\u001b[0m",
      "\u001b[1;31mKeyError\u001b[0m                                  Traceback (most recent call last)",
      "Cell \u001b[1;32mIn [5], line 3\u001b[0m\n\u001b[0;32m      1\u001b[0m \u001b[38;5;66;03m# Data set1 공통 선정된 피처들 분리\u001b[39;00m\n\u001b[0;32m      2\u001b[0m df \u001b[38;5;241m=\u001b[39m df\u001b[38;5;241m.\u001b[39msort_values([\u001b[38;5;124m\"\u001b[39m\u001b[38;5;124myear\u001b[39m\u001b[38;5;124m\"\u001b[39m],ascending\u001b[38;5;241m=\u001b[39m\u001b[38;5;28;01mTrue\u001b[39;00m)\n\u001b[1;32m----> 3\u001b[0m df_data \u001b[38;5;241m=\u001b[39m \u001b[43mdf\u001b[49m\u001b[43m[\u001b[49m\u001b[43m[\u001b[49m\u001b[38;5;124;43m'\u001b[39;49m\u001b[38;5;124;43m[제조]이자보상배율\u001b[39;49m\u001b[38;5;124;43m'\u001b[39;49m\u001b[43m,\u001b[49m\u001b[38;5;124;43m'\u001b[39;49m\u001b[38;5;124;43m[제조]기계투자효율\u001b[39;49m\u001b[38;5;124;43m'\u001b[39;49m\u001b[43m,\u001b[49m\u001b[38;5;124;43m'\u001b[39;49m\u001b[38;5;124;43m[제조]1주당 순이익\u001b[39;49m\u001b[38;5;124;43m'\u001b[39;49m\u001b[43m,\u001b[49m\u001b[38;5;124;43m'\u001b[39;49m\u001b[38;5;124;43m[제조]자기자본배율\u001b[39;49m\u001b[38;5;124;43m'\u001b[39;49m\u001b[43m,\u001b[49m\u001b[38;5;124;43m'\u001b[39;49m\u001b[38;5;124;43m[제조]매출액순이익률\u001b[39;49m\u001b[38;5;124;43m'\u001b[39;49m\u001b[43m,\u001b[49m\u001b[38;5;124;43m'\u001b[39;49m\u001b[38;5;124;43m[제조]순이익증가율\u001b[39;49m\u001b[38;5;124;43m'\u001b[39;49m\u001b[43m,\u001b[49m\u001b[38;5;124;43m'\u001b[39;49m\u001b[38;5;124;43m[제조]1주당매출액\u001b[39;49m\u001b[38;5;124;43m'\u001b[39;49m\u001b[43m,\u001b[49m\u001b[38;5;124;43m'\u001b[39;49m\u001b[38;5;124;43m[제조]부가가치\u001b[39;49m\u001b[38;5;124;43m'\u001b[39;49m\u001b[43m,\u001b[49m\u001b[38;5;124;43m'\u001b[39;49m\u001b[38;5;124;43m[제조]부채비율\u001b[39;49m\u001b[38;5;124;43m'\u001b[39;49m\u001b[43m,\u001b[49m\u001b[38;5;124;43m'\u001b[39;49m\u001b[38;5;124;43m[제조]자기자본배율\u001b[39;49m\u001b[38;5;124;43m'\u001b[39;49m\u001b[43m,\u001b[49m\u001b[38;5;124;43m'\u001b[39;49m\u001b[38;5;124;43m[제조]순운전자본비율\u001b[39;49m\u001b[38;5;124;43m'\u001b[39;49m\u001b[43m]\u001b[49m\u001b[43m]\u001b[49m\n\u001b[0;32m      4\u001b[0m \u001b[38;5;66;03m# df_data_scaled= StandardScaler().fit_transform(df_data)\u001b[39;00m\n\u001b[0;32m      5\u001b[0m \u001b[38;5;66;03m# df_data_scaled= MinMaxScaler().fit_transform(df_data)\u001b[39;00m\n\u001b[0;32m      6\u001b[0m \u001b[38;5;66;03m# df_data_scaled = pd.DataFrame(df_data_scaled)\u001b[39;00m\n\u001b[1;32m   (...)\u001b[0m\n\u001b[0;32m      9\u001b[0m \u001b[38;5;66;03m# df[['[제조]유동자산구성비율','[제조]자기자본구성비율','[제조]총자본증가율',\u001b[39;00m\n\u001b[0;32m     10\u001b[0m \u001b[38;5;66;03m# '[제조]자기자본증가율','[제조]현금비율','[제조]부채비율','[제조]매출채권회전률','[제조]노동소득분배율','[제조]자기자본배율']] = df_data_scaled[['[제조]유동자산구성비율','[제조]자기자본구성비율','[제조]총자본증가율','[제조]자기자본증가율','[제조]현금비율','[제조]부채비율','[제조]매출채권회전률','[제조]노동소득분배율','[제조]자기자본배율']]\u001b[39;00m\n\u001b[0;32m     11\u001b[0m df \u001b[38;5;241m=\u001b[39mdf\u001b[38;5;241m.\u001b[39mreset_index(drop\u001b[38;5;241m=\u001b[39m\u001b[38;5;124m\"\u001b[39m\u001b[38;5;124mindex\u001b[39m\u001b[38;5;124m\"\u001b[39m)\n",
      "File \u001b[1;32mc:\\Users\\82104\\AppData\\Local\\Programs\\Python\\Python39-32\\lib\\site-packages\\pandas\\core\\frame.py:3511\u001b[0m, in \u001b[0;36mDataFrame.__getitem__\u001b[1;34m(self, key)\u001b[0m\n\u001b[0;32m   3509\u001b[0m     \u001b[39mif\u001b[39;00m is_iterator(key):\n\u001b[0;32m   3510\u001b[0m         key \u001b[39m=\u001b[39m \u001b[39mlist\u001b[39m(key)\n\u001b[1;32m-> 3511\u001b[0m     indexer \u001b[39m=\u001b[39m \u001b[39mself\u001b[39;49m\u001b[39m.\u001b[39;49mcolumns\u001b[39m.\u001b[39;49m_get_indexer_strict(key, \u001b[39m\"\u001b[39;49m\u001b[39mcolumns\u001b[39;49m\u001b[39m\"\u001b[39;49m)[\u001b[39m1\u001b[39m]\n\u001b[0;32m   3513\u001b[0m \u001b[39m# take() does not accept boolean indexers\u001b[39;00m\n\u001b[0;32m   3514\u001b[0m \u001b[39mif\u001b[39;00m \u001b[39mgetattr\u001b[39m(indexer, \u001b[39m\"\u001b[39m\u001b[39mdtype\u001b[39m\u001b[39m\"\u001b[39m, \u001b[39mNone\u001b[39;00m) \u001b[39m==\u001b[39m \u001b[39mbool\u001b[39m:\n",
      "File \u001b[1;32mc:\\Users\\82104\\AppData\\Local\\Programs\\Python\\Python39-32\\lib\\site-packages\\pandas\\core\\indexes\\base.py:5796\u001b[0m, in \u001b[0;36mIndex._get_indexer_strict\u001b[1;34m(self, key, axis_name)\u001b[0m\n\u001b[0;32m   5793\u001b[0m \u001b[39melse\u001b[39;00m:\n\u001b[0;32m   5794\u001b[0m     keyarr, indexer, new_indexer \u001b[39m=\u001b[39m \u001b[39mself\u001b[39m\u001b[39m.\u001b[39m_reindex_non_unique(keyarr)\n\u001b[1;32m-> 5796\u001b[0m \u001b[39mself\u001b[39;49m\u001b[39m.\u001b[39;49m_raise_if_missing(keyarr, indexer, axis_name)\n\u001b[0;32m   5798\u001b[0m keyarr \u001b[39m=\u001b[39m \u001b[39mself\u001b[39m\u001b[39m.\u001b[39mtake(indexer)\n\u001b[0;32m   5799\u001b[0m \u001b[39mif\u001b[39;00m \u001b[39misinstance\u001b[39m(key, Index):\n\u001b[0;32m   5800\u001b[0m     \u001b[39m# GH 42790 - Preserve name from an Index\u001b[39;00m\n",
      "File \u001b[1;32mc:\\Users\\82104\\AppData\\Local\\Programs\\Python\\Python39-32\\lib\\site-packages\\pandas\\core\\indexes\\base.py:5859\u001b[0m, in \u001b[0;36mIndex._raise_if_missing\u001b[1;34m(self, key, indexer, axis_name)\u001b[0m\n\u001b[0;32m   5856\u001b[0m     \u001b[39mraise\u001b[39;00m \u001b[39mKeyError\u001b[39;00m(\u001b[39mf\u001b[39m\u001b[39m\"\u001b[39m\u001b[39mNone of [\u001b[39m\u001b[39m{\u001b[39;00mkey\u001b[39m}\u001b[39;00m\u001b[39m] are in the [\u001b[39m\u001b[39m{\u001b[39;00maxis_name\u001b[39m}\u001b[39;00m\u001b[39m]\u001b[39m\u001b[39m\"\u001b[39m)\n\u001b[0;32m   5858\u001b[0m not_found \u001b[39m=\u001b[39m \u001b[39mlist\u001b[39m(ensure_index(key)[missing_mask\u001b[39m.\u001b[39mnonzero()[\u001b[39m0\u001b[39m]]\u001b[39m.\u001b[39munique())\n\u001b[1;32m-> 5859\u001b[0m \u001b[39mraise\u001b[39;00m \u001b[39mKeyError\u001b[39;00m(\u001b[39mf\u001b[39m\u001b[39m\"\u001b[39m\u001b[39m{\u001b[39;00mnot_found\u001b[39m}\u001b[39;00m\u001b[39m not in index\u001b[39m\u001b[39m\"\u001b[39m)\n",
      "\u001b[1;31mKeyError\u001b[0m: \"['[제조]이자보상배율', '[제조]1주당 순이익'] not in index\""
     ]
    }
   ],
   "source": [
    "# Data set1 공통 선정된 피처들 분리\n",
    "df = df.sort_values([\"year\"],ascending=True)\n",
    "df_data = df[['[제조]이자보상배율','[제조]기계투자효율','[제조]1주당 순이익','[제조]자기자본배율','[제조]매출액순이익률','[제조]순이익증가율','[제조]1주당매출액','[제조]부가가치','[제조]부채비율','[제조]자기자본배율','[제조]순운전자본비율']]\n",
    "# df_data_scaled= StandardScaler().fit_transform(df_data)\n",
    "# df_data_scaled= MinMaxScaler().fit_transform(df_data)\n",
    "# df_data_scaled = pd.DataFrame(df_data_scaled)\n",
    "# df_data_scaled.columns =[['[제조]유동자산구성비율','[제조]자기자본구성비율','[제조]총자본증가율','[제조]자기자본증가율',\n",
    "# '[제조]현금비율','[제조]부채비율','[제조]매출채권회전률','[제조]노동소득분배율','[제조]자기자본배율']]\n",
    "# df[['[제조]유동자산구성비율','[제조]자기자본구성비율','[제조]총자본증가율',\n",
    "# '[제조]자기자본증가율','[제조]현금비율','[제조]부채비율','[제조]매출채권회전률','[제조]노동소득분배율','[제조]자기자본배율']] = df_data_scaled[['[제조]유동자산구성비율','[제조]자기자본구성비율','[제조]총자본증가율','[제조]자기자본증가율','[제조]현금비율','[제조]부채비율','[제조]매출채권회전률','[제조]노동소득분배율','[제조]자기자본배율']]\n",
    "df =df.reset_index(drop=\"index\")\n",
    "df.describe()"
   ]
  },
  {
   "cell_type": "code",
   "execution_count": 9,
   "metadata": {},
   "outputs": [
    {
     "data": {
      "text/html": [
       "<div>\n",
       "<style scoped>\n",
       "    .dataframe tbody tr th:only-of-type {\n",
       "        vertical-align: middle;\n",
       "    }\n",
       "\n",
       "    .dataframe tbody tr th {\n",
       "        vertical-align: top;\n",
       "    }\n",
       "\n",
       "    .dataframe thead th {\n",
       "        text-align: right;\n",
       "    }\n",
       "</style>\n",
       "<table border=\"1\" class=\"dataframe\">\n",
       "  <thead>\n",
       "    <tr style=\"text-align: right;\">\n",
       "      <th></th>\n",
       "      <th>[제조]순운전자본회전률</th>\n",
       "      <th>[제조]총자본증가율</th>\n",
       "      <th>[제조]자본분배율</th>\n",
       "      <th>[제조]매출액순이익률</th>\n",
       "      <th>[제조]부채비율</th>\n",
       "      <th>[제조]자기자본순이익률</th>\n",
       "      <th>[제조]비유동자산회전률</th>\n",
       "    </tr>\n",
       "  </thead>\n",
       "  <tbody>\n",
       "    <tr>\n",
       "      <th>count</th>\n",
       "      <td>1636.000000</td>\n",
       "      <td>1636.000000</td>\n",
       "      <td>1636.000000</td>\n",
       "      <td>1636.000000</td>\n",
       "      <td>1636.000000</td>\n",
       "      <td>1636.000000</td>\n",
       "      <td>1636.000000</td>\n",
       "    </tr>\n",
       "    <tr>\n",
       "      <th>mean</th>\n",
       "      <td>0.955813</td>\n",
       "      <td>10.399774</td>\n",
       "      <td>10.344401</td>\n",
       "      <td>-10.094542</td>\n",
       "      <td>103.202628</td>\n",
       "      <td>-4.078185</td>\n",
       "      <td>2.122800</td>\n",
       "    </tr>\n",
       "    <tr>\n",
       "      <th>std</th>\n",
       "      <td>0.487547</td>\n",
       "      <td>28.208186</td>\n",
       "      <td>104.258605</td>\n",
       "      <td>47.308878</td>\n",
       "      <td>126.290017</td>\n",
       "      <td>28.080596</td>\n",
       "      <td>2.031787</td>\n",
       "    </tr>\n",
       "    <tr>\n",
       "      <th>min</th>\n",
       "      <td>0.130000</td>\n",
       "      <td>-48.460000</td>\n",
       "      <td>-704.840000</td>\n",
       "      <td>-265.820000</td>\n",
       "      <td>4.930000</td>\n",
       "      <td>-164.570000</td>\n",
       "      <td>0.160000</td>\n",
       "    </tr>\n",
       "    <tr>\n",
       "      <th>25%</th>\n",
       "      <td>0.610000</td>\n",
       "      <td>-3.185000</td>\n",
       "      <td>2.867500</td>\n",
       "      <td>-6.647500</td>\n",
       "      <td>31.645000</td>\n",
       "      <td>-8.777500</td>\n",
       "      <td>0.910000</td>\n",
       "    </tr>\n",
       "    <tr>\n",
       "      <th>50%</th>\n",
       "      <td>0.920000</td>\n",
       "      <td>4.990000</td>\n",
       "      <td>33.010000</td>\n",
       "      <td>1.885000</td>\n",
       "      <td>69.540000</td>\n",
       "      <td>2.570000</td>\n",
       "      <td>1.510000</td>\n",
       "    </tr>\n",
       "    <tr>\n",
       "      <th>75%</th>\n",
       "      <td>1.230000</td>\n",
       "      <td>16.777500</td>\n",
       "      <td>50.982500</td>\n",
       "      <td>7.807500</td>\n",
       "      <td>125.712500</td>\n",
       "      <td>9.680000</td>\n",
       "      <td>2.572500</td>\n",
       "    </tr>\n",
       "    <tr>\n",
       "      <th>max</th>\n",
       "      <td>2.610000</td>\n",
       "      <td>145.960000</td>\n",
       "      <td>82.940000</td>\n",
       "      <td>39.710000</td>\n",
       "      <td>928.650000</td>\n",
       "      <td>43.750000</td>\n",
       "      <td>13.180000</td>\n",
       "    </tr>\n",
       "  </tbody>\n",
       "</table>\n",
       "</div>"
      ],
      "text/plain": [
       "       [제조]순운전자본회전률   [제조]총자본증가율    [제조]자본분배율  [제조]매출액순이익률     [제조]부채비율  \\\n",
       "count   1636.000000  1636.000000  1636.000000  1636.000000  1636.000000   \n",
       "mean       0.955813    10.399774    10.344401   -10.094542   103.202628   \n",
       "std        0.487547    28.208186   104.258605    47.308878   126.290017   \n",
       "min        0.130000   -48.460000  -704.840000  -265.820000     4.930000   \n",
       "25%        0.610000    -3.185000     2.867500    -6.647500    31.645000   \n",
       "50%        0.920000     4.990000    33.010000     1.885000    69.540000   \n",
       "75%        1.230000    16.777500    50.982500     7.807500   125.712500   \n",
       "max        2.610000   145.960000    82.940000    39.710000   928.650000   \n",
       "\n",
       "       [제조]자기자본순이익률  [제조]비유동자산회전률  \n",
       "count   1636.000000   1636.000000  \n",
       "mean      -4.078185      2.122800  \n",
       "std       28.080596      2.031787  \n",
       "min     -164.570000      0.160000  \n",
       "25%       -8.777500      0.910000  \n",
       "50%        2.570000      1.510000  \n",
       "75%        9.680000      2.572500  \n",
       "max       43.750000     13.180000  "
      ]
     },
     "execution_count": 9,
     "metadata": {},
     "output_type": "execute_result"
    }
   ],
   "source": [
    "# train test set 분리\n",
    "df1 = df[df['year']<2019] #train\n",
    "df2 = df[df['year']>=2019] #test\n",
    "# train data label 분리 test data label 분리\n",
    "X_train= df1[['[제조]순운전자본회전률','[제조]총자본증가율','[제조]자본분배율',\n",
    "              '[제조]매출액순이익률','[제조]부채비율','[제조]자기자본순이익률','[제조]비유동자산회전률']]\n",
    "X_test = df2[['[제조]순운전자본회전률','[제조]총자본증가율','[제조]자본분배율',\n",
    "              '[제조]매출액순이익률','[제조]부채비율','[제조]자기자본순이익률','[제조]비유동자산회전률']]\n",
    "y_train = df1[\"lable\"]\n",
    "y_test = df2[\"lable\"]\n",
    "\n",
    "# x_train_scaled= StandardScaler().fit_transform(X_train)\n",
    "# x_test_scaled = fit_transform(X_test)\n",
    "# # df_data_scaled= MinMaxScaler().fit_transform(df_data)\n",
    "# X_train_scaled = pd.DataFrame(x_train_scaled)\n",
    "X_test.describe()"
   ]
  },
  {
   "cell_type": "code",
   "execution_count": 10,
   "metadata": {},
   "outputs": [],
   "source": [
    "# 기본적인 LDA 구현\n",
    "from sklearn.discriminant_analysis import LinearDiscriminantAnalysis\n",
    "lda_clf = LinearDiscriminantAnalysis()\n",
    "lda_clf.fit(X_train,y_train)\n",
    "lda_pred = lda_clf.predict(X_test)\n",
    "lda_pred_proba = lda_clf.predict_proba(X_test)"
   ]
  },
  {
   "cell_type": "code",
   "execution_count": 11,
   "metadata": {},
   "outputs": [],
   "source": [
    "from sklearn.model_selection import GridSearchCV\n"
   ]
  },
  {
   "cell_type": "code",
   "execution_count": 12,
   "metadata": {},
   "outputs": [],
   "source": [
    "# 디시전트리 구현\n",
    "from sklearn.tree import DecisionTreeClassifier       \n",
    "dt_clf = DecisionTreeClassifier(random_state=52)     \n",
    "dt_clf.fit(X_train, y_train)\n",
    "dt_pred = dt_clf.predict(X_test)\n",
    "dt_pred_proba = dt_clf.predict_proba(X_test)"
   ]
  },
  {
   "cell_type": "code",
   "execution_count": 17,
   "metadata": {},
   "outputs": [
    {
     "name": "stdout",
     "output_type": "stream",
     "text": [
      "최적 하이퍼 파라미터 :{'max_depth': 2, 'min_samples_leaf': 19}, 최적 평균 정확도 :0.983\n"
     ]
    }
   ],
   "source": [
    "\n",
    "tree = DecisionTreeClassifier()\n",
    "\n",
    "# 딕셔너리로 전달\n",
    "# key: 하이퍼파라미터 명; value: [후보값들] 을 리스트로 전달\n",
    "param_grid = {\n",
    "    'max_depth':[2,3,4,5,6,7,8], #7개\n",
    "    'min_samples_leaf':[5,6,7,8,9,10,11,12,13,14,15,16,17,18,19,20]  #4개 --> 7x4 = 총 28개의 조합\n",
    "}\n",
    "grid_search = GridSearchCV(tree\n",
    "                          , param_grid = param_grid\n",
    "                          , cv = 5 #교차검증시 fold 개수; n번의 교차검증; 데이터들이 돌아가면서 하나씩 검증(validation)에 사용되어 일반화하는 것; 데이터가 많지 않을 때 보통 쓰인다고 함\n",
    "                          , n_jobs = -1)  #-1: 모든 코어 사용\n",
    "\n",
    "grid_search.fit(X_train, y_train)\n",
    "\n",
    "# 최선의 결과 출력\n",
    "print('최적 하이퍼 파라미터 :{0}, 최적 평균 정확도 :{1:.3f}'.format(grid_search.best_params_, grid_search.best_score_))"
   ]
  },
  {
   "cell_type": "code",
   "execution_count": 18,
   "metadata": {},
   "outputs": [],
   "source": [
    "#최적 하이퍼 파라미터 적용 디시전 트리  \n",
    "#{'max_depth': 2, 'min_samples_leaf': 19}, 최적 평균 정확도 :0.983\n",
    "  \n",
    "dt_clf_best = DecisionTreeClassifier(random_state=52,max_depth= 2,min_samples_leaf=19)     \n",
    "dt_clf_best.fit(X_train, y_train)\n",
    "dt_best_pred = dt_clf_best.predict(X_test)\n",
    "dt_best_pred_proba = dt_clf_best.predict_proba(X_test)"
   ]
  },
  {
   "cell_type": "code",
   "execution_count": 19,
   "metadata": {},
   "outputs": [],
   "source": [
    "# 랜덤포레스트 구현\n",
    "from sklearn.ensemble import RandomForestClassifier\n",
    "rf_clf = RandomForestClassifier(random_state=52)     \n",
    "rf_clf.fit(X_train, y_train)\n",
    "rf_pred = rf_clf.predict(X_test)\n",
    "rf_pred_proba = rf_clf.predict_proba(X_test)"
   ]
  },
  {
   "cell_type": "code",
   "execution_count": null,
   "metadata": {},
   "outputs": [],
   "source": [
    "# 하이퍼파라미터 Grid-Search\n",
    "from sklearn.model_selection import GridSearchCV\n",
    "\n",
    "# 탐색 범위 정의\n",
    "grid_search = {'criterion': ['entropy', 'gini'],\n",
    "               'max_depth': [2,4,6,8],\n",
    "               'max_features': ['auto', 'sqrt'],\n",
    "               'min_samples_leaf': [4,6,8.10],\n",
    "               'min_samples_split': [4,6,8,10],\n",
    "               'n_estimators': [20,40,60,80,100]}\n",
    "\n",
    "model = RandomForestClassifier()\n",
    "grid = GridSearchCV(estimator = model, param_grid = grid_search, \n",
    "                               cv = 4,verbose=0, n_jobs = -1)\n",
    "grid.fit(X_train,y_train)\n",
    "\n",
    "# 최선의 결과 출력\n",
    "print('최적 하이퍼 파라미터 :{0}, 최적 평균 정확도 :{1:.3f}'.format(grid.best_params_, grid.best_score_))\n"
   ]
  },
  {
   "cell_type": "code",
   "execution_count": 22,
   "metadata": {},
   "outputs": [
    {
     "name": "stderr",
     "output_type": "stream",
     "text": [
      "c:\\Users\\82104\\AppData\\Local\\Programs\\Python\\Python39-32\\lib\\site-packages\\sklearn\\ensemble\\_forest.py:427: FutureWarning: `max_features='auto'` has been deprecated in 1.1 and will be removed in 1.3. To keep the past behaviour, explicitly set `max_features='sqrt'` or remove this parameter as it is also the default value for RandomForestClassifiers and ExtraTreesClassifiers.\n",
      "  warn(\n"
     ]
    }
   ],
   "source": [
    "# 랜덤 포레스트 최적 하이퍼 파라미터 적용\n",
    "# 최적 하이퍼 파라미터 :{'criterion': 'entropy', 'max_depth': 6, 'max_features': 'auto', 'min_samples_leaf': 4, \n",
    "# 'min_samples_split': 6, 'n_estimators': 60}, 최적 평균 정확도 :0.984\n",
    "rf_clf_best = RandomForestClassifier(random_state=52, criterion = 'entropy', max_features= 'auto',\n",
    "                                     max_depth=6, min_samples_leaf=4, min_samples_split=6, n_estimators=60)\n",
    "rf_clf_best.fit(X_train, y_train)\n",
    "rf_best_pred = rf_clf_best.predict(X_test)\n",
    "rf_best_pred_proba = rf_clf_best.predict_proba(X_test)"
   ]
  },
  {
   "cell_type": "code",
   "execution_count": 23,
   "metadata": {},
   "outputs": [
    {
     "name": "stderr",
     "output_type": "stream",
     "text": [
      "c:\\Users\\82104\\AppData\\Local\\Programs\\Python\\Python39-32\\lib\\site-packages\\sklearn\\linear_model\\_logistic.py:444: ConvergenceWarning: lbfgs failed to converge (status=1):\n",
      "STOP: TOTAL NO. of ITERATIONS REACHED LIMIT.\n",
      "\n",
      "Increase the number of iterations (max_iter) or scale the data as shown in:\n",
      "    https://scikit-learn.org/stable/modules/preprocessing.html\n",
      "Please also refer to the documentation for alternative solver options:\n",
      "    https://scikit-learn.org/stable/modules/linear_model.html#logistic-regression\n",
      "  n_iter_i = _check_optimize_result(\n"
     ]
    }
   ],
   "source": [
    "# 로지스틱 회귀 모델\n",
    "from sklearn.linear_model import LogisticRegression\n",
    "#로지스틱 회귀를 위한 스케일링 \n",
    "lr_clf = LogisticRegression()\n",
    "lr_clf.fit(X_train, y_train)\n",
    "lr_pred = lr_clf.predict(X_test)\n",
    "lr_pred_proba = lr_clf.predict_proba(X_test)\n"
   ]
  },
  {
   "cell_type": "code",
   "execution_count": null,
   "metadata": {},
   "outputs": [
    {
     "name": "stderr",
     "output_type": "stream",
     "text": [
      "c:\\Users\\82104\\AppData\\Local\\Programs\\Python\\Python39-32\\lib\\site-packages\\sklearn\\linear_model\\_logistic.py:444: ConvergenceWarning: lbfgs failed to converge (status=1):\n",
      "STOP: TOTAL NO. of ITERATIONS REACHED LIMIT.\n",
      "\n",
      "Increase the number of iterations (max_iter) or scale the data as shown in:\n",
      "    https://scikit-learn.org/stable/modules/preprocessing.html\n",
      "Please also refer to the documentation for alternative solver options:\n",
      "    https://scikit-learn.org/stable/modules/linear_model.html#logistic-regression\n",
      "  n_iter_i = _check_optimize_result(\n",
      "c:\\Users\\82104\\AppData\\Local\\Programs\\Python\\Python39-32\\lib\\site-packages\\sklearn\\linear_model\\_logistic.py:444: ConvergenceWarning: lbfgs failed to converge (status=1):\n",
      "STOP: TOTAL NO. of ITERATIONS REACHED LIMIT.\n",
      "\n",
      "Increase the number of iterations (max_iter) or scale the data as shown in:\n",
      "    https://scikit-learn.org/stable/modules/preprocessing.html\n",
      "Please also refer to the documentation for alternative solver options:\n",
      "    https://scikit-learn.org/stable/modules/linear_model.html#logistic-regression\n",
      "  n_iter_i = _check_optimize_result(\n",
      "c:\\Users\\82104\\AppData\\Local\\Programs\\Python\\Python39-32\\lib\\site-packages\\sklearn\\linear_model\\_logistic.py:444: ConvergenceWarning: lbfgs failed to converge (status=1):\n",
      "STOP: TOTAL NO. of ITERATIONS REACHED LIMIT.\n",
      "\n",
      "Increase the number of iterations (max_iter) or scale the data as shown in:\n",
      "    https://scikit-learn.org/stable/modules/preprocessing.html\n",
      "Please also refer to the documentation for alternative solver options:\n",
      "    https://scikit-learn.org/stable/modules/linear_model.html#logistic-regression\n",
      "  n_iter_i = _check_optimize_result(\n",
      "c:\\Users\\82104\\AppData\\Local\\Programs\\Python\\Python39-32\\lib\\site-packages\\sklearn\\linear_model\\_logistic.py:444: ConvergenceWarning: lbfgs failed to converge (status=1):\n",
      "STOP: TOTAL NO. of ITERATIONS REACHED LIMIT.\n",
      "\n",
      "Increase the number of iterations (max_iter) or scale the data as shown in:\n",
      "    https://scikit-learn.org/stable/modules/preprocessing.html\n",
      "Please also refer to the documentation for alternative solver options:\n",
      "    https://scikit-learn.org/stable/modules/linear_model.html#logistic-regression\n",
      "  n_iter_i = _check_optimize_result(\n",
      "c:\\Users\\82104\\AppData\\Local\\Programs\\Python\\Python39-32\\lib\\site-packages\\sklearn\\linear_model\\_logistic.py:444: ConvergenceWarning: lbfgs failed to converge (status=1):\n",
      "STOP: TOTAL NO. of ITERATIONS REACHED LIMIT.\n",
      "\n",
      "Increase the number of iterations (max_iter) or scale the data as shown in:\n",
      "    https://scikit-learn.org/stable/modules/preprocessing.html\n",
      "Please also refer to the documentation for alternative solver options:\n",
      "    https://scikit-learn.org/stable/modules/linear_model.html#logistic-regression\n",
      "  n_iter_i = _check_optimize_result(\n",
      "c:\\Users\\82104\\AppData\\Local\\Programs\\Python\\Python39-32\\lib\\site-packages\\sklearn\\linear_model\\_logistic.py:444: ConvergenceWarning: lbfgs failed to converge (status=1):\n",
      "STOP: TOTAL NO. of ITERATIONS REACHED LIMIT.\n",
      "\n",
      "Increase the number of iterations (max_iter) or scale the data as shown in:\n",
      "    https://scikit-learn.org/stable/modules/preprocessing.html\n",
      "Please also refer to the documentation for alternative solver options:\n",
      "    https://scikit-learn.org/stable/modules/linear_model.html#logistic-regression\n",
      "  n_iter_i = _check_optimize_result(\n",
      "c:\\Users\\82104\\AppData\\Local\\Programs\\Python\\Python39-32\\lib\\site-packages\\sklearn\\linear_model\\_logistic.py:444: ConvergenceWarning: lbfgs failed to converge (status=1):\n",
      "STOP: TOTAL NO. of ITERATIONS REACHED LIMIT.\n",
      "\n",
      "Increase the number of iterations (max_iter) or scale the data as shown in:\n",
      "    https://scikit-learn.org/stable/modules/preprocessing.html\n",
      "Please also refer to the documentation for alternative solver options:\n",
      "    https://scikit-learn.org/stable/modules/linear_model.html#logistic-regression\n",
      "  n_iter_i = _check_optimize_result(\n",
      "c:\\Users\\82104\\AppData\\Local\\Programs\\Python\\Python39-32\\lib\\site-packages\\sklearn\\linear_model\\_logistic.py:444: ConvergenceWarning: lbfgs failed to converge (status=1):\n",
      "STOP: TOTAL NO. of ITERATIONS REACHED LIMIT.\n",
      "\n",
      "Increase the number of iterations (max_iter) or scale the data as shown in:\n",
      "    https://scikit-learn.org/stable/modules/preprocessing.html\n",
      "Please also refer to the documentation for alternative solver options:\n",
      "    https://scikit-learn.org/stable/modules/linear_model.html#logistic-regression\n",
      "  n_iter_i = _check_optimize_result(\n",
      "c:\\Users\\82104\\AppData\\Local\\Programs\\Python\\Python39-32\\lib\\site-packages\\sklearn\\linear_model\\_logistic.py:444: ConvergenceWarning: lbfgs failed to converge (status=1):\n",
      "STOP: TOTAL NO. of ITERATIONS REACHED LIMIT.\n",
      "\n",
      "Increase the number of iterations (max_iter) or scale the data as shown in:\n",
      "    https://scikit-learn.org/stable/modules/preprocessing.html\n",
      "Please also refer to the documentation for alternative solver options:\n",
      "    https://scikit-learn.org/stable/modules/linear_model.html#logistic-regression\n",
      "  n_iter_i = _check_optimize_result(\n",
      "c:\\Users\\82104\\AppData\\Local\\Programs\\Python\\Python39-32\\lib\\site-packages\\sklearn\\linear_model\\_logistic.py:444: ConvergenceWarning: lbfgs failed to converge (status=1):\n",
      "STOP: TOTAL NO. of ITERATIONS REACHED LIMIT.\n",
      "\n",
      "Increase the number of iterations (max_iter) or scale the data as shown in:\n",
      "    https://scikit-learn.org/stable/modules/preprocessing.html\n",
      "Please also refer to the documentation for alternative solver options:\n",
      "    https://scikit-learn.org/stable/modules/linear_model.html#logistic-regression\n",
      "  n_iter_i = _check_optimize_result(\n",
      "c:\\Users\\82104\\AppData\\Local\\Programs\\Python\\Python39-32\\lib\\site-packages\\sklearn\\linear_model\\_logistic.py:444: ConvergenceWarning: lbfgs failed to converge (status=1):\n",
      "STOP: TOTAL NO. of ITERATIONS REACHED LIMIT.\n",
      "\n",
      "Increase the number of iterations (max_iter) or scale the data as shown in:\n",
      "    https://scikit-learn.org/stable/modules/preprocessing.html\n",
      "Please also refer to the documentation for alternative solver options:\n",
      "    https://scikit-learn.org/stable/modules/linear_model.html#logistic-regression\n",
      "  n_iter_i = _check_optimize_result(\n",
      "c:\\Users\\82104\\AppData\\Local\\Programs\\Python\\Python39-32\\lib\\site-packages\\sklearn\\linear_model\\_logistic.py:444: ConvergenceWarning: lbfgs failed to converge (status=1):\n",
      "STOP: TOTAL NO. of ITERATIONS REACHED LIMIT.\n",
      "\n",
      "Increase the number of iterations (max_iter) or scale the data as shown in:\n",
      "    https://scikit-learn.org/stable/modules/preprocessing.html\n",
      "Please also refer to the documentation for alternative solver options:\n",
      "    https://scikit-learn.org/stable/modules/linear_model.html#logistic-regression\n",
      "  n_iter_i = _check_optimize_result(\n",
      "c:\\Users\\82104\\AppData\\Local\\Programs\\Python\\Python39-32\\lib\\site-packages\\sklearn\\model_selection\\_validation.py:378: FitFailedWarning: \n",
      "90 fits failed out of a total of 120.\n",
      "The score on these train-test partitions for these parameters will be set to nan.\n",
      "If these failures are not expected, you can try to debug them by setting error_score='raise'.\n",
      "\n",
      "Below are more details about the failures:\n",
      "--------------------------------------------------------------------------------\n",
      "30 fits failed with the following error:\n",
      "Traceback (most recent call last):\n",
      "  File \"c:\\Users\\82104\\AppData\\Local\\Programs\\Python\\Python39-32\\lib\\site-packages\\sklearn\\model_selection\\_validation.py\", line 686, in _fit_and_score\n",
      "    estimator.fit(X_train, y_train, **fit_params)\n",
      "  File \"c:\\Users\\82104\\AppData\\Local\\Programs\\Python\\Python39-32\\lib\\site-packages\\sklearn\\linear_model\\_logistic.py\", line 1091, in fit\n",
      "    solver = _check_solver(self.solver, self.penalty, self.dual)\n",
      "  File \"c:\\Users\\82104\\AppData\\Local\\Programs\\Python\\Python39-32\\lib\\site-packages\\sklearn\\linear_model\\_logistic.py\", line 61, in _check_solver\n",
      "    raise ValueError(\n",
      "ValueError: Solver lbfgs supports only 'l2' or 'none' penalties, got l1 penalty.\n",
      "\n",
      "--------------------------------------------------------------------------------\n",
      "30 fits failed with the following error:\n",
      "Traceback (most recent call last):\n",
      "  File \"c:\\Users\\82104\\AppData\\Local\\Programs\\Python\\Python39-32\\lib\\site-packages\\sklearn\\model_selection\\_validation.py\", line 686, in _fit_and_score\n",
      "    estimator.fit(X_train, y_train, **fit_params)\n",
      "  File \"c:\\Users\\82104\\AppData\\Local\\Programs\\Python\\Python39-32\\lib\\site-packages\\sklearn\\linear_model\\_logistic.py\", line 1091, in fit\n",
      "    solver = _check_solver(self.solver, self.penalty, self.dual)\n",
      "  File \"c:\\Users\\82104\\AppData\\Local\\Programs\\Python\\Python39-32\\lib\\site-packages\\sklearn\\linear_model\\_logistic.py\", line 61, in _check_solver\n",
      "    raise ValueError(\n",
      "ValueError: Solver lbfgs supports only 'l2' or 'none' penalties, got elasticnet penalty.\n",
      "\n",
      "--------------------------------------------------------------------------------\n",
      "30 fits failed with the following error:\n",
      "Traceback (most recent call last):\n",
      "  File \"c:\\Users\\82104\\AppData\\Local\\Programs\\Python\\Python39-32\\lib\\site-packages\\sklearn\\model_selection\\_validation.py\", line 686, in _fit_and_score\n",
      "    estimator.fit(X_train, y_train, **fit_params)\n",
      "  File \"c:\\Users\\82104\\AppData\\Local\\Programs\\Python\\Python39-32\\lib\\site-packages\\sklearn\\linear_model\\_logistic.py\", line 1091, in fit\n",
      "    solver = _check_solver(self.solver, self.penalty, self.dual)\n",
      "  File \"c:\\Users\\82104\\AppData\\Local\\Programs\\Python\\Python39-32\\lib\\site-packages\\sklearn\\linear_model\\_logistic.py\", line 55, in _check_solver\n",
      "    raise ValueError(\n",
      "ValueError: Logistic Regression supports only penalties in ['l1', 'l2', 'elasticnet', 'none'], got None.\n",
      "\n",
      "  warnings.warn(some_fits_failed_message, FitFailedWarning)\n",
      "c:\\Users\\82104\\AppData\\Local\\Programs\\Python\\Python39-32\\lib\\site-packages\\sklearn\\model_selection\\_search.py:953: UserWarning: One or more of the test scores are non-finite: [0.98208771        nan        nan        nan 0.98233477        nan\n",
      "        nan        nan 0.98233477        nan        nan        nan\n",
      " 0.98233477        nan        nan        nan 0.98233477        nan\n",
      "        nan        nan 0.98233477        nan        nan        nan]\n",
      "  warnings.warn(\n"
     ]
    },
    {
     "name": "stdout",
     "output_type": "stream",
     "text": [
      "최적 하이퍼 파라미어:{'C': 0.1, 'penalty': 'l2'}, 최적 평균 정확도:0.982\n"
     ]
    }
   ],
   "source": [
    "#로지스틱 회귀 최적 하이퍼 파라미터\n",
    "from sklearn.model_selection import GridSearchCV\n",
    "\n",
    "params = {'penalty': ['l2','l1','elasticnet','None'],\n",
    "          'C':[0.01,0.1,1,1,5,10]}\n",
    "\n",
    "grid_clf = GridSearchCV(lr_clf, param_grid=params, scoring='accuracy', cv=5)\n",
    "grid_clf.fit(X_train,y_train)\n",
    "print('최적 하이퍼 파라미어:{0}, 최적 평균 정확도:{1:.3f}'.format(grid_clf.best_params_, grid_clf.best_score_))"
   ]
  },
  {
   "cell_type": "code",
   "execution_count": 24,
   "metadata": {},
   "outputs": [
    {
     "name": "stderr",
     "output_type": "stream",
     "text": [
      "c:\\Users\\82104\\AppData\\Local\\Programs\\Python\\Python39-32\\lib\\site-packages\\sklearn\\linear_model\\_logistic.py:444: ConvergenceWarning: lbfgs failed to converge (status=1):\n",
      "STOP: TOTAL NO. of ITERATIONS REACHED LIMIT.\n",
      "\n",
      "Increase the number of iterations (max_iter) or scale the data as shown in:\n",
      "    https://scikit-learn.org/stable/modules/preprocessing.html\n",
      "Please also refer to the documentation for alternative solver options:\n",
      "    https://scikit-learn.org/stable/modules/linear_model.html#logistic-regression\n",
      "  n_iter_i = _check_optimize_result(\n"
     ]
    }
   ],
   "source": [
    "#최적 하이퍼 파라미어:{'C': 0.01, 'penalty': 'l2'}, 최적 평균 정확도:0.982\n",
    "# 로지스틱 회귀 모델\n",
    "from sklearn.linear_model import LogisticRegression\n",
    "#로지스틱 회귀를 위한 스케일링 \n",
    "lr_clf = LogisticRegression(C = 0.01, penalty= 'l2')\n",
    "lr_clf.fit(X_train, y_train)\n",
    "lr_best_pred = lr_clf.predict(X_test)\n",
    "lr_best_pred_proba = lr_clf.predict_proba(X_test)"
   ]
  },
  {
   "cell_type": "code",
   "execution_count": 25,
   "metadata": {},
   "outputs": [
    {
     "name": "stderr",
     "output_type": "stream",
     "text": [
      "c:\\Users\\82104\\AppData\\Local\\Programs\\Python\\Python39-32\\lib\\site-packages\\sklearn\\base.py:443: UserWarning: X has feature names, but KNeighborsClassifier was fitted without feature names\n",
      "  warnings.warn(\n"
     ]
    }
   ],
   "source": [
    "# KNN 모형 구현\n",
    "# 3. 거리 계산을 위해서 각 특성들을 스케일링(표준화) [Z-score 표준화: 평균을 0, 표준편차 1로 변환]\n",
    "from sklearn.neighbors import KNeighborsClassifier\n",
    "scaler = StandardScaler() # Scaler 객체 생성\n",
    "scaler.fit(X_train) \n",
    "knn_X_train = scaler.transform(X_train) # 스케일링(표준화 수행)\n",
    "knn_X_test = scaler.transform(X_test)\n",
    "\n",
    "# k-NN 분류기를 생성\n",
    "knn_clf = KNeighborsClassifier(n_neighbors=5)\n",
    "# 분류기 학습\n",
    "knn_clf.fit(knn_X_train, y_train)\n",
    "# 예측\n",
    "\n",
    "knn_pred = knn_clf.predict(knn_X_test)\n",
    "knn_pred_proba = knn_clf.predict_proba(X_test)\n"
   ]
  },
  {
   "cell_type": "code",
   "execution_count": 26,
   "metadata": {},
   "outputs": [
    {
     "name": "stdout",
     "output_type": "stream",
     "text": [
      "1\n",
      "0.9731203739774056\n",
      "2\n",
      "0.9863654070899883\n",
      "3\n",
      "0.9844176081028437\n",
      "4\n",
      "0.9871445266848461\n",
      "5\n",
      "0.9855862874951306\n",
      "6\n",
      "0.987534086482275\n",
      "7\n",
      "0.9871445266848461\n",
      "8\n",
      "0.9883132060771328\n",
      "9\n",
      "0.9887027658745617\n",
      "10\n",
      "0.9883132060771328\n"
     ]
    }
   ],
   "source": [
    "# knn 파라미터 구하기\n",
    "from sklearn.metrics import accuracy_score\n",
    "for k in range(1,11):\n",
    "    knn_clf = KNeighborsClassifier(n_neighbors=k)\n",
    "    knn_clf.fit(knn_X_train, y_train)\n",
    "    knn_pred = knn_clf.predict(knn_X_test)\n",
    "    knn_score=accuracy_score(y_test,knn_pred)\n",
    "    print(k)\n",
    "    print(knn_score)\n",
    "    \n",
    "    "
   ]
  },
  {
   "cell_type": "code",
   "execution_count": 27,
   "metadata": {},
   "outputs": [
    {
     "name": "stderr",
     "output_type": "stream",
     "text": [
      "c:\\Users\\82104\\AppData\\Local\\Programs\\Python\\Python39-32\\lib\\site-packages\\sklearn\\base.py:443: UserWarning: X has feature names, but KNeighborsClassifier was fitted without feature names\n",
      "  warnings.warn(\n"
     ]
    }
   ],
   "source": [
    "# knn 최적의 파라미터 모델\n",
    "knn_clf = KNeighborsClassifier(n_neighbors=3)\n",
    "# 분류기 학습\n",
    "knn_clf.fit(knn_X_train, y_train)\n",
    "# 예측\n",
    "\n",
    "knn_best_pred = knn_clf.predict(knn_X_test)\n",
    "knn_best_pred_proba = knn_clf.predict_proba(X_test)\n"
   ]
  },
  {
   "cell_type": "code",
   "execution_count": 17,
   "metadata": {},
   "outputs": [
    {
     "name": "stdout",
     "output_type": "stream",
     "text": [
      "Requirement already satisfied: xgboost in c:\\users\\82104\\appdata\\local\\programs\\python\\python39-32\\lib\\site-packages (1.5.1)\n",
      "Requirement already satisfied: scipy in c:\\users\\82104\\appdata\\local\\programs\\python\\python39-32\\lib\\site-packages (from xgboost) (1.9.1)\n",
      "Requirement already satisfied: numpy in c:\\users\\82104\\appdata\\local\\programs\\python\\python39-32\\lib\\site-packages (from xgboost) (1.23.3)\n",
      "Note: you may need to restart the kernel to use updated packages.\n"
     ]
    }
   ],
   "source": [
    "pip install xgboost"
   ]
  },
  {
   "cell_type": "code",
   "execution_count": 18,
   "metadata": {},
   "outputs": [
    {
     "name": "stderr",
     "output_type": "stream",
     "text": [
      "c:\\Users\\82104\\AppData\\Local\\Programs\\Python\\Python39-32\\lib\\site-packages\\xgboost\\compat.py:36: FutureWarning: pandas.Int64Index is deprecated and will be removed from pandas in a future version. Use pandas.Index with the appropriate dtype instead.\n",
      "  from pandas import MultiIndex, Int64Index\n"
     ]
    }
   ],
   "source": [
    "from xgboost import XGBClassifier"
   ]
  },
  {
   "cell_type": "code",
   "execution_count": 21,
   "metadata": {},
   "outputs": [
    {
     "name": "stderr",
     "output_type": "stream",
     "text": [
      "c:\\Users\\82104\\AppData\\Local\\Programs\\Python\\Python39-32\\lib\\site-packages\\xgboost\\sklearn.py:1224: UserWarning: The use of label encoder in XGBClassifier is deprecated and will be removed in a future release. To remove this warning, do the following: 1) Pass option use_label_encoder=False when constructing XGBClassifier object; and 2) Encode your labels (y) as integers starting with 0, i.e. 0, 1, 2, ..., [num_class - 1].\n",
      "  warnings.warn(label_encoder_deprecation_msg, UserWarning)\n"
     ]
    },
    {
     "name": "stdout",
     "output_type": "stream",
     "text": [
      "[15:31:34] WARNING: D:\\Build\\xgboost\\xgboost-1.5.1.git\\src\\learner.cc:576: \n",
      "Parameters: { \"Param\" } might not be used.\n",
      "\n",
      "  This could be a false alarm, with some parameters getting used by language bindings but\n",
      "  then being mistakenly passed down to XGBoost core, or some parameter actually being used\n",
      "  but getting flagged wrongly here. Please open an issue if you find any such cases.\n",
      "\n",
      "\n",
      "[15:31:35] WARNING: D:\\Build\\xgboost\\xgboost-1.5.1.git\\src\\learner.cc:1115: Starting in XGBoost 1.3.0, the default evaluation metric used with the objective 'binary:logistic' was changed from 'error' to 'logloss'. Explicitly set eval_metric if you'd like to restore the old behavior.\n"
     ]
    },
    {
     "ename": "ValueError",
     "evalue": "Feature shape mismatch, expected: 5, got 7",
     "output_type": "error",
     "traceback": [
      "\u001b[1;31m---------------------------------------------------------------------------\u001b[0m",
      "\u001b[1;31mValueError\u001b[0m                                Traceback (most recent call last)",
      "Cell \u001b[1;32mIn [21], line 32\u001b[0m\n\u001b[0;32m     27\u001b[0m xgb_wrapper \u001b[38;5;241m=\u001b[39m XGBClassifier(Param\u001b[38;5;241m=\u001b[39mparams_dict)\n\u001b[0;32m     29\u001b[0m xgb_wrapper\u001b[38;5;241m.\u001b[39mfit(X_train_XG, y_train_XG, verbose \u001b[38;5;241m=\u001b[39m \u001b[38;5;28;01mTrue\u001b[39;00m)\n\u001b[1;32m---> 32\u001b[0m xgb_pred \u001b[38;5;241m=\u001b[39m \u001b[43mxgb_wrapper\u001b[49m\u001b[38;5;241;43m.\u001b[39;49m\u001b[43mpredict\u001b[49m\u001b[43m(\u001b[49m\u001b[43mX_test\u001b[49m\u001b[43m)\u001b[49m\n\u001b[0;32m     33\u001b[0m xgb_pred_proba \u001b[38;5;241m=\u001b[39m xgb_wrapper\u001b[38;5;241m.\u001b[39mpredict_proba(X_test)\n",
      "File \u001b[1;32mc:\\Users\\82104\\AppData\\Local\\Programs\\Python\\Python39-32\\lib\\site-packages\\xgboost\\sklearn.py:1284\u001b[0m, in \u001b[0;36mXGBClassifier.predict\u001b[1;34m(self, X, output_margin, ntree_limit, validate_features, base_margin, iteration_range)\u001b[0m\n\u001b[0;32m   1275\u001b[0m \u001b[39mdef\u001b[39;00m \u001b[39mpredict\u001b[39m(\n\u001b[0;32m   1276\u001b[0m     \u001b[39mself\u001b[39m,\n\u001b[0;32m   1277\u001b[0m     X: array_like,\n\u001b[1;32m   (...)\u001b[0m\n\u001b[0;32m   1282\u001b[0m     iteration_range: Optional[Tuple[\u001b[39mint\u001b[39m, \u001b[39mint\u001b[39m]] \u001b[39m=\u001b[39m \u001b[39mNone\u001b[39;00m,\n\u001b[0;32m   1283\u001b[0m ) \u001b[39m-\u001b[39m\u001b[39m>\u001b[39m np\u001b[39m.\u001b[39mndarray:\n\u001b[1;32m-> 1284\u001b[0m     class_probs \u001b[39m=\u001b[39m \u001b[39msuper\u001b[39;49m()\u001b[39m.\u001b[39;49mpredict(\n\u001b[0;32m   1285\u001b[0m         X\u001b[39m=\u001b[39;49mX,\n\u001b[0;32m   1286\u001b[0m         output_margin\u001b[39m=\u001b[39;49moutput_margin,\n\u001b[0;32m   1287\u001b[0m         ntree_limit\u001b[39m=\u001b[39;49mntree_limit,\n\u001b[0;32m   1288\u001b[0m         validate_features\u001b[39m=\u001b[39;49mvalidate_features,\n\u001b[0;32m   1289\u001b[0m         base_margin\u001b[39m=\u001b[39;49mbase_margin,\n\u001b[0;32m   1290\u001b[0m         iteration_range\u001b[39m=\u001b[39;49miteration_range,\n\u001b[0;32m   1291\u001b[0m     )\n\u001b[0;32m   1292\u001b[0m     \u001b[39mif\u001b[39;00m output_margin:\n\u001b[0;32m   1293\u001b[0m         \u001b[39m# If output_margin is active, simply return the scores\u001b[39;00m\n\u001b[0;32m   1294\u001b[0m         \u001b[39mreturn\u001b[39;00m class_probs\n",
      "File \u001b[1;32mc:\\Users\\82104\\AppData\\Local\\Programs\\Python\\Python39-32\\lib\\site-packages\\xgboost\\sklearn.py:881\u001b[0m, in \u001b[0;36mXGBModel.predict\u001b[1;34m(self, X, output_margin, ntree_limit, validate_features, base_margin, iteration_range)\u001b[0m\n\u001b[0;32m    879\u001b[0m \u001b[39mif\u001b[39;00m \u001b[39mself\u001b[39m\u001b[39m.\u001b[39m_can_use_inplace_predict():\n\u001b[0;32m    880\u001b[0m     \u001b[39mtry\u001b[39;00m:\n\u001b[1;32m--> 881\u001b[0m         predts \u001b[39m=\u001b[39m \u001b[39mself\u001b[39;49m\u001b[39m.\u001b[39;49mget_booster()\u001b[39m.\u001b[39;49minplace_predict(\n\u001b[0;32m    882\u001b[0m             data\u001b[39m=\u001b[39;49mX,\n\u001b[0;32m    883\u001b[0m             iteration_range\u001b[39m=\u001b[39;49miteration_range,\n\u001b[0;32m    884\u001b[0m             predict_type\u001b[39m=\u001b[39;49m\u001b[39m\"\u001b[39;49m\u001b[39mmargin\u001b[39;49m\u001b[39m\"\u001b[39;49m \u001b[39mif\u001b[39;49;00m output_margin \u001b[39melse\u001b[39;49;00m \u001b[39m\"\u001b[39;49m\u001b[39mvalue\u001b[39;49m\u001b[39m\"\u001b[39;49m,\n\u001b[0;32m    885\u001b[0m             missing\u001b[39m=\u001b[39;49m\u001b[39mself\u001b[39;49m\u001b[39m.\u001b[39;49mmissing,\n\u001b[0;32m    886\u001b[0m             base_margin\u001b[39m=\u001b[39;49mbase_margin,\n\u001b[0;32m    887\u001b[0m             validate_features\u001b[39m=\u001b[39;49mvalidate_features,\n\u001b[0;32m    888\u001b[0m         )\n\u001b[0;32m    889\u001b[0m         \u001b[39mif\u001b[39;00m _is_cupy_array(predts):\n\u001b[0;32m    890\u001b[0m             \u001b[39mimport\u001b[39;00m \u001b[39mcupy\u001b[39;00m     \u001b[39m# pylint: disable=import-error\u001b[39;00m\n",
      "File \u001b[1;32mc:\\Users\\82104\\AppData\\Local\\Programs\\Python\\Python39-32\\lib\\site-packages\\xgboost\\core.py:2018\u001b[0m, in \u001b[0;36mBooster.inplace_predict\u001b[1;34m(self, data, iteration_range, predict_type, missing, validate_features, base_margin, strict_shape)\u001b[0m\n\u001b[0;32m   2014\u001b[0m         \u001b[39mraise\u001b[39;00m \u001b[39mTypeError\u001b[39;00m(\n\u001b[0;32m   2015\u001b[0m             \u001b[39m\"\u001b[39m\u001b[39m`shape` attribute is required when `validate_features` is True.\u001b[39m\u001b[39m\"\u001b[39m\n\u001b[0;32m   2016\u001b[0m         )\n\u001b[0;32m   2017\u001b[0m     \u001b[39mif\u001b[39;00m \u001b[39mlen\u001b[39m(data\u001b[39m.\u001b[39mshape) \u001b[39m!=\u001b[39m \u001b[39m1\u001b[39m \u001b[39mand\u001b[39;00m \u001b[39mself\u001b[39m\u001b[39m.\u001b[39mnum_features() \u001b[39m!=\u001b[39m data\u001b[39m.\u001b[39mshape[\u001b[39m1\u001b[39m]:\n\u001b[1;32m-> 2018\u001b[0m         \u001b[39mraise\u001b[39;00m \u001b[39mValueError\u001b[39;00m(\n\u001b[0;32m   2019\u001b[0m             \u001b[39mf\u001b[39m\u001b[39m\"\u001b[39m\u001b[39mFeature shape mismatch, expected: \u001b[39m\u001b[39m{\u001b[39;00m\u001b[39mself\u001b[39m\u001b[39m.\u001b[39mnum_features()\u001b[39m}\u001b[39;00m\u001b[39m, \u001b[39m\u001b[39m\"\u001b[39m\n\u001b[0;32m   2020\u001b[0m             \u001b[39mf\u001b[39m\u001b[39m\"\u001b[39m\u001b[39mgot \u001b[39m\u001b[39m{\u001b[39;00mdata\u001b[39m.\u001b[39mshape[\u001b[39m1\u001b[39m]\u001b[39m}\u001b[39;00m\u001b[39m\"\u001b[39m\n\u001b[0;32m   2021\u001b[0m         )\n\u001b[0;32m   2023\u001b[0m \u001b[39mfrom\u001b[39;00m \u001b[39m.\u001b[39;00m\u001b[39mdata\u001b[39;00m \u001b[39mimport\u001b[39;00m _is_pandas_df, _transform_pandas_df\n\u001b[0;32m   2024\u001b[0m \u001b[39mfrom\u001b[39;00m \u001b[39m.\u001b[39;00m\u001b[39mdata\u001b[39;00m \u001b[39mimport\u001b[39;00m _array_interface\n",
      "\u001b[1;31mValueError\u001b[0m: Feature shape mismatch, expected: 5, got 7"
     ]
    }
   ],
   "source": [
    "#XG 부스트 모형 구현\n",
    "from xgboost import XGBClassifier\n",
    "from sklearn.model_selection import train_test_split\n",
    "import xgboost as xgb ## XGBoost 불러오기\n",
    "from xgboost import plot_importance \n",
    "X_train_XG= df1[['[제조]순운전자본회전률','[제조]총자본증가율',\n",
    "              '[제조]부채비율','[제조]자기자본순이익률','[제조]비유동자산회전률']]\n",
    "X_train_XG.columns = [['순운전자본회전률','총자본증가율'\n",
    "              '매출액순이익률','부채비율','자기자본순이익률','비유동자산회전률']]\n",
    "X_test_XG = df2[['[제조]순운전자본회전률','[제조]총자본증가율'\n",
    "              ,'[제조]부채비율','[제조]자기자본순이익률','[제조]비유동자산회전률']]\n",
    "X_test_XG.columns =[['순운전자본회전률','총자본증가율'\n",
    "              ,'부채비율','자기자본순이익률','비유동자산회전률']]\n",
    "y_train_XG = df1[\"lable\"]\n",
    "y_test_XG = df2[\"lable\"]\n",
    "X_tr_XG, X_val_XG, y_tr_XG, y_val_XG = train_test_split(X_train_XG, y_train_XG,test_size = 0.1, random_state = 156)\n",
    "# df1 = df[df['year']<2019] #train\n",
    "# df2 = df[df['year']>=2019] #test\n",
    "# train data label 분리 test data label 분리\n",
    "params_dict = {'objective' : 'binary:logistic',\n",
    "               'n_estimators' : 400,\n",
    "               'learning_rate' : 0.05,\n",
    "               'max_depth' : 3,\n",
    "               'eval_metric' : 'logloss'\n",
    "               }\n",
    "\n",
    "xgb_wrapper = XGBClassifier(Param=params_dict)\n",
    "\n",
    "xgb_wrapper.fit(X_train_XG, y_train_XG, verbose = True)\n",
    "\n",
    "\n",
    "xgb_pred = xgb_wrapper.predict(X_test)\n",
    "xgb_pred_proba = xgb_wrapper.predict_proba(X_test)\n",
    "\n",
    "\n"
   ]
  },
  {
   "cell_type": "code",
   "execution_count": 4,
   "metadata": {},
   "outputs": [
    {
     "ename": "NameError",
     "evalue": "name 'xgb_wrapper' is not defined",
     "output_type": "error",
     "traceback": [
      "\u001b[1;31m---------------------------------------------------------------------------\u001b[0m",
      "\u001b[1;31mNameError\u001b[0m                                 Traceback (most recent call last)",
      "Cell \u001b[1;32mIn [4], line 10\u001b[0m\n\u001b[0;32m      2\u001b[0m \u001b[38;5;28;01mfrom\u001b[39;00m \u001b[38;5;21;01msklearn\u001b[39;00m\u001b[38;5;21;01m.\u001b[39;00m\u001b[38;5;21;01mmodel_selection\u001b[39;00m \u001b[38;5;28;01mimport\u001b[39;00m GridSearchCV\n\u001b[0;32m      4\u001b[0m params \u001b[38;5;241m=\u001b[39m {\n\u001b[0;32m      5\u001b[0m           \u001b[38;5;124m'\u001b[39m\u001b[38;5;124mn_estimators\u001b[39m\u001b[38;5;124m'\u001b[39m:[\u001b[38;5;241m20\u001b[39m,\u001b[38;5;241m40\u001b[39m,\u001b[38;5;241m60\u001b[39m,\u001b[38;5;241m80\u001b[39m,\u001b[38;5;241m100\u001b[39m],\n\u001b[0;32m      6\u001b[0m           \u001b[38;5;124m'\u001b[39m\u001b[38;5;124mlearning_rate\u001b[39m\u001b[38;5;124m'\u001b[39m:[\u001b[38;5;241m0.03\u001b[39m,\u001b[38;5;241m0.05\u001b[39m,\u001b[38;5;241m0.07\u001b[39m,\u001b[38;5;241m0.09\u001b[39m],\n\u001b[0;32m      7\u001b[0m           \u001b[38;5;124m'\u001b[39m\u001b[38;5;124mmax_depth\u001b[39m\u001b[38;5;124m'\u001b[39m : [\u001b[38;5;241m4\u001b[39m,\u001b[38;5;241m6\u001b[39m,\u001b[38;5;241m8\u001b[39m,\u001b[38;5;241m10\u001b[39m]\n\u001b[0;32m      8\u001b[0m           }\n\u001b[1;32m---> 10\u001b[0m grid_clf \u001b[38;5;241m=\u001b[39m GridSearchCV(\u001b[43mxgb_wrapper\u001b[49m, param_grid\u001b[38;5;241m=\u001b[39mparams, scoring\u001b[38;5;241m=\u001b[39m\u001b[38;5;124m'\u001b[39m\u001b[38;5;124maccuracy\u001b[39m\u001b[38;5;124m'\u001b[39m, cv\u001b[38;5;241m=\u001b[39m\u001b[38;5;241m5\u001b[39m)\n\u001b[0;32m     11\u001b[0m grid_clf\u001b[38;5;241m.\u001b[39mfit(X_train_XG,y_train_XG)\n\u001b[0;32m     12\u001b[0m \u001b[38;5;28mprint\u001b[39m(\u001b[38;5;124m'\u001b[39m\u001b[38;5;124m최적 하이퍼 파라미어:\u001b[39m\u001b[38;5;132;01m{0}\u001b[39;00m\u001b[38;5;124m, 최적 평균 정확도:\u001b[39m\u001b[38;5;132;01m{1:.3f}\u001b[39;00m\u001b[38;5;124m'\u001b[39m\u001b[38;5;241m.\u001b[39mformat(grid_clf\u001b[38;5;241m.\u001b[39mbest_params_, grid_clf\u001b[38;5;241m.\u001b[39mbest_score_))\n",
      "\u001b[1;31mNameError\u001b[0m: name 'xgb_wrapper' is not defined"
     ]
    }
   ],
   "source": [
    "#xgb 최적 하이퍼 파라미터\n",
    "from sklearn.model_selection import GridSearchCV\n",
    "\n",
    "params = {\n",
    "          'n_estimators':[20,40,60,80,100],\n",
    "          'learning_rate':[0.03,0.05,0.07,0.09],\n",
    "          'max_depth' : [4,6,8,10]\n",
    "          }\n",
    "\n",
    "grid_clf = GridSearchCV(xgb_wrapper, param_grid=params, scoring='accuracy', cv=5)\n",
    "grid_clf.fit(X_train_XG,y_train_XG)\n",
    "print('최적 하이퍼 파라미어:{0}, 최적 평균 정확도:{1:.3f}'.format(grid_clf.best_params_, grid_clf.best_score_))"
   ]
  },
  {
   "cell_type": "code",
   "execution_count": 5,
   "metadata": {},
   "outputs": [
    {
     "ename": "NameError",
     "evalue": "name 'XGBClassifier' is not defined",
     "output_type": "error",
     "traceback": [
      "\u001b[1;31m---------------------------------------------------------------------------\u001b[0m",
      "\u001b[1;31mNameError\u001b[0m                                 Traceback (most recent call last)",
      "Cell \u001b[1;32mIn [5], line 3\u001b[0m\n\u001b[0;32m      1\u001b[0m \u001b[38;5;66;03m# xgb부스트 최적의 파라미터\u001b[39;00m\n\u001b[0;32m      2\u001b[0m \u001b[38;5;66;03m#최적 하이퍼 파라미어:{'learning_rate': 0.07, 'max_depth': 4, 'n_estimators': 100}, 최적 평균 정확도:0.984\u001b[39;00m\n\u001b[1;32m----> 3\u001b[0m xgb_wrapper \u001b[38;5;241m=\u001b[39m \u001b[43mXGBClassifier\u001b[49m(learning_rate\u001b[38;5;241m=\u001b[39m \u001b[38;5;241m0.07\u001b[39m, max_depth\u001b[38;5;241m=\u001b[39m \u001b[38;5;241m4\u001b[39m, n_estimators\u001b[38;5;241m=\u001b[39m \u001b[38;5;241m100\u001b[39m)\n\u001b[0;32m      5\u001b[0m xgb_wrapper\u001b[38;5;241m.\u001b[39mfit(X_train_XG, y_train_XG, verbose \u001b[38;5;241m=\u001b[39m \u001b[38;5;28;01mTrue\u001b[39;00m)\n\u001b[0;32m      7\u001b[0m xgb_best_pred \u001b[38;5;241m=\u001b[39m xgb_wrapper\u001b[38;5;241m.\u001b[39mpredict(X_test)\n",
      "\u001b[1;31mNameError\u001b[0m: name 'XGBClassifier' is not defined"
     ]
    }
   ],
   "source": [
    "# xgb부스트 최적의 파라미터\n",
    "#최적 하이퍼 파라미어:{'learning_rate': 0.07, 'max_depth': 4, 'n_estimators': 100}, 최적 평균 정확도:0.984\n",
    "xgb_wrapper = XGBClassifier(learning_rate= 0.07, max_depth= 4, n_estimators= 100)\n",
    "\n",
    "xgb_wrapper.fit(X_train_XG, y_train_XG, verbose = True)\n",
    "\n",
    "xgb_best_pred = xgb_wrapper.predict(X_test)\n",
    "xgb_best_pred_proba = xgb_wrapper.predict_proba(X_test)"
   ]
  },
  {
   "cell_type": "code",
   "execution_count": 29,
   "metadata": {},
   "outputs": [],
   "source": [
    "#퍼셉트론 구현\n",
    "# eta : 학습률 (float), n_iter : 훈련 데이터 반복 횟수 (int), w_ : 학습된 가중치 (1d-array)\n",
    "class Perceptron(object):\n",
    "    \n",
    "    def __init__(self, eta = 0.01, n_iter = 50, random_state = 1): #초기화\n",
    "        self.eta = eta\n",
    "        self.n_iter = n_iter\n",
    "        self.random_state = random_state\n",
    "        \n",
    "    \n",
    "    def fit(self, X, y): #학습\n",
    "        rgen = np.random.RandomState(self.random_state)\n",
    "        self.w_ = rgen.normal(loc = 0, scale = 0.01,\n",
    "                             size = 1 + X.shape[1])\n",
    "        \n",
    "        self.errors_ = []\n",
    "        for _ in range(self.n_iter):\n",
    "            errors = 0\n",
    "            for i in range(len(X)):\n",
    "                xi = X.iloc[i].values\n",
    "                target = y[i]\n",
    "                update = self.eta * (target - self.predict(xi))\n",
    "                self.w_[1:] += update * xi\n",
    "                self.w_[0] += update\n",
    "                errors += int(update != 0.0)\n",
    "            self.errors_.append(errors)\n",
    "        return self\n",
    "    \n",
    "    def predict(self, X): #추론\n",
    "        return np.where(self.net_input(X) >= 0.0, 1, 0)\n",
    "    \n",
    "    def net_input(self, X):\n",
    "        return np.dot(X, self.w_[1:]) + self.w_[0]\n",
    "\n",
    "\n",
    "\n",
    "#초기(pc)\n",
    "pc_clf = Perceptron(n_iter = 10)\n",
    "pc_clf.fit(X_train, y_train)\n",
    "pc_pred = pc_clf.predict(X_test)\n",
    "\n",
    "\n",
    "\n",
    "\n"
   ]
  },
  {
   "cell_type": "code",
   "execution_count": 30,
   "metadata": {},
   "outputs": [
    {
     "name": "stdout",
     "output_type": "stream",
     "text": [
      "1\n",
      "0.9758472925594078\n",
      "2\n",
      "0.9700038955979743\n",
      "3\n",
      "0.9770159719516945\n",
      "4\n",
      "0.9719516945851188\n",
      "5\n",
      "0.9703934553954032\n",
      "6\n",
      "0.9770159719516945\n",
      "7\n",
      "0.9735099337748344\n",
      "8\n",
      "0.9501363459291001\n",
      "9\n",
      "0.9622126996493962\n",
      "10\n",
      "0.9770159719516945\n"
     ]
    }
   ],
   "source": [
    "from sklearn.metrics import accuracy_score\n",
    "\n",
    "pc_scores = []\n",
    "for i in range(1,11):\n",
    "    pc_clf = Perceptron(n_iter=i)\n",
    "    pc_clf.fit(X_train, y_train)\n",
    "    pc_pred = pc_clf.predict(X_test)\n",
    "    \n",
    "    pc_scores=accuracy_score(y_test, pc_pred)\n",
    "    print(i)\n",
    "    print(pc_scores)\n",
    "\n"
   ]
  },
  {
   "cell_type": "code",
   "execution_count": 32,
   "metadata": {},
   "outputs": [],
   "source": [
    "# 퍼셉트론 최적의 파라미터\n",
    "pc_clf = Perceptron(n_iter = 3)\n",
    "pc_clf.fit(X_train, y_train)\n",
    "pc_best_pred = pc_clf.predict(X_test)\n",
    "\n"
   ]
  },
  {
   "cell_type": "markdown",
   "metadata": {},
   "source": [
    "### lda_pred : 선형판별 분석 예측 값\n",
    "### dt_pred : 디시전트리 예측 값\n",
    "### dt_best_pred : 랜덤 포레스트 최적의 파라미터 값\n",
    "### rf_pred : 랜덤 포레스트 예측 값\n",
    "### rf_best_pred : 랜덤 포레스트 최적의 파라미터 값\n",
    "### lr_pred : 로지스틱 회귀 예측 값\n",
    "### lr_best_pred : 랜덤 포레스트 최적의 파라미터 값\n",
    "### knn_pred : knn 예측 값\n",
    "### knn_best_pred : knn 최적의 파라미터 값\n",
    "### xgb_pred : xgb 예측 값\n",
    "### xgb_best_pred : 랜덤 포레스트 최적의 파라미터 값\n",
    "### pc_pred : 퍼셉트론 예측 값\n"
   ]
  },
  {
   "cell_type": "code",
   "execution_count": 33,
   "metadata": {},
   "outputs": [
    {
     "name": "stdout",
     "output_type": "stream",
     "text": [
      "lda\n",
      "오차행렬\n",
      "[[2408  129]\n",
      " [  21    9]]\n",
      "정확도: 0.9416, 정밀도 : 0.0652, 재현율:0.3000,F1 스코어:0.1071\n",
      "ROC 스코어: 0.6246, PR score : 0.0277\n",
      "None\n",
      "디시전트리\n",
      "오차행렬\n",
      "[[2488   49]\n",
      " [  24    6]]\n",
      "정확도: 0.9716, 정밀도 : 0.1091, 재현율:0.2000,F1 스코어:0.1412\n",
      "ROC 스코어: 0.5903, PR score : 0.0312\n",
      "None\n",
      "디시전트리 최적의 모델\n",
      "오차행렬\n",
      "[[2537    0]\n",
      " [  30    0]]\n",
      "정확도: 0.9883, 정밀도 : 0.0000, 재현율:0.0000,F1 스코어:0.0000\n",
      "ROC 스코어: 0.5000, PR score : 0.0117\n",
      "None\n",
      "랜덤포레스트\n",
      "오차행렬\n",
      "[[2531    6]\n",
      " [  25    5]]\n",
      "정확도: 0.9879, 정밀도 : 0.4545, 재현율:0.1667,F1 스코어:0.2439\n",
      "ROC 스코어: 0.5822, PR score : 0.0855\n",
      "None\n",
      "랜덤포레스트 최적의 모델\n",
      "오차행렬\n",
      "[[2534    3]\n",
      " [  25    5]]\n",
      "정확도: 0.9891, 정밀도 : 0.6250, 재현율:0.1667,F1 스코어:0.2632\n",
      "ROC 스코어: 0.5827, PR score : 0.1139\n",
      "None\n",
      "로지스틱\n",
      "오차행렬\n",
      "[[2529    8]\n",
      " [  29    1]]\n",
      "정확도: 0.9856, 정밀도 : 0.1111, 재현율:0.0333,F1 스코어:0.0513\n",
      "ROC 스코어: 0.5151, PR score : 0.0150\n",
      "None\n",
      "로지스틱회귀 최적의 모델\n",
      "오차행렬\n",
      "[[2529    8]\n",
      " [  29    1]]\n",
      "정확도: 0.9856, 정밀도 : 0.1111, 재현율:0.0333,F1 스코어:0.0513\n",
      "ROC 스코어: 0.5151, PR score : 0.0150\n",
      "None\n",
      "Knn\n",
      "오차행렬\n",
      "[[2537    0]\n",
      " [  30    0]]\n",
      "정확도: 0.9883, 정밀도 : 0.0000, 재현율:0.0000,F1 스코어:0.0000\n",
      "ROC 스코어: 0.5000, PR score : 0.0117\n",
      "None\n",
      "Knn 최적의 모델\n",
      "오차행렬\n",
      "[[2523   14]\n",
      " [  26    4]]\n",
      "정확도: 0.9844, 정밀도 : 0.2222, 재현율:0.1333,F1 스코어:0.1667\n",
      "ROC 스코어: 0.5639, PR score : 0.0398\n",
      "None\n",
      "xgb\n"
     ]
    },
    {
     "name": "stderr",
     "output_type": "stream",
     "text": [
      "c:\\Users\\82104\\AppData\\Local\\Programs\\Python\\Python39-32\\lib\\site-packages\\sklearn\\metrics\\_classification.py:1334: UndefinedMetricWarning: Precision is ill-defined and being set to 0.0 due to no predicted samples. Use `zero_division` parameter to control this behavior.\n",
      "  _warn_prf(average, modifier, msg_start, len(result))\n",
      "c:\\Users\\82104\\AppData\\Local\\Programs\\Python\\Python39-32\\lib\\site-packages\\sklearn\\metrics\\_classification.py:1334: UndefinedMetricWarning: Precision is ill-defined and being set to 0.0 due to no predicted samples. Use `zero_division` parameter to control this behavior.\n",
      "  _warn_prf(average, modifier, msg_start, len(result))\n"
     ]
    },
    {
     "ename": "NameError",
     "evalue": "name 'xgb_pred' is not defined",
     "output_type": "error",
     "traceback": [
      "\u001b[1;31m---------------------------------------------------------------------------\u001b[0m",
      "\u001b[1;31mNameError\u001b[0m                                 Traceback (most recent call last)",
      "Cell \u001b[1;32mIn [33], line 41\u001b[0m\n\u001b[0;32m     39\u001b[0m \u001b[38;5;28mprint\u001b[39m(get_clf_eval(y_test, knn_best_pred))\n\u001b[0;32m     40\u001b[0m \u001b[38;5;28mprint\u001b[39m(\u001b[38;5;124m\"\u001b[39m\u001b[38;5;124mxgb\u001b[39m\u001b[38;5;124m\"\u001b[39m)\n\u001b[1;32m---> 41\u001b[0m \u001b[38;5;28mprint\u001b[39m(get_clf_eval(y_test, \u001b[43mxgb_pred\u001b[49m))\n\u001b[0;32m     42\u001b[0m \u001b[38;5;28mprint\u001b[39m(\u001b[38;5;124m\"\u001b[39m\u001b[38;5;124mxgb 최적의 모델\u001b[39m\u001b[38;5;124m\"\u001b[39m)\n\u001b[0;32m     43\u001b[0m \u001b[38;5;28mprint\u001b[39m(get_clf_eval(y_test, xgb_best_pred))\n",
      "\u001b[1;31mNameError\u001b[0m: name 'xgb_pred' is not defined"
     ]
    }
   ],
   "source": [
    "\n",
    "from sklearn.model_selection import train_test_split\n",
    "from sklearn.metrics import confusion_matrix, accuracy_score, precision_score, recall_score\n",
    "from sklearn.metrics import confusion_matrix, f1_score, roc_auc_score, average_precision_score\n",
    "\n",
    "\n",
    "import warnings\n",
    "\n",
    "def get_clf_eval(y_test, pred):\n",
    "    confusion = confusion_matrix(y_test, pred)\n",
    "    accuracy = accuracy_score(y_test, pred)\n",
    "    precision = precision_score(y_test, pred)\n",
    "    recall = recall_score(y_test, pred)\n",
    "    roc_score = roc_auc_score(y_test, pred)\n",
    "    pr_score = average_precision_score(y_test, pred)\n",
    "    f1 = f1_score(y_test, pred)\n",
    "    \n",
    "    print('오차행렬')\n",
    "    print(confusion)\n",
    "    print('정확도: {0:.4f}, 정밀도 : {1:.4f}, 재현율:{2:.4f},F1 스코어:{3:.4f}'.format(accuracy, precision, recall, f1, roc_score))\n",
    "    print('ROC 스코어: {0:.4f}, PR score : {1:.4f}'.format(roc_score, pr_score))\n",
    "    \n",
    "print(\"lda\") \n",
    "print(get_clf_eval(y_test, lda_pred))\n",
    "print(\"디시전트리\") \n",
    "print(get_clf_eval(y_test, dt_pred))\n",
    "print(\"디시전트리 최적의 모델\") \n",
    "print(get_clf_eval(y_test, dt_best_pred))\n",
    "print(\"랜덤포레스트\") \n",
    "print(get_clf_eval(y_test, rf_pred))\n",
    "print(\"랜덤포레스트 최적의 모델\") \n",
    "print(get_clf_eval(y_test, rf_best_pred))\n",
    "print(\"로지스틱\") \n",
    "print(get_clf_eval(y_test, lr_pred))\n",
    "print(\"로지스틱회귀 최적의 모델\")\n",
    "print(get_clf_eval(y_test, lr_best_pred))\n",
    "print(\"Knn\")\n",
    "print(get_clf_eval(y_test, knn_pred))\n",
    "print(\"Knn 최적의 모델\")\n",
    "print(get_clf_eval(y_test, knn_best_pred))\n",
    "print(\"xgb\")\n",
    "print(get_clf_eval(y_test, xgb_pred))\n",
    "print(\"xgb 최적의 모델\")\n",
    "print(get_clf_eval(y_test, xgb_best_pred))\n",
    "print(\"다중 퍼셉트론\")\n",
    "print(get_clf_eval(y_test, pc_pred))\n",
    "print(\"다중 퍼셉트론 최적의 모델\")\n",
    "print(get_clf_eval(y_test, pc_best_pred))\n",
    "\n"
   ]
  },
  {
   "cell_type": "code",
   "execution_count": 36,
   "metadata": {},
   "outputs": [
    {
     "name": "stdout",
     "output_type": "stream",
     "text": [
      "임곗값: 0.1\n",
      "오차행렬\n",
      "[[2353  184]\n",
      " [  16   14]]\n",
      "정확도: 0.9221, 정밀도 : 0.0707, 재현율:0.4667,F1 스코어:0.1228\n",
      "ROC 스코어: 0.6971, PR score : 0.0392\n",
      "임곗값: 0.2\n",
      "오차행렬\n",
      "[[2376  161]\n",
      " [  17   13]]\n",
      "정확도: 0.9307, 정밀도 : 0.0747, 재현율:0.4333,F1 스코어:0.1275\n",
      "ROC 스코어: 0.6849, PR score : 0.0390\n",
      "임곗값: 0.3\n",
      "오차행렬\n",
      "[[2389  148]\n",
      " [  18   12]]\n",
      "정확도: 0.9353, 정밀도 : 0.0750, 재현율:0.4000,F1 스코어:0.1263\n",
      "ROC 스코어: 0.6708, PR score : 0.0370\n",
      "임곗값: 0.4\n",
      "오차행렬\n",
      "[[2398  139]\n",
      " [  21    9]]\n",
      "정확도: 0.9377, 정밀도 : 0.0608, 재현율:0.3000,F1 스코어:0.1011\n",
      "ROC 스코어: 0.6226, PR score : 0.0264\n",
      "임곗값: 0.5\n",
      "오차행렬\n",
      "[[2408  129]\n",
      " [  21    9]]\n",
      "정확도: 0.9416, 정밀도 : 0.0652, 재현율:0.3000,F1 스코어:0.1071\n",
      "ROC 스코어: 0.6246, PR score : 0.0277\n",
      "임곗값: 0.6\n",
      "오차행렬\n",
      "[[2420  117]\n",
      " [  21    9]]\n",
      "정확도: 0.9462, 정밀도 : 0.0714, 재현율:0.3000,F1 스코어:0.1154\n",
      "ROC 스코어: 0.6269, PR score : 0.0296\n",
      "임곗값: 0.7\n",
      "오차행렬\n",
      "[[2428  109]\n",
      " [  21    9]]\n",
      "정확도: 0.9494, 정밀도 : 0.0763, 재현율:0.3000,F1 스코어:0.1216\n",
      "ROC 스코어: 0.6285, PR score : 0.0311\n",
      "임곗값: 0.8\n",
      "오차행렬\n",
      "[[2433  104]\n",
      " [  21    9]]\n",
      "정확도: 0.9513, 정밀도 : 0.0796, 재현율:0.3000,F1 스코어:0.1259\n",
      "ROC 스코어: 0.6295, PR score : 0.0321\n",
      "임곗값: 0.9\n",
      "오차행렬\n",
      "[[2450   87]\n",
      " [  23    7]]\n",
      "정확도: 0.9571, 정밀도 : 0.0745, 재현율:0.2333,F1 스코어:0.1129\n",
      "ROC 스코어: 0.5995, PR score : 0.0263\n"
     ]
    }
   ],
   "source": [
    "# 임계값에 따른 오차행렬및 스코어 \n",
    "from sklearn.preprocessing import Binarizer\n",
    "thresholds = [0.1,0.2,0.3,0.4,0.5,0.6,0.7,0.8,0.9]\n",
    "# thresholds = [0.6,0.65,0.7,0.75,0.8,0.85,0.9]\n",
    "\n",
    "def get_eval_by_threshold(y_test, pred_proba_c1, thresholds):\n",
    "    for custom_threshold in thresholds:\n",
    "        binarizer = Binarizer(threshold=custom_threshold).fit(pred_proba_c1)\n",
    "        custom_predict = binarizer.transform(pred_proba_c1)\n",
    "        print(\"임곗값:\", custom_threshold)\n",
    "        get_clf_eval(y_test, custom_predict)\n",
    "# lda 임계값 행렬 F1 스코어가 제일 좋은 임계값 0.7  재현율은 0.1\n",
    "get_eval_by_threshold(y_test , lda_pred_proba[:,1].reshape(-1,1), thresholds)\n",
    "# get_eval_by_threshold(y_test , lda_pred[:,1].reshape(-1,1), thresholds)\n"
   ]
  },
  {
   "cell_type": "code",
   "execution_count": 37,
   "metadata": {},
   "outputs": [
    {
     "name": "stdout",
     "output_type": "stream",
     "text": [
      "임곗값: 0.1\n",
      "오차행렬\n",
      "[[2488   49]\n",
      " [  24    6]]\n",
      "정확도: 0.9716, 정밀도 : 0.1091, 재현율:0.2000,F1 스코어:0.1412\n",
      "ROC 스코어: 0.5903, PR score : 0.0312\n",
      "임곗값: 0.2\n",
      "오차행렬\n",
      "[[2488   49]\n",
      " [  24    6]]\n",
      "정확도: 0.9716, 정밀도 : 0.1091, 재현율:0.2000,F1 스코어:0.1412\n",
      "ROC 스코어: 0.5903, PR score : 0.0312\n",
      "임곗값: 0.3\n",
      "오차행렬\n",
      "[[2488   49]\n",
      " [  24    6]]\n",
      "정확도: 0.9716, 정밀도 : 0.1091, 재현율:0.2000,F1 스코어:0.1412\n",
      "ROC 스코어: 0.5903, PR score : 0.0312\n",
      "임곗값: 0.4\n",
      "오차행렬\n",
      "[[2488   49]\n",
      " [  24    6]]\n",
      "정확도: 0.9716, 정밀도 : 0.1091, 재현율:0.2000,F1 스코어:0.1412\n",
      "ROC 스코어: 0.5903, PR score : 0.0312\n",
      "임곗값: 0.5\n",
      "오차행렬\n",
      "[[2488   49]\n",
      " [  24    6]]\n",
      "정확도: 0.9716, 정밀도 : 0.1091, 재현율:0.2000,F1 스코어:0.1412\n",
      "ROC 스코어: 0.5903, PR score : 0.0312\n",
      "임곗값: 0.6\n",
      "오차행렬\n",
      "[[2488   49]\n",
      " [  24    6]]\n",
      "정확도: 0.9716, 정밀도 : 0.1091, 재현율:0.2000,F1 스코어:0.1412\n",
      "ROC 스코어: 0.5903, PR score : 0.0312\n",
      "임곗값: 0.7\n",
      "오차행렬\n",
      "[[2488   49]\n",
      " [  24    6]]\n",
      "정확도: 0.9716, 정밀도 : 0.1091, 재현율:0.2000,F1 스코어:0.1412\n",
      "ROC 스코어: 0.5903, PR score : 0.0312\n",
      "임곗값: 0.8\n",
      "오차행렬\n",
      "[[2488   49]\n",
      " [  24    6]]\n",
      "정확도: 0.9716, 정밀도 : 0.1091, 재현율:0.2000,F1 스코어:0.1412\n",
      "ROC 스코어: 0.5903, PR score : 0.0312\n",
      "임곗값: 0.9\n",
      "오차행렬\n",
      "[[2488   49]\n",
      " [  24    6]]\n",
      "정확도: 0.9716, 정밀도 : 0.1091, 재현율:0.2000,F1 스코어:0.1412\n",
      "ROC 스코어: 0.5903, PR score : 0.0312\n"
     ]
    }
   ],
   "source": [
    "#디시전 트리\n",
    "# 성능값 일정\n",
    "get_eval_by_threshold(y_test , dt_pred_proba[:,1].reshape(-1,1), thresholds)"
   ]
  },
  {
   "cell_type": "code",
   "execution_count": 38,
   "metadata": {},
   "outputs": [
    {
     "name": "stdout",
     "output_type": "stream",
     "text": [
      "임곗값: 0.1\n",
      "오차행렬\n",
      "[[2447   90]\n",
      " [  18   12]]\n",
      "정확도: 0.9579, 정밀도 : 0.1176, 재현율:0.4000,F1 스코어:0.1818\n",
      "ROC 스코어: 0.6823, PR score : 0.0541\n",
      "임곗값: 0.2\n",
      "오차행렬\n",
      "[[2483   54]\n",
      " [  18   12]]\n",
      "정확도: 0.9720, 정밀도 : 0.1818, 재현율:0.4000,F1 스코어:0.2500\n",
      "ROC 스코어: 0.6894, PR score : 0.0797\n",
      "임곗값: 0.3\n",
      "오차행렬\n",
      "[[2515   22]\n",
      " [  25    5]]\n",
      "정확도: 0.9817, 정밀도 : 0.1852, 재현율:0.1667,F1 스코어:0.1754\n",
      "ROC 스코어: 0.5790, PR score : 0.0406\n",
      "임곗값: 0.4\n",
      "오차행렬\n",
      "[[2537    0]\n",
      " [  30    0]]\n",
      "정확도: 0.9883, 정밀도 : 0.0000, 재현율:0.0000,F1 스코어:0.0000\n",
      "ROC 스코어: 0.5000, PR score : 0.0117\n",
      "임곗값: 0.5\n",
      "오차행렬\n",
      "[[2537    0]\n",
      " [  30    0]]\n",
      "정확도: 0.9883, 정밀도 : 0.0000, 재현율:0.0000,F1 스코어:0.0000\n",
      "ROC 스코어: 0.5000, PR score : 0.0117\n",
      "임곗값: 0.6\n",
      "오차행렬\n",
      "[[2537    0]\n",
      " [  30    0]]\n",
      "정확도: 0.9883, 정밀도 : 0.0000, 재현율:0.0000,F1 스코어:0.0000\n",
      "ROC 스코어: 0.5000, PR score : 0.0117\n",
      "임곗값: 0.7\n",
      "오차행렬\n",
      "[[2537    0]\n",
      " [  30    0]]\n",
      "정확도: 0.9883, 정밀도 : 0.0000, 재현율:0.0000,F1 스코어:0.0000\n",
      "ROC 스코어: 0.5000, PR score : 0.0117\n",
      "임곗값: 0.8\n",
      "오차행렬\n",
      "[[2537    0]\n",
      " [  30    0]]\n",
      "정확도: 0.9883, 정밀도 : 0.0000, 재현율:0.0000,F1 스코어:0.0000\n",
      "ROC 스코어: 0.5000, PR score : 0.0117\n",
      "임곗값: 0.9\n",
      "오차행렬\n",
      "[[2537    0]\n",
      " [  30    0]]\n",
      "정확도: 0.9883, 정밀도 : 0.0000, 재현율:0.0000,F1 스코어:0.0000\n",
      "ROC 스코어: 0.5000, PR score : 0.0117\n"
     ]
    },
    {
     "name": "stderr",
     "output_type": "stream",
     "text": [
      "c:\\Users\\82104\\AppData\\Local\\Programs\\Python\\Python39-32\\lib\\site-packages\\sklearn\\metrics\\_classification.py:1334: UndefinedMetricWarning: Precision is ill-defined and being set to 0.0 due to no predicted samples. Use `zero_division` parameter to control this behavior.\n",
      "  _warn_prf(average, modifier, msg_start, len(result))\n",
      "c:\\Users\\82104\\AppData\\Local\\Programs\\Python\\Python39-32\\lib\\site-packages\\sklearn\\metrics\\_classification.py:1334: UndefinedMetricWarning: Precision is ill-defined and being set to 0.0 due to no predicted samples. Use `zero_division` parameter to control this behavior.\n",
      "  _warn_prf(average, modifier, msg_start, len(result))\n",
      "c:\\Users\\82104\\AppData\\Local\\Programs\\Python\\Python39-32\\lib\\site-packages\\sklearn\\metrics\\_classification.py:1334: UndefinedMetricWarning: Precision is ill-defined and being set to 0.0 due to no predicted samples. Use `zero_division` parameter to control this behavior.\n",
      "  _warn_prf(average, modifier, msg_start, len(result))\n",
      "c:\\Users\\82104\\AppData\\Local\\Programs\\Python\\Python39-32\\lib\\site-packages\\sklearn\\metrics\\_classification.py:1334: UndefinedMetricWarning: Precision is ill-defined and being set to 0.0 due to no predicted samples. Use `zero_division` parameter to control this behavior.\n",
      "  _warn_prf(average, modifier, msg_start, len(result))\n",
      "c:\\Users\\82104\\AppData\\Local\\Programs\\Python\\Python39-32\\lib\\site-packages\\sklearn\\metrics\\_classification.py:1334: UndefinedMetricWarning: Precision is ill-defined and being set to 0.0 due to no predicted samples. Use `zero_division` parameter to control this behavior.\n",
      "  _warn_prf(average, modifier, msg_start, len(result))\n",
      "c:\\Users\\82104\\AppData\\Local\\Programs\\Python\\Python39-32\\lib\\site-packages\\sklearn\\metrics\\_classification.py:1334: UndefinedMetricWarning: Precision is ill-defined and being set to 0.0 due to no predicted samples. Use `zero_division` parameter to control this behavior.\n",
      "  _warn_prf(average, modifier, msg_start, len(result))\n"
     ]
    }
   ],
   "source": [
    "# 디시전트리 최적\n",
    "# 임계값 0.3 때 F1 스코어가 가장 좋음 재현율은 0.1\n",
    "get_eval_by_threshold(y_test , dt_best_pred_proba[:,1].reshape(-1,1), thresholds)"
   ]
  },
  {
   "cell_type": "code",
   "execution_count": 39,
   "metadata": {},
   "outputs": [
    {
     "name": "stdout",
     "output_type": "stream",
     "text": [
      "임곗값: 0.1\n",
      "오차행렬\n",
      "[[2444   93]\n",
      " [  19   11]]\n",
      "정확도: 0.9564, 정밀도 : 0.1058, 재현율:0.3667,F1 스코어:0.1642\n",
      "ROC 스코어: 0.6650, PR score : 0.0462\n",
      "임곗값: 0.2\n",
      "오차행렬\n",
      "[[2498   39]\n",
      " [  23    7]]\n",
      "정확도: 0.9758, 정밀도 : 0.1522, 재현율:0.2333,F1 스코어:0.1842\n",
      "ROC 스코어: 0.6090, PR score : 0.0445\n",
      "임곗값: 0.3\n",
      "오차행렬\n",
      "[[2515   22]\n",
      " [  27    3]]\n",
      "정확도: 0.9809, 정밀도 : 0.1200, 재현율:0.1000,F1 스코어:0.1091\n",
      "ROC 스코어: 0.5457, PR score : 0.0225\n",
      "임곗값: 0.4\n",
      "오차행렬\n",
      "[[2523   14]\n",
      " [  29    1]]\n",
      "정확도: 0.9832, 정밀도 : 0.0667, 재현율:0.0333,F1 스코어:0.0444\n",
      "ROC 스코어: 0.5139, PR score : 0.0135\n",
      "임곗값: 0.5\n",
      "오차행렬\n",
      "[[2529    8]\n",
      " [  29    1]]\n",
      "정확도: 0.9856, 정밀도 : 0.1111, 재현율:0.0333,F1 스코어:0.0513\n",
      "ROC 스코어: 0.5151, PR score : 0.0150\n",
      "임곗값: 0.6\n",
      "오차행렬\n",
      "[[2532    5]\n",
      " [  29    1]]\n",
      "정확도: 0.9868, 정밀도 : 0.1667, 재현율:0.0333,F1 스코어:0.0556\n",
      "ROC 스코어: 0.5157, PR score : 0.0169\n",
      "임곗값: 0.7\n",
      "오차행렬\n",
      "[[2536    1]\n",
      " [  29    1]]\n",
      "정확도: 0.9883, 정밀도 : 0.5000, 재현율:0.0333,F1 스코어:0.0625\n",
      "ROC 스코어: 0.5165, PR score : 0.0280\n",
      "임곗값: 0.8\n",
      "오차행렬\n",
      "[[2537    0]\n",
      " [  30    0]]\n",
      "정확도: 0.9883, 정밀도 : 0.0000, 재현율:0.0000,F1 스코어:0.0000\n",
      "ROC 스코어: 0.5000, PR score : 0.0117\n",
      "임곗값: 0.9\n",
      "오차행렬\n",
      "[[2537    0]\n",
      " [  30    0]]\n",
      "정확도: 0.9883, 정밀도 : 0.0000, 재현율:0.0000,F1 스코어:0.0000\n",
      "ROC 스코어: 0.5000, PR score : 0.0117\n"
     ]
    },
    {
     "name": "stderr",
     "output_type": "stream",
     "text": [
      "c:\\Users\\82104\\AppData\\Local\\Programs\\Python\\Python39-32\\lib\\site-packages\\sklearn\\metrics\\_classification.py:1334: UndefinedMetricWarning: Precision is ill-defined and being set to 0.0 due to no predicted samples. Use `zero_division` parameter to control this behavior.\n",
      "  _warn_prf(average, modifier, msg_start, len(result))\n",
      "c:\\Users\\82104\\AppData\\Local\\Programs\\Python\\Python39-32\\lib\\site-packages\\sklearn\\metrics\\_classification.py:1334: UndefinedMetricWarning: Precision is ill-defined and being set to 0.0 due to no predicted samples. Use `zero_division` parameter to control this behavior.\n",
      "  _warn_prf(average, modifier, msg_start, len(result))\n"
     ]
    }
   ],
   "source": [
    "#로지스틱 회귀\n",
    "#0.1 때 F1 스코어가 제일 좋음\n",
    "get_eval_by_threshold(y_test , lr_pred_proba[:,1].reshape(-1,1), thresholds)"
   ]
  },
  {
   "cell_type": "code",
   "execution_count": 40,
   "metadata": {},
   "outputs": [
    {
     "name": "stdout",
     "output_type": "stream",
     "text": [
      "임곗값: 0.1\n",
      "오차행렬\n",
      "[[2447   90]\n",
      " [  19   11]]\n",
      "정확도: 0.9575, 정밀도 : 0.1089, 재현율:0.3667,F1 스코어:0.1679\n",
      "ROC 스코어: 0.6656, PR score : 0.0473\n",
      "임곗값: 0.2\n",
      "오차행렬\n",
      "[[2498   39]\n",
      " [  24    6]]\n",
      "정확도: 0.9755, 정밀도 : 0.1333, 재현율:0.2000,F1 스코어:0.1600\n",
      "ROC 스코어: 0.5923, PR score : 0.0360\n",
      "임곗값: 0.3\n",
      "오차행렬\n",
      "[[2516   21]\n",
      " [  27    3]]\n",
      "정확도: 0.9813, 정밀도 : 0.1250, 재현율:0.1000,F1 스코어:0.1111\n",
      "ROC 스코어: 0.5459, PR score : 0.0230\n",
      "임곗값: 0.4\n",
      "오차행렬\n",
      "[[2523   14]\n",
      " [  29    1]]\n",
      "정확도: 0.9832, 정밀도 : 0.0667, 재현율:0.0333,F1 스코어:0.0444\n",
      "ROC 스코어: 0.5139, PR score : 0.0135\n",
      "임곗값: 0.5\n",
      "오차행렬\n",
      "[[2529    8]\n",
      " [  29    1]]\n",
      "정확도: 0.9856, 정밀도 : 0.1111, 재현율:0.0333,F1 스코어:0.0513\n",
      "ROC 스코어: 0.5151, PR score : 0.0150\n",
      "임곗값: 0.6\n",
      "오차행렬\n",
      "[[2532    5]\n",
      " [  29    1]]\n",
      "정확도: 0.9868, 정밀도 : 0.1667, 재현율:0.0333,F1 스코어:0.0556\n",
      "ROC 스코어: 0.5157, PR score : 0.0169\n",
      "임곗값: 0.7\n",
      "오차행렬\n",
      "[[2536    1]\n",
      " [  29    1]]\n",
      "정확도: 0.9883, 정밀도 : 0.5000, 재현율:0.0333,F1 스코어:0.0625\n",
      "ROC 스코어: 0.5165, PR score : 0.0280\n",
      "임곗값: 0.8\n",
      "오차행렬\n",
      "[[2537    0]\n",
      " [  30    0]]\n",
      "정확도: 0.9883, 정밀도 : 0.0000, 재현율:0.0000,F1 스코어:0.0000\n",
      "ROC 스코어: 0.5000, PR score : 0.0117\n",
      "임곗값: 0.9\n",
      "오차행렬\n",
      "[[2537    0]\n",
      " [  30    0]]\n",
      "정확도: 0.9883, 정밀도 : 0.0000, 재현율:0.0000,F1 스코어:0.0000\n",
      "ROC 스코어: 0.5000, PR score : 0.0117\n"
     ]
    },
    {
     "name": "stderr",
     "output_type": "stream",
     "text": [
      "c:\\Users\\82104\\AppData\\Local\\Programs\\Python\\Python39-32\\lib\\site-packages\\sklearn\\metrics\\_classification.py:1334: UndefinedMetricWarning: Precision is ill-defined and being set to 0.0 due to no predicted samples. Use `zero_division` parameter to control this behavior.\n",
      "  _warn_prf(average, modifier, msg_start, len(result))\n",
      "c:\\Users\\82104\\AppData\\Local\\Programs\\Python\\Python39-32\\lib\\site-packages\\sklearn\\metrics\\_classification.py:1334: UndefinedMetricWarning: Precision is ill-defined and being set to 0.0 due to no predicted samples. Use `zero_division` parameter to control this behavior.\n",
      "  _warn_prf(average, modifier, msg_start, len(result))\n"
     ]
    }
   ],
   "source": [
    "# 로지 회귀 최적 파라미터\n",
    "# 임계값 0.1일때 F1 스코어 최대\n",
    "get_eval_by_threshold(y_test , lr_best_pred_proba[:,1].reshape(-1,1), thresholds)"
   ]
  },
  {
   "cell_type": "code",
   "execution_count": 41,
   "metadata": {},
   "outputs": [
    {
     "name": "stdout",
     "output_type": "stream",
     "text": [
      "임곗값: 0.1\n",
      "오차행렬\n",
      "[[2415  122]\n",
      " [  15   15]]\n",
      "정확도: 0.9466, 정밀도 : 0.1095, 재현율:0.5000,F1 스코어:0.1796\n",
      "ROC 스코어: 0.7260, PR score : 0.0606\n",
      "임곗값: 0.2\n",
      "오차행렬\n",
      "[[2503   34]\n",
      " [  20   10]]\n",
      "정확도: 0.9790, 정밀도 : 0.2273, 재현율:0.3333,F1 스코어:0.2703\n",
      "ROC 스코어: 0.6600, PR score : 0.0835\n",
      "임곗값: 0.3\n",
      "오차행렬\n",
      "[[2520   17]\n",
      " [  20   10]]\n",
      "정확도: 0.9856, 정밀도 : 0.3704, 재현율:0.3333,F1 스코어:0.3509\n",
      "ROC 스코어: 0.6633, PR score : 0.1312\n",
      "임곗값: 0.4\n",
      "오차행렬\n",
      "[[2524   13]\n",
      " [  25    5]]\n",
      "정확도: 0.9852, 정밀도 : 0.2778, 재현율:0.1667,F1 스코어:0.2083\n",
      "ROC 스코어: 0.5808, PR score : 0.0560\n",
      "임곗값: 0.5\n",
      "오차행렬\n",
      "[[2531    6]\n",
      " [  25    5]]\n",
      "정확도: 0.9879, 정밀도 : 0.4545, 재현율:0.1667,F1 스코어:0.2439\n",
      "ROC 스코어: 0.5822, PR score : 0.0855\n",
      "임곗값: 0.6\n",
      "오차행렬\n",
      "[[2535    2]\n",
      " [  27    3]]\n",
      "정확도: 0.9887, 정밀도 : 0.6000, 재현율:0.1000,F1 스코어:0.1714\n",
      "ROC 스코어: 0.5496, PR score : 0.0705\n",
      "임곗값: 0.7\n",
      "오차행렬\n",
      "[[2536    1]\n",
      " [  27    3]]\n",
      "정확도: 0.9891, 정밀도 : 0.7500, 재현율:0.1000,F1 스코어:0.1765\n",
      "ROC 스코어: 0.5498, PR score : 0.0855\n",
      "임곗값: 0.8\n",
      "오차행렬\n",
      "[[2537    0]\n",
      " [  30    0]]\n",
      "정확도: 0.9883, 정밀도 : 0.0000, 재현율:0.0000,F1 스코어:0.0000\n",
      "ROC 스코어: 0.5000, PR score : 0.0117\n",
      "임곗값: 0.9\n",
      "오차행렬\n",
      "[[2537    0]\n",
      " [  30    0]]\n",
      "정확도: 0.9883, 정밀도 : 0.0000, 재현율:0.0000,F1 스코어:0.0000\n",
      "ROC 스코어: 0.5000, PR score : 0.0117\n"
     ]
    },
    {
     "name": "stderr",
     "output_type": "stream",
     "text": [
      "c:\\Users\\82104\\AppData\\Local\\Programs\\Python\\Python39-32\\lib\\site-packages\\sklearn\\metrics\\_classification.py:1334: UndefinedMetricWarning: Precision is ill-defined and being set to 0.0 due to no predicted samples. Use `zero_division` parameter to control this behavior.\n",
      "  _warn_prf(average, modifier, msg_start, len(result))\n",
      "c:\\Users\\82104\\AppData\\Local\\Programs\\Python\\Python39-32\\lib\\site-packages\\sklearn\\metrics\\_classification.py:1334: UndefinedMetricWarning: Precision is ill-defined and being set to 0.0 due to no predicted samples. Use `zero_division` parameter to control this behavior.\n",
      "  _warn_prf(average, modifier, msg_start, len(result))\n"
     ]
    }
   ],
   "source": [
    "#랜덤 포레스트\n",
    "# 임계값 0.4일 때 F1스코어 최대\n",
    "get_eval_by_threshold(y_test , rf_pred_proba[:,1].reshape(-1,1), thresholds)\n"
   ]
  },
  {
   "cell_type": "code",
   "execution_count": 42,
   "metadata": {},
   "outputs": [
    {
     "name": "stdout",
     "output_type": "stream",
     "text": [
      "임곗값: 0.1\n",
      "오차행렬\n",
      "[[2446   91]\n",
      " [  16   14]]\n",
      "정확도: 0.9583, 정밀도 : 0.1333, 재현율:0.4667,F1 스코어:0.2074\n",
      "ROC 스코어: 0.7154, PR score : 0.0685\n",
      "임곗값: 0.2\n",
      "오차행렬\n",
      "[[2509   28]\n",
      " [  23    7]]\n",
      "정확도: 0.9801, 정밀도 : 0.2000, 재현율:0.2333,F1 스코어:0.2154\n",
      "ROC 스코어: 0.6111, PR score : 0.0556\n",
      "임곗값: 0.3\n",
      "오차행렬\n",
      "[[2523   14]\n",
      " [  23    7]]\n",
      "정확도: 0.9856, 정밀도 : 0.3333, 재현율:0.2333,F1 스코어:0.2745\n",
      "ROC 스코어: 0.6139, PR score : 0.0867\n",
      "임곗값: 0.4\n",
      "오차행렬\n",
      "[[2532    5]\n",
      " [  25    5]]\n",
      "정확도: 0.9883, 정밀도 : 0.5000, 재현율:0.1667,F1 스코어:0.2500\n",
      "ROC 스코어: 0.5823, PR score : 0.0931\n",
      "임곗값: 0.5\n",
      "오차행렬\n",
      "[[2534    3]\n",
      " [  25    5]]\n",
      "정확도: 0.9891, 정밀도 : 0.6250, 재현율:0.1667,F1 스코어:0.2632\n",
      "ROC 스코어: 0.5827, PR score : 0.1139\n",
      "임곗값: 0.6\n",
      "오차행렬\n",
      "[[2536    1]\n",
      " [  27    3]]\n",
      "정확도: 0.9891, 정밀도 : 0.7500, 재현율:0.1000,F1 스코어:0.1765\n",
      "ROC 스코어: 0.5498, PR score : 0.0855\n",
      "임곗값: 0.7\n",
      "오차행렬\n",
      "[[2537    0]\n",
      " [  30    0]]\n",
      "정확도: 0.9883, 정밀도 : 0.0000, 재현율:0.0000,F1 스코어:0.0000\n",
      "ROC 스코어: 0.5000, PR score : 0.0117\n",
      "임곗값: 0.8\n",
      "오차행렬\n",
      "[[2537    0]\n",
      " [  30    0]]\n",
      "정확도: 0.9883, 정밀도 : 0.0000, 재현율:0.0000,F1 스코어:0.0000\n",
      "ROC 스코어: 0.5000, PR score : 0.0117\n",
      "임곗값: 0.9\n",
      "오차행렬\n",
      "[[2537    0]\n",
      " [  30    0]]\n",
      "정확도: 0.9883, 정밀도 : 0.0000, 재현율:0.0000,F1 스코어:0.0000\n",
      "ROC 스코어: 0.5000, PR score : 0.0117\n"
     ]
    },
    {
     "name": "stderr",
     "output_type": "stream",
     "text": [
      "c:\\Users\\82104\\AppData\\Local\\Programs\\Python\\Python39-32\\lib\\site-packages\\sklearn\\metrics\\_classification.py:1334: UndefinedMetricWarning: Precision is ill-defined and being set to 0.0 due to no predicted samples. Use `zero_division` parameter to control this behavior.\n",
      "  _warn_prf(average, modifier, msg_start, len(result))\n",
      "c:\\Users\\82104\\AppData\\Local\\Programs\\Python\\Python39-32\\lib\\site-packages\\sklearn\\metrics\\_classification.py:1334: UndefinedMetricWarning: Precision is ill-defined and being set to 0.0 due to no predicted samples. Use `zero_division` parameter to control this behavior.\n",
      "  _warn_prf(average, modifier, msg_start, len(result))\n",
      "c:\\Users\\82104\\AppData\\Local\\Programs\\Python\\Python39-32\\lib\\site-packages\\sklearn\\metrics\\_classification.py:1334: UndefinedMetricWarning: Precision is ill-defined and being set to 0.0 due to no predicted samples. Use `zero_division` parameter to control this behavior.\n",
      "  _warn_prf(average, modifier, msg_start, len(result))\n"
     ]
    }
   ],
   "source": [
    "#랜덤 포레스트 최적 파라미터 \n",
    "#임계값 0.4일 때 최대\n",
    "get_eval_by_threshold(y_test , rf_best_pred_proba[:,1].reshape(-1,1), thresholds)"
   ]
  },
  {
   "cell_type": "code",
   "execution_count": 43,
   "metadata": {},
   "outputs": [
    {
     "name": "stdout",
     "output_type": "stream",
     "text": [
      "임곗값: 0.1\n",
      "오차행렬\n",
      "[[1499 1038]\n",
      " [   4   26]]\n",
      "정확도: 0.5941, 정밀도 : 0.0244, 재현율:0.8667,F1 스코어:0.0475\n",
      "ROC 스코어: 0.7288, PR score : 0.0227\n",
      "임곗값: 0.2\n",
      "오차행렬\n",
      "[[1948  589]\n",
      " [  10   20]]\n",
      "정확도: 0.7667, 정밀도 : 0.0328, 재현율:0.6667,F1 스코어:0.0626\n",
      "ROC 스코어: 0.7173, PR score : 0.0258\n",
      "임곗값: 0.3\n",
      "오차행렬\n",
      "[[1948  589]\n",
      " [  10   20]]\n",
      "정확도: 0.7667, 정밀도 : 0.0328, 재현율:0.6667,F1 스코어:0.0626\n",
      "ROC 스코어: 0.7173, PR score : 0.0258\n",
      "임곗값: 0.4\n",
      "오차행렬\n",
      "[[2092  445]\n",
      " [  16   14]]\n",
      "정확도: 0.8204, 정밀도 : 0.0305, 재현율:0.4667,F1 스코어:0.0573\n",
      "ROC 스코어: 0.6456, PR score : 0.0205\n",
      "임곗값: 0.5\n",
      "오차행렬\n",
      "[[2092  445]\n",
      " [  16   14]]\n",
      "정확도: 0.8204, 정밀도 : 0.0305, 재현율:0.4667,F1 스코어:0.0573\n",
      "ROC 스코어: 0.6456, PR score : 0.0205\n",
      "임곗값: 0.6\n",
      "오차행렬\n",
      "[[2326  211]\n",
      " [  21    9]]\n",
      "정확도: 0.9096, 정밀도 : 0.0409, 재현율:0.3000,F1 스코어:0.0720\n",
      "ROC 스코어: 0.6084, PR score : 0.0205\n",
      "임곗값: 0.7\n",
      "오차행렬\n",
      "[[2326  211]\n",
      " [  21    9]]\n",
      "정확도: 0.9096, 정밀도 : 0.0409, 재현율:0.3000,F1 스코어:0.0720\n",
      "ROC 스코어: 0.6084, PR score : 0.0205\n",
      "임곗값: 0.8\n",
      "오차행렬\n",
      "[[2512   25]\n",
      " [  29    1]]\n",
      "정확도: 0.9790, 정밀도 : 0.0385, 재현율:0.0333,F1 스코어:0.0357\n",
      "ROC 스코어: 0.5117, PR score : 0.0126\n",
      "임곗값: 0.9\n",
      "오차행렬\n",
      "[[2512   25]\n",
      " [  29    1]]\n",
      "정확도: 0.9790, 정밀도 : 0.0385, 재현율:0.0333,F1 스코어:0.0357\n",
      "ROC 스코어: 0.5117, PR score : 0.0126\n"
     ]
    }
   ],
   "source": [
    "#knn \n",
    "#임계값 0.1일때 최대\n",
    "get_eval_by_threshold(y_test , knn_pred_proba[:,1].reshape(-1,1), thresholds)"
   ]
  },
  {
   "cell_type": "code",
   "execution_count": 44,
   "metadata": {},
   "outputs": [
    {
     "name": "stdout",
     "output_type": "stream",
     "text": [
      "임곗값: 0.1\n",
      "오차행렬\n",
      "[[1850  687]\n",
      " [  10   20]]\n",
      "정확도: 0.7285, 정밀도 : 0.0283, 재현율:0.6667,F1 스코어:0.0543\n",
      "ROC 스코어: 0.6979, PR score : 0.0228\n",
      "임곗값: 0.2\n",
      "오차행렬\n",
      "[[1850  687]\n",
      " [  10   20]]\n",
      "정확도: 0.7285, 정밀도 : 0.0283, 재현율:0.6667,F1 스코어:0.0543\n",
      "ROC 스코어: 0.6979, PR score : 0.0228\n",
      "임곗값: 0.3\n",
      "오차행렬\n",
      "[[1850  687]\n",
      " [  10   20]]\n",
      "정확도: 0.7285, 정밀도 : 0.0283, 재현율:0.6667,F1 스코어:0.0543\n",
      "ROC 스코어: 0.6979, PR score : 0.0228\n",
      "임곗값: 0.4\n",
      "오차행렬\n",
      "[[2093  444]\n",
      " [  16   14]]\n",
      "정확도: 0.8208, 정밀도 : 0.0306, 재현율:0.4667,F1 스코어:0.0574\n",
      "ROC 스코어: 0.6458, PR score : 0.0205\n",
      "임곗값: 0.5\n",
      "오차행렬\n",
      "[[2093  444]\n",
      " [  16   14]]\n",
      "정확도: 0.8208, 정밀도 : 0.0306, 재현율:0.4667,F1 스코어:0.0574\n",
      "ROC 스코어: 0.6458, PR score : 0.0205\n",
      "임곗값: 0.6\n",
      "오차행렬\n",
      "[[2093  444]\n",
      " [  16   14]]\n",
      "정확도: 0.8208, 정밀도 : 0.0306, 재현율:0.4667,F1 스코어:0.0574\n",
      "ROC 스코어: 0.6458, PR score : 0.0205\n",
      "임곗값: 0.7\n",
      "오차행렬\n",
      "[[2180  357]\n",
      " [  16   14]]\n",
      "정확도: 0.8547, 정밀도 : 0.0377, 재현율:0.4667,F1 스코어:0.0698\n",
      "ROC 스코어: 0.6630, PR score : 0.0238\n",
      "임곗값: 0.8\n",
      "오차행렬\n",
      "[[2180  357]\n",
      " [  16   14]]\n",
      "정확도: 0.8547, 정밀도 : 0.0377, 재현율:0.4667,F1 스코어:0.0698\n",
      "ROC 스코어: 0.6630, PR score : 0.0238\n",
      "임곗값: 0.9\n",
      "오차행렬\n",
      "[[2180  357]\n",
      " [  16   14]]\n",
      "정확도: 0.8547, 정밀도 : 0.0377, 재현율:0.4667,F1 스코어:0.0698\n",
      "ROC 스코어: 0.6630, PR score : 0.0238\n"
     ]
    }
   ],
   "source": [
    "#knn 최적 파라미터 적용\n",
    "#임계값. 0.1\n",
    "get_eval_by_threshold(y_test , knn_best_pred_proba[:,1].reshape(-1,1), thresholds)"
   ]
  },
  {
   "cell_type": "code",
   "execution_count": 45,
   "metadata": {},
   "outputs": [
    {
     "ename": "NameError",
     "evalue": "name 'xgb_pred_proba' is not defined",
     "output_type": "error",
     "traceback": [
      "\u001b[1;31m---------------------------------------------------------------------------\u001b[0m",
      "\u001b[1;31mNameError\u001b[0m                                 Traceback (most recent call last)",
      "Cell \u001b[1;32mIn [45], line 3\u001b[0m\n\u001b[0;32m      1\u001b[0m \u001b[38;5;66;03m#xgb \u001b[39;00m\n\u001b[0;32m      2\u001b[0m \u001b[38;5;66;03m#입계값 0.1일 때 최대\u001b[39;00m\n\u001b[1;32m----> 3\u001b[0m get_eval_by_threshold(y_test , \u001b[43mxgb_pred_proba\u001b[49m[:,\u001b[38;5;241m1\u001b[39m]\u001b[38;5;241m.\u001b[39mreshape(\u001b[38;5;241m-\u001b[39m\u001b[38;5;241m1\u001b[39m,\u001b[38;5;241m1\u001b[39m), thresholds)\n",
      "\u001b[1;31mNameError\u001b[0m: name 'xgb_pred_proba' is not defined"
     ]
    }
   ],
   "source": [
    "#xgb \n",
    "#입계값 0.1일 때 최대\n",
    "get_eval_by_threshold(y_test , xgb_pred_proba[:,1].reshape(-1,1), thresholds)"
   ]
  },
  {
   "cell_type": "code",
   "execution_count": 46,
   "metadata": {},
   "outputs": [
    {
     "ename": "NameError",
     "evalue": "name 'xgb_best_pred_proba' is not defined",
     "output_type": "error",
     "traceback": [
      "\u001b[1;31m---------------------------------------------------------------------------\u001b[0m",
      "\u001b[1;31mNameError\u001b[0m                                 Traceback (most recent call last)",
      "Cell \u001b[1;32mIn [46], line 3\u001b[0m\n\u001b[0;32m      1\u001b[0m \u001b[38;5;66;03m# xgb 최적 파라미터 적용\u001b[39;00m\n\u001b[0;32m      2\u001b[0m \u001b[38;5;66;03m# 임계값 0.3일때 최대\u001b[39;00m\n\u001b[1;32m----> 3\u001b[0m get_eval_by_threshold(y_test , \u001b[43mxgb_best_pred_proba\u001b[49m[:,\u001b[38;5;241m1\u001b[39m]\u001b[38;5;241m.\u001b[39mreshape(\u001b[38;5;241m-\u001b[39m\u001b[38;5;241m1\u001b[39m,\u001b[38;5;241m1\u001b[39m), thresholds)\n",
      "\u001b[1;31mNameError\u001b[0m: name 'xgb_best_pred_proba' is not defined"
     ]
    }
   ],
   "source": [
    "# xgb 최적 파라미터 적용\n",
    "# 임계값 0.3일때 최대\n",
    "get_eval_by_threshold(y_test , xgb_best_pred_proba[:,1].reshape(-1,1), thresholds)"
   ]
  },
  {
   "cell_type": "code",
   "execution_count": 47,
   "metadata": {},
   "outputs": [
    {
     "data": {
      "image/png": "[encoded data removed]",
      "text/plain": [
       "<Figure size 640x480 with 1 Axes>"
      ]
     },
     "metadata": {},
     "output_type": "display_data"
    },
    {
     "name": "stdout",
     "output_type": "stream",
     "text": [
      "lda의 ROC AUC값: 0.8129\n"
     ]
    }
   ],
   "source": [
    "from sklearn.metrics import roc_curve\n",
    "from sklearn.metrics import roc_auc_score\n",
    "def roc_curve_plot(y_test, pred_proba_c1):\n",
    "    fprs, tprs, thresholds = roc_curve(y_test, pred_proba_c1)\n",
    "    \n",
    "    plt.plot(fprs, tprs, label='ROC')\n",
    "    plt.plot([0,1],[0,1], 'k--', label = 'Random')\n",
    "    \n",
    "    start, end= plt.xlim()\n",
    "    plt.xticks(np.round(np.arange(start, end, 0.1),2))\n",
    "    plt.xlim(0,1); plt.ylim(0,1)\n",
    "    plt.xlabel('FPR(1-Sensitivity)'); plt.ylabel('TPR(Recall)')\n",
    "    plt.legend()\n",
    "    plt.show()\n",
    "    \n",
    "roc_curve_plot(y_test, lda_clf.predict_proba(X_test)[:,1])\n",
    "pred_proba = lda_clf.predict_proba(X_test)[:,1]\n",
    "roc_score = roc_auc_score(y_test, pred_proba)\n",
    "print('lda의 ROC AUC값: {0:.4f}'.format(roc_score))\n"
   ]
  },
  {
   "cell_type": "code",
   "execution_count": 48,
   "metadata": {},
   "outputs": [
    {
     "data": {
      "image/png": "[encoded data removed]",
      "text/plain": [
       "<Figure size 640x480 with 1 Axes>"
      ]
     },
     "metadata": {},
     "output_type": "display_data"
    },
    {
     "name": "stdout",
     "output_type": "stream",
     "text": [
      "lda의 ROC AUC값: 0.6246\n"
     ]
    }
   ],
   "source": [
    "roc_curve_plot(y_test, lda_clf.predict(X_test))\n",
    "roc_score = roc_auc_score(y_test, lda_pred)\n",
    "print('lda의 ROC AUC값: {0:.4f}'.format(roc_score))"
   ]
  },
  {
   "cell_type": "code",
   "execution_count": 49,
   "metadata": {},
   "outputs": [
    {
     "data": {
      "image/png": "[encoded data removed]",
      "text/plain": [
       "<Figure size 640x480 with 1 Axes>"
      ]
     },
     "metadata": {},
     "output_type": "display_data"
    },
    {
     "name": "stdout",
     "output_type": "stream",
     "text": [
      "dt ROC AUC값: 0.5903\n"
     ]
    }
   ],
   "source": [
    "roc_curve_plot(y_test, dt_clf.predict_proba(X_test)[:,1])\n",
    "pred_proba = dt_clf.predict_proba(X_test)[:,1]\n",
    "roc_score = roc_auc_score(y_test, pred_proba)\n",
    "print('dt ROC AUC값: {0:.4f}'.format(roc_score))\n"
   ]
  },
  {
   "cell_type": "code",
   "execution_count": 50,
   "metadata": {},
   "outputs": [
    {
     "data": {
      "image/png": "[encoded data removed]",
      "text/plain": [
       "<Figure size 640x480 with 1 Axes>"
      ]
     },
     "metadata": {},
     "output_type": "display_data"
    },
    {
     "name": "stdout",
     "output_type": "stream",
     "text": [
      "rf ROC AUC값: 0.8381\n"
     ]
    }
   ],
   "source": [
    "roc_curve_plot(y_test, rf_clf.predict_proba(X_test)[:,1])\n",
    "pred_proba = rf_clf.predict_proba(X_test)[:,1]\n",
    "roc_score = roc_auc_score(y_test, pred_proba)\n",
    "print('rf ROC AUC값: {0:.4f}'.format(roc_score))"
   ]
  },
  {
   "cell_type": "code",
   "execution_count": 51,
   "metadata": {},
   "outputs": [
    {
     "data": {
      "image/png": "[encoded data removed]",
      "text/plain": [
       "<Figure size 640x480 with 1 Axes>"
      ]
     },
     "metadata": {},
     "output_type": "display_data"
    },
    {
     "name": "stdout",
     "output_type": "stream",
     "text": [
      "lr ROC AUC값: 0.8753\n"
     ]
    }
   ],
   "source": [
    "roc_curve_plot(y_test, lr_clf.predict_proba(X_test)[:,1])\n",
    "pred_proba = lr_clf.predict_proba(X_test)[:,1]\n",
    "roc_score = roc_auc_score(y_test, pred_proba)\n",
    "print('lr ROC AUC값: {0:.4f}'.format(roc_score))"
   ]
  },
  {
   "cell_type": "code",
   "execution_count": 52,
   "metadata": {},
   "outputs": [
    {
     "name": "stderr",
     "output_type": "stream",
     "text": [
      "c:\\Users\\82104\\AppData\\Local\\Programs\\Python\\Python39-32\\lib\\site-packages\\sklearn\\base.py:443: UserWarning: X has feature names, but KNeighborsClassifier was fitted without feature names\n",
      "  warnings.warn(\n"
     ]
    },
    {
     "data": {
      "image/png": "[encoded data removed]",
      "text/plain": [
       "<Figure size 640x480 with 1 Axes>"
      ]
     },
     "metadata": {},
     "output_type": "display_data"
    },
    {
     "name": "stderr",
     "output_type": "stream",
     "text": [
      "c:\\Users\\82104\\AppData\\Local\\Programs\\Python\\Python39-32\\lib\\site-packages\\sklearn\\base.py:443: UserWarning: X has feature names, but KNeighborsClassifier was fitted without feature names\n",
      "  warnings.warn(\n"
     ]
    },
    {
     "name": "stdout",
     "output_type": "stream",
     "text": [
      "knn ROC AUC값: 0.7108\n"
     ]
    }
   ],
   "source": [
    "roc_curve_plot(y_test, knn_clf.predict_proba(X_test)[:,1])\n",
    "pred_proba = knn_clf.predict_proba(X_test)[:,1]\n",
    "roc_score = roc_auc_score(y_test, pred_proba)\n",
    "print('knn ROC AUC값: {0:.4f}'.format(roc_score))"
   ]
  },
  {
   "cell_type": "code",
   "execution_count": null,
   "metadata": {},
   "outputs": [],
   "source": [
    "roc_curve_plot(y_test, knn_clf.predict_proba(X_test)[:,1])\n",
    "pred_proba = knn_clf.predict_proba(X_test)[:,1]\n",
    "roc_score = roc_auc_score(y_test, pred_proba)\n",
    "print('knn ROC AUC값: {0:.4f}'.format(roc_score))\n"
   ]
  },
  {
   "cell_type": "code",
   "execution_count": null,
   "metadata": {},
   "outputs": [],
   "source": []
  }
 ],
 "metadata": {
  "kernelspec": {
   "display_name": "Python 3.9.0b5 32-bit",
   "language": "python",
   "name": "python3"
  },
  "language_info": {
   "codemirror_mode": {
    "name": "ipython",
    "version": 3
   },
   "file_extension": ".py",
   "mimetype": "text/x-python",
   "name": "python",
   "nbconvert_exporter": "python",
   "pygments_lexer": "ipython3",
   "version": "3.9.0b5"
  },
  "orig_nbformat": 4,
  "vscode": {
   "interpreter": {
    "hash": "14da93c09c87c2adf5a7b1fb83519fc7ff28341ecf02e7cb76d975b5435c9671"
   }
  }
 },
 "nbformat": 4,
 "nbformat_minor": 2
}
