{
 "cells": [
  {
   "cell_type": "code",
   "execution_count": 1,
   "metadata": {},
   "outputs": [],
   "source": [
    "import matplotlib.pyplot as plt\n",
    "import pandas as pd\n",
    "import seaborn as sns\n",
    "import statsmodels.api as sm\n",
    "from statsmodels.stats.outliers_influence import variance_inflation_factor\n",
    "from scipy.stats.mstats import winsorize\n",
    "import numpy as np\n",
    "from scipy.stats import norm\n",
    "from scipy import stats\n",
    "from statsmodels.formula.api import ols\n",
    "plt.rcParams['font.family'] = 'Malgun Gothic'\n",
    "plt.rcParams['axes.unicode_minus'] = False\n",
    "import warnings\n",
    "warnings.filterwarnings('ignore')"
   ]
  },
  {
   "cell_type": "code",
   "execution_count": 2,
   "metadata": {},
   "outputs": [],
   "source": [
    "from imblearn.under_sampling import RandomUnderSampler\n",
    "from imblearn.over_sampling import RandomOverSampler\n",
    "from imblearn.over_sampling import SMOTE\n",
    "\n",
    "from sklearn.datasets import make_classification\n",
    "from collections import Counter\n",
    "\n",
    "from matplotlib import pyplot as plt\n",
    "import seaborn as sns"
   ]
  },
  {
   "cell_type": "code",
   "execution_count": 3,
   "metadata": {},
   "outputs": [],
   "source": [
    "df = pd.read_csv('./dataset/윈저데이터셋.csv', encoding='CP949')\n",
    "df_y = df['label']\n",
    "df_1 = df[['[제조]비유동자산증가율',\n",
    " '[제조]자기자본증가율',\n",
    " '[제조]재고자산증가율',\n",
    " '[제조]매출액순이익률',\n",
    " '[제조]매입채무회전기간',\n",
    " '[제조]재고자산회전기간',\n",
    " '[제조]당좌자산회전률',\n",
    " '[제조]현금비율',\n",
    " '[제조]순운전자본비율',\n",
    " '[제조]자기자본배율','label']]"
   ]
  },
  {
   "cell_type": "code",
   "execution_count": 4,
   "metadata": {},
   "outputs": [],
   "source": [
    "from sklearn.preprocessing import StandardScaler\n",
    "scaler = StandardScaler()\n",
    "scaler.fit(df_1)\n",
    "\n",
    "df_scaled = scaler.transform(df_1)\n",
    "\n",
    "df_scaled_df = pd.DataFrame(df_scaled,columns = df_1.columns)"
   ]
  },
  {
   "cell_type": "markdown",
   "metadata": {},
   "source": [
    "## 엘라스틱넷 데이터셋 "
   ]
  },
  {
   "cell_type": "code",
   "execution_count": 6,
   "metadata": {},
   "outputs": [],
   "source": [
    "from sklearn.model_selection import train_test_split\n",
    "Ela_X = df_scaled_df.iloc[:,:-1]\n",
    "Ela_y = df_y"
   ]
  },
  {
   "cell_type": "code",
   "execution_count": 7,
   "metadata": {},
   "outputs": [
    {
     "name": "stdout",
     "output_type": "stream",
     "text": [
      "RS 적용 전 학습용 피처/레이블 데이터 세트:  (10652, 10) (10652,)\n",
      "RS 적용 후 학습용 피처/레이블 데이터 세트:  (1793, 10) (1793,)\n",
      "RS 적용 후 레이블 값 분포: \n",
      " 0    1630\n",
      "1     163\n",
      "Name: label, dtype: int64\n"
     ]
    }
   ],
   "source": [
    "Ela_X_samp_1, Ela_y_samp_1 = RandomUnderSampler(random_state=0,sampling_strategy=0.1).fit_resample(Ela_X, Ela_y)\n",
    "\n",
    "print('RS 적용 전 학습용 피처/레이블 데이터 세트: ', Ela_X.shape, Ela_y.shape)\n",
    "print('RS 적용 후 학습용 피처/레이블 데이터 세트: ', Ela_X_samp_1.shape, Ela_y_samp_1.shape)\n",
    "print('RS 적용 후 레이블 값 분포: \\n', pd.Series(Ela_y_samp_1).value_counts())"
   ]
  },
  {
   "cell_type": "code",
   "execution_count": 8,
   "metadata": {},
   "outputs": [
    {
     "data": {
      "text/html": [
       "<div>\n",
       "<style scoped>\n",
       "    .dataframe tbody tr th:only-of-type {\n",
       "        vertical-align: middle;\n",
       "    }\n",
       "\n",
       "    .dataframe tbody tr th {\n",
       "        vertical-align: top;\n",
       "    }\n",
       "\n",
       "    .dataframe thead th {\n",
       "        text-align: right;\n",
       "    }\n",
       "</style>\n",
       "<table border=\"1\" class=\"dataframe\">\n",
       "  <thead>\n",
       "    <tr style=\"text-align: right;\">\n",
       "      <th></th>\n",
       "      <th>[제조]비유동자산증가율</th>\n",
       "      <th>[제조]자기자본증가율</th>\n",
       "      <th>[제조]재고자산증가율</th>\n",
       "      <th>[제조]매출액순이익률</th>\n",
       "      <th>[제조]매입채무회전기간</th>\n",
       "      <th>[제조]재고자산회전기간</th>\n",
       "      <th>[제조]당좌자산회전률</th>\n",
       "      <th>[제조]현금비율</th>\n",
       "      <th>[제조]순운전자본비율</th>\n",
       "      <th>[제조]자기자본배율</th>\n",
       "      <th>label</th>\n",
       "    </tr>\n",
       "  </thead>\n",
       "  <tbody>\n",
       "    <tr>\n",
       "      <th>0</th>\n",
       "      <td>0.045954</td>\n",
       "      <td>0.127162</td>\n",
       "      <td>-0.217657</td>\n",
       "      <td>0.568340</td>\n",
       "      <td>2.311054</td>\n",
       "      <td>0.087583</td>\n",
       "      <td>-0.408974</td>\n",
       "      <td>-0.551356</td>\n",
       "      <td>-0.991622</td>\n",
       "      <td>0.364327</td>\n",
       "      <td>0</td>\n",
       "    </tr>\n",
       "    <tr>\n",
       "      <th>1</th>\n",
       "      <td>-0.014637</td>\n",
       "      <td>-0.082138</td>\n",
       "      <td>-0.069416</td>\n",
       "      <td>0.284942</td>\n",
       "      <td>1.467702</td>\n",
       "      <td>0.830181</td>\n",
       "      <td>0.641217</td>\n",
       "      <td>-0.700173</td>\n",
       "      <td>-0.314908</td>\n",
       "      <td>0.372378</td>\n",
       "      <td>0</td>\n",
       "    </tr>\n",
       "    <tr>\n",
       "      <th>2</th>\n",
       "      <td>0.433611</td>\n",
       "      <td>-2.150465</td>\n",
       "      <td>-0.210768</td>\n",
       "      <td>-4.391570</td>\n",
       "      <td>-1.394061</td>\n",
       "      <td>-1.160594</td>\n",
       "      <td>-1.452069</td>\n",
       "      <td>-0.772674</td>\n",
       "      <td>-1.149287</td>\n",
       "      <td>-0.927537</td>\n",
       "      <td>0</td>\n",
       "    </tr>\n",
       "    <tr>\n",
       "      <th>3</th>\n",
       "      <td>0.181412</td>\n",
       "      <td>0.183011</td>\n",
       "      <td>0.120873</td>\n",
       "      <td>0.621168</td>\n",
       "      <td>-0.968750</td>\n",
       "      <td>-0.083108</td>\n",
       "      <td>-0.508316</td>\n",
       "      <td>2.601317</td>\n",
       "      <td>0.911293</td>\n",
       "      <td>0.252307</td>\n",
       "      <td>0</td>\n",
       "    </tr>\n",
       "    <tr>\n",
       "      <th>4</th>\n",
       "      <td>0.603647</td>\n",
       "      <td>-0.097591</td>\n",
       "      <td>-0.042096</td>\n",
       "      <td>0.507633</td>\n",
       "      <td>-1.062809</td>\n",
       "      <td>1.360110</td>\n",
       "      <td>-1.075987</td>\n",
       "      <td>2.117363</td>\n",
       "      <td>1.795625</td>\n",
       "      <td>-0.082687</td>\n",
       "      <td>0</td>\n",
       "    </tr>\n",
       "    <tr>\n",
       "      <th>...</th>\n",
       "      <td>...</td>\n",
       "      <td>...</td>\n",
       "      <td>...</td>\n",
       "      <td>...</td>\n",
       "      <td>...</td>\n",
       "      <td>...</td>\n",
       "      <td>...</td>\n",
       "      <td>...</td>\n",
       "      <td>...</td>\n",
       "      <td>...</td>\n",
       "      <td>...</td>\n",
       "    </tr>\n",
       "    <tr>\n",
       "      <th>1788</th>\n",
       "      <td>1.074418</td>\n",
       "      <td>-2.791921</td>\n",
       "      <td>-1.464874</td>\n",
       "      <td>-1.627341</td>\n",
       "      <td>2.311054</td>\n",
       "      <td>1.111728</td>\n",
       "      <td>-0.948261</td>\n",
       "      <td>-0.568856</td>\n",
       "      <td>-1.734289</td>\n",
       "      <td>-1.148362</td>\n",
       "      <td>1</td>\n",
       "    </tr>\n",
       "    <tr>\n",
       "      <th>1789</th>\n",
       "      <td>-0.686216</td>\n",
       "      <td>-0.669371</td>\n",
       "      <td>1.188729</td>\n",
       "      <td>-0.977071</td>\n",
       "      <td>0.495756</td>\n",
       "      <td>1.724684</td>\n",
       "      <td>-0.955357</td>\n",
       "      <td>-0.562672</td>\n",
       "      <td>0.373122</td>\n",
       "      <td>-0.478738</td>\n",
       "      <td>1</td>\n",
       "    </tr>\n",
       "    <tr>\n",
       "      <th>1790</th>\n",
       "      <td>-1.215357</td>\n",
       "      <td>-0.106538</td>\n",
       "      <td>0.069797</td>\n",
       "      <td>0.407524</td>\n",
       "      <td>-0.129487</td>\n",
       "      <td>-1.140881</td>\n",
       "      <td>-0.962453</td>\n",
       "      <td>2.955926</td>\n",
       "      <td>2.349406</td>\n",
       "      <td>2.585154</td>\n",
       "      <td>1</td>\n",
       "    </tr>\n",
       "    <tr>\n",
       "      <th>1791</th>\n",
       "      <td>-1.463432</td>\n",
       "      <td>-1.252536</td>\n",
       "      <td>-0.633871</td>\n",
       "      <td>-0.600569</td>\n",
       "      <td>-0.298521</td>\n",
       "      <td>-0.921024</td>\n",
       "      <td>-0.210289</td>\n",
       "      <td>0.525237</td>\n",
       "      <td>0.308729</td>\n",
       "      <td>-0.969556</td>\n",
       "      <td>1</td>\n",
       "    </tr>\n",
       "    <tr>\n",
       "      <th>1792</th>\n",
       "      <td>-0.757275</td>\n",
       "      <td>-1.558624</td>\n",
       "      <td>0.722389</td>\n",
       "      <td>-0.844274</td>\n",
       "      <td>2.311054</td>\n",
       "      <td>-0.604921</td>\n",
       "      <td>-0.785056</td>\n",
       "      <td>-0.669252</td>\n",
       "      <td>-1.364712</td>\n",
       "      <td>-1.023755</td>\n",
       "      <td>1</td>\n",
       "    </tr>\n",
       "  </tbody>\n",
       "</table>\n",
       "<p>1793 rows × 11 columns</p>\n",
       "</div>"
      ],
      "text/plain": [
       "      [제조]비유동자산증가율  [제조]자기자본증가율  [제조]재고자산증가율  [제조]매출액순이익률  [제조]매입채무회전기간  \\\n",
       "0         0.045954     0.127162    -0.217657     0.568340      2.311054   \n",
       "1        -0.014637    -0.082138    -0.069416     0.284942      1.467702   \n",
       "2         0.433611    -2.150465    -0.210768    -4.391570     -1.394061   \n",
       "3         0.181412     0.183011     0.120873     0.621168     -0.968750   \n",
       "4         0.603647    -0.097591    -0.042096     0.507633     -1.062809   \n",
       "...            ...          ...          ...          ...           ...   \n",
       "1788      1.074418    -2.791921    -1.464874    -1.627341      2.311054   \n",
       "1789     -0.686216    -0.669371     1.188729    -0.977071      0.495756   \n",
       "1790     -1.215357    -0.106538     0.069797     0.407524     -0.129487   \n",
       "1791     -1.463432    -1.252536    -0.633871    -0.600569     -0.298521   \n",
       "1792     -0.757275    -1.558624     0.722389    -0.844274      2.311054   \n",
       "\n",
       "      [제조]재고자산회전기간  [제조]당좌자산회전률  [제조]현금비율  [제조]순운전자본비율  [제조]자기자본배율  label  \n",
       "0         0.087583    -0.408974 -0.551356    -0.991622    0.364327      0  \n",
       "1         0.830181     0.641217 -0.700173    -0.314908    0.372378      0  \n",
       "2        -1.160594    -1.452069 -0.772674    -1.149287   -0.927537      0  \n",
       "3        -0.083108    -0.508316  2.601317     0.911293    0.252307      0  \n",
       "4         1.360110    -1.075987  2.117363     1.795625   -0.082687      0  \n",
       "...            ...          ...       ...          ...         ...    ...  \n",
       "1788      1.111728    -0.948261 -0.568856    -1.734289   -1.148362      1  \n",
       "1789      1.724684    -0.955357 -0.562672     0.373122   -0.478738      1  \n",
       "1790     -1.140881    -0.962453  2.955926     2.349406    2.585154      1  \n",
       "1791     -0.921024    -0.210289  0.525237     0.308729   -0.969556      1  \n",
       "1792     -0.604921    -0.785056 -0.669252    -1.364712   -1.023755      1  \n",
       "\n",
       "[1793 rows x 11 columns]"
      ]
     },
     "execution_count": 8,
     "metadata": {},
     "output_type": "execute_result"
    }
   ],
   "source": [
    "Ela_Under_samp = pd.concat([Ela_X_samp_1,Ela_y_samp_1], axis=1)\n",
    "Ela_Under_samp"
   ]
  },
  {
   "cell_type": "code",
   "execution_count": 15,
   "metadata": {},
   "outputs": [],
   "source": [
    "# Ela_Under_samp.to_csv('./dataset/Ela_Undersampling.csv',encoding='CP949', index=False)"
   ]
  },
  {
   "cell_type": "code",
   "execution_count": 10,
   "metadata": {},
   "outputs": [
    {
     "data": {
      "text/plain": [
       "0       0\n",
       "1       0\n",
       "2       0\n",
       "3       0\n",
       "4       0\n",
       "       ..\n",
       "1788    1\n",
       "1789    1\n",
       "1790    1\n",
       "1791    1\n",
       "1792    1\n",
       "Name: label, Length: 1793, dtype: int64"
      ]
     },
     "execution_count": 10,
     "metadata": {},
     "output_type": "execute_result"
    }
   ],
   "source": [
    "Ela_y_samp_1"
   ]
  },
  {
   "cell_type": "code",
   "execution_count": 11,
   "metadata": {},
   "outputs": [],
   "source": [
    "Ela_x_train, Ela_x_test, Ela_y_train, Ela_y_test = train_test_split(Ela_X_samp_1, Ela_y_samp_1, test_size=0.2, random_state=0)"
   ]
  },
  {
   "cell_type": "code",
   "execution_count": 18,
   "metadata": {},
   "outputs": [
    {
     "name": "stdout",
     "output_type": "stream",
     "text": [
      "RS 적용 전 학습용 피처/레이블 데이터 세트:  (1434, 10) (1434,)\n",
      "RS 적용 후 학습용 피처/레이블 데이터 세트:  (1622, 10) (1622,)\n",
      "RS 적용 후 레이블 값 분포: \n",
      " 0    1298\n",
      "1     324\n",
      "Name: label, dtype: int64\n"
     ]
    }
   ],
   "source": [
    "Ela_X_samp_2, Ela_y_samp_2 = RandomOverSampler(random_state=0,sampling_strategy=0.25).fit_resample(Ela_x_train, Ela_y_train)\n",
    "\n",
    "print('RS 적용 전 학습용 피처/레이블 데이터 세트: ', Ela_x_train.shape, Ela_y_train.shape)\n",
    "print('RS 적용 후 학습용 피처/레이블 데이터 세트: ', Ela_X_samp_2.shape, Ela_y_samp_2.shape)\n",
    "print('RS 적용 후 레이블 값 분포: \\n', pd.Series(Ela_y_samp_2).value_counts())"
   ]
  },
  {
   "cell_type": "code",
   "execution_count": 19,
   "metadata": {},
   "outputs": [],
   "source": [
    "Ela_train = pd.concat([Ela_x_train, Ela_y_train], axis=1)\n",
    "Ela_test = pd.concat([Ela_x_test, Ela_y_test], axis=1)"
   ]
  },
  {
   "cell_type": "code",
   "execution_count": 20,
   "metadata": {},
   "outputs": [],
   "source": [
    "# Ela_train.to_csv('./dataset/Ela_trainUnderOverSampling.csv', encoding='CP949', index=False)\n",
    "# Ela_test.to_csv('./dataset/Ela_testUnderOverSampling.csv', encoding='CP949', index=False)"
   ]
  },
  {
   "cell_type": "code",
   "execution_count": null,
   "metadata": {},
   "outputs": [],
   "source": []
  }
 ],
 "metadata": {
  "kernelspec": {
   "display_name": "Python 3.8.8 ('base')",
   "language": "python",
   "name": "python3"
  },
  "language_info": {
   "codemirror_mode": {
    "name": "ipython",
    "version": 3
   },
   "file_extension": ".py",
   "mimetype": "text/x-python",
   "name": "python",
   "nbconvert_exporter": "python",
   "pygments_lexer": "ipython3",
   "version": "3.8.8"
  },
  "orig_nbformat": 4,
  "vscode": {
   "interpreter": {
    "hash": "ad2bdc8ecc057115af97d19610ffacc2b4e99fae6737bb82f5d7fb13d2f2c186"
   }
  }
 },
 "nbformat": 4,
 "nbformat_minor": 2
}
