{
 "cells": [
  {
   "cell_type": "code",
   "execution_count": 3,
   "metadata": {},
   "outputs": [],
   "source": [
    "import matplotlib.pyplot as plt\n",
    "import pandas as pd\n",
    "import seaborn as sns\n",
    "import statsmodels.api as sm\n",
    "from statsmodels.stats.outliers_influence import variance_inflation_factor\n",
    "from scipy.stats.mstats import winsorize\n",
    "import numpy as np\n",
    "from scipy.stats import norm\n",
    "from scipy import stats\n",
    "from statsmodels.formula.api import ols\n",
    "plt.rcParams['font.family'] = 'Malgun Gothic'\n",
    "plt.rcParams['axes.unicode_minus'] = False\n",
    "import warnings\n",
    "warnings.filterwarnings('ignore')"
   ]
  },
  {
   "cell_type": "code",
   "execution_count": 4,
   "metadata": {},
   "outputs": [],
   "source": [
    "from imblearn.under_sampling import RandomUnderSampler\n",
    "from imblearn.over_sampling import RandomOverSampler\n",
    "from imblearn.over_sampling import SMOTE\n",
    "\n",
    "from sklearn.datasets import make_classification\n",
    "from collections import Counter\n",
    "\n",
    "from matplotlib import pyplot as plt\n",
    "import seaborn as sns"
   ]
  },
  {
   "cell_type": "code",
   "execution_count": 5,
   "metadata": {},
   "outputs": [],
   "source": [
    "df = pd.read_csv('./dataset/윈저데이터셋.csv', encoding='CP949')\n",
    "df_y = df['label']\n",
    "df_1 = df[['[제조]총자본증가율',\n",
    " '[제조]총자본사업이익률',\n",
    " '[제조]1주당매출액',\n",
    " '[제조]비유동자산회전률',\n",
    " '[제조]매출채권회전률',\n",
    " '[제조]순운전자본회전률',\n",
    " '[제조]현금비율',\n",
    " '[제조]자기자본배율',\n",
    " '[제조]노동소득분배율',\n",
    " '[제조]이자보상배율(이자비용)','label']]"
   ]
  },
  {
   "cell_type": "code",
   "execution_count": 6,
   "metadata": {},
   "outputs": [],
   "source": [
    "from sklearn.preprocessing import StandardScaler\n",
    "scaler = StandardScaler()\n",
    "scaler.fit(df_1)\n",
    "\n",
    "df_scaled = scaler.transform(df_1)\n",
    "\n",
    "df_scaled_df = pd.DataFrame(df_scaled,columns = df_1.columns)"
   ]
  },
  {
   "cell_type": "markdown",
   "metadata": {},
   "source": [
    "## 로지스틱 데이터셋 "
   ]
  },
  {
   "cell_type": "code",
   "execution_count": 7,
   "metadata": {},
   "outputs": [],
   "source": [
    "from sklearn.model_selection import train_test_split\n",
    "logi_X = df_scaled_df.iloc[:,:-1]\n",
    "logi_y = df_y"
   ]
  },
  {
   "cell_type": "code",
   "execution_count": 8,
   "metadata": {},
   "outputs": [
    {
     "name": "stdout",
     "output_type": "stream",
     "text": [
      "RS 적용 전 학습용 피처/레이블 데이터 세트:  (10652, 10) (10652,)\n",
      "RS 적용 후 학습용 피처/레이블 데이터 세트:  (1793, 10) (1793,)\n",
      "RS 적용 후 레이블 값 분포: \n",
      " 0    1630\n",
      "1     163\n",
      "Name: label, dtype: int64\n"
     ]
    }
   ],
   "source": [
    "logi_X_samp_1, logi_y_samp_1 = RandomUnderSampler(random_state=0,sampling_strategy=0.1).fit_resample(logi_X, logi_y)\n",
    "\n",
    "print('RS 적용 전 학습용 피처/레이블 데이터 세트: ', logi_X.shape, logi_y.shape)\n",
    "print('RS 적용 후 학습용 피처/레이블 데이터 세트: ', logi_X_samp_1.shape, logi_y_samp_1.shape)\n",
    "print('RS 적용 후 레이블 값 분포: \\n', pd.Series(logi_y_samp_1).value_counts())"
   ]
  },
  {
   "cell_type": "code",
   "execution_count": 9,
   "metadata": {},
   "outputs": [
    {
     "data": {
      "text/html": [
       "<div>\n",
       "<style scoped>\n",
       "    .dataframe tbody tr th:only-of-type {\n",
       "        vertical-align: middle;\n",
       "    }\n",
       "\n",
       "    .dataframe tbody tr th {\n",
       "        vertical-align: top;\n",
       "    }\n",
       "\n",
       "    .dataframe thead th {\n",
       "        text-align: right;\n",
       "    }\n",
       "</style>\n",
       "<table border=\"1\" class=\"dataframe\">\n",
       "  <thead>\n",
       "    <tr style=\"text-align: right;\">\n",
       "      <th></th>\n",
       "      <th>[제조]총자본증가율</th>\n",
       "      <th>[제조]총자본사업이익률</th>\n",
       "      <th>[제조]1주당매출액</th>\n",
       "      <th>[제조]비유동자산회전률</th>\n",
       "      <th>[제조]매출채권회전률</th>\n",
       "      <th>[제조]순운전자본회전률</th>\n",
       "      <th>[제조]현금비율</th>\n",
       "      <th>[제조]자기자본배율</th>\n",
       "      <th>[제조]노동소득분배율</th>\n",
       "      <th>[제조]이자보상배율(이자비용)</th>\n",
       "      <th>label</th>\n",
       "    </tr>\n",
       "  </thead>\n",
       "  <tbody>\n",
       "    <tr>\n",
       "      <th>0</th>\n",
       "      <td>0.082208</td>\n",
       "      <td>0.674388</td>\n",
       "      <td>-0.079029</td>\n",
       "      <td>-0.826928</td>\n",
       "      <td>-0.214193</td>\n",
       "      <td>-0.705541</td>\n",
       "      <td>-0.551356</td>\n",
       "      <td>0.364327</td>\n",
       "      <td>-0.680366</td>\n",
       "      <td>-0.254485</td>\n",
       "      <td>0</td>\n",
       "    </tr>\n",
       "    <tr>\n",
       "      <th>1</th>\n",
       "      <td>0.042988</td>\n",
       "      <td>0.300990</td>\n",
       "      <td>0.974416</td>\n",
       "      <td>-0.006370</td>\n",
       "      <td>-0.529695</td>\n",
       "      <td>0.085582</td>\n",
       "      <td>-0.700173</td>\n",
       "      <td>0.372378</td>\n",
       "      <td>-0.510463</td>\n",
       "      <td>-0.251703</td>\n",
       "      <td>0</td>\n",
       "    </tr>\n",
       "    <tr>\n",
       "      <th>2</th>\n",
       "      <td>0.680942</td>\n",
       "      <td>-2.557668</td>\n",
       "      <td>-0.816031</td>\n",
       "      <td>-1.044134</td>\n",
       "      <td>0.265287</td>\n",
       "      <td>-1.829770</td>\n",
       "      <td>-0.772674</td>\n",
       "      <td>-0.927537</td>\n",
       "      <td>-1.430155</td>\n",
       "      <td>-0.272397</td>\n",
       "      <td>0</td>\n",
       "    </tr>\n",
       "    <tr>\n",
       "      <th>3</th>\n",
       "      <td>0.215724</td>\n",
       "      <td>1.082135</td>\n",
       "      <td>-0.136305</td>\n",
       "      <td>-0.302012</td>\n",
       "      <td>-0.459122</td>\n",
       "      <td>0.168859</td>\n",
       "      <td>2.601317</td>\n",
       "      <td>0.252307</td>\n",
       "      <td>-0.212902</td>\n",
       "      <td>-0.020250</td>\n",
       "      <td>0</td>\n",
       "    </tr>\n",
       "    <tr>\n",
       "      <th>4</th>\n",
       "      <td>-0.067580</td>\n",
       "      <td>0.441707</td>\n",
       "      <td>-0.666417</td>\n",
       "      <td>-0.235643</td>\n",
       "      <td>-0.664613</td>\n",
       "      <td>-0.851274</td>\n",
       "      <td>2.117363</td>\n",
       "      <td>-0.082687</td>\n",
       "      <td>0.204930</td>\n",
       "      <td>5.455231</td>\n",
       "      <td>0</td>\n",
       "    </tr>\n",
       "    <tr>\n",
       "      <th>...</th>\n",
       "      <td>...</td>\n",
       "      <td>...</td>\n",
       "      <td>...</td>\n",
       "      <td>...</td>\n",
       "      <td>...</td>\n",
       "      <td>...</td>\n",
       "      <td>...</td>\n",
       "      <td>...</td>\n",
       "      <td>...</td>\n",
       "      <td>...</td>\n",
       "      <td>...</td>\n",
       "    </tr>\n",
       "    <tr>\n",
       "      <th>1788</th>\n",
       "      <td>-2.321910</td>\n",
       "      <td>-2.760434</td>\n",
       "      <td>-0.725963</td>\n",
       "      <td>-0.277878</td>\n",
       "      <td>-1.187682</td>\n",
       "      <td>-1.330112</td>\n",
       "      <td>-0.568856</td>\n",
       "      <td>-1.148362</td>\n",
       "      <td>-1.430155</td>\n",
       "      <td>-0.276234</td>\n",
       "      <td>1</td>\n",
       "    </tr>\n",
       "    <tr>\n",
       "      <th>1789</th>\n",
       "      <td>0.269547</td>\n",
       "      <td>-2.025825</td>\n",
       "      <td>-0.507630</td>\n",
       "      <td>-0.428716</td>\n",
       "      <td>-0.731034</td>\n",
       "      <td>-1.142741</td>\n",
       "      <td>-0.562672</td>\n",
       "      <td>-0.478738</td>\n",
       "      <td>2.826654</td>\n",
       "      <td>-0.284362</td>\n",
       "      <td>1</td>\n",
       "    </tr>\n",
       "    <tr>\n",
       "      <th>1790</th>\n",
       "      <td>-0.307491</td>\n",
       "      <td>0.754165</td>\n",
       "      <td>-0.531943</td>\n",
       "      <td>2.666476</td>\n",
       "      <td>-1.088050</td>\n",
       "      <td>-0.393256</td>\n",
       "      <td>2.955926</td>\n",
       "      <td>2.585154</td>\n",
       "      <td>-1.002627</td>\n",
       "      <td>-0.242047</td>\n",
       "      <td>1</td>\n",
       "    </tr>\n",
       "    <tr>\n",
       "      <th>1791</th>\n",
       "      <td>-2.061554</td>\n",
       "      <td>-2.760434</td>\n",
       "      <td>-0.138746</td>\n",
       "      <td>0.784020</td>\n",
       "      <td>-0.423836</td>\n",
       "      <td>0.481144</td>\n",
       "      <td>0.525237</td>\n",
       "      <td>-0.969556</td>\n",
       "      <td>-1.430155</td>\n",
       "      <td>-0.293218</td>\n",
       "      <td>1</td>\n",
       "    </tr>\n",
       "    <tr>\n",
       "      <th>1792</th>\n",
       "      <td>-0.874933</td>\n",
       "      <td>-1.867380</td>\n",
       "      <td>-0.705297</td>\n",
       "      <td>-0.549386</td>\n",
       "      <td>-1.220892</td>\n",
       "      <td>-0.976189</td>\n",
       "      <td>-0.669252</td>\n",
       "      <td>-1.023755</td>\n",
       "      <td>-1.430155</td>\n",
       "      <td>-0.272742</td>\n",
       "      <td>1</td>\n",
       "    </tr>\n",
       "  </tbody>\n",
       "</table>\n",
       "<p>1793 rows × 11 columns</p>\n",
       "</div>"
      ],
      "text/plain": [
       "      [제조]총자본증가율  [제조]총자본사업이익률  [제조]1주당매출액  [제조]비유동자산회전률  [제조]매출채권회전률  \\\n",
       "0       0.082208      0.674388   -0.079029     -0.826928    -0.214193   \n",
       "1       0.042988      0.300990    0.974416     -0.006370    -0.529695   \n",
       "2       0.680942     -2.557668   -0.816031     -1.044134     0.265287   \n",
       "3       0.215724      1.082135   -0.136305     -0.302012    -0.459122   \n",
       "4      -0.067580      0.441707   -0.666417     -0.235643    -0.664613   \n",
       "...          ...           ...         ...           ...          ...   \n",
       "1788   -2.321910     -2.760434   -0.725963     -0.277878    -1.187682   \n",
       "1789    0.269547     -2.025825   -0.507630     -0.428716    -0.731034   \n",
       "1790   -0.307491      0.754165   -0.531943      2.666476    -1.088050   \n",
       "1791   -2.061554     -2.760434   -0.138746      0.784020    -0.423836   \n",
       "1792   -0.874933     -1.867380   -0.705297     -0.549386    -1.220892   \n",
       "\n",
       "      [제조]순운전자본회전률  [제조]현금비율  [제조]자기자본배율  [제조]노동소득분배율  [제조]이자보상배율(이자비용)  label  \n",
       "0        -0.705541 -0.551356    0.364327    -0.680366         -0.254485      0  \n",
       "1         0.085582 -0.700173    0.372378    -0.510463         -0.251703      0  \n",
       "2        -1.829770 -0.772674   -0.927537    -1.430155         -0.272397      0  \n",
       "3         0.168859  2.601317    0.252307    -0.212902         -0.020250      0  \n",
       "4        -0.851274  2.117363   -0.082687     0.204930          5.455231      0  \n",
       "...            ...       ...         ...          ...               ...    ...  \n",
       "1788     -1.330112 -0.568856   -1.148362    -1.430155         -0.276234      1  \n",
       "1789     -1.142741 -0.562672   -0.478738     2.826654         -0.284362      1  \n",
       "1790     -0.393256  2.955926    2.585154    -1.002627         -0.242047      1  \n",
       "1791      0.481144  0.525237   -0.969556    -1.430155         -0.293218      1  \n",
       "1792     -0.976189 -0.669252   -1.023755    -1.430155         -0.272742      1  \n",
       "\n",
       "[1793 rows x 11 columns]"
      ]
     },
     "execution_count": 9,
     "metadata": {},
     "output_type": "execute_result"
    }
   ],
   "source": [
    "logi_Under_samp = pd.concat([logi_X_samp_1,logi_y_samp_1], axis=1)\n",
    "logi_Under_samp"
   ]
  },
  {
   "cell_type": "code",
   "execution_count": 10,
   "metadata": {},
   "outputs": [],
   "source": [
    "# logi_Under_samp.to_csv('./dataset/Logi_Undersampling.csv',encoding='CP949', index=False)"
   ]
  },
  {
   "cell_type": "code",
   "execution_count": 11,
   "metadata": {},
   "outputs": [],
   "source": [
    "logi_x_train, logi_x_test, logi_y_train, logi_y_test = train_test_split(logi_X_samp_1, logi_y_samp_1, test_size=0.2, random_state=0)"
   ]
  },
  {
   "cell_type": "code",
   "execution_count": 12,
   "metadata": {},
   "outputs": [
    {
     "name": "stdout",
     "output_type": "stream",
     "text": [
      "RS 적용 전 학습용 피처/레이블 데이터 세트:  (1793, 10) (1793,)\n",
      "RS 적용 후 학습용 피처/레이블 데이터 세트:  (1622, 10) (1622,)\n",
      "RS 적용 후 레이블 값 분포: \n",
      " 0    1298\n",
      "1     324\n",
      "Name: label, dtype: int64\n"
     ]
    }
   ],
   "source": [
    "logi_X_samp_2, logi_y_samp_2 = RandomOverSampler(random_state=0,sampling_strategy=0.25).fit_resample(logi_x_train, logi_y_train)\n",
    "\n",
    "print('RS 적용 전 학습용 피처/레이블 데이터 세트: ', logi_X_samp_1.shape, logi_y_samp_1.shape)\n",
    "print('RS 적용 후 학습용 피처/레이블 데이터 세트: ', logi_X_samp_2.shape, logi_y_samp_2.shape)\n",
    "print('RS 적용 후 레이블 값 분포: \\n', pd.Series(logi_y_samp_2).value_counts())"
   ]
  },
  {
   "cell_type": "code",
   "execution_count": 14,
   "metadata": {},
   "outputs": [],
   "source": [
    "logi_train = pd.concat([logi_X_samp_2, logi_y_samp_2], axis=1)\n",
    "logi_test = pd.concat([logi_x_test, logi_y_test], axis=1)"
   ]
  },
  {
   "cell_type": "code",
   "execution_count": 15,
   "metadata": {},
   "outputs": [
    {
     "data": {
      "text/plain": [
       "0    332\n",
       "1     27\n",
       "Name: label, dtype: int64"
      ]
     },
     "execution_count": 15,
     "metadata": {},
     "output_type": "execute_result"
    }
   ],
   "source": [
    "logi_test['label'].value_counts()"
   ]
  },
  {
   "cell_type": "code",
   "execution_count": 16,
   "metadata": {},
   "outputs": [],
   "source": [
    "logi_train.to_csv('./dataset/Logi_trainUnderOverSampling.csv', encoding='CP949', index=False)\n",
    "logi_test.to_csv('./dataset/Logi_testUnderOverSampling.csv', encoding='CP949', index=False)"
   ]
  },
  {
   "cell_type": "code",
   "execution_count": null,
   "metadata": {},
   "outputs": [],
   "source": []
  }
 ],
 "metadata": {
  "kernelspec": {
   "display_name": "Python 3.8.8 ('base')",
   "language": "python",
   "name": "python3"
  },
  "language_info": {
   "codemirror_mode": {
    "name": "ipython",
    "version": 3
   },
   "file_extension": ".py",
   "mimetype": "text/x-python",
   "name": "python",
   "nbconvert_exporter": "python",
   "pygments_lexer": "ipython3",
   "version": "3.8.8"
  },
  "orig_nbformat": 4,
  "vscode": {
   "interpreter": {
    "hash": "ad2bdc8ecc057115af97d19610ffacc2b4e99fae6737bb82f5d7fb13d2f2c186"
   }
  }
 },
 "nbformat": 4,
 "nbformat_minor": 2
}
