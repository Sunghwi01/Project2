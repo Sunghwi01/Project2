{
 "cells": [
  {
   "cell_type": "code",
   "execution_count": 6,
   "metadata": {},
   "outputs": [],
   "source": [
    "# 필요 라이브러리 import \n",
    "import pandas as pd\n",
    "import numpy as np\n",
    "from scipy.stats.mstats import winsorize\n",
    "from sklearn.preprocessing import StandardScaler\n",
    "from sklearn.preprocessing import MinMaxScaler\n",
    "import matplotlib.pyplot as plt\n",
    "%matplotlib inline"
   ]
  },
  {
   "cell_type": "code",
   "execution_count": 7,
   "metadata": {},
   "outputs": [],
   "source": [
    "# 윈저사이저 적용\n",
    "df = pd.read_csv('../분류모델 + 성능평가/label지정.csv', encoding='CP949')\n",
    "df.drop(['회사명', '거래소코드', '회계년도', '상장일', '상장폐지일', '산업명', '소속코드', 'month'],axis=1,inplace=True)\n",
    "for col in df.columns:\n",
    "     df[col] = winsorize(df[col], limits= 0.01)"
   ]
  },
  {
   "cell_type": "code",
   "execution_count": 8,
   "metadata": {},
   "outputs": [
    {
     "data": {
      "text/html": [
       "<div>\n",
       "<style scoped>\n",
       "    .dataframe tbody tr th:only-of-type {\n",
       "        vertical-align: middle;\n",
       "    }\n",
       "\n",
       "    .dataframe tbody tr th {\n",
       "        vertical-align: top;\n",
       "    }\n",
       "\n",
       "    .dataframe thead th {\n",
       "        text-align: right;\n",
       "    }\n",
       "</style>\n",
       "<table border=\"1\" class=\"dataframe\">\n",
       "  <thead>\n",
       "    <tr style=\"text-align: right;\">\n",
       "      <th></th>\n",
       "      <th>[제조]매출액증가율</th>\n",
       "      <th>[제조]유형자산증가율</th>\n",
       "      <th>[제조]비유동자산증가율</th>\n",
       "      <th>[제조]총자본증가율</th>\n",
       "      <th>[제조]자기자본증가율</th>\n",
       "      <th>[제조]유동자산증가율</th>\n",
       "      <th>[제조]순이익증가율</th>\n",
       "      <th>[제조]재고자산증가율</th>\n",
       "      <th>[제조]매출액총이익률</th>\n",
       "      <th>[제조]매출액순이익률</th>\n",
       "      <th>...</th>\n",
       "      <th>[제조]설비투자효율</th>\n",
       "      <th>[제조]기계투자효율</th>\n",
       "      <th>[제조]부가가치율</th>\n",
       "      <th>[제조]노동소득분배율</th>\n",
       "      <th>[제조]자본분배율</th>\n",
       "      <th>[제조]이윤분배율</th>\n",
       "      <th>[제조]유형자산회전율</th>\n",
       "      <th>[제조]이자보상배율(이자비용)</th>\n",
       "      <th>year</th>\n",
       "      <th>label</th>\n",
       "    </tr>\n",
       "  </thead>\n",
       "  <tbody>\n",
       "    <tr>\n",
       "      <th>0</th>\n",
       "      <td>56.40</td>\n",
       "      <td>-5.90</td>\n",
       "      <td>-12.89</td>\n",
       "      <td>1.98</td>\n",
       "      <td>-2.02</td>\n",
       "      <td>17.64</td>\n",
       "      <td>-78.28</td>\n",
       "      <td>-1.43</td>\n",
       "      <td>41.83</td>\n",
       "      <td>-8.50</td>\n",
       "      <td>...</td>\n",
       "      <td>35.86</td>\n",
       "      <td>128.51</td>\n",
       "      <td>19.56</td>\n",
       "      <td>89.82</td>\n",
       "      <td>10.18</td>\n",
       "      <td>-43.44</td>\n",
       "      <td>1.77</td>\n",
       "      <td>3.53</td>\n",
       "      <td>2011</td>\n",
       "      <td>0</td>\n",
       "    </tr>\n",
       "    <tr>\n",
       "      <th>1</th>\n",
       "      <td>-1.41</td>\n",
       "      <td>-6.94</td>\n",
       "      <td>-5.45</td>\n",
       "      <td>-0.25</td>\n",
       "      <td>-1.44</td>\n",
       "      <td>4.52</td>\n",
       "      <td>-32.13</td>\n",
       "      <td>32.57</td>\n",
       "      <td>46.33</td>\n",
       "      <td>5.97</td>\n",
       "      <td>...</td>\n",
       "      <td>705.44</td>\n",
       "      <td>0.00</td>\n",
       "      <td>39.01</td>\n",
       "      <td>45.08</td>\n",
       "      <td>54.92</td>\n",
       "      <td>15.30</td>\n",
       "      <td>17.44</td>\n",
       "      <td>19.13</td>\n",
       "      <td>2011</td>\n",
       "      <td>0</td>\n",
       "    </tr>\n",
       "    <tr>\n",
       "      <th>2</th>\n",
       "      <td>-6.84</td>\n",
       "      <td>0.00</td>\n",
       "      <td>1.61</td>\n",
       "      <td>3.11</td>\n",
       "      <td>21.79</td>\n",
       "      <td>4.78</td>\n",
       "      <td>-4.38</td>\n",
       "      <td>4.46</td>\n",
       "      <td>21.81</td>\n",
       "      <td>6.67</td>\n",
       "      <td>...</td>\n",
       "      <td>45.60</td>\n",
       "      <td>90.22</td>\n",
       "      <td>26.34</td>\n",
       "      <td>34.64</td>\n",
       "      <td>65.36</td>\n",
       "      <td>25.33</td>\n",
       "      <td>1.72</td>\n",
       "      <td>2.39</td>\n",
       "      <td>2011</td>\n",
       "      <td>0</td>\n",
       "    </tr>\n",
       "    <tr>\n",
       "      <th>3</th>\n",
       "      <td>38.02</td>\n",
       "      <td>-0.28</td>\n",
       "      <td>-6.99</td>\n",
       "      <td>1.83</td>\n",
       "      <td>3.74</td>\n",
       "      <td>4.69</td>\n",
       "      <td>0.00</td>\n",
       "      <td>-76.06</td>\n",
       "      <td>22.83</td>\n",
       "      <td>1.20</td>\n",
       "      <td>...</td>\n",
       "      <td>481.09</td>\n",
       "      <td>0.00</td>\n",
       "      <td>20.74</td>\n",
       "      <td>85.32</td>\n",
       "      <td>14.68</td>\n",
       "      <td>5.77</td>\n",
       "      <td>22.67</td>\n",
       "      <td>4.26</td>\n",
       "      <td>2011</td>\n",
       "      <td>0</td>\n",
       "    </tr>\n",
       "    <tr>\n",
       "      <th>4</th>\n",
       "      <td>244.00</td>\n",
       "      <td>184.49</td>\n",
       "      <td>95.92</td>\n",
       "      <td>187.78</td>\n",
       "      <td>100.71</td>\n",
       "      <td>261.04</td>\n",
       "      <td>848.10</td>\n",
       "      <td>499.60</td>\n",
       "      <td>13.35</td>\n",
       "      <td>11.09</td>\n",
       "      <td>...</td>\n",
       "      <td>120.05</td>\n",
       "      <td>6317.93</td>\n",
       "      <td>20.51</td>\n",
       "      <td>43.84</td>\n",
       "      <td>56.16</td>\n",
       "      <td>54.05</td>\n",
       "      <td>8.56</td>\n",
       "      <td>2.93</td>\n",
       "      <td>2011</td>\n",
       "      <td>0</td>\n",
       "    </tr>\n",
       "  </tbody>\n",
       "</table>\n",
       "<p>5 rows × 50 columns</p>\n",
       "</div>"
      ],
      "text/plain": [
       "   [제조]매출액증가율  [제조]유형자산증가율  [제조]비유동자산증가율  [제조]총자본증가율  [제조]자기자본증가율  \\\n",
       "0       56.40        -5.90        -12.89        1.98        -2.02   \n",
       "1       -1.41        -6.94         -5.45       -0.25        -1.44   \n",
       "2       -6.84         0.00          1.61        3.11        21.79   \n",
       "3       38.02        -0.28         -6.99        1.83         3.74   \n",
       "4      244.00       184.49         95.92      187.78       100.71   \n",
       "\n",
       "   [제조]유동자산증가율  [제조]순이익증가율  [제조]재고자산증가율  [제조]매출액총이익률  [제조]매출액순이익률  ...  \\\n",
       "0        17.64      -78.28        -1.43        41.83        -8.50  ...   \n",
       "1         4.52      -32.13        32.57        46.33         5.97  ...   \n",
       "2         4.78       -4.38         4.46        21.81         6.67  ...   \n",
       "3         4.69        0.00       -76.06        22.83         1.20  ...   \n",
       "4       261.04      848.10       499.60        13.35        11.09  ...   \n",
       "\n",
       "   [제조]설비투자효율  [제조]기계투자효율  [제조]부가가치율  [제조]노동소득분배율  [제조]자본분배율  [제조]이윤분배율  \\\n",
       "0       35.86      128.51      19.56        89.82      10.18     -43.44   \n",
       "1      705.44        0.00      39.01        45.08      54.92      15.30   \n",
       "2       45.60       90.22      26.34        34.64      65.36      25.33   \n",
       "3      481.09        0.00      20.74        85.32      14.68       5.77   \n",
       "4      120.05     6317.93      20.51        43.84      56.16      54.05   \n",
       "\n",
       "   [제조]유형자산회전율  [제조]이자보상배율(이자비용)  year  label  \n",
       "0         1.77              3.53  2011      0  \n",
       "1        17.44             19.13  2011      0  \n",
       "2         1.72              2.39  2011      0  \n",
       "3        22.67              4.26  2011      0  \n",
       "4         8.56              2.93  2011      0  \n",
       "\n",
       "[5 rows x 50 columns]"
      ]
     },
     "execution_count": 8,
     "metadata": {},
     "output_type": "execute_result"
    }
   ],
   "source": [
    "# Data set1 로지로 선정된 피처들 분리\n",
    "df = df.sort_values([\"year\"],ascending=True)\n",
    "df_data = df[['[제조]유동자산구성비율','[제조]자기자본구성비율','[제조]총자본증가율','[제조]자기자본증가율','[제조]순운전자본비율',\n",
    "              '[제조]부채비율','[제조]매출채권회전률','[제조]노동소득분배율','[제조]자기자본배율']]\n",
    "# df_data_scaled= StandardScaler().fit_transform(df_data)\n",
    "# df_data_scaled= MinMaxScaler().fit_transform(df_data)\n",
    "# df_data_scaled = pd.DataFrame(df_data_scaled)\n",
    "# df_data_scaled.columns =[['[제조]유동자산구성비율','[제조]자기자본구성비율','[제조]총자본증가율','[제조]자기자본증가율',\n",
    "# '[제조]현금비율','[제조]부채비율','[제조]매출채권회전률','[제조]노동소득분배율','[제조]자기자본배율']]\n",
    "# df[['[제조]유동자산구성비율','[제조]자기자본구성비율','[제조]총자본증가율',\n",
    "# '[제조]자기자본증가율','[제조]현금비율','[제조]부채비율','[제조]매출채권회전률','[제조]노동소득분배율','[제조]자기자본배율']] = df_data_scaled[['[제조]유동자산구성비율','[제조]자기자본구성비율','[제조]총자본증가율','[제조]자기자본증가율','[제조]현금비율','[제조]부채비율','[제조]매출채권회전률','[제조]노동소득분배율','[제조]자기자본배율']]\n",
    "df =df.reset_index(drop=\"index\")\n",
    "df.head()"
   ]
  },
  {
   "cell_type": "code",
   "execution_count": 9,
   "metadata": {},
   "outputs": [],
   "source": [
    "# train test set 분리\n",
    "df1 = df[df['year']<2019] #train\n",
    "df2 = df[df['year']>=2019] #test\n",
    "# train data label 분리 test data label 분리\n",
    "X_train= df1[['[제조]유동자산구성비율','[제조]자기자본구성비율','[제조]총자본증가율','[제조]자기자본증가율',\n",
    "              '[제조]현금비율','[제조]부채비율','[제조]매출채권회전률','[제조]노동소득분배율','[제조]자기자본배율']]\n",
    "X_test = df2[['[제조]유동자산구성비율','[제조]자기자본구성비율','[제조]총자본증가율','[제조]자기자본증가율','[제조]현금비율',\n",
    "              '[제조]부채비율','[제조]매출채권회전률','[제조]노동소득분배율','[제조]자기자본배율']]\n",
    "y_train = df1[\"label\"]\n",
    "y_test = df2[\"label\"]\n",
    "\n",
    "# x_train_scaled= StandardScaler().fit_transform(X_train)\n",
    "# x_test_scaled = fit_transform(X_test)\n",
    "# # df_data_scaled= MinMaxScaler().fit_transform(df_data)\n",
    "# X_train_scaled = pd.DataFrame(x_train_scaled)"
   ]
  },
  {
   "cell_type": "code",
   "execution_count": null,
   "metadata": {},
   "outputs": [],
   "source": []
  },
  {
   "cell_type": "code",
   "execution_count": 10,
   "metadata": {},
   "outputs": [],
   "source": [
    "# 기본적인 LDA 구현\n",
    "from sklearn.discriminant_analysis import LinearDiscriminantAnalysis\n",
    "lda_clf = LinearDiscriminantAnalysis()\n",
    "lda_clf.fit(X_train,y_train)\n",
    "lda_pred = lda_clf.predict(X_test)\n",
    "lda_pred_proba = lda_clf.predict_proba(X_test)"
   ]
  },
  {
   "cell_type": "code",
   "execution_count": 11,
   "metadata": {},
   "outputs": [],
   "source": [
    "from sklearn.model_selection import GridSearchCV\n"
   ]
  },
  {
   "cell_type": "code",
   "execution_count": 12,
   "metadata": {},
   "outputs": [],
   "source": [
    "# 디시전트리 구현\n",
    "from sklearn.tree import DecisionTreeClassifier       \n",
    "dt_clf = DecisionTreeClassifier(random_state=52)     \n",
    "dt_clf.fit(X_train, y_train)\n",
    "dt_pred = dt_clf.predict(X_test)\n",
    "dt_pred_proba = dt_clf.predict_proba(X_test)"
   ]
  },
  {
   "cell_type": "code",
   "execution_count": 13,
   "metadata": {},
   "outputs": [
    {
     "name": "stdout",
     "output_type": "stream",
     "text": [
      "최적 하이퍼 파라미터 :{'max_depth': 3, 'min_samples_leaf': 6}, 최적 평균 정확도 :0.984\n"
     ]
    }
   ],
   "source": [
    "\n",
    "tree = DecisionTreeClassifier()\n",
    "\n",
    "# 딕셔너리로 전달\n",
    "# key: 하이퍼파라미터 명; value: [후보값들] 을 리스트로 전달\n",
    "param_grid = {\n",
    "    'max_depth':[2,3,4,5,6,7,8], #7개\n",
    "    'min_samples_leaf':[5,6,7,8,9,10,11,12,13,14,15,16,17,18,19,20]  #4개 --> 7x4 = 총 28개의 조합\n",
    "}\n",
    "grid_search = GridSearchCV(tree\n",
    "                          , param_grid = param_grid\n",
    "                          , cv = 5 #교차검증시 fold 개수; n번의 교차검증; 데이터들이 돌아가면서 하나씩 검증(validation)에 사용되어 일반화하는 것; 데이터가 많지 않을 때 보통 쓰인다고 함\n",
    "                          , n_jobs = -1)  #-1: 모든 코어 사용\n",
    "\n",
    "grid_search.fit(X_train, y_train)\n",
    "\n",
    "# 최선의 결과 출력\n",
    "print('최적 하이퍼 파라미터 :{0}, 최적 평균 정확도 :{1:.3f}'.format(grid_search.best_params_, grid_search.best_score_))"
   ]
  },
  {
   "cell_type": "code",
   "execution_count": 14,
   "metadata": {},
   "outputs": [],
   "source": [
    "# 최적 하이퍼 파라미터 적용 디시전 트리  \n",
    "#{'max_depth': 3, 'min_samples_leaf': 6}, 최적 평균 정확도 :0.984\n",
    "  \n",
    "dt_clf_best = DecisionTreeClassifier(random_state=52,max_depth= 3,min_samples_leaf=6)     \n",
    "dt_clf_best.fit(X_train, y_train)\n",
    "dt_best_pred = dt_clf_best.predict(X_test)\n",
    "dt_best_pred_proba = dt_clf_best.predict_proba(X_test)"
   ]
  },
  {
   "cell_type": "code",
   "execution_count": 15,
   "metadata": {},
   "outputs": [],
   "source": [
    "# 랜덤포레스트 구현\n",
    "from sklearn.ensemble import RandomForestClassifier\n",
    "rf_clf = RandomForestClassifier(random_state=52)     \n",
    "rf_clf.fit(X_train, y_train)\n",
    "rf_pred = rf_clf.predict(X_test)\n",
    "rf_pred_proba = rf_clf.predict_proba(X_test)"
   ]
  },
  {
   "cell_type": "code",
   "execution_count": 16,
   "metadata": {},
   "outputs": [
    {
     "name": "stdout",
     "output_type": "stream",
     "text": [
      "최적 하이퍼 파라미터 :{'criterion': 'gini', 'max_depth': 2, 'max_features': 'auto', 'min_samples_leaf': 4, 'min_samples_split': 10, 'n_estimators': 20}, 최적 평균 정확도 :0.985\n"
     ]
    },
    {
     "name": "stderr",
     "output_type": "stream",
     "text": [
      "c:\\Users\\82104\\AppData\\Local\\Programs\\Python\\Python39-32\\lib\\site-packages\\sklearn\\ensemble\\_forest.py:427: FutureWarning: `max_features='auto'` has been deprecated in 1.1 and will be removed in 1.3. To keep the past behaviour, explicitly set `max_features='sqrt'` or remove this parameter as it is also the default value for RandomForestClassifiers and ExtraTreesClassifiers.\n",
      "  warn(\n"
     ]
    }
   ],
   "source": [
    " # 하이퍼파라미터 Grid-Search\n",
    " from sklearn.model_selection import GridSearchCV\n",
    "\n",
    "# # 탐색 범위 정의\n",
    " grid_search = {'criterion': ['entropy', 'gini'],\n",
    "                'max_depth': [2,4,6,8],\n",
    "                'max_features': ['auto', 'sqrt'],\n",
    "                'min_samples_leaf': [4,6,8.10],\n",
    "                'min_samples_split': [4,6,8,10],\n",
    "                'n_estimators': [20,40,60,80,100]}\n",
    "\n",
    " model = RandomForestClassifier()\n",
    " grid = GridSearchCV(estimator = model, param_grid = grid_search, \n",
    "                                cv = 4,verbose=0, n_jobs = -1)\n",
    " grid.fit(X_train,y_train)\n",
    "\n",
    "# # 최선의 결과 출력\n",
    " print('최적 하이퍼 파라미터 :{0}, 최적 평균 정확도 :{1:.3f}'.format(grid.best_params_, grid.best_score_))\n"
   ]
  },
  {
   "cell_type": "code",
   "execution_count": 105,
   "metadata": {},
   "outputs": [
    {
     "name": "stderr",
     "output_type": "stream",
     "text": [
      "c:\\Users\\tlsdm\\AppData\\Local\\Programs\\Python\\Python310\\lib\\site-packages\\sklearn\\ensemble\\_forest.py:427: FutureWarning: `max_features='auto'` has been deprecated in 1.1 and will be removed in 1.3. To keep the past behaviour, explicitly set `max_features='sqrt'` or remove this parameter as it is also the default value for RandomForestClassifiers and ExtraTreesClassifiers.\n",
      "  warn(\n"
     ]
    }
   ],
   "source": [
    "# 랜덤 포레스트 최적 하이퍼 파라미터 적용\n",
    "# 최적 하이퍼 파라미터 :{'criterion': 'entropy', 'max_depth': 8, 'max_features': 'auto', 'min_samples_leaf': 4, \n",
    "# 'min_samples_split': 4, 'n_estimators': 20}, 최적 평균 정확도 :0.985\n",
    "rf_clf_best = RandomForestClassifier(random_state=52, criterion = 'entropy', max_features= 'auto',\n",
    "                                     max_depth=8, min_samples_leaf=4, min_samples_split=4, n_estimators=20)\n",
    "rf_clf_best.fit(X_train, y_train)\n",
    "rf_best_pred = rf_clf_best.predict(X_test)\n",
    "rf_best_pred_proba = rf_clf_best.predict_proba(X_test)"
   ]
  },
  {
   "cell_type": "code",
   "execution_count": 106,
   "metadata": {},
   "outputs": [
    {
     "name": "stderr",
     "output_type": "stream",
     "text": [
      "c:\\Users\\tlsdm\\AppData\\Local\\Programs\\Python\\Python310\\lib\\site-packages\\sklearn\\linear_model\\_logistic.py:444: ConvergenceWarning: lbfgs failed to converge (status=1):\n",
      "STOP: TOTAL NO. of ITERATIONS REACHED LIMIT.\n",
      "\n",
      "Increase the number of iterations (max_iter) or scale the data as shown in:\n",
      "    https://scikit-learn.org/stable/modules/preprocessing.html\n",
      "Please also refer to the documentation for alternative solver options:\n",
      "    https://scikit-learn.org/stable/modules/linear_model.html#logistic-regression\n",
      "  n_iter_i = _check_optimize_result(\n"
     ]
    }
   ],
   "source": [
    "# 로지스틱 회귀 모델\n",
    "from sklearn.linear_model import LogisticRegression\n",
    "#로지스틱 회귀를 위한 스케일링 \n",
    "lr_clf = LogisticRegression()\n",
    "lr_clf.fit(X_train, y_train)\n",
    "lr_pred = lr_clf.predict(X_test)\n",
    "lr_pred_proba = lr_clf.predict_proba(X_test)\n"
   ]
  },
  {
   "cell_type": "code",
   "execution_count": 107,
   "metadata": {},
   "outputs": [
    {
     "name": "stderr",
     "output_type": "stream",
     "text": [
      "c:\\Users\\tlsdm\\AppData\\Local\\Programs\\Python\\Python310\\lib\\site-packages\\sklearn\\linear_model\\_logistic.py:444: ConvergenceWarning: lbfgs failed to converge (status=1):\n",
      "STOP: TOTAL NO. of ITERATIONS REACHED LIMIT.\n",
      "\n",
      "Increase the number of iterations (max_iter) or scale the data as shown in:\n",
      "    https://scikit-learn.org/stable/modules/preprocessing.html\n",
      "Please also refer to the documentation for alternative solver options:\n",
      "    https://scikit-learn.org/stable/modules/linear_model.html#logistic-regression\n",
      "  n_iter_i = _check_optimize_result(\n",
      "c:\\Users\\tlsdm\\AppData\\Local\\Programs\\Python\\Python310\\lib\\site-packages\\sklearn\\linear_model\\_logistic.py:444: ConvergenceWarning: lbfgs failed to converge (status=1):\n",
      "STOP: TOTAL NO. of ITERATIONS REACHED LIMIT.\n",
      "\n",
      "Increase the number of iterations (max_iter) or scale the data as shown in:\n",
      "    https://scikit-learn.org/stable/modules/preprocessing.html\n",
      "Please also refer to the documentation for alternative solver options:\n",
      "    https://scikit-learn.org/stable/modules/linear_model.html#logistic-regression\n",
      "  n_iter_i = _check_optimize_result(\n",
      "c:\\Users\\tlsdm\\AppData\\Local\\Programs\\Python\\Python310\\lib\\site-packages\\sklearn\\linear_model\\_logistic.py:444: ConvergenceWarning: lbfgs failed to converge (status=1):\n",
      "STOP: TOTAL NO. of ITERATIONS REACHED LIMIT.\n",
      "\n",
      "Increase the number of iterations (max_iter) or scale the data as shown in:\n",
      "    https://scikit-learn.org/stable/modules/preprocessing.html\n",
      "Please also refer to the documentation for alternative solver options:\n",
      "    https://scikit-learn.org/stable/modules/linear_model.html#logistic-regression\n",
      "  n_iter_i = _check_optimize_result(\n",
      "c:\\Users\\tlsdm\\AppData\\Local\\Programs\\Python\\Python310\\lib\\site-packages\\sklearn\\linear_model\\_logistic.py:444: ConvergenceWarning: lbfgs failed to converge (status=1):\n",
      "STOP: TOTAL NO. of ITERATIONS REACHED LIMIT.\n",
      "\n",
      "Increase the number of iterations (max_iter) or scale the data as shown in:\n",
      "    https://scikit-learn.org/stable/modules/preprocessing.html\n",
      "Please also refer to the documentation for alternative solver options:\n",
      "    https://scikit-learn.org/stable/modules/linear_model.html#logistic-regression\n",
      "  n_iter_i = _check_optimize_result(\n",
      "c:\\Users\\tlsdm\\AppData\\Local\\Programs\\Python\\Python310\\lib\\site-packages\\sklearn\\linear_model\\_logistic.py:444: ConvergenceWarning: lbfgs failed to converge (status=1):\n",
      "STOP: TOTAL NO. of ITERATIONS REACHED LIMIT.\n",
      "\n",
      "Increase the number of iterations (max_iter) or scale the data as shown in:\n",
      "    https://scikit-learn.org/stable/modules/preprocessing.html\n",
      "Please also refer to the documentation for alternative solver options:\n",
      "    https://scikit-learn.org/stable/modules/linear_model.html#logistic-regression\n",
      "  n_iter_i = _check_optimize_result(\n",
      "c:\\Users\\tlsdm\\AppData\\Local\\Programs\\Python\\Python310\\lib\\site-packages\\sklearn\\linear_model\\_logistic.py:444: ConvergenceWarning: lbfgs failed to converge (status=1):\n",
      "STOP: TOTAL NO. of ITERATIONS REACHED LIMIT.\n",
      "\n",
      "Increase the number of iterations (max_iter) or scale the data as shown in:\n",
      "    https://scikit-learn.org/stable/modules/preprocessing.html\n",
      "Please also refer to the documentation for alternative solver options:\n",
      "    https://scikit-learn.org/stable/modules/linear_model.html#logistic-regression\n",
      "  n_iter_i = _check_optimize_result(\n",
      "c:\\Users\\tlsdm\\AppData\\Local\\Programs\\Python\\Python310\\lib\\site-packages\\sklearn\\linear_model\\_logistic.py:444: ConvergenceWarning: lbfgs failed to converge (status=1):\n",
      "STOP: TOTAL NO. of ITERATIONS REACHED LIMIT.\n",
      "\n",
      "Increase the number of iterations (max_iter) or scale the data as shown in:\n",
      "    https://scikit-learn.org/stable/modules/preprocessing.html\n",
      "Please also refer to the documentation for alternative solver options:\n",
      "    https://scikit-learn.org/stable/modules/linear_model.html#logistic-regression\n",
      "  n_iter_i = _check_optimize_result(\n",
      "c:\\Users\\tlsdm\\AppData\\Local\\Programs\\Python\\Python310\\lib\\site-packages\\sklearn\\linear_model\\_logistic.py:444: ConvergenceWarning: lbfgs failed to converge (status=1):\n",
      "STOP: TOTAL NO. of ITERATIONS REACHED LIMIT.\n",
      "\n",
      "Increase the number of iterations (max_iter) or scale the data as shown in:\n",
      "    https://scikit-learn.org/stable/modules/preprocessing.html\n",
      "Please also refer to the documentation for alternative solver options:\n",
      "    https://scikit-learn.org/stable/modules/linear_model.html#logistic-regression\n",
      "  n_iter_i = _check_optimize_result(\n",
      "c:\\Users\\tlsdm\\AppData\\Local\\Programs\\Python\\Python310\\lib\\site-packages\\sklearn\\linear_model\\_logistic.py:444: ConvergenceWarning: lbfgs failed to converge (status=1):\n",
      "STOP: TOTAL NO. of ITERATIONS REACHED LIMIT.\n",
      "\n",
      "Increase the number of iterations (max_iter) or scale the data as shown in:\n",
      "    https://scikit-learn.org/stable/modules/preprocessing.html\n",
      "Please also refer to the documentation for alternative solver options:\n",
      "    https://scikit-learn.org/stable/modules/linear_model.html#logistic-regression\n",
      "  n_iter_i = _check_optimize_result(\n",
      "c:\\Users\\tlsdm\\AppData\\Local\\Programs\\Python\\Python310\\lib\\site-packages\\sklearn\\linear_model\\_logistic.py:444: ConvergenceWarning: lbfgs failed to converge (status=1):\n",
      "STOP: TOTAL NO. of ITERATIONS REACHED LIMIT.\n",
      "\n",
      "Increase the number of iterations (max_iter) or scale the data as shown in:\n",
      "    https://scikit-learn.org/stable/modules/preprocessing.html\n",
      "Please also refer to the documentation for alternative solver options:\n",
      "    https://scikit-learn.org/stable/modules/linear_model.html#logistic-regression\n",
      "  n_iter_i = _check_optimize_result(\n",
      "c:\\Users\\tlsdm\\AppData\\Local\\Programs\\Python\\Python310\\lib\\site-packages\\sklearn\\linear_model\\_logistic.py:444: ConvergenceWarning: lbfgs failed to converge (status=1):\n",
      "STOP: TOTAL NO. of ITERATIONS REACHED LIMIT.\n",
      "\n",
      "Increase the number of iterations (max_iter) or scale the data as shown in:\n",
      "    https://scikit-learn.org/stable/modules/preprocessing.html\n",
      "Please also refer to the documentation for alternative solver options:\n",
      "    https://scikit-learn.org/stable/modules/linear_model.html#logistic-regression\n",
      "  n_iter_i = _check_optimize_result(\n",
      "c:\\Users\\tlsdm\\AppData\\Local\\Programs\\Python\\Python310\\lib\\site-packages\\sklearn\\linear_model\\_logistic.py:444: ConvergenceWarning: lbfgs failed to converge (status=1):\n",
      "STOP: TOTAL NO. of ITERATIONS REACHED LIMIT.\n",
      "\n",
      "Increase the number of iterations (max_iter) or scale the data as shown in:\n",
      "    https://scikit-learn.org/stable/modules/preprocessing.html\n",
      "Please also refer to the documentation for alternative solver options:\n",
      "    https://scikit-learn.org/stable/modules/linear_model.html#logistic-regression\n",
      "  n_iter_i = _check_optimize_result(\n",
      "c:\\Users\\tlsdm\\AppData\\Local\\Programs\\Python\\Python310\\lib\\site-packages\\sklearn\\linear_model\\_logistic.py:444: ConvergenceWarning: lbfgs failed to converge (status=1):\n",
      "STOP: TOTAL NO. of ITERATIONS REACHED LIMIT.\n",
      "\n",
      "Increase the number of iterations (max_iter) or scale the data as shown in:\n",
      "    https://scikit-learn.org/stable/modules/preprocessing.html\n",
      "Please also refer to the documentation for alternative solver options:\n",
      "    https://scikit-learn.org/stable/modules/linear_model.html#logistic-regression\n",
      "  n_iter_i = _check_optimize_result(\n",
      "c:\\Users\\tlsdm\\AppData\\Local\\Programs\\Python\\Python310\\lib\\site-packages\\sklearn\\linear_model\\_logistic.py:444: ConvergenceWarning: lbfgs failed to converge (status=1):\n",
      "STOP: TOTAL NO. of ITERATIONS REACHED LIMIT.\n",
      "\n",
      "Increase the number of iterations (max_iter) or scale the data as shown in:\n",
      "    https://scikit-learn.org/stable/modules/preprocessing.html\n",
      "Please also refer to the documentation for alternative solver options:\n",
      "    https://scikit-learn.org/stable/modules/linear_model.html#logistic-regression\n",
      "  n_iter_i = _check_optimize_result(\n",
      "c:\\Users\\tlsdm\\AppData\\Local\\Programs\\Python\\Python310\\lib\\site-packages\\sklearn\\linear_model\\_logistic.py:444: ConvergenceWarning: lbfgs failed to converge (status=1):\n",
      "STOP: TOTAL NO. of ITERATIONS REACHED LIMIT.\n",
      "\n",
      "Increase the number of iterations (max_iter) or scale the data as shown in:\n",
      "    https://scikit-learn.org/stable/modules/preprocessing.html\n",
      "Please also refer to the documentation for alternative solver options:\n",
      "    https://scikit-learn.org/stable/modules/linear_model.html#logistic-regression\n",
      "  n_iter_i = _check_optimize_result(\n",
      "c:\\Users\\tlsdm\\AppData\\Local\\Programs\\Python\\Python310\\lib\\site-packages\\sklearn\\linear_model\\_logistic.py:444: ConvergenceWarning: lbfgs failed to converge (status=1):\n",
      "STOP: TOTAL NO. of ITERATIONS REACHED LIMIT.\n",
      "\n",
      "Increase the number of iterations (max_iter) or scale the data as shown in:\n",
      "    https://scikit-learn.org/stable/modules/preprocessing.html\n",
      "Please also refer to the documentation for alternative solver options:\n",
      "    https://scikit-learn.org/stable/modules/linear_model.html#logistic-regression\n",
      "  n_iter_i = _check_optimize_result(\n",
      "c:\\Users\\tlsdm\\AppData\\Local\\Programs\\Python\\Python310\\lib\\site-packages\\sklearn\\linear_model\\_logistic.py:444: ConvergenceWarning: lbfgs failed to converge (status=1):\n",
      "STOP: TOTAL NO. of ITERATIONS REACHED LIMIT.\n",
      "\n",
      "Increase the number of iterations (max_iter) or scale the data as shown in:\n",
      "    https://scikit-learn.org/stable/modules/preprocessing.html\n",
      "Please also refer to the documentation for alternative solver options:\n",
      "    https://scikit-learn.org/stable/modules/linear_model.html#logistic-regression\n",
      "  n_iter_i = _check_optimize_result(\n",
      "c:\\Users\\tlsdm\\AppData\\Local\\Programs\\Python\\Python310\\lib\\site-packages\\sklearn\\linear_model\\_logistic.py:444: ConvergenceWarning: lbfgs failed to converge (status=1):\n",
      "STOP: TOTAL NO. of ITERATIONS REACHED LIMIT.\n",
      "\n",
      "Increase the number of iterations (max_iter) or scale the data as shown in:\n",
      "    https://scikit-learn.org/stable/modules/preprocessing.html\n",
      "Please also refer to the documentation for alternative solver options:\n",
      "    https://scikit-learn.org/stable/modules/linear_model.html#logistic-regression\n",
      "  n_iter_i = _check_optimize_result(\n",
      "c:\\Users\\tlsdm\\AppData\\Local\\Programs\\Python\\Python310\\lib\\site-packages\\sklearn\\linear_model\\_logistic.py:444: ConvergenceWarning: lbfgs failed to converge (status=1):\n",
      "STOP: TOTAL NO. of ITERATIONS REACHED LIMIT.\n",
      "\n",
      "Increase the number of iterations (max_iter) or scale the data as shown in:\n",
      "    https://scikit-learn.org/stable/modules/preprocessing.html\n",
      "Please also refer to the documentation for alternative solver options:\n",
      "    https://scikit-learn.org/stable/modules/linear_model.html#logistic-regression\n",
      "  n_iter_i = _check_optimize_result(\n",
      "c:\\Users\\tlsdm\\AppData\\Local\\Programs\\Python\\Python310\\lib\\site-packages\\sklearn\\linear_model\\_logistic.py:444: ConvergenceWarning: lbfgs failed to converge (status=1):\n",
      "STOP: TOTAL NO. of ITERATIONS REACHED LIMIT.\n",
      "\n",
      "Increase the number of iterations (max_iter) or scale the data as shown in:\n",
      "    https://scikit-learn.org/stable/modules/preprocessing.html\n",
      "Please also refer to the documentation for alternative solver options:\n",
      "    https://scikit-learn.org/stable/modules/linear_model.html#logistic-regression\n",
      "  n_iter_i = _check_optimize_result(\n",
      "c:\\Users\\tlsdm\\AppData\\Local\\Programs\\Python\\Python310\\lib\\site-packages\\sklearn\\linear_model\\_logistic.py:444: ConvergenceWarning: lbfgs failed to converge (status=1):\n",
      "STOP: TOTAL NO. of ITERATIONS REACHED LIMIT.\n",
      "\n",
      "Increase the number of iterations (max_iter) or scale the data as shown in:\n",
      "    https://scikit-learn.org/stable/modules/preprocessing.html\n",
      "Please also refer to the documentation for alternative solver options:\n",
      "    https://scikit-learn.org/stable/modules/linear_model.html#logistic-regression\n",
      "  n_iter_i = _check_optimize_result(\n",
      "c:\\Users\\tlsdm\\AppData\\Local\\Programs\\Python\\Python310\\lib\\site-packages\\sklearn\\linear_model\\_logistic.py:444: ConvergenceWarning: lbfgs failed to converge (status=1):\n",
      "STOP: TOTAL NO. of ITERATIONS REACHED LIMIT.\n",
      "\n",
      "Increase the number of iterations (max_iter) or scale the data as shown in:\n",
      "    https://scikit-learn.org/stable/modules/preprocessing.html\n",
      "Please also refer to the documentation for alternative solver options:\n",
      "    https://scikit-learn.org/stable/modules/linear_model.html#logistic-regression\n",
      "  n_iter_i = _check_optimize_result(\n",
      "c:\\Users\\tlsdm\\AppData\\Local\\Programs\\Python\\Python310\\lib\\site-packages\\sklearn\\linear_model\\_logistic.py:444: ConvergenceWarning: lbfgs failed to converge (status=1):\n",
      "STOP: TOTAL NO. of ITERATIONS REACHED LIMIT.\n",
      "\n",
      "Increase the number of iterations (max_iter) or scale the data as shown in:\n",
      "    https://scikit-learn.org/stable/modules/preprocessing.html\n",
      "Please also refer to the documentation for alternative solver options:\n",
      "    https://scikit-learn.org/stable/modules/linear_model.html#logistic-regression\n",
      "  n_iter_i = _check_optimize_result(\n",
      "c:\\Users\\tlsdm\\AppData\\Local\\Programs\\Python\\Python310\\lib\\site-packages\\sklearn\\linear_model\\_logistic.py:444: ConvergenceWarning: lbfgs failed to converge (status=1):\n",
      "STOP: TOTAL NO. of ITERATIONS REACHED LIMIT.\n",
      "\n",
      "Increase the number of iterations (max_iter) or scale the data as shown in:\n",
      "    https://scikit-learn.org/stable/modules/preprocessing.html\n",
      "Please also refer to the documentation for alternative solver options:\n",
      "    https://scikit-learn.org/stable/modules/linear_model.html#logistic-regression\n",
      "  n_iter_i = _check_optimize_result(\n",
      "c:\\Users\\tlsdm\\AppData\\Local\\Programs\\Python\\Python310\\lib\\site-packages\\sklearn\\linear_model\\_logistic.py:444: ConvergenceWarning: lbfgs failed to converge (status=1):\n",
      "STOP: TOTAL NO. of ITERATIONS REACHED LIMIT.\n",
      "\n",
      "Increase the number of iterations (max_iter) or scale the data as shown in:\n",
      "    https://scikit-learn.org/stable/modules/preprocessing.html\n",
      "Please also refer to the documentation for alternative solver options:\n",
      "    https://scikit-learn.org/stable/modules/linear_model.html#logistic-regression\n",
      "  n_iter_i = _check_optimize_result(\n",
      "c:\\Users\\tlsdm\\AppData\\Local\\Programs\\Python\\Python310\\lib\\site-packages\\sklearn\\linear_model\\_logistic.py:444: ConvergenceWarning: lbfgs failed to converge (status=1):\n",
      "STOP: TOTAL NO. of ITERATIONS REACHED LIMIT.\n",
      "\n",
      "Increase the number of iterations (max_iter) or scale the data as shown in:\n",
      "    https://scikit-learn.org/stable/modules/preprocessing.html\n",
      "Please also refer to the documentation for alternative solver options:\n",
      "    https://scikit-learn.org/stable/modules/linear_model.html#logistic-regression\n",
      "  n_iter_i = _check_optimize_result(\n",
      "c:\\Users\\tlsdm\\AppData\\Local\\Programs\\Python\\Python310\\lib\\site-packages\\sklearn\\linear_model\\_logistic.py:444: ConvergenceWarning: lbfgs failed to converge (status=1):\n",
      "STOP: TOTAL NO. of ITERATIONS REACHED LIMIT.\n",
      "\n",
      "Increase the number of iterations (max_iter) or scale the data as shown in:\n",
      "    https://scikit-learn.org/stable/modules/preprocessing.html\n",
      "Please also refer to the documentation for alternative solver options:\n",
      "    https://scikit-learn.org/stable/modules/linear_model.html#logistic-regression\n",
      "  n_iter_i = _check_optimize_result(\n",
      "c:\\Users\\tlsdm\\AppData\\Local\\Programs\\Python\\Python310\\lib\\site-packages\\sklearn\\linear_model\\_logistic.py:444: ConvergenceWarning: lbfgs failed to converge (status=1):\n",
      "STOP: TOTAL NO. of ITERATIONS REACHED LIMIT.\n",
      "\n",
      "Increase the number of iterations (max_iter) or scale the data as shown in:\n",
      "    https://scikit-learn.org/stable/modules/preprocessing.html\n",
      "Please also refer to the documentation for alternative solver options:\n",
      "    https://scikit-learn.org/stable/modules/linear_model.html#logistic-regression\n",
      "  n_iter_i = _check_optimize_result(\n",
      "c:\\Users\\tlsdm\\AppData\\Local\\Programs\\Python\\Python310\\lib\\site-packages\\sklearn\\linear_model\\_logistic.py:444: ConvergenceWarning: lbfgs failed to converge (status=1):\n",
      "STOP: TOTAL NO. of ITERATIONS REACHED LIMIT.\n",
      "\n",
      "Increase the number of iterations (max_iter) or scale the data as shown in:\n",
      "    https://scikit-learn.org/stable/modules/preprocessing.html\n",
      "Please also refer to the documentation for alternative solver options:\n",
      "    https://scikit-learn.org/stable/modules/linear_model.html#logistic-regression\n",
      "  n_iter_i = _check_optimize_result(\n",
      "c:\\Users\\tlsdm\\AppData\\Local\\Programs\\Python\\Python310\\lib\\site-packages\\sklearn\\linear_model\\_logistic.py:444: ConvergenceWarning: lbfgs failed to converge (status=1):\n",
      "STOP: TOTAL NO. of ITERATIONS REACHED LIMIT.\n",
      "\n",
      "Increase the number of iterations (max_iter) or scale the data as shown in:\n",
      "    https://scikit-learn.org/stable/modules/preprocessing.html\n",
      "Please also refer to the documentation for alternative solver options:\n",
      "    https://scikit-learn.org/stable/modules/linear_model.html#logistic-regression\n",
      "  n_iter_i = _check_optimize_result(\n",
      "c:\\Users\\tlsdm\\AppData\\Local\\Programs\\Python\\Python310\\lib\\site-packages\\sklearn\\model_selection\\_validation.py:378: FitFailedWarning: \n",
      "90 fits failed out of a total of 120.\n",
      "The score on these train-test partitions for these parameters will be set to nan.\n",
      "If these failures are not expected, you can try to debug them by setting error_score='raise'.\n",
      "\n",
      "Below are more details about the failures:\n",
      "--------------------------------------------------------------------------------\n",
      "30 fits failed with the following error:\n",
      "Traceback (most recent call last):\n",
      "  File \"c:\\Users\\tlsdm\\AppData\\Local\\Programs\\Python\\Python310\\lib\\site-packages\\sklearn\\model_selection\\_validation.py\", line 686, in _fit_and_score\n",
      "    estimator.fit(X_train, y_train, **fit_params)\n",
      "  File \"c:\\Users\\tlsdm\\AppData\\Local\\Programs\\Python\\Python310\\lib\\site-packages\\sklearn\\linear_model\\_logistic.py\", line 1091, in fit\n",
      "    solver = _check_solver(self.solver, self.penalty, self.dual)\n",
      "  File \"c:\\Users\\tlsdm\\AppData\\Local\\Programs\\Python\\Python310\\lib\\site-packages\\sklearn\\linear_model\\_logistic.py\", line 61, in _check_solver\n",
      "    raise ValueError(\n",
      "ValueError: Solver lbfgs supports only 'l2' or 'none' penalties, got l1 penalty.\n",
      "\n",
      "--------------------------------------------------------------------------------\n",
      "30 fits failed with the following error:\n",
      "Traceback (most recent call last):\n",
      "  File \"c:\\Users\\tlsdm\\AppData\\Local\\Programs\\Python\\Python310\\lib\\site-packages\\sklearn\\model_selection\\_validation.py\", line 686, in _fit_and_score\n",
      "    estimator.fit(X_train, y_train, **fit_params)\n",
      "  File \"c:\\Users\\tlsdm\\AppData\\Local\\Programs\\Python\\Python310\\lib\\site-packages\\sklearn\\linear_model\\_logistic.py\", line 1091, in fit\n",
      "    solver = _check_solver(self.solver, self.penalty, self.dual)\n",
      "  File \"c:\\Users\\tlsdm\\AppData\\Local\\Programs\\Python\\Python310\\lib\\site-packages\\sklearn\\linear_model\\_logistic.py\", line 61, in _check_solver\n",
      "    raise ValueError(\n",
      "ValueError: Solver lbfgs supports only 'l2' or 'none' penalties, got elasticnet penalty.\n",
      "\n",
      "--------------------------------------------------------------------------------\n",
      "30 fits failed with the following error:\n",
      "Traceback (most recent call last):\n",
      "  File \"c:\\Users\\tlsdm\\AppData\\Local\\Programs\\Python\\Python310\\lib\\site-packages\\sklearn\\model_selection\\_validation.py\", line 686, in _fit_and_score\n",
      "    estimator.fit(X_train, y_train, **fit_params)\n",
      "  File \"c:\\Users\\tlsdm\\AppData\\Local\\Programs\\Python\\Python310\\lib\\site-packages\\sklearn\\linear_model\\_logistic.py\", line 1091, in fit\n",
      "    solver = _check_solver(self.solver, self.penalty, self.dual)\n",
      "  File \"c:\\Users\\tlsdm\\AppData\\Local\\Programs\\Python\\Python310\\lib\\site-packages\\sklearn\\linear_model\\_logistic.py\", line 55, in _check_solver\n",
      "    raise ValueError(\n",
      "ValueError: Logistic Regression supports only penalties in ['l1', 'l2', 'elasticnet', 'none'], got None.\n",
      "\n",
      "  warnings.warn(some_fits_failed_message, FitFailedWarning)\n",
      "c:\\Users\\tlsdm\\AppData\\Local\\Programs\\Python\\Python310\\lib\\site-packages\\sklearn\\model_selection\\_search.py:953: UserWarning: One or more of the test scores are non-finite: [0.98307597        nan        nan        nan 0.98282891        nan\n",
      "        nan        nan 0.98295244        nan        nan        nan\n",
      " 0.98295244        nan        nan        nan 0.98282891        nan\n",
      "        nan        nan 0.98295244        nan        nan        nan]\n",
      "  warnings.warn(\n"
     ]
    },
    {
     "name": "stdout",
     "output_type": "stream",
     "text": [
      "최적 하이퍼 파라미어:{'C': 0.01, 'penalty': 'l2'}, 최적 평균 정확도:0.983\n"
     ]
    },
    {
     "name": "stderr",
     "output_type": "stream",
     "text": [
      "c:\\Users\\tlsdm\\AppData\\Local\\Programs\\Python\\Python310\\lib\\site-packages\\sklearn\\linear_model\\_logistic.py:444: ConvergenceWarning: lbfgs failed to converge (status=1):\n",
      "STOP: TOTAL NO. of ITERATIONS REACHED LIMIT.\n",
      "\n",
      "Increase the number of iterations (max_iter) or scale the data as shown in:\n",
      "    https://scikit-learn.org/stable/modules/preprocessing.html\n",
      "Please also refer to the documentation for alternative solver options:\n",
      "    https://scikit-learn.org/stable/modules/linear_model.html#logistic-regression\n",
      "  n_iter_i = _check_optimize_result(\n"
     ]
    }
   ],
   "source": [
    "#로지스틱 회귀 최적 하이퍼 파라미터\n",
    "from sklearn.model_selection import GridSearchCV\n",
    "\n",
    "params = {'penalty': ['l2','l1','elasticnet','None'],\n",
    "          'C':[0.01,0.1,1,1,5,10]}\n",
    "\n",
    "grid_clf = GridSearchCV(lr_clf, param_grid=params, scoring='accuracy', cv=5)\n",
    "grid_clf.fit(X_train,y_train)\n",
    "print('최적 하이퍼 파라미어:{0}, 최적 평균 정확도:{1:.3f}'.format(grid_clf.best_params_, grid_clf.best_score_))"
   ]
  },
  {
   "cell_type": "code",
   "execution_count": 108,
   "metadata": {},
   "outputs": [
    {
     "name": "stderr",
     "output_type": "stream",
     "text": [
      "c:\\Users\\tlsdm\\AppData\\Local\\Programs\\Python\\Python310\\lib\\site-packages\\sklearn\\linear_model\\_logistic.py:444: ConvergenceWarning: lbfgs failed to converge (status=1):\n",
      "STOP: TOTAL NO. of ITERATIONS REACHED LIMIT.\n",
      "\n",
      "Increase the number of iterations (max_iter) or scale the data as shown in:\n",
      "    https://scikit-learn.org/stable/modules/preprocessing.html\n",
      "Please also refer to the documentation for alternative solver options:\n",
      "    https://scikit-learn.org/stable/modules/linear_model.html#logistic-regression\n",
      "  n_iter_i = _check_optimize_result(\n"
     ]
    }
   ],
   "source": [
    "#최적 하이퍼 파라미어:{'C': 0.01, 'penalty': 'l2'}, 최적 평균 정확도:0.983\n",
    "# 로지스틱 회귀 모델\n",
    "from sklearn.linear_model import LogisticRegression\n",
    "#로지스틱 회귀를 위한 스케일링 \n",
    "lr_clf = LogisticRegression(C = 0.01, penalty= 'l2')\n",
    "lr_clf.fit(X_train, y_train)\n",
    "lr_best_pred = lr_clf.predict(X_test)\n",
    "lr_best_pred_proba = lr_clf.predict_proba(X_test)"
   ]
  },
  {
   "cell_type": "code",
   "execution_count": 109,
   "metadata": {},
   "outputs": [
    {
     "name": "stderr",
     "output_type": "stream",
     "text": [
      "c:\\Users\\tlsdm\\AppData\\Local\\Programs\\Python\\Python310\\lib\\site-packages\\sklearn\\base.py:443: UserWarning: X has feature names, but KNeighborsClassifier was fitted without feature names\n",
      "  warnings.warn(\n"
     ]
    }
   ],
   "source": [
    "# KNN 모형 구현\n",
    "# 3. 거리 계산을 위해서 각 특성들을 스케일링(표준화) [Z-score 표준화: 평균을 0, 표준편차 1로 변환]\n",
    "from sklearn.neighbors import KNeighborsClassifier\n",
    "scaler = StandardScaler() # Scaler 객체 생성\n",
    "scaler.fit(X_train) \n",
    "knn_X_train = scaler.transform(X_train) # 스케일링(표준화 수행)\n",
    "knn_X_test = scaler.transform(X_test)\n",
    "\n",
    "# k-NN 분류기를 생성\n",
    "knn_clf = KNeighborsClassifier(n_neighbors=5)\n",
    "# 분류기 학습\n",
    "knn_clf.fit(knn_X_train, y_train)\n",
    "# 예측\n",
    "\n",
    "knn_pred = knn_clf.predict(knn_X_test)\n",
    "knn_pred_proba = knn_clf.predict_proba(X_test)\n"
   ]
  },
  {
   "cell_type": "code",
   "execution_count": 111,
   "metadata": {},
   "outputs": [],
   "source": [
    "# # import kNN library\n",
    "# from sklearn.neighbors import KNeighborsClassifier\n",
    "# from sklearn.model_selection import cross_val_score\n",
    "\n",
    "# k_list = []\n",
    "\n",
    "\n",
    "# cross_validation_scores = []\n",
    "# X_train\n",
    "# y_train \n",
    "\n",
    "# # 10-fold cross validation\n",
    "# for k in range (1,50):\n",
    "#     knn = KNeighborsClassifier(n_neighbors=k)\n",
    "#     scores = cross_val_score(knn, X_train, y_train.values.ravel(),\n",
    "#                              cv=5, scoring='accuracy')\n",
    "#     cross_validation_scores.append(scores.mean())\n",
    "\n",
    "# best = pd.DataFrame(cross_validation_scores)\n",
    "# best.max()"
   ]
  },
  {
   "cell_type": "code",
   "execution_count": 112,
   "metadata": {},
   "outputs": [],
   "source": [
    "# # visualize accuracy according to k\n",
    "# plt.plot(k_list, cross_validation_scores)\n",
    "# plt.xlabel('the number of k')\n",
    "# plt.ylabel('Accuracy')\n",
    "# plt.show()"
   ]
  },
  {
   "cell_type": "code",
   "execution_count": 113,
   "metadata": {},
   "outputs": [],
   "source": [
    "# # find best k\n",
    "# cvs = cross_validation_scores\n",
    "# k = k_list[cvs.index(max(cross_validation_scores))]\n",
    "# print(\"The best number of k : \" + str(k) )"
   ]
  },
  {
   "cell_type": "code",
   "execution_count": 114,
   "metadata": {},
   "outputs": [
    {
     "name": "stderr",
     "output_type": "stream",
     "text": [
      "c:\\Users\\tlsdm\\AppData\\Local\\Programs\\Python\\Python310\\lib\\site-packages\\sklearn\\base.py:443: UserWarning: X has feature names, but KNeighborsClassifier was fitted without feature names\n",
      "  warnings.warn(\n"
     ]
    }
   ],
   "source": [
    "# knn 최적의 파라미터 모델\n",
    "knn_clf = KNeighborsClassifier(n_neighbors=3)\n",
    "# 분류기 학습\n",
    "knn_clf.fit(knn_X_train, y_train)\n",
    "# 예측\n",
    "\n",
    "knn_best_pred = knn_clf.predict(knn_X_test)\n",
    "knn_best_pred_proba = knn_clf.predict_proba(X_test)\n"
   ]
  },
  {
   "cell_type": "code",
   "execution_count": 115,
   "metadata": {},
   "outputs": [
    {
     "name": "stdout",
     "output_type": "stream",
     "text": [
      "[10:55:13] WARNING: C:/Users/Administrator/workspace/xgboost-win64_release_1.6.0/src/learner.cc:627: \n",
      "Parameters: { \"Param\" } might not be used.\n",
      "\n",
      "  This could be a false alarm, with some parameters getting used by language bindings but\n",
      "  then being mistakenly passed down to XGBoost core, or some parameter actually being used\n",
      "  but getting flagged wrongly here. Please open an issue if you find any such cases.\n",
      "\n",
      "\n"
     ]
    }
   ],
   "source": [
    "#XG 부스트 모형 구현\n",
    "from xgboost import XGBClassifier\n",
    "from sklearn.model_selection import train_test_split\n",
    "import xgboost as xgb ## XGBoost 불러오기\n",
    "from xgboost import plot_importance \n",
    "X_train_XG= df1[['[제조]유동자산구성비율','[제조]자기자본구성비율','[제조]총자본증가율','[제조]자기자본증가율','[제조]현금비율','[제조]부채비율','[제조]매출채권회전률',\n",
    "                 '[제조]노동소득분배율','[제조]자기자본배율']]\n",
    "X_train_XG.columns = [['유동자산구성비율','자기자본구성비율','총자본증가율','자기자본증가율','순운전자본비율','부채비율','매출채권회전률','노동소득분배율','자기자본배율']]\n",
    "X_test_XG = df2[['[제조]유동자산구성비율','[제조]자기자본구성비율','[제조]총자본증가율','[제조]자기자본증가율','[제조]현금비율','[제조]부채비율','[제조]매출채권회전률',\n",
    "                 '[제조]노동소득분배율','[제조]자기자본배율']]\n",
    "X_test_XG.columns =[['유동자산구성비율','자기자본구성비율','총자본증가율','자기자본증가율','순운전자본비율','부채비율','매출채권회전률','노동소득분배율','자기자본배율']]\n",
    "y_train_XG = df1[\"label\"]\n",
    "y_test_XG = df2[\"label\"]\n",
    "X_tr_XG, X_val_XG, y_tr_XG, y_val_XG = train_test_split(X_train_XG, y_train_XG,test_size = 0.1, random_state = 156)\n",
    "# df1 = df[df['year']<2019] #train\n",
    "# df2 = df[df['year']>=2019] #test\n",
    "# train data label 분리 test data label 분리\n",
    "params_dict = {'objective' : 'binary:logistic',\n",
    "               'n_estimators' : 400,\n",
    "               'learning_rate' : 0.05,\n",
    "               'max_depth' : 3,\n",
    "               'eval_metric' : 'logloss'\n",
    "               }\n",
    "\n",
    "xgb_wrapper = XGBClassifier(Param=params_dict)\n",
    "\n",
    "xgb_wrapper.fit(X_train_XG, y_train_XG, verbose = True)\n",
    "\n",
    "\n",
    "xgb_pred = xgb_wrapper.predict(X_test)\n",
    "xgb_pred_proba = xgb_wrapper.predict_proba(X_test)\n",
    "\n",
    "\n"
   ]
  },
  {
   "cell_type": "code",
   "execution_count": 116,
   "metadata": {},
   "outputs": [],
   "source": [
    "# #xgb 최적 하이퍼 파라미터\n",
    "# from sklearn.model_selection import GridSearchCV\n",
    "\n",
    "# params = {\n",
    "#           'n_estimators':[100,200,300,400,500],\n",
    "#           'learning_rate':[0.03,0.04,0.05,0.06,0.07],\n",
    "#           'max_depth' : [3,4,5.6,7,8,9]\n",
    "#           }\n",
    "\n",
    "# grid_clf = GridSearchCV(xgb_wrapper, param_grid=params, scoring='accuracy', cv=5)\n",
    "# grid_clf.fit(X_train_XG,y_train_XG)\n",
    "# print('최적 하이퍼 파라미어:{0}, 최적 평균 정확도:{1:.3f}'.format(grid_clf.best_params_, grid_clf.best_score_))"
   ]
  },
  {
   "cell_type": "code",
   "execution_count": 117,
   "metadata": {},
   "outputs": [],
   "source": [
    "# xgb부스트 최적의 파라미터\n",
    "#최적 하이퍼 파라미어:{'learning_rate': 0.07, 'max_depth': 4, 'n_estimators': 100}, 최적 평균 정확도:0.984\n",
    "xgb_wrapper = XGBClassifier(learning_rate= 0.07, max_depth= 4, n_estimators= 100)\n",
    "\n",
    "xgb_wrapper.fit(X_train_XG, y_train_XG, verbose = True)\n",
    "\n",
    "xgb_best_pred = xgb_wrapper.predict(X_test)\n",
    "xgb_best_pred_proba = xgb_wrapper.predict_proba(X_test)"
   ]
  },
  {
   "cell_type": "code",
   "execution_count": 118,
   "metadata": {},
   "outputs": [],
   "source": [
    "#퍼셉트론 구현\n",
    "# eta : 학습률 (float), n_iter : 훈련 데이터 반복 횟수 (int), w_ : 학습된 가중치 (1d-array)\n",
    "class Perceptron(object):\n",
    "    \n",
    "    def __init__(self, eta = 0.01, n_iter = 50, random_state = 1): #초기화\n",
    "        self.eta = eta\n",
    "        self.n_iter = n_iter\n",
    "        self.random_state = random_state\n",
    "        \n",
    "    \n",
    "    def fit(self, X, y): #학습\n",
    "        rgen = np.random.RandomState(self.random_state)\n",
    "        self.w_ = rgen.normal(loc = 0, scale = 0.01,\n",
    "                             size = 1 + X.shape[1])\n",
    "        \n",
    "        self.errors_ = []\n",
    "        for _ in range(self.n_iter):\n",
    "            errors = 0\n",
    "            for i in range(len(X)):\n",
    "                xi = X.iloc[i].values\n",
    "                target = y[i]\n",
    "                update = self.eta * (target - self.predict(xi))\n",
    "                self.w_[1:] += update * xi\n",
    "                self.w_[0] += update\n",
    "                errors += int(update != 0.0)\n",
    "            self.errors_.append(errors)\n",
    "        return self\n",
    "    \n",
    "    def predict(self, X): #추론\n",
    "        return np.where(self.net_input(X) >= 0.0, 1, 0)\n",
    "    \n",
    "    def net_input(self, X):\n",
    "        return np.dot(X, self.w_[1:]) + self.w_[0]\n",
    "\n",
    "\n",
    "\n",
    "#초기(pc)\n",
    "pc_clf = Perceptron(n_iter = 10)\n",
    "pc_clf.fit(X_train, y_train)\n",
    "pc_pred = pc_clf.predict(X_test)\n",
    "\n",
    "\n",
    "\n",
    "\n"
   ]
  },
  {
   "cell_type": "code",
   "execution_count": 124,
   "metadata": {},
   "outputs": [
    {
     "name": "stdout",
     "output_type": "stream",
     "text": [
      "0.9887027658745617\n",
      "0.983638488507986\n",
      "0.9894818854694195\n",
      "0.9859758472925594\n",
      "0.987534086482275\n",
      "0.9887027658745617\n",
      "0.9871445266848461\n",
      "0.9887027658745617\n",
      "0.9883132060771328\n"
     ]
    }
   ],
   "source": [
    "from sklearn.metrics import accuracy_score\n",
    "\n",
    "pc_scores = []\n",
    "for i in range(1,10):\n",
    "    pc_clf = Perceptron(n_iter=i)\n",
    "    pc_clf.fit(X_train, y_train)\n",
    "    pc_pred = pc_clf.predict(X_test)\n",
    "    \n",
    "    pc_scores=accuracy_score(y_test, pc_pred)\n",
    "    print(pc_scores)\n",
    "\n"
   ]
  },
  {
   "cell_type": "code",
   "execution_count": 126,
   "metadata": {},
   "outputs": [],
   "source": [
    "# 퍼셉트론 최적의 파라미터\n",
    "pc_clf = Perceptron(n_iter = 3)\n",
    "pc_clf.fit(X_train, y_train)\n",
    "pc_best_pred = pc_clf.predict(X_test)\n",
    "\n"
   ]
  },
  {
   "cell_type": "code",
   "execution_count": 127,
   "metadata": {},
   "outputs": [],
   "source": [
    "# # 1단계 : 가중치 초기화 \n",
    "# w = np.zeros(1 + X_train.shape[1])\n",
    " \n",
    "# # 최초 분류\n",
    "# input_signal = np.dot(X_train, w[1:]) + w[0]\n",
    " \n",
    "# def out_put(X):\n",
    "#     return np.where(X >= 0.0, 1, 0)\n",
    " \n",
    "# errors = []\n",
    "# epoch = 100\n",
    "# for time in range(0,epoch):\n",
    "#     print(\"{0}번째 반복 입니다\".format(time))\n",
    "#     eta = 0.01\n",
    "#     idx=0\n",
    "#     for xi, target in zip(X_train, y_train):\n",
    "#         updated_w = eta * (target - pc_pred[idx])\n",
    "#         w[1:] += updated_w * xi\n",
    "#         w[0] += updated_w\n",
    " \n",
    "#         idx += 1\n",
    "#     input_signal = np.dot(X_train, w[1:]) + w[0]\n",
    "#     pc_pred = out_put(input_signal)\n",
    "#     errors.append(((y_train - pc_pred).sum())/100)\n",
    "#     print(((y_train - pc_pred).sum())/100)\n",
    "#     if ((y_train - pc_pred).sum())/100 == 0:\n",
    "#         break"
   ]
  },
  {
   "cell_type": "markdown",
   "metadata": {},
   "source": [
    "### lda_pred : 선형판별 분석 예측 값\n",
    "### dt_pred : 디시전트리 예측 값\n",
    "### dt_best_pred : 랜덤 포레스트 최적의 파라미터 값\n",
    "### rf_pred : 랜덤 포레스트 예측 값\n",
    "### rf_best_pred : 랜덤 포레스트 최적의 파라미터 값\n",
    "### lr_pred : 로지스틱 회귀 예측 값\n",
    "### lr_best_pred : 랜덤 포레스트 최적의 파라미터 값\n",
    "### knn_pred : knn 예측 값\n",
    "### knn_best_pred : knn 최적의 파라미터 값\n",
    "### xgb_pred : xgb 예측 값\n",
    "### xgb_best_pred : 랜덤 포레스트 최적의 파라미터 값\n",
    "### pc_pred : 퍼셉트론 예측 값\n"
   ]
  },
  {
   "cell_type": "code",
   "execution_count": 128,
   "metadata": {},
   "outputs": [
    {
     "name": "stdout",
     "output_type": "stream",
     "text": [
      "lda\n",
      "오차행렬\n",
      "[[2512   25]\n",
      " [  26    4]]\n",
      "정확도: 0.9801, 정밀도 : 0.1379, 재현율:0.1333,F1 스코어:0.1356\n",
      "ROC 스코어: 0.5617, PR score : 0.0285\n",
      "None\n",
      "디시전트리\n",
      "오차행렬\n",
      "[[2485   52]\n",
      " [  23    7]]\n",
      "정확도: 0.9708, 정밀도 : 0.1186, 재현율:0.2333,F1 스코어:0.1573\n",
      "ROC 스코어: 0.6064, PR score : 0.0366\n",
      "None\n",
      "디시전트리 최적의 모델\n",
      "오차행렬\n",
      "[[2530    7]\n",
      " [  23    7]]\n",
      "정확도: 0.9883, 정밀도 : 0.5000, 재현율:0.2333,F1 스코어:0.3182\n",
      "ROC 스코어: 0.6153, PR score : 0.1256\n",
      "None\n",
      "랜덤포레스트\n",
      "오차행렬\n",
      "[[2527   10]\n",
      " [  25    5]]\n",
      "정확도: 0.9864, 정밀도 : 0.3333, 재현율:0.1667,F1 스코어:0.2222\n",
      "ROC 스코어: 0.5814, PR score : 0.0653\n",
      "None\n",
      "랜덤포레스트 최적의 모델\n",
      "오차행렬\n",
      "[[2529    8]\n",
      " [  25    5]]\n",
      "정확도: 0.9871, 정밀도 : 0.3846, 재현율:0.1667,F1 스코어:0.2326\n",
      "ROC 스코어: 0.5818, PR score : 0.0738\n",
      "None\n",
      "로지스틱\n",
      "오차행렬\n",
      "[[2535    2]\n",
      " [  29    1]]\n",
      "정확도: 0.9879, 정밀도 : 0.3333, 재현율:0.0333,F1 스코어:0.0606\n",
      "ROC 스코어: 0.5163, PR score : 0.0224\n",
      "None\n",
      "로지스틱회귀 최적의 모델\n",
      "오차행렬\n",
      "[[2537    0]\n",
      " [  30    0]]\n",
      "정확도: 0.9883, 정밀도 : 0.0000, 재현율:0.0000,F1 스코어:0.0000\n",
      "ROC 스코어: 0.5000, PR score : 0.0117\n",
      "None\n",
      "Knn\n",
      "오차행렬\n",
      "[[2528    9]\n",
      " [  28    2]]\n",
      "정확도: 0.9856, 정밀도 : 0.1818, 재현율:0.0667,F1 스코어:0.0976\n",
      "ROC 스코어: 0.5316, PR score : 0.0230\n",
      "None\n",
      "Knn 최적의 모델\n",
      "오차행렬\n",
      "[[2520   17]\n",
      " [  27    3]]\n",
      "정확도: 0.9829, 정밀도 : 0.1500, 재현율:0.1000,F1 스코어:0.1200\n",
      "ROC 스코어: 0.5466, PR score : 0.0255\n",
      "None\n",
      "xgb\n",
      "오차행렬\n",
      "[[2528    9]\n",
      " [  25    5]]\n",
      "정확도: 0.9868, 정밀도 : 0.3571, 재현율:0.1667,F1 스코어:0.2273\n",
      "ROC 스코어: 0.5816, PR score : 0.0693\n",
      "None\n",
      "xgb 최적의 모델\n",
      "오차행렬\n",
      "[[2528    9]\n",
      " [  25    5]]\n",
      "정확도: 0.9868, 정밀도 : 0.3571, 재현율:0.1667,F1 스코어:0.2273\n",
      "ROC 스코어: 0.5816, PR score : 0.0693\n",
      "None\n",
      "다중 퍼셉트론\n",
      "오차행렬\n",
      "[[2532    5]\n",
      " [  25    5]]\n",
      "정확도: 0.9883, 정밀도 : 0.5000, 재현율:0.1667,F1 스코어:0.2500\n",
      "ROC 스코어: 0.5823, PR score : 0.0931\n",
      "None\n",
      "다중 퍼셉트론 최적의 모델\n",
      "오차행렬\n",
      "[[2534    3]\n",
      " [  24    6]]\n",
      "정확도: 0.9895, 정밀도 : 0.6667, 재현율:0.2000,F1 스코어:0.3077\n",
      "ROC 스코어: 0.5994, PR score : 0.1427\n",
      "None\n"
     ]
    },
    {
     "name": "stderr",
     "output_type": "stream",
     "text": [
      "c:\\Users\\tlsdm\\AppData\\Local\\Programs\\Python\\Python310\\lib\\site-packages\\sklearn\\metrics\\_classification.py:1327: UndefinedMetricWarning: Precision is ill-defined and being set to 0.0 due to no predicted samples. Use `zero_division` parameter to control this behavior.\n",
      "  _warn_prf(average, modifier, msg_start, len(result))\n"
     ]
    }
   ],
   "source": [
    "from sklearn.datasets import load_breast_cancer\n",
    "from sklearn.model_selection import train_test_split\n",
    "from sklearn.metrics import confusion_matrix, accuracy_score, precision_score, recall_score\n",
    "from sklearn.metrics import confusion_matrix, f1_score, roc_auc_score, average_precision_score\n",
    "\n",
    "\n",
    "import warnings\n",
    "\n",
    "def get_clf_eval(y_test, pred):\n",
    "    confusion = confusion_matrix(y_test, pred)\n",
    "    accuracy = accuracy_score(y_test, pred)\n",
    "    precision = precision_score(y_test, pred)\n",
    "    recall = recall_score(y_test, pred)\n",
    "    roc_score = roc_auc_score(y_test, pred)\n",
    "    pr_score = average_precision_score(y_test, pred)\n",
    "    f1 = f1_score(y_test, pred)\n",
    "    \n",
    "    print('오차행렬')\n",
    "    print(confusion)\n",
    "    print('정확도: {0:.4f}, 정밀도 : {1:.4f}, 재현율:{2:.4f},F1 스코어:{3:.4f}'.format(accuracy, precision, recall, f1, roc_score))\n",
    "    print('ROC 스코어: {0:.4f}, PR score : {1:.4f}'.format(roc_score, pr_score))\n",
    "    \n",
    "print(\"lda\") \n",
    "print(get_clf_eval(y_test, lda_pred))\n",
    "print(\"디시전트리\") \n",
    "print(get_clf_eval(y_test, dt_pred))\n",
    "print(\"디시전트리 최적의 모델\") \n",
    "print(get_clf_eval(y_test, dt_best_pred))\n",
    "print(\"랜덤포레스트\") \n",
    "print(get_clf_eval(y_test, rf_pred))\n",
    "print(\"랜덤포레스트 최적의 모델\") \n",
    "print(get_clf_eval(y_test, rf_best_pred))\n",
    "print(\"로지스틱\") \n",
    "print(get_clf_eval(y_test, lr_pred))\n",
    "print(\"로지스틱회귀 최적의 모델\")\n",
    "print(get_clf_eval(y_test, lr_best_pred))\n",
    "print(\"Knn\")\n",
    "print(get_clf_eval(y_test, knn_pred))\n",
    "print(\"Knn 최적의 모델\")\n",
    "print(get_clf_eval(y_test, knn_best_pred))\n",
    "print(\"xgb\")\n",
    "print(get_clf_eval(y_test, xgb_pred))\n",
    "print(\"xgb 최적의 모델\")\n",
    "print(get_clf_eval(y_test, xgb_best_pred))\n",
    "print(\"다중 퍼셉트론\")\n",
    "print(get_clf_eval(y_test, pc_pred))\n",
    "print(\"다중 퍼셉트론 최적의 모델\")\n",
    "print(get_clf_eval(y_test, pc_best_pred))\n",
    "\n"
   ]
  },
  {
   "cell_type": "code",
   "execution_count": null,
   "metadata": {},
   "outputs": [
    {
     "name": "stdout",
     "output_type": "stream",
     "text": [
      "임곗값: 0.1\n",
      "오차행렬\n",
      "[[2457   80]\n",
      " [  23    7]]\n",
      "정확도: 0.9599, 정밀도 : 0.0805, 재현율:0.2333,F1 스코어:0.1197, roc 스코어: 0.6009\n",
      "임곗값: 0.2\n",
      "오차행렬\n",
      "[[2492   45]\n",
      " [  25    5]]\n",
      "정확도: 0.9727, 정밀도 : 0.1000, 재현율:0.1667,F1 스코어:0.1250, roc 스코어: 0.5745\n",
      "임곗값: 0.3\n",
      "오차행렬\n",
      "[[2500   37]\n",
      " [  25    5]]\n",
      "정확도: 0.9758, 정밀도 : 0.1190, 재현율:0.1667,F1 스코어:0.1389, roc 스코어: 0.5760\n",
      "임곗값: 0.4\n",
      "오차행렬\n",
      "[[2510   27]\n",
      " [  26    4]]\n",
      "정확도: 0.9794, 정밀도 : 0.1290, 재현율:0.1333,F1 스코어:0.1311, roc 스코어: 0.5613\n",
      "임곗값: 0.45\n",
      "오차행렬\n",
      "[[2510   27]\n",
      " [  26    4]]\n",
      "정확도: 0.9794, 정밀도 : 0.1290, 재현율:0.1333,F1 스코어:0.1311, roc 스코어: 0.5613\n",
      "임곗값: 0.5\n",
      "오차행렬\n",
      "[[2512   25]\n",
      " [  26    4]]\n",
      "정확도: 0.9801, 정밀도 : 0.1379, 재현율:0.1333,F1 스코어:0.1356, roc 스코어: 0.5617\n",
      "임곗값: 0.55\n",
      "오차행렬\n",
      "[[2515   22]\n",
      " [  26    4]]\n",
      "정확도: 0.9813, 정밀도 : 0.1538, 재현율:0.1333,F1 스코어:0.1429, roc 스코어: 0.5623\n",
      "임곗값: 0.6\n",
      "오차행렬\n",
      "[[2515   22]\n",
      " [  26    4]]\n",
      "정확도: 0.9813, 정밀도 : 0.1538, 재현율:0.1333,F1 스코어:0.1429, roc 스코어: 0.5623\n",
      "임곗값: 0.65\n",
      "오차행렬\n",
      "[[2518   19]\n",
      " [  26    4]]\n",
      "정확도: 0.9825, 정밀도 : 0.1739, 재현율:0.1333,F1 스코어:0.1509, roc 스코어: 0.5629\n",
      "임곗값: 0.7\n",
      "오차행렬\n",
      "[[2519   18]\n",
      " [  26    4]]\n",
      "정확도: 0.9829, 정밀도 : 0.1818, 재현율:0.1333,F1 스코어:0.1538, roc 스코어: 0.5631\n",
      "임곗값: 0.75\n",
      "오차행렬\n",
      "[[2523   14]\n",
      " [  28    2]]\n",
      "정확도: 0.9836, 정밀도 : 0.1250, 재현율:0.0667,F1 스코어:0.0870, roc 스코어: 0.5306\n"
     ]
    }
   ],
   "source": [
    "from sklearn.preprocessing import Binarizer\n",
    "thresholds = [0.1,0.2,0.3,0.4,0.45,0.5,0.55,0.60,0.65,0.7,0.75]\n",
    "\n",
    "def get_eval_by_threshold(y_test, pred_proba_c1, thresholds):\n",
    "    for custom_threshold in thresholds:\n",
    "        binarizer = Binarizer(threshold=custom_threshold).fit(pred_proba_c1)\n",
    "        custom_predict = binarizer.transform(pred_proba_c1)\n",
    "        print(\"임곗값:\", custom_threshold)\n",
    "        get_clf_eval(y_test, custom_predict)\n",
    "        \n",
    "get_eval_by_threshold(y_test , lda_pred_proba[:,1].reshape(-1,1), thresholds)\n"
   ]
  },
  {
   "cell_type": "code",
   "execution_count": null,
   "metadata": {},
   "outputs": [
    {
     "name": "stdout",
     "output_type": "stream",
     "text": [
      "임곗값: 0.1\n",
      "오차행렬\n",
      "[[2485   52]\n",
      " [  23    7]]\n",
      "정확도: 0.9708, 정밀도 : 0.1186, 재현율:0.2333,F1 스코어:0.1573, roc 스코어: 0.6064\n",
      "임곗값: 0.2\n",
      "오차행렬\n",
      "[[2485   52]\n",
      " [  23    7]]\n",
      "정확도: 0.9708, 정밀도 : 0.1186, 재현율:0.2333,F1 스코어:0.1573, roc 스코어: 0.6064\n",
      "임곗값: 0.3\n",
      "오차행렬\n",
      "[[2485   52]\n",
      " [  23    7]]\n",
      "정확도: 0.9708, 정밀도 : 0.1186, 재현율:0.2333,F1 스코어:0.1573, roc 스코어: 0.6064\n",
      "임곗값: 0.4\n",
      "오차행렬\n",
      "[[2485   52]\n",
      " [  23    7]]\n",
      "정확도: 0.9708, 정밀도 : 0.1186, 재현율:0.2333,F1 스코어:0.1573, roc 스코어: 0.6064\n",
      "임곗값: 0.45\n",
      "오차행렬\n",
      "[[2485   52]\n",
      " [  23    7]]\n",
      "정확도: 0.9708, 정밀도 : 0.1186, 재현율:0.2333,F1 스코어:0.1573, roc 스코어: 0.6064\n",
      "임곗값: 0.5\n",
      "오차행렬\n",
      "[[2485   52]\n",
      " [  23    7]]\n",
      "정확도: 0.9708, 정밀도 : 0.1186, 재현율:0.2333,F1 스코어:0.1573, roc 스코어: 0.6064\n",
      "임곗값: 0.55\n",
      "오차행렬\n",
      "[[2485   52]\n",
      " [  23    7]]\n",
      "정확도: 0.9708, 정밀도 : 0.1186, 재현율:0.2333,F1 스코어:0.1573, roc 스코어: 0.6064\n",
      "임곗값: 0.6\n",
      "오차행렬\n",
      "[[2485   52]\n",
      " [  23    7]]\n",
      "정확도: 0.9708, 정밀도 : 0.1186, 재현율:0.2333,F1 스코어:0.1573, roc 스코어: 0.6064\n",
      "임곗값: 0.65\n",
      "오차행렬\n",
      "[[2485   52]\n",
      " [  23    7]]\n",
      "정확도: 0.9708, 정밀도 : 0.1186, 재현율:0.2333,F1 스코어:0.1573, roc 스코어: 0.6064\n",
      "임곗값: 0.7\n",
      "오차행렬\n",
      "[[2485   52]\n",
      " [  23    7]]\n",
      "정확도: 0.9708, 정밀도 : 0.1186, 재현율:0.2333,F1 스코어:0.1573, roc 스코어: 0.6064\n",
      "임곗값: 0.75\n",
      "오차행렬\n",
      "[[2485   52]\n",
      " [  23    7]]\n",
      "정확도: 0.9708, 정밀도 : 0.1186, 재현율:0.2333,F1 스코어:0.1573, roc 스코어: 0.6064\n"
     ]
    }
   ],
   "source": [
    "get_eval_by_threshold(y_test , lr_pred_proba[:,1].reshape(-1,1), thresholds)\n"
   ]
  },
  {
   "cell_type": "code",
   "execution_count": null,
   "metadata": {},
   "outputs": [
    {
     "name": "stdout",
     "output_type": "stream",
     "text": [
      "임곗값: 0.1\n",
      "오차행렬\n",
      "[[2488   49]\n",
      " [  18   12]]\n",
      "정확도: 0.9739, 정밀도 : 0.1967, 재현율:0.4000,F1 스코어:0.2637, roc 스코어: 0.6903\n",
      "임곗값: 0.2\n",
      "오차행렬\n",
      "[[2524   13]\n",
      " [  24    6]]\n",
      "정확도: 0.9856, 정밀도 : 0.3158, 재현율:0.2000,F1 스코어:0.2449, roc 스코어: 0.5974\n",
      "임곗값: 0.3\n",
      "오차행렬\n",
      "[[2531    6]\n",
      " [  26    4]]\n",
      "정확도: 0.9875, 정밀도 : 0.4000, 재현율:0.1333,F1 스코어:0.2000, roc 스코어: 0.5655\n",
      "임곗값: 0.4\n",
      "오차행렬\n",
      "[[2532    5]\n",
      " [  26    4]]\n",
      "정확도: 0.9879, 정밀도 : 0.4444, 재현율:0.1333,F1 스코어:0.2051, roc 스코어: 0.5657\n",
      "임곗값: 0.45\n",
      "오차행렬\n",
      "[[2534    3]\n",
      " [  28    2]]\n",
      "정확도: 0.9879, 정밀도 : 0.4000, 재현율:0.0667,F1 스코어:0.1143, roc 스코어: 0.5327\n",
      "임곗값: 0.5\n",
      "오차행렬\n",
      "[[2535    2]\n",
      " [  29    1]]\n",
      "정확도: 0.9879, 정밀도 : 0.3333, 재현율:0.0333,F1 스코어:0.0606, roc 스코어: 0.5163\n",
      "임곗값: 0.55\n",
      "오차행렬\n",
      "[[2536    1]\n",
      " [  30    0]]\n",
      "정확도: 0.9879, 정밀도 : 0.0000, 재현율:0.0000,F1 스코어:0.0000, roc 스코어: 0.4998\n",
      "임곗값: 0.6\n",
      "오차행렬\n",
      "[[2537    0]\n",
      " [  30    0]]\n",
      "정확도: 0.9883, 정밀도 : 0.0000, 재현율:0.0000,F1 스코어:0.0000, roc 스코어: 0.5000\n",
      "임곗값: 0.65\n",
      "오차행렬\n",
      "[[2537    0]\n",
      " [  30    0]]\n",
      "정확도: 0.9883, 정밀도 : 0.0000, 재현율:0.0000,F1 스코어:0.0000, roc 스코어: 0.5000\n",
      "임곗값: 0.7\n",
      "오차행렬\n",
      "[[2537    0]\n",
      " [  30    0]]\n",
      "정확도: 0.9883, 정밀도 : 0.0000, 재현율:0.0000,F1 스코어:0.0000, roc 스코어: 0.5000\n",
      "임곗값: 0.75\n",
      "오차행렬\n",
      "[[2537    0]\n",
      " [  30    0]]\n",
      "정확도: 0.9883, 정밀도 : 0.0000, 재현율:0.0000,F1 스코어:0.0000, roc 스코어: 0.5000\n"
     ]
    },
    {
     "name": "stderr",
     "output_type": "stream",
     "text": [
      "c:\\Users\\tlsdm\\AppData\\Local\\Programs\\Python\\Python310\\lib\\site-packages\\sklearn\\metrics\\_classification.py:1327: UndefinedMetricWarning: Precision is ill-defined and being set to 0.0 due to no predicted samples. Use `zero_division` parameter to control this behavior.\n",
      "  _warn_prf(average, modifier, msg_start, len(result))\n",
      "c:\\Users\\tlsdm\\AppData\\Local\\Programs\\Python\\Python310\\lib\\site-packages\\sklearn\\metrics\\_classification.py:1327: UndefinedMetricWarning: Precision is ill-defined and being set to 0.0 due to no predicted samples. Use `zero_division` parameter to control this behavior.\n",
      "  _warn_prf(average, modifier, msg_start, len(result))\n",
      "c:\\Users\\tlsdm\\AppData\\Local\\Programs\\Python\\Python310\\lib\\site-packages\\sklearn\\metrics\\_classification.py:1327: UndefinedMetricWarning: Precision is ill-defined and being set to 0.0 due to no predicted samples. Use `zero_division` parameter to control this behavior.\n",
      "  _warn_prf(average, modifier, msg_start, len(result))\n",
      "c:\\Users\\tlsdm\\AppData\\Local\\Programs\\Python\\Python310\\lib\\site-packages\\sklearn\\metrics\\_classification.py:1327: UndefinedMetricWarning: Precision is ill-defined and being set to 0.0 due to no predicted samples. Use `zero_division` parameter to control this behavior.\n",
      "  _warn_prf(average, modifier, msg_start, len(result))\n"
     ]
    }
   ],
   "source": [
    "get_eval_by_threshold(y_test , lr_pred_proba[:,1].reshape(-1,1), thresholds)"
   ]
  },
  {
   "cell_type": "code",
   "execution_count": null,
   "metadata": {},
   "outputs": [
    {
     "name": "stdout",
     "output_type": "stream",
     "text": [
      "임곗값: 0.1\n",
      "오차행렬\n",
      "[[2442   95]\n",
      " [  14   16]]\n",
      "정확도: 0.9575, 정밀도 : 0.1441, 재현율:0.5333,F1 스코어:0.2270, roc 스코어: 0.7479\n",
      "임곗값: 0.2\n",
      "오차행렬\n",
      "[[2495   42]\n",
      " [  21    9]]\n",
      "정확도: 0.9755, 정밀도 : 0.1765, 재현율:0.3000,F1 스코어:0.2222, roc 스코어: 0.6417\n",
      "임곗값: 0.3\n",
      "오차행렬\n",
      "[[2514   23]\n",
      " [  23    7]]\n",
      "정확도: 0.9821, 정밀도 : 0.2333, 재현율:0.2333,F1 스코어:0.2333, roc 스코어: 0.6121\n",
      "임곗값: 0.4\n",
      "오차행렬\n",
      "[[2525   12]\n",
      " [  24    6]]\n",
      "정확도: 0.9860, 정밀도 : 0.3333, 재현율:0.2000,F1 스코어:0.2500, roc 스코어: 0.5976\n",
      "임곗값: 0.45\n",
      "오차행렬\n",
      "[[2526   11]\n",
      " [  24    6]]\n",
      "정확도: 0.9864, 정밀도 : 0.3529, 재현율:0.2000,F1 스코어:0.2553, roc 스코어: 0.5978\n",
      "임곗값: 0.5\n",
      "오차행렬\n",
      "[[2527   10]\n",
      " [  25    5]]\n",
      "정확도: 0.9864, 정밀도 : 0.3333, 재현율:0.1667,F1 스코어:0.2222, roc 스코어: 0.5814\n",
      "임곗값: 0.55\n",
      "오차행렬\n",
      "[[2530    7]\n",
      " [  25    5]]\n",
      "정확도: 0.9875, 정밀도 : 0.4167, 재현율:0.1667,F1 스코어:0.2381, roc 스코어: 0.5820\n",
      "임곗값: 0.6\n",
      "오차행렬\n",
      "[[2531    6]\n",
      " [  25    5]]\n",
      "정확도: 0.9879, 정밀도 : 0.4545, 재현율:0.1667,F1 스코어:0.2439, roc 스코어: 0.5822\n",
      "임곗값: 0.65\n",
      "오차행렬\n",
      "[[2531    6]\n",
      " [  27    3]]\n",
      "정확도: 0.9871, 정밀도 : 0.3333, 재현율:0.1000,F1 스코어:0.1538, roc 스코어: 0.5488\n",
      "임곗값: 0.7\n",
      "오차행렬\n",
      "[[2535    2]\n",
      " [  28    2]]\n",
      "정확도: 0.9883, 정밀도 : 0.5000, 재현율:0.0667,F1 스코어:0.1176, roc 스코어: 0.5329\n",
      "임곗값: 0.75\n",
      "오차행렬\n",
      "[[2536    1]\n",
      " [  29    1]]\n",
      "정확도: 0.9883, 정밀도 : 0.5000, 재현율:0.0333,F1 스코어:0.0625, roc 스코어: 0.5165\n"
     ]
    }
   ],
   "source": [
    "get_eval_by_threshold(y_test , rf_pred_proba[:,1].reshape(-1,1), thresholds)"
   ]
  },
  {
   "cell_type": "code",
   "execution_count": null,
   "metadata": {},
   "outputs": [
    {
     "name": "stdout",
     "output_type": "stream",
     "text": [
      "임곗값: 0.1\n",
      "오차행렬\n",
      "[[2491   46]\n",
      " [  24    6]]\n",
      "정확도: 0.9727, 정밀도 : 0.1154, 재현율:0.2000,F1 스코어:0.1463, roc 스코어: 0.5909\n",
      "임곗값: 0.2\n",
      "오차행렬\n",
      "[[2525   12]\n",
      " [  27    3]]\n",
      "정확도: 0.9848, 정밀도 : 0.2000, 재현율:0.1000,F1 스코어:0.1333, roc 스코어: 0.5476\n",
      "임곗값: 0.3\n",
      "오차행렬\n",
      "[[2525   12]\n",
      " [  27    3]]\n",
      "정확도: 0.9848, 정밀도 : 0.2000, 재현율:0.1000,F1 스코어:0.1333, roc 스코어: 0.5476\n",
      "임곗값: 0.4\n",
      "오차행렬\n",
      "[[2537    0]\n",
      " [  30    0]]\n",
      "정확도: 0.9883, 정밀도 : 0.0000, 재현율:0.0000,F1 스코어:0.0000, roc 스코어: 0.5000\n",
      "임곗값: 0.45\n",
      "오차행렬\n",
      "[[2537    0]\n",
      " [  30    0]]\n",
      "정확도: 0.9883, 정밀도 : 0.0000, 재현율:0.0000,F1 스코어:0.0000, roc 스코어: 0.5000\n",
      "임곗값: 0.5\n",
      "오차행렬\n",
      "[[2537    0]\n",
      " [  30    0]]\n",
      "정확도: 0.9883, 정밀도 : 0.0000, 재현율:0.0000,F1 스코어:0.0000, roc 스코어: 0.5000\n",
      "임곗값: 0.55\n"
     ]
    },
    {
     "name": "stderr",
     "output_type": "stream",
     "text": [
      "c:\\Users\\tlsdm\\AppData\\Local\\Programs\\Python\\Python310\\lib\\site-packages\\sklearn\\metrics\\_classification.py:1327: UndefinedMetricWarning: Precision is ill-defined and being set to 0.0 due to no predicted samples. Use `zero_division` parameter to control this behavior.\n",
      "  _warn_prf(average, modifier, msg_start, len(result))\n",
      "c:\\Users\\tlsdm\\AppData\\Local\\Programs\\Python\\Python310\\lib\\site-packages\\sklearn\\metrics\\_classification.py:1327: UndefinedMetricWarning: Precision is ill-defined and being set to 0.0 due to no predicted samples. Use `zero_division` parameter to control this behavior.\n",
      "  _warn_prf(average, modifier, msg_start, len(result))\n",
      "c:\\Users\\tlsdm\\AppData\\Local\\Programs\\Python\\Python310\\lib\\site-packages\\sklearn\\metrics\\_classification.py:1327: UndefinedMetricWarning: Precision is ill-defined and being set to 0.0 due to no predicted samples. Use `zero_division` parameter to control this behavior.\n",
      "  _warn_prf(average, modifier, msg_start, len(result))\n",
      "c:\\Users\\tlsdm\\AppData\\Local\\Programs\\Python\\Python310\\lib\\site-packages\\sklearn\\metrics\\_classification.py:1327: UndefinedMetricWarning: Precision is ill-defined and being set to 0.0 due to no predicted samples. Use `zero_division` parameter to control this behavior.\n",
      "  _warn_prf(average, modifier, msg_start, len(result))\n",
      "c:\\Users\\tlsdm\\AppData\\Local\\Programs\\Python\\Python310\\lib\\site-packages\\sklearn\\metrics\\_classification.py:1327: UndefinedMetricWarning: Precision is ill-defined and being set to 0.0 due to no predicted samples. Use `zero_division` parameter to control this behavior.\n",
      "  _warn_prf(average, modifier, msg_start, len(result))\n",
      "c:\\Users\\tlsdm\\AppData\\Local\\Programs\\Python\\Python310\\lib\\site-packages\\sklearn\\metrics\\_classification.py:1327: UndefinedMetricWarning: Precision is ill-defined and being set to 0.0 due to no predicted samples. Use `zero_division` parameter to control this behavior.\n",
      "  _warn_prf(average, modifier, msg_start, len(result))\n",
      "c:\\Users\\tlsdm\\AppData\\Local\\Programs\\Python\\Python310\\lib\\site-packages\\sklearn\\metrics\\_classification.py:1327: UndefinedMetricWarning: Precision is ill-defined and being set to 0.0 due to no predicted samples. Use `zero_division` parameter to control this behavior.\n",
      "  _warn_prf(average, modifier, msg_start, len(result))\n"
     ]
    },
    {
     "name": "stdout",
     "output_type": "stream",
     "text": [
      "오차행렬\n",
      "[[2537    0]\n",
      " [  30    0]]\n",
      "정확도: 0.9883, 정밀도 : 0.0000, 재현율:0.0000,F1 스코어:0.0000, roc 스코어: 0.5000\n",
      "임곗값: 0.6\n",
      "오차행렬\n",
      "[[2537    0]\n",
      " [  30    0]]\n",
      "정확도: 0.9883, 정밀도 : 0.0000, 재현율:0.0000,F1 스코어:0.0000, roc 스코어: 0.5000\n",
      "임곗값: 0.65\n",
      "오차행렬\n",
      "[[2537    0]\n",
      " [  30    0]]\n",
      "정확도: 0.9883, 정밀도 : 0.0000, 재현율:0.0000,F1 스코어:0.0000, roc 스코어: 0.5000\n",
      "임곗값: 0.7\n",
      "오차행렬\n",
      "[[2537    0]\n",
      " [  30    0]]\n",
      "정확도: 0.9883, 정밀도 : 0.0000, 재현율:0.0000,F1 스코어:0.0000, roc 스코어: 0.5000\n",
      "임곗값: 0.75\n",
      "오차행렬\n",
      "[[2537    0]\n",
      " [  30    0]]\n",
      "정확도: 0.9883, 정밀도 : 0.0000, 재현율:0.0000,F1 스코어:0.0000, roc 스코어: 0.5000\n"
     ]
    },
    {
     "name": "stderr",
     "output_type": "stream",
     "text": [
      "c:\\Users\\tlsdm\\AppData\\Local\\Programs\\Python\\Python310\\lib\\site-packages\\sklearn\\metrics\\_classification.py:1327: UndefinedMetricWarning: Precision is ill-defined and being set to 0.0 due to no predicted samples. Use `zero_division` parameter to control this behavior.\n",
      "  _warn_prf(average, modifier, msg_start, len(result))\n"
     ]
    }
   ],
   "source": [
    "get_eval_by_threshold(y_test , knn_pred_proba[:,1].reshape(-1,1), thresholds)"
   ]
  },
  {
   "cell_type": "code",
   "execution_count": null,
   "metadata": {},
   "outputs": [
    {
     "name": "stdout",
     "output_type": "stream",
     "text": [
      "임곗값: 0.1\n",
      "오차행렬\n",
      "[[2512   25]\n",
      " [  19   11]]\n",
      "정확도: 0.9829, 정밀도 : 0.3056, 재현율:0.3667,F1 스코어:0.3333, roc 스코어: 0.6784\n",
      "임곗값: 0.2\n",
      "오차행렬\n",
      "[[2517   20]\n",
      " [  22    8]]\n",
      "정확도: 0.9836, 정밀도 : 0.2857, 재현율:0.2667,F1 스코어:0.2759, roc 스코어: 0.6294\n",
      "임곗값: 0.3\n",
      "오차행렬\n",
      "[[2521   16]\n",
      " [  22    8]]\n",
      "정확도: 0.9852, 정밀도 : 0.3333, 재현율:0.2667,F1 스코어:0.2963, roc 스코어: 0.6302\n",
      "임곗값: 0.4\n",
      "오차행렬\n",
      "[[2524   13]\n",
      " [  24    6]]\n",
      "정확도: 0.9856, 정밀도 : 0.3158, 재현율:0.2000,F1 스코어:0.2449, roc 스코어: 0.5974\n",
      "임곗값: 0.45\n",
      "오차행렬\n",
      "[[2525   12]\n",
      " [  24    6]]\n",
      "정확도: 0.9860, 정밀도 : 0.3333, 재현율:0.2000,F1 스코어:0.2500, roc 스코어: 0.5976\n",
      "임곗값: 0.5\n",
      "오차행렬\n",
      "[[2528    9]\n",
      " [  25    5]]\n",
      "정확도: 0.9868, 정밀도 : 0.3571, 재현율:0.1667,F1 스코어:0.2273, roc 스코어: 0.5816\n",
      "임곗값: 0.55\n",
      "오차행렬\n",
      "[[2529    8]\n",
      " [  25    5]]\n",
      "정확도: 0.9871, 정밀도 : 0.3846, 재현율:0.1667,F1 스코어:0.2326, roc 스코어: 0.5818\n",
      "임곗값: 0.6\n",
      "오차행렬\n",
      "[[2531    6]\n",
      " [  25    5]]\n",
      "정확도: 0.9879, 정밀도 : 0.4545, 재현율:0.1667,F1 스코어:0.2439, roc 스코어: 0.5822\n",
      "임곗값: 0.65\n",
      "오차행렬\n",
      "[[2532    5]\n",
      " [  25    5]]\n",
      "정확도: 0.9883, 정밀도 : 0.5000, 재현율:0.1667,F1 스코어:0.2500, roc 스코어: 0.5823\n",
      "임곗값: 0.7\n",
      "오차행렬\n",
      "[[2533    4]\n",
      " [  26    4]]\n",
      "정확도: 0.9883, 정밀도 : 0.5000, 재현율:0.1333,F1 스코어:0.2105, roc 스코어: 0.5659\n",
      "임곗값: 0.75\n",
      "오차행렬\n",
      "[[2533    4]\n",
      " [  26    4]]\n",
      "정확도: 0.9883, 정밀도 : 0.5000, 재현율:0.1333,F1 스코어:0.2105, roc 스코어: 0.5659\n"
     ]
    }
   ],
   "source": [
    "get_eval_by_threshold(y_test , xgb_pred_proba[:,1].reshape(-1,1), thresholds)"
   ]
  },
  {
   "cell_type": "code",
   "execution_count": null,
   "metadata": {},
   "outputs": [
    {
     "name": "stderr",
     "output_type": "stream",
     "text": [
      "c:\\Users\\tlsdm\\AppData\\Local\\Programs\\Python\\Python310\\lib\\site-packages\\sklearn\\base.py:450: UserWarning: X does not have valid feature names, but LinearDiscriminantAnalysis was fitted with feature names\n",
      "  warnings.warn(\n"
     ]
    },
    {
     "data": {
      "image/png": "[encoded data removed]",
      "text/plain": [
       "<Figure size 432x288 with 1 Axes>"
      ]
     },
     "metadata": {
      "needs_background": "light"
     },
     "output_type": "display_data"
    },
    {
     "name": "stdout",
     "output_type": "stream",
     "text": [
      "lda의 ROC AUC값: 0.8498\n"
     ]
    },
    {
     "name": "stderr",
     "output_type": "stream",
     "text": [
      "c:\\Users\\tlsdm\\AppData\\Local\\Programs\\Python\\Python310\\lib\\site-packages\\sklearn\\base.py:450: UserWarning: X does not have valid feature names, but LinearDiscriminantAnalysis was fitted with feature names\n",
      "  warnings.warn(\n"
     ]
    }
   ],
   "source": [
    "from sklearn.metrics import roc_curve\n",
    "from sklearn.metrics import roc_auc_score\n",
    "def roc_curve_plot(y_test, pred_proba_c1):\n",
    "    fprs, tprs, thresholds = roc_curve(y_test, pred_proba_c1)\n",
    "    \n",
    "    plt.plot(fprs, tprs, label='ROC')\n",
    "    plt.plot([0,1],[0,1], 'k--', label = 'Random')\n",
    "    \n",
    "    start, end= plt.xlim()\n",
    "    plt.xticks(np.round(np.arange(start, end, 0.1),2))\n",
    "    plt.xlim(0,1); plt.ylim(0,1)\n",
    "    plt.xlabel('FPR(1-Sensitivity)'); plt.ylabel('TPR(Recall)')\n",
    "    plt.legend()\n",
    "    plt.show()\n",
    "    \n",
    "roc_curve_plot(y_test, lda_clf.predict_proba(X_test)[:,1])\n",
    "pred_proba = lda_clf.predict_proba(X_test)[:,1]\n",
    "roc_score = roc_auc_score(y_test, pred_proba)\n",
    "print('lda의 ROC AUC값: {0:.4f}'.format(roc_score))\n"
   ]
  },
  {
   "cell_type": "code",
   "execution_count": null,
   "metadata": {},
   "outputs": [
    {
     "name": "stderr",
     "output_type": "stream",
     "text": [
      "c:\\Users\\tlsdm\\AppData\\Local\\Programs\\Python\\Python310\\lib\\site-packages\\sklearn\\base.py:450: UserWarning: X does not have valid feature names, but LinearDiscriminantAnalysis was fitted with feature names\n",
      "  warnings.warn(\n"
     ]
    },
    {
     "data": {
      "image/png": "[encoded data removed]",
      "text/plain": [
       "<Figure size 432x288 with 1 Axes>"
      ]
     },
     "metadata": {
      "needs_background": "light"
     },
     "output_type": "display_data"
    },
    {
     "name": "stdout",
     "output_type": "stream",
     "text": [
      "lda의 ROC AUC값: 0.5617\n"
     ]
    }
   ],
   "source": [
    "roc_curve_plot(y_test, lda_clf.predict(X_test))\n",
    "roc_score = roc_auc_score(y_test, lda_pred)\n",
    "print('lda의 ROC AUC값: {0:.4f}'.format(roc_score))"
   ]
  },
  {
   "cell_type": "code",
   "execution_count": null,
   "metadata": {},
   "outputs": [
    {
     "name": "stderr",
     "output_type": "stream",
     "text": [
      "c:\\Users\\tlsdm\\AppData\\Local\\Programs\\Python\\Python310\\lib\\site-packages\\sklearn\\base.py:450: UserWarning: X does not have valid feature names, but DecisionTreeClassifier was fitted with feature names\n",
      "  warnings.warn(\n"
     ]
    },
    {
     "data": {
      "image/png": "[encoded data removed]",
      "text/plain": [
       "<Figure size 432x288 with 1 Axes>"
      ]
     },
     "metadata": {
      "needs_background": "light"
     },
     "output_type": "display_data"
    },
    {
     "name": "stdout",
     "output_type": "stream",
     "text": [
      "dt ROC AUC값: 0.6064\n"
     ]
    },
    {
     "name": "stderr",
     "output_type": "stream",
     "text": [
      "c:\\Users\\tlsdm\\AppData\\Local\\Programs\\Python\\Python310\\lib\\site-packages\\sklearn\\base.py:450: UserWarning: X does not have valid feature names, but DecisionTreeClassifier was fitted with feature names\n",
      "  warnings.warn(\n"
     ]
    }
   ],
   "source": [
    "roc_curve_plot(y_test, dt_clf.predict_proba(X_test)[:,1])\n",
    "pred_proba = dt_clf.predict_proba(X_test)[:,1]\n",
    "roc_score = roc_auc_score(y_test, pred_proba)\n",
    "print('dt ROC AUC값: {0:.4f}'.format(roc_score))\n"
   ]
  },
  {
   "cell_type": "code",
   "execution_count": null,
   "metadata": {},
   "outputs": [
    {
     "name": "stderr",
     "output_type": "stream",
     "text": [
      "c:\\Users\\tlsdm\\AppData\\Local\\Programs\\Python\\Python310\\lib\\site-packages\\sklearn\\base.py:450: UserWarning: X does not have valid feature names, but RandomForestClassifier was fitted with feature names\n",
      "  warnings.warn(\n"
     ]
    },
    {
     "data": {
      "image/png": "[encoded data removed]",
      "text/plain": [
       "<Figure size 432x288 with 1 Axes>"
      ]
     },
     "metadata": {
      "needs_background": "light"
     },
     "output_type": "display_data"
    },
    {
     "name": "stdout",
     "output_type": "stream",
     "text": [
      "rf ROC AUC값: 0.8493\n"
     ]
    },
    {
     "name": "stderr",
     "output_type": "stream",
     "text": [
      "c:\\Users\\tlsdm\\AppData\\Local\\Programs\\Python\\Python310\\lib\\site-packages\\sklearn\\base.py:450: UserWarning: X does not have valid feature names, but RandomForestClassifier was fitted with feature names\n",
      "  warnings.warn(\n"
     ]
    }
   ],
   "source": [
    "roc_curve_plot(y_test, rf_clf.predict_proba(X_test)[:,1])\n",
    "pred_proba = rf_clf.predict_proba(X_test)[:,1]\n",
    "roc_score = roc_auc_score(y_test, pred_proba)\n",
    "print('rf ROC AUC값: {0:.4f}'.format(roc_score))"
   ]
  },
  {
   "cell_type": "code",
   "execution_count": null,
   "metadata": {},
   "outputs": [
    {
     "name": "stderr",
     "output_type": "stream",
     "text": [
      "c:\\Users\\tlsdm\\AppData\\Local\\Programs\\Python\\Python310\\lib\\site-packages\\sklearn\\base.py:450: UserWarning: X does not have valid feature names, but LogisticRegression was fitted with feature names\n",
      "  warnings.warn(\n"
     ]
    },
    {
     "data": {
      "image/png": "[encoded data removed]",
      "text/plain": [
       "<Figure size 432x288 with 1 Axes>"
      ]
     },
     "metadata": {
      "needs_background": "light"
     },
     "output_type": "display_data"
    },
    {
     "name": "stdout",
     "output_type": "stream",
     "text": [
      "lr ROC AUC값: 0.9064\n"
     ]
    },
    {
     "name": "stderr",
     "output_type": "stream",
     "text": [
      "c:\\Users\\tlsdm\\AppData\\Local\\Programs\\Python\\Python310\\lib\\site-packages\\sklearn\\base.py:450: UserWarning: X does not have valid feature names, but LogisticRegression was fitted with feature names\n",
      "  warnings.warn(\n"
     ]
    }
   ],
   "source": [
    "roc_curve_plot(y_test, lr_clf.predict_proba(X_test)[:,1])\n",
    "pred_proba = lr_clf.predict_proba(X_test)[:,1]\n",
    "roc_score = roc_auc_score(y_test, pred_proba)\n",
    "print('lr ROC AUC값: {0:.4f}'.format(roc_score))"
   ]
  },
  {
   "cell_type": "code",
   "execution_count": null,
   "metadata": {},
   "outputs": [
    {
     "data": {
      "image/png": "[encoded data removed]",
      "text/plain": [
       "<Figure size 432x288 with 1 Axes>"
      ]
     },
     "metadata": {
      "needs_background": "light"
     },
     "output_type": "display_data"
    },
    {
     "name": "stdout",
     "output_type": "stream",
     "text": [
      "knn ROC AUC값: 0.5914\n"
     ]
    }
   ],
   "source": [
    "roc_curve_plot(y_test, knn_clf.predict_proba(X_test)[:,1])\n",
    "pred_proba = knn_clf.predict_proba(X_test)[:,1]\n",
    "roc_score = roc_auc_score(y_test, pred_proba)\n",
    "print('knn ROC AUC값: {0:.4f}'.format(roc_score))"
   ]
  },
  {
   "cell_type": "code",
   "execution_count": null,
   "metadata": {},
   "outputs": [],
   "source": []
  },
  {
   "cell_type": "code",
   "execution_count": null,
   "metadata": {},
   "outputs": [],
   "source": [
    "\n"
   ]
  },
  {
   "cell_type": "code",
   "execution_count": null,
   "metadata": {},
   "outputs": [],
   "source": []
  }
 ],
 "metadata": {
  "kernelspec": {
   "display_name": "Python 3.9.0b5 32-bit",
   "language": "python",
   "name": "python3"
  },
  "language_info": {
   "codemirror_mode": {
    "name": "ipython",
    "version": 3
   },
   "file_extension": ".py",
   "mimetype": "text/x-python",
   "name": "python",
   "nbconvert_exporter": "python",
   "pygments_lexer": "ipython3",
   "version": "3.9.0b5"
  },
  "orig_nbformat": 4,
  "vscode": {
   "interpreter": {
    "hash": "14da93c09c87c2adf5a7b1fb83519fc7ff28341ecf02e7cb76d975b5435c9671"
   }
  }
 },
 "nbformat": 4,
 "nbformat_minor": 2
}
