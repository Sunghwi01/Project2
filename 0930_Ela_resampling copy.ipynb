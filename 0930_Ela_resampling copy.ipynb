{
 "cells": [
  {
   "cell_type": "code",
   "execution_count": 1,
   "metadata": {},
   "outputs": [],
   "source": [
    "import matplotlib.pyplot as plt\n",
    "import pandas as pd\n",
    "import seaborn as sns\n",
    "import statsmodels.api as sm\n",
    "from statsmodels.stats.outliers_influence import variance_inflation_factor\n",
    "from scipy.stats.mstats import winsorize\n",
    "import numpy as np\n",
    "from scipy.stats import norm\n",
    "from scipy import stats\n",
    "from statsmodels.formula.api import ols\n",
    "plt.rcParams['font.family'] = 'Malgun Gothic'\n",
    "plt.rcParams['axes.unicode_minus'] = False\n",
    "import warnings\n",
    "warnings.filterwarnings('ignore')"
   ]
  },
  {
   "cell_type": "code",
   "execution_count": 2,
   "metadata": {},
   "outputs": [],
   "source": [
    "from imblearn.under_sampling import RandomUnderSampler\n",
    "from imblearn.over_sampling import RandomOverSampler\n",
    "from imblearn.over_sampling import SMOTE\n",
    "\n",
    "from sklearn.datasets import make_classification\n",
    "from collections import Counter\n",
    "\n",
    "from matplotlib import pyplot as plt\n",
    "import seaborn as sns"
   ]
  },
  {
   "cell_type": "code",
   "execution_count": 6,
   "metadata": {},
   "outputs": [],
   "source": [
    "df = pd.read_csv('./dataset/윈저데이터셋.csv', encoding='CP949')\n",
    "df1 = pd.read_csv('./dataset/실험용0.1윈저화.csv', encoding='CP949')\n",
    "df_y = df['label']\n",
    "df1_y = df['label']\n",
    "df_1 = df[['[제조]비유동자산증가율',\n",
    " '[제조]자기자본증가율',\n",
    " '[제조]재고자산증가율',\n",
    " '[제조]매출액순이익률',\n",
    " '[제조]매입채무회전기간',\n",
    " '[제조]재고자산회전기간',\n",
    " '[제조]당좌자산회전률',\n",
    " '[제조]현금비율',\n",
    " '[제조]순운전자본비율',\n",
    " '[제조]자기자본배율','label']]\n",
    "df1_1 = df1[['[제조]비유동자산증가율',\n",
    " '[제조]자기자본증가율',\n",
    " '[제조]재고자산증가율',\n",
    " '[제조]매출액순이익률',\n",
    " '[제조]매입채무회전기간',\n",
    " '[제조]재고자산회전기간',\n",
    " '[제조]당좌자산회전률',\n",
    " '[제조]현금비율',\n",
    " '[제조]순운전자본비율',\n",
    " '[제조]자기자본배율','label']]"
   ]
  },
  {
   "cell_type": "code",
   "execution_count": 10,
   "metadata": {},
   "outputs": [],
   "source": [
    "from sklearn.preprocessing import StandardScaler, RobustScaler\n",
    "scaler = StandardScaler()\n",
    "scaler.fit(df_1)\n",
    "\n",
    "df_scaled = scaler.transform(df_1)\n",
    "\n",
    "df_scaled_df = pd.DataFrame(df_scaled,columns = df_1.columns)"
   ]
  },
  {
   "cell_type": "code",
   "execution_count": 11,
   "metadata": {},
   "outputs": [],
   "source": [
    "from sklearn.preprocessing import StandardScaler, RobustScaler\n",
    "scaler = StandardScaler()\n",
    "scaler.fit(df1_1)\n",
    "\n",
    "df_scaled = scaler.transform(df1_1)\n",
    "\n",
    "df1_scaled_df = pd.DataFrame(df_scaled,columns = df1_1.columns)"
   ]
  },
  {
   "cell_type": "code",
   "execution_count": 12,
   "metadata": {},
   "outputs": [],
   "source": [
    "from sklearn.preprocessing import StandardScaler, RobustScaler\n",
    "scaler1 = RobustScaler()\n",
    "scaler1.fit(df_1)\n",
    "\n",
    "df_scaled = scaler1.transform(df_1)\n",
    "\n",
    "df_scaled_Ro = pd.DataFrame(df_scaled,columns = df_1.columns)"
   ]
  },
  {
   "cell_type": "code",
   "execution_count": 13,
   "metadata": {},
   "outputs": [],
   "source": [
    "from sklearn.preprocessing import StandardScaler, RobustScaler\n",
    "scaler1 = RobustScaler()\n",
    "scaler1.fit(df1_1)\n",
    "\n",
    "df_scaled = scaler1.transform(df1_1)\n",
    "\n",
    "df1_scaled_Ro = pd.DataFrame(df_scaled,columns = df1_1.columns)"
   ]
  },
  {
   "cell_type": "markdown",
   "metadata": {},
   "source": [
    "## 엘라스틱넷 데이터셋 "
   ]
  },
  {
   "cell_type": "code",
   "execution_count": 25,
   "metadata": {},
   "outputs": [],
   "source": [
    "from sklearn.model_selection import train_test_split\n",
    "Ela_X = df1_scaled_Ro.iloc[:,:-1]\n",
    "Ela_y = df1_y"
   ]
  },
  {
   "cell_type": "code",
   "execution_count": 26,
   "metadata": {},
   "outputs": [
    {
     "name": "stdout",
     "output_type": "stream",
     "text": [
      "RS 적용 전 학습용 피처/레이블 데이터 세트:  (10652, 10) (10652,)\n",
      "RS 적용 후 학습용 피처/레이블 데이터 세트:  (1793, 10) (1793,)\n",
      "RS 적용 후 레이블 값 분포: \n",
      " 0    1630\n",
      "1     163\n",
      "Name: label, dtype: int64\n"
     ]
    }
   ],
   "source": [
    "Ela_X_samp_1, Ela_y_samp_1 = RandomUnderSampler(random_state=0,sampling_strategy=0.1).fit_resample(Ela_X, Ela_y)\n",
    "\n",
    "print('RS 적용 전 학습용 피처/레이블 데이터 세트: ', Ela_X.shape, Ela_y.shape)\n",
    "print('RS 적용 후 학습용 피처/레이블 데이터 세트: ', Ela_X_samp_1.shape, Ela_y_samp_1.shape)\n",
    "print('RS 적용 후 레이블 값 분포: \\n', pd.Series(Ela_y_samp_1).value_counts())"
   ]
  },
  {
   "cell_type": "code",
   "execution_count": 27,
   "metadata": {},
   "outputs": [
    {
     "data": {
      "text/html": [
       "<div>\n",
       "<style scoped>\n",
       "    .dataframe tbody tr th:only-of-type {\n",
       "        vertical-align: middle;\n",
       "    }\n",
       "\n",
       "    .dataframe tbody tr th {\n",
       "        vertical-align: top;\n",
       "    }\n",
       "\n",
       "    .dataframe thead th {\n",
       "        text-align: right;\n",
       "    }\n",
       "</style>\n",
       "<table border=\"1\" class=\"dataframe\">\n",
       "  <thead>\n",
       "    <tr style=\"text-align: right;\">\n",
       "      <th></th>\n",
       "      <th>[제조]비유동자산증가율</th>\n",
       "      <th>[제조]자기자본증가율</th>\n",
       "      <th>[제조]재고자산증가율</th>\n",
       "      <th>[제조]매출액순이익률</th>\n",
       "      <th>[제조]매입채무회전기간</th>\n",
       "      <th>[제조]재고자산회전기간</th>\n",
       "      <th>[제조]당좌자산회전률</th>\n",
       "      <th>[제조]현금비율</th>\n",
       "      <th>[제조]순운전자본비율</th>\n",
       "      <th>[제조]자기자본배율</th>\n",
       "      <th>label</th>\n",
       "    </tr>\n",
       "  </thead>\n",
       "  <tbody>\n",
       "    <tr>\n",
       "      <th>0</th>\n",
       "      <td>0.344301</td>\n",
       "      <td>0.473124</td>\n",
       "      <td>-0.008694</td>\n",
       "      <td>0.740201</td>\n",
       "      <td>1.242114</td>\n",
       "      <td>0.226847</td>\n",
       "      <td>-0.152431</td>\n",
       "      <td>-0.158491</td>\n",
       "      <td>-0.662389</td>\n",
       "      <td>0.554572</td>\n",
       "      <td>0</td>\n",
       "    </tr>\n",
       "    <tr>\n",
       "      <th>1</th>\n",
       "      <td>0.268583</td>\n",
       "      <td>0.067289</td>\n",
       "      <td>0.178371</td>\n",
       "      <td>0.032088</td>\n",
       "      <td>1.218960</td>\n",
       "      <td>0.787961</td>\n",
       "      <td>0.625493</td>\n",
       "      <td>-0.319184</td>\n",
       "      <td>-0.203598</td>\n",
       "      <td>0.561447</td>\n",
       "      <td>0</td>\n",
       "    </tr>\n",
       "    <tr>\n",
       "      <th>2</th>\n",
       "      <td>0.828741</td>\n",
       "      <td>-3.943225</td>\n",
       "      <td>0.000000</td>\n",
       "      <td>-6.119964</td>\n",
       "      <td>-0.894463</td>\n",
       "      <td>-0.716288</td>\n",
       "      <td>-0.925099</td>\n",
       "      <td>-0.397471</td>\n",
       "      <td>-0.769282</td>\n",
       "      <td>-0.548551</td>\n",
       "      <td>0</td>\n",
       "    </tr>\n",
       "    <tr>\n",
       "      <th>3</th>\n",
       "      <td>0.513578</td>\n",
       "      <td>0.581417</td>\n",
       "      <td>0.418497</td>\n",
       "      <td>0.872197</td>\n",
       "      <td>-0.580369</td>\n",
       "      <td>0.097871</td>\n",
       "      <td>-0.226018</td>\n",
       "      <td>2.076582</td>\n",
       "      <td>0.627729</td>\n",
       "      <td>0.458919</td>\n",
       "      <td>0</td>\n",
       "    </tr>\n",
       "    <tr>\n",
       "      <th>4</th>\n",
       "      <td>1.041229</td>\n",
       "      <td>0.037324</td>\n",
       "      <td>0.212846</td>\n",
       "      <td>0.588514</td>\n",
       "      <td>-0.649832</td>\n",
       "      <td>1.188382</td>\n",
       "      <td>-0.646518</td>\n",
       "      <td>2.076582</td>\n",
       "      <td>1.227279</td>\n",
       "      <td>0.172867</td>\n",
       "      <td>0</td>\n",
       "    </tr>\n",
       "    <tr>\n",
       "      <th>...</th>\n",
       "      <td>...</td>\n",
       "      <td>...</td>\n",
       "      <td>...</td>\n",
       "      <td>...</td>\n",
       "      <td>...</td>\n",
       "      <td>...</td>\n",
       "      <td>...</td>\n",
       "      <td>...</td>\n",
       "      <td>...</td>\n",
       "      <td>...</td>\n",
       "      <td>...</td>\n",
       "    </tr>\n",
       "    <tr>\n",
       "      <th>1788</th>\n",
       "      <td>1.629534</td>\n",
       "      <td>-5.187015</td>\n",
       "      <td>-1.582553</td>\n",
       "      <td>-4.746035</td>\n",
       "      <td>1.242114</td>\n",
       "      <td>1.000701</td>\n",
       "      <td>-0.551905</td>\n",
       "      <td>-0.177388</td>\n",
       "      <td>-0.910306</td>\n",
       "      <td>-0.737113</td>\n",
       "      <td>1</td>\n",
       "    </tr>\n",
       "    <tr>\n",
       "      <th>1789</th>\n",
       "      <td>-0.570664</td>\n",
       "      <td>-1.071363</td>\n",
       "      <td>1.766020</td>\n",
       "      <td>-3.121240</td>\n",
       "      <td>0.501174</td>\n",
       "      <td>1.282485</td>\n",
       "      <td>-0.557162</td>\n",
       "      <td>-0.170710</td>\n",
       "      <td>0.262865</td>\n",
       "      <td>-0.165322</td>\n",
       "      <td>1</td>\n",
       "    </tr>\n",
       "    <tr>\n",
       "      <th>1790</th>\n",
       "      <td>-1.231913</td>\n",
       "      <td>0.019976</td>\n",
       "      <td>0.354043</td>\n",
       "      <td>0.338377</td>\n",
       "      <td>0.039430</td>\n",
       "      <td>-0.701393</td>\n",
       "      <td>-0.562418</td>\n",
       "      <td>2.076582</td>\n",
       "      <td>1.602725</td>\n",
       "      <td>1.544060</td>\n",
       "      <td>1</td>\n",
       "    </tr>\n",
       "    <tr>\n",
       "      <th>1791</th>\n",
       "      <td>-1.541923</td>\n",
       "      <td>-2.202129</td>\n",
       "      <td>-0.533913</td>\n",
       "      <td>-2.180492</td>\n",
       "      <td>-0.085403</td>\n",
       "      <td>-0.535267</td>\n",
       "      <td>-0.005256</td>\n",
       "      <td>1.004014</td>\n",
       "      <td>0.219209</td>\n",
       "      <td>-0.584431</td>\n",
       "      <td>1</td>\n",
       "    </tr>\n",
       "    <tr>\n",
       "      <th>1792</th>\n",
       "      <td>-0.659465</td>\n",
       "      <td>-2.795637</td>\n",
       "      <td>1.177546</td>\n",
       "      <td>-2.789426</td>\n",
       "      <td>1.242114</td>\n",
       "      <td>-0.296416</td>\n",
       "      <td>-0.431012</td>\n",
       "      <td>-0.285795</td>\n",
       "      <td>-0.910306</td>\n",
       "      <td>-0.630711</td>\n",
       "      <td>1</td>\n",
       "    </tr>\n",
       "  </tbody>\n",
       "</table>\n",
       "<p>1793 rows × 11 columns</p>\n",
       "</div>"
      ],
      "text/plain": [
       "      [제조]비유동자산증가율  [제조]자기자본증가율  [제조]재고자산증가율  [제조]매출액순이익률  [제조]매입채무회전기간  \\\n",
       "0         0.344301     0.473124    -0.008694     0.740201      1.242114   \n",
       "1         0.268583     0.067289     0.178371     0.032088      1.218960   \n",
       "2         0.828741    -3.943225     0.000000    -6.119964     -0.894463   \n",
       "3         0.513578     0.581417     0.418497     0.872197     -0.580369   \n",
       "4         1.041229     0.037324     0.212846     0.588514     -0.649832   \n",
       "...            ...          ...          ...          ...           ...   \n",
       "1788      1.629534    -5.187015    -1.582553    -4.746035      1.242114   \n",
       "1789     -0.570664    -1.071363     1.766020    -3.121240      0.501174   \n",
       "1790     -1.231913     0.019976     0.354043     0.338377      0.039430   \n",
       "1791     -1.541923    -2.202129    -0.533913    -2.180492     -0.085403   \n",
       "1792     -0.659465    -2.795637     1.177546    -2.789426      1.242114   \n",
       "\n",
       "      [제조]재고자산회전기간  [제조]당좌자산회전률  [제조]현금비율  [제조]순운전자본비율  [제조]자기자본배율  label  \n",
       "0         0.226847    -0.152431 -0.158491    -0.662389    0.554572      0  \n",
       "1         0.787961     0.625493 -0.319184    -0.203598    0.561447      0  \n",
       "2        -0.716288    -0.925099 -0.397471    -0.769282   -0.548551      0  \n",
       "3         0.097871    -0.226018  2.076582     0.627729    0.458919      0  \n",
       "4         1.188382    -0.646518  2.076582     1.227279    0.172867      0  \n",
       "...            ...          ...       ...          ...         ...    ...  \n",
       "1788      1.000701    -0.551905 -0.177388    -0.910306   -0.737113      1  \n",
       "1789      1.282485    -0.557162 -0.170710     0.262865   -0.165322      1  \n",
       "1790     -0.701393    -0.562418  2.076582     1.602725    1.544060      1  \n",
       "1791     -0.535267    -0.005256  1.004014     0.219209   -0.584431      1  \n",
       "1792     -0.296416    -0.431012 -0.285795    -0.910306   -0.630711      1  \n",
       "\n",
       "[1793 rows x 11 columns]"
      ]
     },
     "execution_count": 27,
     "metadata": {},
     "output_type": "execute_result"
    }
   ],
   "source": [
    "Ela_Under_samp = pd.concat([Ela_X_samp_1,Ela_y_samp_1], axis=1)\n",
    "Ela_Under_samp"
   ]
  },
  {
   "cell_type": "code",
   "execution_count": 28,
   "metadata": {},
   "outputs": [],
   "source": [
    "Ela_Under_samp.to_csv('./dataset/Ela_Undersampling(Ro).csv',encoding='CP949', index=False)"
   ]
  },
  {
   "cell_type": "code",
   "execution_count": 29,
   "metadata": {},
   "outputs": [
    {
     "data": {
      "text/plain": [
       "0       0\n",
       "1       0\n",
       "2       0\n",
       "3       0\n",
       "4       0\n",
       "       ..\n",
       "1788    1\n",
       "1789    1\n",
       "1790    1\n",
       "1791    1\n",
       "1792    1\n",
       "Name: label, Length: 1793, dtype: int64"
      ]
     },
     "execution_count": 29,
     "metadata": {},
     "output_type": "execute_result"
    }
   ],
   "source": [
    "Ela_y_samp_1"
   ]
  },
  {
   "cell_type": "code",
   "execution_count": 30,
   "metadata": {},
   "outputs": [],
   "source": [
    "Ela_x_train, Ela_x_test, Ela_y_train, Ela_y_test = train_test_split(Ela_X_samp_1, Ela_y_samp_1, test_size=0.2, random_state=0)"
   ]
  },
  {
   "cell_type": "code",
   "execution_count": 31,
   "metadata": {},
   "outputs": [
    {
     "name": "stdout",
     "output_type": "stream",
     "text": [
      "RS 적용 전 학습용 피처/레이블 데이터 세트:  (1434, 10) (1434,)\n",
      "RS 적용 후 학습용 피처/레이블 데이터 세트:  (1622, 10) (1622,)\n",
      "RS 적용 후 레이블 값 분포: \n",
      " 0    1298\n",
      "1     324\n",
      "Name: label, dtype: int64\n"
     ]
    }
   ],
   "source": [
    "Ela_X_samp_2, Ela_y_samp_2 = RandomOverSampler(random_state=0,sampling_strategy=0.25).fit_resample(Ela_x_train, Ela_y_train)\n",
    "\n",
    "print('RS 적용 전 학습용 피처/레이블 데이터 세트: ', Ela_x_train.shape, Ela_y_train.shape)\n",
    "print('RS 적용 후 학습용 피처/레이블 데이터 세트: ', Ela_X_samp_2.shape, Ela_y_samp_2.shape)\n",
    "print('RS 적용 후 레이블 값 분포: \\n', pd.Series(Ela_y_samp_2).value_counts())"
   ]
  },
  {
   "cell_type": "code",
   "execution_count": 32,
   "metadata": {},
   "outputs": [],
   "source": [
    "Ela_train = pd.concat([Ela_x_train, Ela_y_train], axis=1)\n",
    "Ela_test = pd.concat([Ela_x_test, Ela_y_test], axis=1)"
   ]
  },
  {
   "cell_type": "code",
   "execution_count": 33,
   "metadata": {},
   "outputs": [],
   "source": [
    "Ela_train.to_csv('./dataset/Ela_trainUnderOverSampling(Ro).csv', encoding='CP949', index=False)\n",
    "Ela_test.to_csv('./dataset/Ela_testUnderOverSampling(Ro).csv', encoding='CP949', index=False)"
   ]
  },
  {
   "cell_type": "code",
   "execution_count": null,
   "metadata": {},
   "outputs": [],
   "source": []
  }
 ],
 "metadata": {
  "kernelspec": {
   "display_name": "Python 3.8.8 ('base')",
   "language": "python",
   "name": "python3"
  },
  "language_info": {
   "codemirror_mode": {
    "name": "ipython",
    "version": 3
   },
   "file_extension": ".py",
   "mimetype": "text/x-python",
   "name": "python",
   "nbconvert_exporter": "python",
   "pygments_lexer": "ipython3",
   "version": "3.8.8"
  },
  "orig_nbformat": 4,
  "vscode": {
   "interpreter": {
    "hash": "ad2bdc8ecc057115af97d19610ffacc2b4e99fae6737bb82f5d7fb13d2f2c186"
   }
  }
 },
 "nbformat": 4,
 "nbformat_minor": 2
}
