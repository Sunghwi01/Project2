{
 "cells": [
  {
   "cell_type": "code",
   "execution_count": 25,
   "metadata": {},
   "outputs": [],
   "source": [
    "# 필요 라이브러리 import \n",
    "import pandas as pd\n",
    "import numpy as np\n",
    "from scipy.stats.mstats import winsorize\n",
    "from sklearn.preprocessing import StandardScaler\n",
    "from sklearn.preprocessing import MinMaxScaler\n",
    "import matplotlib.pyplot as plt\n",
    "%matplotlib inline"
   ]
  },
  {
   "cell_type": "code",
   "execution_count": 26,
   "metadata": {},
   "outputs": [],
   "source": [
    "# 윈저사이저 적용\n",
    "df = pd.read_csv('./dataset/sampling5000.csv', encoding='CP949')\n",
    "# df.drop(['회사명', '거래소코드', '회계년도', '상장일', '상장폐지일', '산업명', '소속코드', 'month'],axis=1,inplace=True)\n",
    "# for col in df.columns:\n",
    "#      df[col] = winsorize(df[col], limits= 0.01)"
   ]
  },
  {
   "cell_type": "code",
   "execution_count": 3,
   "metadata": {},
   "outputs": [
    {
     "data": {
      "text/plain": [
       "[['[제조]순운전자본회전률',\n",
       "  '[제조]총자본증가율',\n",
       "  '[제조]자본분배율',\n",
       "  '[제조]매출액순이익률',\n",
       "  '[제조]부채비율',\n",
       "  '[제조]자기자본순이익률',\n",
       "  '[제조]비유동자산회전률']]"
      ]
     },
     "execution_count": 3,
     "metadata": {},
     "output_type": "execute_result"
    }
   ],
   "source": [
    "# 공통선정피쳐\n",
    "[['[제조]순운전자본회전률','[제조]총자본증가율','[제조]자본분배율','[제조]매출액순이익률','[제조]부채비율','[제조]자기자본순이익률','[제조]비유동자산회전률']]"
   ]
  },
  {
   "cell_type": "code",
   "execution_count": 27,
   "metadata": {},
   "outputs": [
    {
     "data": {
      "text/html": [
       "<div>\n",
       "<style scoped>\n",
       "    .dataframe tbody tr th:only-of-type {\n",
       "        vertical-align: middle;\n",
       "    }\n",
       "\n",
       "    .dataframe tbody tr th {\n",
       "        vertical-align: top;\n",
       "    }\n",
       "\n",
       "    .dataframe thead th {\n",
       "        text-align: right;\n",
       "    }\n",
       "</style>\n",
       "<table border=\"1\" class=\"dataframe\">\n",
       "  <thead>\n",
       "    <tr style=\"text-align: right;\">\n",
       "      <th></th>\n",
       "      <th>[제조]총자본증가율</th>\n",
       "      <th>[제조]자기자본증가율</th>\n",
       "      <th>[제조]매출채권회전률</th>\n",
       "      <th>[제조]순운전자본비율</th>\n",
       "      <th>[제조]자기자본배율</th>\n",
       "      <th>[제조]비유동비율</th>\n",
       "      <th>[제조]유동자산구성비율</th>\n",
       "      <th>[제조]자기자본구성비율</th>\n",
       "      <th>[제조]자본분배율</th>\n",
       "      <th>year</th>\n",
       "      <th>label</th>\n",
       "    </tr>\n",
       "  </thead>\n",
       "  <tbody>\n",
       "    <tr>\n",
       "      <th>count</th>\n",
       "      <td>5000.000000</td>\n",
       "      <td>5000.000000</td>\n",
       "      <td>5000.000000</td>\n",
       "      <td>5000.000000</td>\n",
       "      <td>5000.000000</td>\n",
       "      <td>5000.000000</td>\n",
       "      <td>5000.000000</td>\n",
       "      <td>5000.000000</td>\n",
       "      <td>5000.000000</td>\n",
       "      <td>5000.000000</td>\n",
       "      <td>5000.000000</td>\n",
       "    </tr>\n",
       "    <tr>\n",
       "      <th>mean</th>\n",
       "      <td>5.391182</td>\n",
       "      <td>8.917098</td>\n",
       "      <td>8.456154</td>\n",
       "      <td>13.516350</td>\n",
       "      <td>900.545336</td>\n",
       "      <td>117.186680</td>\n",
       "      <td>51.095910</td>\n",
       "      <td>53.429058</td>\n",
       "      <td>-2.480094</td>\n",
       "      <td>2015.508600</td>\n",
       "      <td>0.300000</td>\n",
       "    </tr>\n",
       "    <tr>\n",
       "      <th>std</th>\n",
       "      <td>34.766512</td>\n",
       "      <td>62.836861</td>\n",
       "      <td>9.622949</td>\n",
       "      <td>31.091393</td>\n",
       "      <td>1044.844495</td>\n",
       "      <td>107.017938</td>\n",
       "      <td>19.205945</td>\n",
       "      <td>24.426682</td>\n",
       "      <td>130.051477</td>\n",
       "      <td>2.985248</td>\n",
       "      <td>0.458303</td>\n",
       "    </tr>\n",
       "    <tr>\n",
       "      <th>min</th>\n",
       "      <td>-47.320000</td>\n",
       "      <td>-76.570000</td>\n",
       "      <td>0.930000</td>\n",
       "      <td>-46.370000</td>\n",
       "      <td>42.590000</td>\n",
       "      <td>7.430000</td>\n",
       "      <td>10.920000</td>\n",
       "      <td>8.930000</td>\n",
       "      <td>-710.100000</td>\n",
       "      <td>2011.000000</td>\n",
       "      <td>0.000000</td>\n",
       "    </tr>\n",
       "    <tr>\n",
       "      <th>25%</th>\n",
       "      <td>-11.902500</td>\n",
       "      <td>-13.745000</td>\n",
       "      <td>3.770000</td>\n",
       "      <td>-6.900000</td>\n",
       "      <td>166.080000</td>\n",
       "      <td>51.290000</td>\n",
       "      <td>37.337500</td>\n",
       "      <td>36.220000</td>\n",
       "      <td>0.000000</td>\n",
       "      <td>2013.000000</td>\n",
       "      <td>0.000000</td>\n",
       "    </tr>\n",
       "    <tr>\n",
       "      <th>50%</th>\n",
       "      <td>2.955000</td>\n",
       "      <td>3.850000</td>\n",
       "      <td>5.720000</td>\n",
       "      <td>14.610000</td>\n",
       "      <td>580.605000</td>\n",
       "      <td>84.595000</td>\n",
       "      <td>51.375000</td>\n",
       "      <td>54.460000</td>\n",
       "      <td>27.220000</td>\n",
       "      <td>2016.000000</td>\n",
       "      <td>0.000000</td>\n",
       "    </tr>\n",
       "    <tr>\n",
       "      <th>75%</th>\n",
       "      <td>16.050000</td>\n",
       "      <td>17.102500</td>\n",
       "      <td>9.270000</td>\n",
       "      <td>35.580000</td>\n",
       "      <td>1225.417500</td>\n",
       "      <td>139.825000</td>\n",
       "      <td>64.782500</td>\n",
       "      <td>73.000000</td>\n",
       "      <td>48.967500</td>\n",
       "      <td>2018.000000</td>\n",
       "      <td>1.000000</td>\n",
       "    </tr>\n",
       "    <tr>\n",
       "      <th>max</th>\n",
       "      <td>187.780000</td>\n",
       "      <td>333.240000</td>\n",
       "      <td>59.980000</td>\n",
       "      <td>81.090000</td>\n",
       "      <td>6407.620000</td>\n",
       "      <td>468.340000</td>\n",
       "      <td>92.890000</td>\n",
       "      <td>95.200000</td>\n",
       "      <td>85.040000</td>\n",
       "      <td>2020.000000</td>\n",
       "      <td>1.000000</td>\n",
       "    </tr>\n",
       "  </tbody>\n",
       "</table>\n",
       "</div>"
      ],
      "text/plain": [
       "        [제조]총자본증가율  [제조]자기자본증가율  [제조]매출채권회전률  [제조]순운전자본비율   [제조]자기자본배율  \\\n",
       "count  5000.000000  5000.000000  5000.000000  5000.000000  5000.000000   \n",
       "mean      5.391182     8.917098     8.456154    13.516350   900.545336   \n",
       "std      34.766512    62.836861     9.622949    31.091393  1044.844495   \n",
       "min     -47.320000   -76.570000     0.930000   -46.370000    42.590000   \n",
       "25%     -11.902500   -13.745000     3.770000    -6.900000   166.080000   \n",
       "50%       2.955000     3.850000     5.720000    14.610000   580.605000   \n",
       "75%      16.050000    17.102500     9.270000    35.580000  1225.417500   \n",
       "max     187.780000   333.240000    59.980000    81.090000  6407.620000   \n",
       "\n",
       "         [제조]비유동비율  [제조]유동자산구성비율  [제조]자기자본구성비율    [제조]자본분배율         year  \\\n",
       "count  5000.000000   5000.000000   5000.000000  5000.000000  5000.000000   \n",
       "mean    117.186680     51.095910     53.429058    -2.480094  2015.508600   \n",
       "std     107.017938     19.205945     24.426682   130.051477     2.985248   \n",
       "min       7.430000     10.920000      8.930000  -710.100000  2011.000000   \n",
       "25%      51.290000     37.337500     36.220000     0.000000  2013.000000   \n",
       "50%      84.595000     51.375000     54.460000    27.220000  2016.000000   \n",
       "75%     139.825000     64.782500     73.000000    48.967500  2018.000000   \n",
       "max     468.340000     92.890000     95.200000    85.040000  2020.000000   \n",
       "\n",
       "             label  \n",
       "count  5000.000000  \n",
       "mean      0.300000  \n",
       "std       0.458303  \n",
       "min       0.000000  \n",
       "25%       0.000000  \n",
       "50%       0.000000  \n",
       "75%       1.000000  \n",
       "max       1.000000  "
      ]
     },
     "execution_count": 27,
     "metadata": {},
     "output_type": "execute_result"
    }
   ],
   "source": [
    "# Data set1 공통 선정된 피처들 분리\n",
    "df = df.sort_values([\"year\"],ascending=True)\n",
    "df_data = df[['[제조]총자본증가율', '[제조]자기자본증가율', '[제조]매출채권회전률',  '[제조]순운전자본비율',\n",
    "       '[제조]자기자본배율', '[제조]비유동비율', '[제조]유동자산구성비율', '[제조]자기자본구성비율',\n",
    "        '[제조]자본분배율']]\n",
    "# df_data_scaled= StandardScaler().fit_transform(df_data)\n",
    "# df_data_scaled= MinMaxScaler().fit_transform(df_data)\n",
    "# df_data_scaled = pd.DataFrame(df_data_scaled)\n",
    "# df_data_scaled.columns =[['[제조]유동자산구성비율','[제조]자기자본구성비율','[제조]총자본증가율','[제조]자기자본증가율',\n",
    "# '[제조]현금비율','[제조]부채비율','[제조]매출채권회전률','[제조]노동소득분배율','[제조]자기자본배율']]\n",
    "# df[['[제조]유동자산구성비율','[제조]자기자본구성비율','[제조]총자본증가율',\n",
    "# '[제조]자기자본증가율','[제조]현금비율','[제조]부채비율','[제조]매출채권회전률','[제조]노동소득분배율','[제조]자기자본배율']] = df_data_scaled[['[제조]유동자산구성비율','[제조]자기자본구성비율','[제조]총자본증가율','[제조]자기자본증가율','[제조]현금비율','[제조]부채비율','[제조]매출채권회전률','[제조]노동소득분배율','[제조]자기자본배율']]\n",
    "df =df.reset_index(drop=\"index\")\n",
    "df.describe()"
   ]
  },
  {
   "cell_type": "code",
   "execution_count": 29,
   "metadata": {},
   "outputs": [
    {
     "data": {
      "text/html": [
       "<div>\n",
       "<style scoped>\n",
       "    .dataframe tbody tr th:only-of-type {\n",
       "        vertical-align: middle;\n",
       "    }\n",
       "\n",
       "    .dataframe tbody tr th {\n",
       "        vertical-align: top;\n",
       "    }\n",
       "\n",
       "    .dataframe thead th {\n",
       "        text-align: right;\n",
       "    }\n",
       "</style>\n",
       "<table border=\"1\" class=\"dataframe\">\n",
       "  <thead>\n",
       "    <tr style=\"text-align: right;\">\n",
       "      <th></th>\n",
       "      <th>[제조]총자본증가율</th>\n",
       "      <th>[제조]자기자본증가율</th>\n",
       "      <th>[제조]매출채권회전률</th>\n",
       "      <th>[제조]순운전자본비율</th>\n",
       "      <th>[제조]자기자본배율</th>\n",
       "      <th>[제조]비유동비율</th>\n",
       "      <th>[제조]유동자산구성비율</th>\n",
       "      <th>[제조]자기자본구성비율</th>\n",
       "      <th>[제조]자본분배율</th>\n",
       "    </tr>\n",
       "  </thead>\n",
       "  <tbody>\n",
       "    <tr>\n",
       "      <th>count</th>\n",
       "      <td>1092.000000</td>\n",
       "      <td>1092.000000</td>\n",
       "      <td>1092.000000</td>\n",
       "      <td>1092.000000</td>\n",
       "      <td>1092.000000</td>\n",
       "      <td>1092.000000</td>\n",
       "      <td>1092.000000</td>\n",
       "      <td>1092.000000</td>\n",
       "      <td>1092.000000</td>\n",
       "    </tr>\n",
       "    <tr>\n",
       "      <th>mean</th>\n",
       "      <td>5.687738</td>\n",
       "      <td>14.757115</td>\n",
       "      <td>8.963114</td>\n",
       "      <td>17.010284</td>\n",
       "      <td>1011.629066</td>\n",
       "      <td>107.180357</td>\n",
       "      <td>52.613645</td>\n",
       "      <td>55.676969</td>\n",
       "      <td>-7.469579</td>\n",
       "    </tr>\n",
       "    <tr>\n",
       "      <th>std</th>\n",
       "      <td>35.678625</td>\n",
       "      <td>68.972060</td>\n",
       "      <td>8.650235</td>\n",
       "      <td>31.148713</td>\n",
       "      <td>1151.260936</td>\n",
       "      <td>94.713517</td>\n",
       "      <td>18.634661</td>\n",
       "      <td>23.745535</td>\n",
       "      <td>146.559695</td>\n",
       "    </tr>\n",
       "    <tr>\n",
       "      <th>min</th>\n",
       "      <td>-47.320000</td>\n",
       "      <td>-76.570000</td>\n",
       "      <td>0.930000</td>\n",
       "      <td>-46.370000</td>\n",
       "      <td>42.590000</td>\n",
       "      <td>7.430000</td>\n",
       "      <td>10.920000</td>\n",
       "      <td>8.930000</td>\n",
       "      <td>-710.100000</td>\n",
       "    </tr>\n",
       "    <tr>\n",
       "      <th>25%</th>\n",
       "      <td>-11.995000</td>\n",
       "      <td>-9.932500</td>\n",
       "      <td>4.142500</td>\n",
       "      <td>-2.300000</td>\n",
       "      <td>223.160000</td>\n",
       "      <td>49.270000</td>\n",
       "      <td>39.467500</td>\n",
       "      <td>39.910000</td>\n",
       "      <td>0.000000</td>\n",
       "    </tr>\n",
       "    <tr>\n",
       "      <th>50%</th>\n",
       "      <td>2.560000</td>\n",
       "      <td>2.835000</td>\n",
       "      <td>6.450000</td>\n",
       "      <td>18.800000</td>\n",
       "      <td>607.650000</td>\n",
       "      <td>79.050000</td>\n",
       "      <td>52.625000</td>\n",
       "      <td>56.410000</td>\n",
       "      <td>28.390000</td>\n",
       "    </tr>\n",
       "    <tr>\n",
       "      <th>75%</th>\n",
       "      <td>15.782500</td>\n",
       "      <td>17.102500</td>\n",
       "      <td>10.292500</td>\n",
       "      <td>41.170000</td>\n",
       "      <td>1419.367500</td>\n",
       "      <td>129.875000</td>\n",
       "      <td>65.442500</td>\n",
       "      <td>75.410000</td>\n",
       "      <td>48.910000</td>\n",
       "    </tr>\n",
       "    <tr>\n",
       "      <th>max</th>\n",
       "      <td>187.780000</td>\n",
       "      <td>333.240000</td>\n",
       "      <td>59.980000</td>\n",
       "      <td>81.090000</td>\n",
       "      <td>6407.620000</td>\n",
       "      <td>468.340000</td>\n",
       "      <td>92.890000</td>\n",
       "      <td>95.200000</td>\n",
       "      <td>85.040000</td>\n",
       "    </tr>\n",
       "  </tbody>\n",
       "</table>\n",
       "</div>"
      ],
      "text/plain": [
       "        [제조]총자본증가율  [제조]자기자본증가율  [제조]매출채권회전률  [제조]순운전자본비율   [제조]자기자본배율  \\\n",
       "count  1092.000000  1092.000000  1092.000000  1092.000000  1092.000000   \n",
       "mean      5.687738    14.757115     8.963114    17.010284  1011.629066   \n",
       "std      35.678625    68.972060     8.650235    31.148713  1151.260936   \n",
       "min     -47.320000   -76.570000     0.930000   -46.370000    42.590000   \n",
       "25%     -11.995000    -9.932500     4.142500    -2.300000   223.160000   \n",
       "50%       2.560000     2.835000     6.450000    18.800000   607.650000   \n",
       "75%      15.782500    17.102500    10.292500    41.170000  1419.367500   \n",
       "max     187.780000   333.240000    59.980000    81.090000  6407.620000   \n",
       "\n",
       "         [제조]비유동비율  [제조]유동자산구성비율  [제조]자기자본구성비율    [제조]자본분배율  \n",
       "count  1092.000000   1092.000000   1092.000000  1092.000000  \n",
       "mean    107.180357     52.613645     55.676969    -7.469579  \n",
       "std      94.713517     18.634661     23.745535   146.559695  \n",
       "min       7.430000     10.920000      8.930000  -710.100000  \n",
       "25%      49.270000     39.467500     39.910000     0.000000  \n",
       "50%      79.050000     52.625000     56.410000    28.390000  \n",
       "75%     129.875000     65.442500     75.410000    48.910000  \n",
       "max     468.340000     92.890000     95.200000    85.040000  "
      ]
     },
     "execution_count": 29,
     "metadata": {},
     "output_type": "execute_result"
    }
   ],
   "source": [
    "# train test set 분리\n",
    "df1 = df[df['year']<2019] #train\n",
    "df2 = df[df['year']>=2019] #test\n",
    "# train data label 분리 test data label 분리\n",
    "X_train= df1[['[제조]총자본증가율', '[제조]자기자본증가율', '[제조]매출채권회전률',  '[제조]순운전자본비율',\n",
    "       '[제조]자기자본배율', '[제조]비유동비율', '[제조]유동자산구성비율', '[제조]자기자본구성비율',\n",
    "        '[제조]자본분배율']]\n",
    "X_test = df2[['[제조]총자본증가율', '[제조]자기자본증가율', '[제조]매출채권회전률',  '[제조]순운전자본비율',\n",
    "       '[제조]자기자본배율', '[제조]비유동비율', '[제조]유동자산구성비율', '[제조]자기자본구성비율',\n",
    "        '[제조]자본분배율']]\n",
    "y_train = df1[\"label\"]\n",
    "y_test = df2[\"label\"]\n",
    "\n",
    "# x_train_scaled= StandardScaler().fit_transform(X_train)\n",
    "# x_test_scaled = fit_transform(X_test)\n",
    "# # df_data_scaled= MinMaxScaler().fit_transform(df_data)\n",
    "# X_train_scaled = pd.DataFrame(x_train_scaled)\n",
    "X_test.describe()"
   ]
  },
  {
   "cell_type": "code",
   "execution_count": 30,
   "metadata": {},
   "outputs": [],
   "source": [
    "# 기본적인 LDA 구현\n",
    "from sklearn.discriminant_analysis import LinearDiscriminantAnalysis\n",
    "lda_clf = LinearDiscriminantAnalysis()\n",
    "lda_clf.fit(X_train,y_train)\n",
    "lda_pred = lda_clf.predict(X_test)\n",
    "lda_pred_proba = lda_clf.predict_proba(X_test)"
   ]
  },
  {
   "cell_type": "code",
   "execution_count": 31,
   "metadata": {},
   "outputs": [],
   "source": [
    "from sklearn.model_selection import GridSearchCV\n"
   ]
  },
  {
   "cell_type": "code",
   "execution_count": 32,
   "metadata": {},
   "outputs": [],
   "source": [
    "# 디시전트리 구현\n",
    "from sklearn.tree import DecisionTreeClassifier       \n",
    "dt_clf = DecisionTreeClassifier(random_state=52)     \n",
    "dt_clf.fit(X_train, y_train)\n",
    "dt_pred = dt_clf.predict(X_test)\n",
    "dt_pred_proba = dt_clf.predict_proba(X_test)"
   ]
  },
  {
   "cell_type": "code",
   "execution_count": 13,
   "metadata": {},
   "outputs": [
    {
     "name": "stdout",
     "output_type": "stream",
     "text": [
      "최적 하이퍼 파라미터 :{'max_depth': 8, 'min_samples_leaf': 5}, 최적 평균 정확도 :0.924\n"
     ]
    }
   ],
   "source": [
    "\n",
    "tree = DecisionTreeClassifier()\n",
    "\n",
    "# 딕셔너리로 전달\n",
    "# key: 하이퍼파라미터 명; value: [후보값들] 을 리스트로 전달\n",
    "param_grid = {\n",
    "    'max_depth':[2,3,4,5,6,7,8], #7개\n",
    "    'min_samples_leaf':[5,6,7,8,9,10,11,12,13,14,15,16,17,18,19,20]  #4개 --> 7x4 = 총 28개의 조합\n",
    "}\n",
    "grid_search = GridSearchCV(tree\n",
    "                          , param_grid = param_grid\n",
    "                          , cv = 5 #교차검증시 fold 개수; n번의 교차검증; 데이터들이 돌아가면서 하나씩 검증(validation)에 사용되어 일반화하는 것; 데이터가 많지 않을 때 보통 쓰인다고 함\n",
    "                          , n_jobs = -1)  #-1: 모든 코어 사용\n",
    "\n",
    "grid_search.fit(X_train, y_train)\n",
    "\n",
    "# 최선의 결과 출력\n",
    "print('최적 하이퍼 파라미터 :{0}, 최적 평균 정확도 :{1:.3f}'.format(grid_search.best_params_, grid_search.best_score_))"
   ]
  },
  {
   "cell_type": "code",
   "execution_count": 33,
   "metadata": {},
   "outputs": [],
   "source": [
    "#최적 하이퍼 파라미터 적용 디시전 트리  \n",
    "#{'max_depth': 2, 'min_samples_leaf': 19}, 최적 평균 정확도 :0.983\n",
    "  \n",
    "dt_clf_best = DecisionTreeClassifier(random_state=52,max_depth= 8,min_samples_leaf=5)     \n",
    "dt_clf_best.fit(X_train, y_train)\n",
    "dt_best_pred = dt_clf_best.predict(X_test)\n",
    "dt_best_pred_proba = dt_clf_best.predict_proba(X_test)"
   ]
  },
  {
   "cell_type": "code",
   "execution_count": 63,
   "metadata": {},
   "outputs": [],
   "source": [
    "# 랜덤포레스트 구현\n",
    "from sklearn.ensemble import RandomForestClassifier\n",
    "rf_clf = RandomForestClassifier(random_state=52)     \n",
    "rf_clf.fit(X_train, y_train)\n",
    "rf_pred = rf_clf.predict(X_test)\n",
    "rf_pred_proba = rf_clf.predict_proba(X_test)"
   ]
  },
  {
   "cell_type": "code",
   "execution_count": 16,
   "metadata": {},
   "outputs": [
    {
     "ename": "KeyboardInterrupt",
     "evalue": "",
     "output_type": "error",
     "traceback": [
      "\u001b[1;31m---------------------------------------------------------------------------\u001b[0m",
      "\u001b[1;31mKeyboardInterrupt\u001b[0m                         Traceback (most recent call last)",
      "\u001b[1;32m<ipython-input-16-8f3137584262>\u001b[0m in \u001b[0;36m<module>\u001b[1;34m\u001b[0m\n\u001b[0;32m     13\u001b[0m grid = GridSearchCV(estimator = model, param_grid = grid_search, \n\u001b[0;32m     14\u001b[0m                                cv = 4,verbose=0, n_jobs = -1)\n\u001b[1;32m---> 15\u001b[1;33m \u001b[0mgrid\u001b[0m\u001b[1;33m.\u001b[0m\u001b[0mfit\u001b[0m\u001b[1;33m(\u001b[0m\u001b[0mX_train\u001b[0m\u001b[1;33m,\u001b[0m\u001b[0my_train\u001b[0m\u001b[1;33m)\u001b[0m\u001b[1;33m\u001b[0m\u001b[1;33m\u001b[0m\u001b[0m\n\u001b[0m\u001b[0;32m     16\u001b[0m \u001b[1;33m\u001b[0m\u001b[0m\n\u001b[0;32m     17\u001b[0m \u001b[1;31m# 최선의 결과 출력\u001b[0m\u001b[1;33m\u001b[0m\u001b[1;33m\u001b[0m\u001b[1;33m\u001b[0m\u001b[0m\n",
      "\u001b[1;32mc:\\ProgramData\\Anaconda3\\lib\\site-packages\\sklearn\\model_selection\\_search.py\u001b[0m in \u001b[0;36mfit\u001b[1;34m(self, X, y, groups, **fit_params)\u001b[0m\n\u001b[0;32m    873\u001b[0m                 \u001b[1;32mreturn\u001b[0m \u001b[0mresults\u001b[0m\u001b[1;33m\u001b[0m\u001b[1;33m\u001b[0m\u001b[0m\n\u001b[0;32m    874\u001b[0m \u001b[1;33m\u001b[0m\u001b[0m\n\u001b[1;32m--> 875\u001b[1;33m             \u001b[0mself\u001b[0m\u001b[1;33m.\u001b[0m\u001b[0m_run_search\u001b[0m\u001b[1;33m(\u001b[0m\u001b[0mevaluate_candidates\u001b[0m\u001b[1;33m)\u001b[0m\u001b[1;33m\u001b[0m\u001b[1;33m\u001b[0m\u001b[0m\n\u001b[0m\u001b[0;32m    876\u001b[0m \u001b[1;33m\u001b[0m\u001b[0m\n\u001b[0;32m    877\u001b[0m             \u001b[1;31m# multimetric is determined here because in the case of a callable\u001b[0m\u001b[1;33m\u001b[0m\u001b[1;33m\u001b[0m\u001b[1;33m\u001b[0m\u001b[0m\n",
      "\u001b[1;32mc:\\ProgramData\\Anaconda3\\lib\\site-packages\\sklearn\\model_selection\\_search.py\u001b[0m in \u001b[0;36m_run_search\u001b[1;34m(self, evaluate_candidates)\u001b[0m\n\u001b[0;32m   1377\u001b[0m     \u001b[1;32mdef\u001b[0m \u001b[0m_run_search\u001b[0m\u001b[1;33m(\u001b[0m\u001b[0mself\u001b[0m\u001b[1;33m,\u001b[0m \u001b[0mevaluate_candidates\u001b[0m\u001b[1;33m)\u001b[0m\u001b[1;33m:\u001b[0m\u001b[1;33m\u001b[0m\u001b[1;33m\u001b[0m\u001b[0m\n\u001b[0;32m   1378\u001b[0m         \u001b[1;34m\"\"\"Search all candidates in param_grid\"\"\"\u001b[0m\u001b[1;33m\u001b[0m\u001b[1;33m\u001b[0m\u001b[0m\n\u001b[1;32m-> 1379\u001b[1;33m         \u001b[0mevaluate_candidates\u001b[0m\u001b[1;33m(\u001b[0m\u001b[0mParameterGrid\u001b[0m\u001b[1;33m(\u001b[0m\u001b[0mself\u001b[0m\u001b[1;33m.\u001b[0m\u001b[0mparam_grid\u001b[0m\u001b[1;33m)\u001b[0m\u001b[1;33m)\u001b[0m\u001b[1;33m\u001b[0m\u001b[1;33m\u001b[0m\u001b[0m\n\u001b[0m\u001b[0;32m   1380\u001b[0m \u001b[1;33m\u001b[0m\u001b[0m\n\u001b[0;32m   1381\u001b[0m \u001b[1;33m\u001b[0m\u001b[0m\n",
      "\u001b[1;32mc:\\ProgramData\\Anaconda3\\lib\\site-packages\\sklearn\\model_selection\\_search.py\u001b[0m in \u001b[0;36mevaluate_candidates\u001b[1;34m(candidate_params, cv, more_results)\u001b[0m\n\u001b[0;32m    820\u001b[0m                     )\n\u001b[0;32m    821\u001b[0m \u001b[1;33m\u001b[0m\u001b[0m\n\u001b[1;32m--> 822\u001b[1;33m                 out = parallel(\n\u001b[0m\u001b[0;32m    823\u001b[0m                     delayed(_fit_and_score)(\n\u001b[0;32m    824\u001b[0m                         \u001b[0mclone\u001b[0m\u001b[1;33m(\u001b[0m\u001b[0mbase_estimator\u001b[0m\u001b[1;33m)\u001b[0m\u001b[1;33m,\u001b[0m\u001b[1;33m\u001b[0m\u001b[1;33m\u001b[0m\u001b[0m\n",
      "\u001b[1;32mc:\\ProgramData\\Anaconda3\\lib\\site-packages\\joblib\\parallel.py\u001b[0m in \u001b[0;36m__call__\u001b[1;34m(self, iterable)\u001b[0m\n\u001b[0;32m   1052\u001b[0m \u001b[1;33m\u001b[0m\u001b[0m\n\u001b[0;32m   1053\u001b[0m             \u001b[1;32mwith\u001b[0m \u001b[0mself\u001b[0m\u001b[1;33m.\u001b[0m\u001b[0m_backend\u001b[0m\u001b[1;33m.\u001b[0m\u001b[0mretrieval_context\u001b[0m\u001b[1;33m(\u001b[0m\u001b[1;33m)\u001b[0m\u001b[1;33m:\u001b[0m\u001b[1;33m\u001b[0m\u001b[1;33m\u001b[0m\u001b[0m\n\u001b[1;32m-> 1054\u001b[1;33m                 \u001b[0mself\u001b[0m\u001b[1;33m.\u001b[0m\u001b[0mretrieve\u001b[0m\u001b[1;33m(\u001b[0m\u001b[1;33m)\u001b[0m\u001b[1;33m\u001b[0m\u001b[1;33m\u001b[0m\u001b[0m\n\u001b[0m\u001b[0;32m   1055\u001b[0m             \u001b[1;31m# Make sure that we get a last message telling us we are done\u001b[0m\u001b[1;33m\u001b[0m\u001b[1;33m\u001b[0m\u001b[1;33m\u001b[0m\u001b[0m\n\u001b[0;32m   1056\u001b[0m             \u001b[0melapsed_time\u001b[0m \u001b[1;33m=\u001b[0m \u001b[0mtime\u001b[0m\u001b[1;33m.\u001b[0m\u001b[0mtime\u001b[0m\u001b[1;33m(\u001b[0m\u001b[1;33m)\u001b[0m \u001b[1;33m-\u001b[0m \u001b[0mself\u001b[0m\u001b[1;33m.\u001b[0m\u001b[0m_start_time\u001b[0m\u001b[1;33m\u001b[0m\u001b[1;33m\u001b[0m\u001b[0m\n",
      "\u001b[1;32mc:\\ProgramData\\Anaconda3\\lib\\site-packages\\joblib\\parallel.py\u001b[0m in \u001b[0;36mretrieve\u001b[1;34m(self)\u001b[0m\n\u001b[0;32m    931\u001b[0m             \u001b[1;32mtry\u001b[0m\u001b[1;33m:\u001b[0m\u001b[1;33m\u001b[0m\u001b[1;33m\u001b[0m\u001b[0m\n\u001b[0;32m    932\u001b[0m                 \u001b[1;32mif\u001b[0m \u001b[0mgetattr\u001b[0m\u001b[1;33m(\u001b[0m\u001b[0mself\u001b[0m\u001b[1;33m.\u001b[0m\u001b[0m_backend\u001b[0m\u001b[1;33m,\u001b[0m \u001b[1;34m'supports_timeout'\u001b[0m\u001b[1;33m,\u001b[0m \u001b[1;32mFalse\u001b[0m\u001b[1;33m)\u001b[0m\u001b[1;33m:\u001b[0m\u001b[1;33m\u001b[0m\u001b[1;33m\u001b[0m\u001b[0m\n\u001b[1;32m--> 933\u001b[1;33m                     \u001b[0mself\u001b[0m\u001b[1;33m.\u001b[0m\u001b[0m_output\u001b[0m\u001b[1;33m.\u001b[0m\u001b[0mextend\u001b[0m\u001b[1;33m(\u001b[0m\u001b[0mjob\u001b[0m\u001b[1;33m.\u001b[0m\u001b[0mget\u001b[0m\u001b[1;33m(\u001b[0m\u001b[0mtimeout\u001b[0m\u001b[1;33m=\u001b[0m\u001b[0mself\u001b[0m\u001b[1;33m.\u001b[0m\u001b[0mtimeout\u001b[0m\u001b[1;33m)\u001b[0m\u001b[1;33m)\u001b[0m\u001b[1;33m\u001b[0m\u001b[1;33m\u001b[0m\u001b[0m\n\u001b[0m\u001b[0;32m    934\u001b[0m                 \u001b[1;32melse\u001b[0m\u001b[1;33m:\u001b[0m\u001b[1;33m\u001b[0m\u001b[1;33m\u001b[0m\u001b[0m\n\u001b[0;32m    935\u001b[0m                     \u001b[0mself\u001b[0m\u001b[1;33m.\u001b[0m\u001b[0m_output\u001b[0m\u001b[1;33m.\u001b[0m\u001b[0mextend\u001b[0m\u001b[1;33m(\u001b[0m\u001b[0mjob\u001b[0m\u001b[1;33m.\u001b[0m\u001b[0mget\u001b[0m\u001b[1;33m(\u001b[0m\u001b[1;33m)\u001b[0m\u001b[1;33m)\u001b[0m\u001b[1;33m\u001b[0m\u001b[1;33m\u001b[0m\u001b[0m\n",
      "\u001b[1;32mc:\\ProgramData\\Anaconda3\\lib\\site-packages\\joblib\\_parallel_backends.py\u001b[0m in \u001b[0;36mwrap_future_result\u001b[1;34m(future, timeout)\u001b[0m\n\u001b[0;32m    540\u001b[0m         AsyncResults.get from multiprocessing.\"\"\"\n\u001b[0;32m    541\u001b[0m         \u001b[1;32mtry\u001b[0m\u001b[1;33m:\u001b[0m\u001b[1;33m\u001b[0m\u001b[1;33m\u001b[0m\u001b[0m\n\u001b[1;32m--> 542\u001b[1;33m             \u001b[1;32mreturn\u001b[0m \u001b[0mfuture\u001b[0m\u001b[1;33m.\u001b[0m\u001b[0mresult\u001b[0m\u001b[1;33m(\u001b[0m\u001b[0mtimeout\u001b[0m\u001b[1;33m=\u001b[0m\u001b[0mtimeout\u001b[0m\u001b[1;33m)\u001b[0m\u001b[1;33m\u001b[0m\u001b[1;33m\u001b[0m\u001b[0m\n\u001b[0m\u001b[0;32m    543\u001b[0m         \u001b[1;32mexcept\u001b[0m \u001b[0mCfTimeoutError\u001b[0m \u001b[1;32mas\u001b[0m \u001b[0me\u001b[0m\u001b[1;33m:\u001b[0m\u001b[1;33m\u001b[0m\u001b[1;33m\u001b[0m\u001b[0m\n\u001b[0;32m    544\u001b[0m             \u001b[1;32mraise\u001b[0m \u001b[0mTimeoutError\u001b[0m \u001b[1;32mfrom\u001b[0m \u001b[0me\u001b[0m\u001b[1;33m\u001b[0m\u001b[1;33m\u001b[0m\u001b[0m\n",
      "\u001b[1;32mc:\\ProgramData\\Anaconda3\\lib\\concurrent\\futures\\_base.py\u001b[0m in \u001b[0;36mresult\u001b[1;34m(self, timeout)\u001b[0m\n\u001b[0;32m    432\u001b[0m                 \u001b[1;32mreturn\u001b[0m \u001b[0mself\u001b[0m\u001b[1;33m.\u001b[0m\u001b[0m__get_result\u001b[0m\u001b[1;33m(\u001b[0m\u001b[1;33m)\u001b[0m\u001b[1;33m\u001b[0m\u001b[1;33m\u001b[0m\u001b[0m\n\u001b[0;32m    433\u001b[0m \u001b[1;33m\u001b[0m\u001b[0m\n\u001b[1;32m--> 434\u001b[1;33m             \u001b[0mself\u001b[0m\u001b[1;33m.\u001b[0m\u001b[0m_condition\u001b[0m\u001b[1;33m.\u001b[0m\u001b[0mwait\u001b[0m\u001b[1;33m(\u001b[0m\u001b[0mtimeout\u001b[0m\u001b[1;33m)\u001b[0m\u001b[1;33m\u001b[0m\u001b[1;33m\u001b[0m\u001b[0m\n\u001b[0m\u001b[0;32m    435\u001b[0m \u001b[1;33m\u001b[0m\u001b[0m\n\u001b[0;32m    436\u001b[0m             \u001b[1;32mif\u001b[0m \u001b[0mself\u001b[0m\u001b[1;33m.\u001b[0m\u001b[0m_state\u001b[0m \u001b[1;32min\u001b[0m \u001b[1;33m[\u001b[0m\u001b[0mCANCELLED\u001b[0m\u001b[1;33m,\u001b[0m \u001b[0mCANCELLED_AND_NOTIFIED\u001b[0m\u001b[1;33m]\u001b[0m\u001b[1;33m:\u001b[0m\u001b[1;33m\u001b[0m\u001b[1;33m\u001b[0m\u001b[0m\n",
      "\u001b[1;32mc:\\ProgramData\\Anaconda3\\lib\\threading.py\u001b[0m in \u001b[0;36mwait\u001b[1;34m(self, timeout)\u001b[0m\n\u001b[0;32m    300\u001b[0m         \u001b[1;32mtry\u001b[0m\u001b[1;33m:\u001b[0m    \u001b[1;31m# restore state no matter what (e.g., KeyboardInterrupt)\u001b[0m\u001b[1;33m\u001b[0m\u001b[1;33m\u001b[0m\u001b[0m\n\u001b[0;32m    301\u001b[0m             \u001b[1;32mif\u001b[0m \u001b[0mtimeout\u001b[0m \u001b[1;32mis\u001b[0m \u001b[1;32mNone\u001b[0m\u001b[1;33m:\u001b[0m\u001b[1;33m\u001b[0m\u001b[1;33m\u001b[0m\u001b[0m\n\u001b[1;32m--> 302\u001b[1;33m                 \u001b[0mwaiter\u001b[0m\u001b[1;33m.\u001b[0m\u001b[0macquire\u001b[0m\u001b[1;33m(\u001b[0m\u001b[1;33m)\u001b[0m\u001b[1;33m\u001b[0m\u001b[1;33m\u001b[0m\u001b[0m\n\u001b[0m\u001b[0;32m    303\u001b[0m                 \u001b[0mgotit\u001b[0m \u001b[1;33m=\u001b[0m \u001b[1;32mTrue\u001b[0m\u001b[1;33m\u001b[0m\u001b[1;33m\u001b[0m\u001b[0m\n\u001b[0;32m    304\u001b[0m             \u001b[1;32melse\u001b[0m\u001b[1;33m:\u001b[0m\u001b[1;33m\u001b[0m\u001b[1;33m\u001b[0m\u001b[0m\n",
      "\u001b[1;31mKeyboardInterrupt\u001b[0m: "
     ]
    }
   ],
   "source": [
    "# 하이퍼파라미터 Grid-Search\n",
    "from sklearn.model_selection import GridSearchCV\n",
    "\n",
    "# 탐색 범위 정의\n",
    "grid_search = {'criterion': ['entropy', 'gini'],\n",
    "               'max_depth': [2,4,6,8],\n",
    "               'max_features': ['auto', 'sqrt'],\n",
    "               'min_samples_leaf': [4,6,8.10],\n",
    "               'min_samples_split': [4,6,8,10],\n",
    "               'n_estimators': [20,40,60,80,100]}\n",
    "\n",
    "model = RandomForestClassifier()\n",
    "grid = GridSearchCV(estimator = model, param_grid = grid_search, \n",
    "                               cv = 4,verbose=0, n_jobs = -1)\n",
    "grid.fit(X_train,y_train)\n",
    "\n",
    "# 최선의 결과 출력\n",
    "print('최적 하이퍼 파라미터 :{0}, 최적 평균 정확도 :{1:.3f}'.format(grid.best_params_, grid.best_score_))\n"
   ]
  },
  {
   "cell_type": "code",
   "execution_count": 64,
   "metadata": {},
   "outputs": [
    {
     "name": "stderr",
     "output_type": "stream",
     "text": [
      "c:\\ProgramData\\Anaconda3\\lib\\site-packages\\sklearn\\ensemble\\_forest.py:427: FutureWarning: `max_features='auto'` has been deprecated in 1.1 and will be removed in 1.3. To keep the past behaviour, explicitly set `max_features='sqrt'` or remove this parameter as it is also the default value for RandomForestClassifiers and ExtraTreesClassifiers.\n",
      "  warn(\n"
     ]
    }
   ],
   "source": [
    "# 랜덤 포레스트 최적 하이퍼 파라미터 적용\n",
    "# 최적 하이퍼 파라미터 :{'criterion': 'entropy', 'max_depth': 6, 'max_features': 'auto', 'min_samples_leaf': 4, \n",
    "# 'min_samples_split': 6, 'n_estimators': 60}, 최적 평균 정확도 :0.984\n",
    "rf_clf_best = RandomForestClassifier(random_state=52, criterion = 'entropy', max_features= 'auto',\n",
    "                                     max_depth=6, min_samples_leaf=4, min_samples_split=6, n_estimators=60)\n",
    "rf_clf_best.fit(X_train, y_train)\n",
    "rf_best_pred = rf_clf_best.predict(X_test)\n",
    "rf_best_pred_proba = rf_clf_best.predict_proba(X_test)"
   ]
  },
  {
   "cell_type": "code",
   "execution_count": 65,
   "metadata": {},
   "outputs": [
    {
     "name": "stderr",
     "output_type": "stream",
     "text": [
      "c:\\ProgramData\\Anaconda3\\lib\\site-packages\\sklearn\\linear_model\\_logistic.py:444: ConvergenceWarning: lbfgs failed to converge (status=1):\n",
      "STOP: TOTAL NO. of ITERATIONS REACHED LIMIT.\n",
      "\n",
      "Increase the number of iterations (max_iter) or scale the data as shown in:\n",
      "    https://scikit-learn.org/stable/modules/preprocessing.html\n",
      "Please also refer to the documentation for alternative solver options:\n",
      "    https://scikit-learn.org/stable/modules/linear_model.html#logistic-regression\n",
      "  n_iter_i = _check_optimize_result(\n"
     ]
    }
   ],
   "source": [
    "# 로지스틱 회귀 모델\n",
    "from sklearn.linear_model import LogisticRegression\n",
    "#로지스틱 회귀를 위한 스케일링 \n",
    "lr_clf = LogisticRegression()\n",
    "lr_clf.fit(X_train, y_train)\n",
    "lr_pred = lr_clf.predict(X_test)\n",
    "lr_pred_proba = lr_clf.predict_proba(X_test)\n"
   ]
  },
  {
   "cell_type": "code",
   "execution_count": 66,
   "metadata": {},
   "outputs": [
    {
     "name": "stderr",
     "output_type": "stream",
     "text": [
      "c:\\ProgramData\\Anaconda3\\lib\\site-packages\\sklearn\\linear_model\\_logistic.py:444: ConvergenceWarning: lbfgs failed to converge (status=1):\n",
      "STOP: TOTAL NO. of ITERATIONS REACHED LIMIT.\n",
      "\n",
      "Increase the number of iterations (max_iter) or scale the data as shown in:\n",
      "    https://scikit-learn.org/stable/modules/preprocessing.html\n",
      "Please also refer to the documentation for alternative solver options:\n",
      "    https://scikit-learn.org/stable/modules/linear_model.html#logistic-regression\n",
      "  n_iter_i = _check_optimize_result(\n",
      "c:\\ProgramData\\Anaconda3\\lib\\site-packages\\sklearn\\linear_model\\_logistic.py:444: ConvergenceWarning: lbfgs failed to converge (status=1):\n",
      "STOP: TOTAL NO. of ITERATIONS REACHED LIMIT.\n",
      "\n",
      "Increase the number of iterations (max_iter) or scale the data as shown in:\n",
      "    https://scikit-learn.org/stable/modules/preprocessing.html\n",
      "Please also refer to the documentation for alternative solver options:\n",
      "    https://scikit-learn.org/stable/modules/linear_model.html#logistic-regression\n",
      "  n_iter_i = _check_optimize_result(\n",
      "c:\\ProgramData\\Anaconda3\\lib\\site-packages\\sklearn\\linear_model\\_logistic.py:444: ConvergenceWarning: lbfgs failed to converge (status=1):\n",
      "STOP: TOTAL NO. of ITERATIONS REACHED LIMIT.\n",
      "\n",
      "Increase the number of iterations (max_iter) or scale the data as shown in:\n",
      "    https://scikit-learn.org/stable/modules/preprocessing.html\n",
      "Please also refer to the documentation for alternative solver options:\n",
      "    https://scikit-learn.org/stable/modules/linear_model.html#logistic-regression\n",
      "  n_iter_i = _check_optimize_result(\n",
      "c:\\ProgramData\\Anaconda3\\lib\\site-packages\\sklearn\\linear_model\\_logistic.py:444: ConvergenceWarning: lbfgs failed to converge (status=1):\n",
      "STOP: TOTAL NO. of ITERATIONS REACHED LIMIT.\n",
      "\n",
      "Increase the number of iterations (max_iter) or scale the data as shown in:\n",
      "    https://scikit-learn.org/stable/modules/preprocessing.html\n",
      "Please also refer to the documentation for alternative solver options:\n",
      "    https://scikit-learn.org/stable/modules/linear_model.html#logistic-regression\n",
      "  n_iter_i = _check_optimize_result(\n",
      "c:\\ProgramData\\Anaconda3\\lib\\site-packages\\sklearn\\linear_model\\_logistic.py:444: ConvergenceWarning: lbfgs failed to converge (status=1):\n",
      "STOP: TOTAL NO. of ITERATIONS REACHED LIMIT.\n",
      "\n",
      "Increase the number of iterations (max_iter) or scale the data as shown in:\n",
      "    https://scikit-learn.org/stable/modules/preprocessing.html\n",
      "Please also refer to the documentation for alternative solver options:\n",
      "    https://scikit-learn.org/stable/modules/linear_model.html#logistic-regression\n",
      "  n_iter_i = _check_optimize_result(\n",
      "c:\\ProgramData\\Anaconda3\\lib\\site-packages\\sklearn\\linear_model\\_logistic.py:444: ConvergenceWarning: lbfgs failed to converge (status=1):\n",
      "STOP: TOTAL NO. of ITERATIONS REACHED LIMIT.\n",
      "\n",
      "Increase the number of iterations (max_iter) or scale the data as shown in:\n",
      "    https://scikit-learn.org/stable/modules/preprocessing.html\n",
      "Please also refer to the documentation for alternative solver options:\n",
      "    https://scikit-learn.org/stable/modules/linear_model.html#logistic-regression\n",
      "  n_iter_i = _check_optimize_result(\n",
      "c:\\ProgramData\\Anaconda3\\lib\\site-packages\\sklearn\\linear_model\\_logistic.py:444: ConvergenceWarning: lbfgs failed to converge (status=1):\n",
      "STOP: TOTAL NO. of ITERATIONS REACHED LIMIT.\n",
      "\n",
      "Increase the number of iterations (max_iter) or scale the data as shown in:\n",
      "    https://scikit-learn.org/stable/modules/preprocessing.html\n",
      "Please also refer to the documentation for alternative solver options:\n",
      "    https://scikit-learn.org/stable/modules/linear_model.html#logistic-regression\n",
      "  n_iter_i = _check_optimize_result(\n",
      "c:\\ProgramData\\Anaconda3\\lib\\site-packages\\sklearn\\linear_model\\_logistic.py:444: ConvergenceWarning: lbfgs failed to converge (status=1):\n",
      "STOP: TOTAL NO. of ITERATIONS REACHED LIMIT.\n",
      "\n",
      "Increase the number of iterations (max_iter) or scale the data as shown in:\n",
      "    https://scikit-learn.org/stable/modules/preprocessing.html\n",
      "Please also refer to the documentation for alternative solver options:\n",
      "    https://scikit-learn.org/stable/modules/linear_model.html#logistic-regression\n",
      "  n_iter_i = _check_optimize_result(\n",
      "c:\\ProgramData\\Anaconda3\\lib\\site-packages\\sklearn\\linear_model\\_logistic.py:444: ConvergenceWarning: lbfgs failed to converge (status=1):\n",
      "STOP: TOTAL NO. of ITERATIONS REACHED LIMIT.\n",
      "\n",
      "Increase the number of iterations (max_iter) or scale the data as shown in:\n",
      "    https://scikit-learn.org/stable/modules/preprocessing.html\n",
      "Please also refer to the documentation for alternative solver options:\n",
      "    https://scikit-learn.org/stable/modules/linear_model.html#logistic-regression\n",
      "  n_iter_i = _check_optimize_result(\n",
      "c:\\ProgramData\\Anaconda3\\lib\\site-packages\\sklearn\\linear_model\\_logistic.py:444: ConvergenceWarning: lbfgs failed to converge (status=1):\n",
      "STOP: TOTAL NO. of ITERATIONS REACHED LIMIT.\n",
      "\n",
      "Increase the number of iterations (max_iter) or scale the data as shown in:\n",
      "    https://scikit-learn.org/stable/modules/preprocessing.html\n",
      "Please also refer to the documentation for alternative solver options:\n",
      "    https://scikit-learn.org/stable/modules/linear_model.html#logistic-regression\n",
      "  n_iter_i = _check_optimize_result(\n",
      "c:\\ProgramData\\Anaconda3\\lib\\site-packages\\sklearn\\linear_model\\_logistic.py:444: ConvergenceWarning: lbfgs failed to converge (status=1):\n",
      "STOP: TOTAL NO. of ITERATIONS REACHED LIMIT.\n",
      "\n",
      "Increase the number of iterations (max_iter) or scale the data as shown in:\n",
      "    https://scikit-learn.org/stable/modules/preprocessing.html\n",
      "Please also refer to the documentation for alternative solver options:\n",
      "    https://scikit-learn.org/stable/modules/linear_model.html#logistic-regression\n",
      "  n_iter_i = _check_optimize_result(\n",
      "c:\\ProgramData\\Anaconda3\\lib\\site-packages\\sklearn\\linear_model\\_logistic.py:444: ConvergenceWarning: lbfgs failed to converge (status=1):\n",
      "STOP: TOTAL NO. of ITERATIONS REACHED LIMIT.\n",
      "\n",
      "Increase the number of iterations (max_iter) or scale the data as shown in:\n",
      "    https://scikit-learn.org/stable/modules/preprocessing.html\n",
      "Please also refer to the documentation for alternative solver options:\n",
      "    https://scikit-learn.org/stable/modules/linear_model.html#logistic-regression\n",
      "  n_iter_i = _check_optimize_result(\n",
      "c:\\ProgramData\\Anaconda3\\lib\\site-packages\\sklearn\\linear_model\\_logistic.py:444: ConvergenceWarning: lbfgs failed to converge (status=1):\n",
      "STOP: TOTAL NO. of ITERATIONS REACHED LIMIT.\n",
      "\n",
      "Increase the number of iterations (max_iter) or scale the data as shown in:\n",
      "    https://scikit-learn.org/stable/modules/preprocessing.html\n",
      "Please also refer to the documentation for alternative solver options:\n",
      "    https://scikit-learn.org/stable/modules/linear_model.html#logistic-regression\n",
      "  n_iter_i = _check_optimize_result(\n",
      "c:\\ProgramData\\Anaconda3\\lib\\site-packages\\sklearn\\linear_model\\_logistic.py:444: ConvergenceWarning: lbfgs failed to converge (status=1):\n",
      "STOP: TOTAL NO. of ITERATIONS REACHED LIMIT.\n",
      "\n",
      "Increase the number of iterations (max_iter) or scale the data as shown in:\n",
      "    https://scikit-learn.org/stable/modules/preprocessing.html\n",
      "Please also refer to the documentation for alternative solver options:\n",
      "    https://scikit-learn.org/stable/modules/linear_model.html#logistic-regression\n",
      "  n_iter_i = _check_optimize_result(\n",
      "c:\\ProgramData\\Anaconda3\\lib\\site-packages\\sklearn\\linear_model\\_logistic.py:444: ConvergenceWarning: lbfgs failed to converge (status=1):\n",
      "STOP: TOTAL NO. of ITERATIONS REACHED LIMIT.\n",
      "\n",
      "Increase the number of iterations (max_iter) or scale the data as shown in:\n",
      "    https://scikit-learn.org/stable/modules/preprocessing.html\n",
      "Please also refer to the documentation for alternative solver options:\n",
      "    https://scikit-learn.org/stable/modules/linear_model.html#logistic-regression\n",
      "  n_iter_i = _check_optimize_result(\n",
      "c:\\ProgramData\\Anaconda3\\lib\\site-packages\\sklearn\\linear_model\\_logistic.py:444: ConvergenceWarning: lbfgs failed to converge (status=1):\n",
      "STOP: TOTAL NO. of ITERATIONS REACHED LIMIT.\n",
      "\n",
      "Increase the number of iterations (max_iter) or scale the data as shown in:\n",
      "    https://scikit-learn.org/stable/modules/preprocessing.html\n",
      "Please also refer to the documentation for alternative solver options:\n",
      "    https://scikit-learn.org/stable/modules/linear_model.html#logistic-regression\n",
      "  n_iter_i = _check_optimize_result(\n",
      "c:\\ProgramData\\Anaconda3\\lib\\site-packages\\sklearn\\linear_model\\_logistic.py:444: ConvergenceWarning: lbfgs failed to converge (status=1):\n",
      "STOP: TOTAL NO. of ITERATIONS REACHED LIMIT.\n",
      "\n",
      "Increase the number of iterations (max_iter) or scale the data as shown in:\n",
      "    https://scikit-learn.org/stable/modules/preprocessing.html\n",
      "Please also refer to the documentation for alternative solver options:\n",
      "    https://scikit-learn.org/stable/modules/linear_model.html#logistic-regression\n",
      "  n_iter_i = _check_optimize_result(\n",
      "c:\\ProgramData\\Anaconda3\\lib\\site-packages\\sklearn\\linear_model\\_logistic.py:444: ConvergenceWarning: lbfgs failed to converge (status=1):\n",
      "STOP: TOTAL NO. of ITERATIONS REACHED LIMIT.\n",
      "\n",
      "Increase the number of iterations (max_iter) or scale the data as shown in:\n",
      "    https://scikit-learn.org/stable/modules/preprocessing.html\n",
      "Please also refer to the documentation for alternative solver options:\n",
      "    https://scikit-learn.org/stable/modules/linear_model.html#logistic-regression\n",
      "  n_iter_i = _check_optimize_result(\n"
     ]
    },
    {
     "name": "stdout",
     "output_type": "stream",
     "text": [
      "최적 하이퍼 파라미어:{'C': 0.01, 'penalty': 'l2'}, 최적 평균 정확도:0.790\n"
     ]
    },
    {
     "name": "stderr",
     "output_type": "stream",
     "text": [
      "c:\\ProgramData\\Anaconda3\\lib\\site-packages\\sklearn\\model_selection\\_validation.py:378: FitFailedWarning: \n",
      "90 fits failed out of a total of 120.\n",
      "The score on these train-test partitions for these parameters will be set to nan.\n",
      "If these failures are not expected, you can try to debug them by setting error_score='raise'.\n",
      "\n",
      "Below are more details about the failures:\n",
      "--------------------------------------------------------------------------------\n",
      "30 fits failed with the following error:\n",
      "Traceback (most recent call last):\n",
      "  File \"c:\\ProgramData\\Anaconda3\\lib\\site-packages\\sklearn\\model_selection\\_validation.py\", line 686, in _fit_and_score\n",
      "    estimator.fit(X_train, y_train, **fit_params)\n",
      "  File \"c:\\ProgramData\\Anaconda3\\lib\\site-packages\\sklearn\\linear_model\\_logistic.py\", line 1091, in fit\n",
      "    solver = _check_solver(self.solver, self.penalty, self.dual)\n",
      "  File \"c:\\ProgramData\\Anaconda3\\lib\\site-packages\\sklearn\\linear_model\\_logistic.py\", line 61, in _check_solver\n",
      "    raise ValueError(\n",
      "ValueError: Solver lbfgs supports only 'l2' or 'none' penalties, got l1 penalty.\n",
      "\n",
      "--------------------------------------------------------------------------------\n",
      "30 fits failed with the following error:\n",
      "Traceback (most recent call last):\n",
      "  File \"c:\\ProgramData\\Anaconda3\\lib\\site-packages\\sklearn\\model_selection\\_validation.py\", line 686, in _fit_and_score\n",
      "    estimator.fit(X_train, y_train, **fit_params)\n",
      "  File \"c:\\ProgramData\\Anaconda3\\lib\\site-packages\\sklearn\\linear_model\\_logistic.py\", line 1091, in fit\n",
      "    solver = _check_solver(self.solver, self.penalty, self.dual)\n",
      "  File \"c:\\ProgramData\\Anaconda3\\lib\\site-packages\\sklearn\\linear_model\\_logistic.py\", line 61, in _check_solver\n",
      "    raise ValueError(\n",
      "ValueError: Solver lbfgs supports only 'l2' or 'none' penalties, got elasticnet penalty.\n",
      "\n",
      "--------------------------------------------------------------------------------\n",
      "30 fits failed with the following error:\n",
      "Traceback (most recent call last):\n",
      "  File \"c:\\ProgramData\\Anaconda3\\lib\\site-packages\\sklearn\\model_selection\\_validation.py\", line 686, in _fit_and_score\n",
      "    estimator.fit(X_train, y_train, **fit_params)\n",
      "  File \"c:\\ProgramData\\Anaconda3\\lib\\site-packages\\sklearn\\linear_model\\_logistic.py\", line 1091, in fit\n",
      "    solver = _check_solver(self.solver, self.penalty, self.dual)\n",
      "  File \"c:\\ProgramData\\Anaconda3\\lib\\site-packages\\sklearn\\linear_model\\_logistic.py\", line 55, in _check_solver\n",
      "    raise ValueError(\n",
      "ValueError: Logistic Regression supports only penalties in ['l1', 'l2', 'elasticnet', 'none'], got None.\n",
      "\n",
      "  warnings.warn(some_fits_failed_message, FitFailedWarning)\n",
      "c:\\ProgramData\\Anaconda3\\lib\\site-packages\\sklearn\\model_selection\\_search.py:953: UserWarning: One or more of the test scores are non-finite: [0.7904192         nan        nan        nan 0.78607137        nan\n",
      "        nan        nan 0.78658288        nan        nan        nan\n",
      " 0.78658288        nan        nan        nan 0.78888401        nan\n",
      "        nan        nan 0.78837283        nan        nan        nan]\n",
      "  warnings.warn(\n",
      "c:\\ProgramData\\Anaconda3\\lib\\site-packages\\sklearn\\linear_model\\_logistic.py:444: ConvergenceWarning: lbfgs failed to converge (status=1):\n",
      "STOP: TOTAL NO. of ITERATIONS REACHED LIMIT.\n",
      "\n",
      "Increase the number of iterations (max_iter) or scale the data as shown in:\n",
      "    https://scikit-learn.org/stable/modules/preprocessing.html\n",
      "Please also refer to the documentation for alternative solver options:\n",
      "    https://scikit-learn.org/stable/modules/linear_model.html#logistic-regression\n",
      "  n_iter_i = _check_optimize_result(\n"
     ]
    }
   ],
   "source": [
    "#로지스틱 회귀 최적 하이퍼 파라미터\n",
    "from sklearn.model_selection import GridSearchCV\n",
    "\n",
    "params = {'penalty': ['l2','l1','elasticnet','None'],\n",
    "          'C':[0.01,0.1,1,1,5,10]}\n",
    "\n",
    "grid_clf = GridSearchCV(lr_clf, param_grid=params, scoring='accuracy', cv=5)\n",
    "grid_clf.fit(X_train,y_train)\n",
    "print('최적 하이퍼 파라미어:{0}, 최적 평균 정확도:{1:.3f}'.format(grid_clf.best_params_, grid_clf.best_score_))"
   ]
  },
  {
   "cell_type": "code",
   "execution_count": 67,
   "metadata": {},
   "outputs": [
    {
     "name": "stderr",
     "output_type": "stream",
     "text": [
      "c:\\ProgramData\\Anaconda3\\lib\\site-packages\\sklearn\\linear_model\\_logistic.py:444: ConvergenceWarning: lbfgs failed to converge (status=1):\n",
      "STOP: TOTAL NO. of ITERATIONS REACHED LIMIT.\n",
      "\n",
      "Increase the number of iterations (max_iter) or scale the data as shown in:\n",
      "    https://scikit-learn.org/stable/modules/preprocessing.html\n",
      "Please also refer to the documentation for alternative solver options:\n",
      "    https://scikit-learn.org/stable/modules/linear_model.html#logistic-regression\n",
      "  n_iter_i = _check_optimize_result(\n"
     ]
    }
   ],
   "source": [
    "#최적 하이퍼 파라미어:{'C': 0.01, 'penalty': 'l2'}, 최적 평균 정확도:0.982\n",
    "# 로지스틱 회귀 모델\n",
    "from sklearn.linear_model import LogisticRegression\n",
    "#로지스틱 회귀를 위한 스케일링 \n",
    "lr_clf = LogisticRegression(C = 0.01, penalty= 'l2')\n",
    "lr_clf.fit(X_train, y_train)\n",
    "lr_best_pred = lr_clf.predict(X_test)\n",
    "lr_best_pred_proba = lr_clf.predict_proba(X_test)"
   ]
  },
  {
   "cell_type": "code",
   "execution_count": 68,
   "metadata": {},
   "outputs": [
    {
     "name": "stderr",
     "output_type": "stream",
     "text": [
      "c:\\ProgramData\\Anaconda3\\lib\\site-packages\\sklearn\\base.py:443: UserWarning: X has feature names, but KNeighborsClassifier was fitted without feature names\n",
      "  warnings.warn(\n"
     ]
    }
   ],
   "source": [
    "# KNN 모형 구현\n",
    "# 3. 거리 계산을 위해서 각 특성들을 스케일링(표준화) [Z-score 표준화: 평균을 0, 표준편차 1로 변환]\n",
    "from sklearn.neighbors import KNeighborsClassifier\n",
    "scaler = StandardScaler() # Scaler 객체 생성\n",
    "scaler.fit(X_train) \n",
    "knn_X_train = scaler.transform(X_train) # 스케일링(표준화 수행)\n",
    "knn_X_test = scaler.transform(X_test)\n",
    "\n",
    "# k-NN 분류기를 생성\n",
    "knn_clf = KNeighborsClassifier(n_neighbors=5)\n",
    "# 분류기 학습\n",
    "knn_clf.fit(knn_X_train, y_train)\n",
    "# 예측\n",
    "\n",
    "knn_pred = knn_clf.predict(knn_X_test)\n",
    "knn_pred_proba = knn_clf.predict_proba(X_test)\n"
   ]
  },
  {
   "cell_type": "code",
   "execution_count": 69,
   "metadata": {},
   "outputs": [
    {
     "name": "stdout",
     "output_type": "stream",
     "text": [
      "1\n",
      "0.8067765567765568\n",
      "2\n",
      "0.8067765567765568\n",
      "3\n",
      "0.8040293040293041\n",
      "4\n",
      "0.8040293040293041\n",
      "5\n",
      "0.8086080586080586\n",
      "6\n",
      "0.8086080586080586\n",
      "7\n",
      "0.8058608058608059\n",
      "8\n",
      "0.8058608058608059\n",
      "9\n",
      "0.8113553113553114\n",
      "10\n",
      "0.815018315018315\n"
     ]
    }
   ],
   "source": [
    "# knn 파라미터 구하기\n",
    "from sklearn.metrics import accuracy_score\n",
    "for k in range(1,11):\n",
    "    knn_clf = KNeighborsClassifier(n_neighbors=k)\n",
    "    knn_clf.fit(knn_X_train, y_train)\n",
    "    knn_pred = knn_clf.predict(knn_X_test)\n",
    "    knn_score=accuracy_score(y_test,knn_pred)\n",
    "    print(k)\n",
    "    print(knn_score)\n",
    "    \n",
    "    "
   ]
  },
  {
   "cell_type": "code",
   "execution_count": 70,
   "metadata": {},
   "outputs": [
    {
     "name": "stderr",
     "output_type": "stream",
     "text": [
      "c:\\ProgramData\\Anaconda3\\lib\\site-packages\\sklearn\\base.py:443: UserWarning: X has feature names, but KNeighborsClassifier was fitted without feature names\n",
      "  warnings.warn(\n"
     ]
    }
   ],
   "source": [
    "# knn 최적의 파라미터 모델\n",
    "knn_clf = KNeighborsClassifier(n_neighbors=3)\n",
    "# 분류기 학습\n",
    "knn_clf.fit(knn_X_train, y_train)\n",
    "# 예측\n",
    "\n",
    "knn_best_pred = knn_clf.predict(knn_X_test)\n",
    "knn_best_pred_proba = knn_clf.predict_proba(X_test)\n"
   ]
  },
  {
   "cell_type": "code",
   "execution_count": null,
   "metadata": {},
   "outputs": [],
   "source": []
  },
  {
   "cell_type": "code",
   "execution_count": 75,
   "metadata": {},
   "outputs": [
    {
     "ename": "ValueError",
     "evalue": "feature_names must be string, and may not contain [, ] or <",
     "output_type": "error",
     "traceback": [
      "\u001b[1;31m---------------------------------------------------------------------------\u001b[0m",
      "\u001b[1;31mValueError\u001b[0m                                Traceback (most recent call last)",
      "\u001b[1;32m<ipython-input-75-45be251eb1dc>\u001b[0m in \u001b[0;36m<module>\u001b[1;34m\u001b[0m\n\u001b[0;32m     23\u001b[0m \u001b[0mxgb_wrapper\u001b[0m \u001b[1;33m=\u001b[0m \u001b[0mXGBClassifier\u001b[0m\u001b[1;33m(\u001b[0m\u001b[0mParam\u001b[0m\u001b[1;33m=\u001b[0m\u001b[0mparams_dict\u001b[0m\u001b[1;33m)\u001b[0m\u001b[1;33m\u001b[0m\u001b[1;33m\u001b[0m\u001b[0m\n\u001b[0;32m     24\u001b[0m \u001b[1;33m\u001b[0m\u001b[0m\n\u001b[1;32m---> 25\u001b[1;33m \u001b[0mxgb_wrapper\u001b[0m\u001b[1;33m.\u001b[0m\u001b[0mfit\u001b[0m\u001b[1;33m(\u001b[0m\u001b[0mX_train_XG\u001b[0m\u001b[1;33m,\u001b[0m \u001b[0my_train_XG\u001b[0m\u001b[1;33m,\u001b[0m \u001b[0mverbose\u001b[0m \u001b[1;33m=\u001b[0m \u001b[1;32mTrue\u001b[0m\u001b[1;33m)\u001b[0m\u001b[1;33m\u001b[0m\u001b[1;33m\u001b[0m\u001b[0m\n\u001b[0m\u001b[0;32m     26\u001b[0m \u001b[1;33m\u001b[0m\u001b[0m\n\u001b[0;32m     27\u001b[0m \u001b[1;33m\u001b[0m\u001b[0m\n",
      "\u001b[1;32mc:\\ProgramData\\Anaconda3\\lib\\site-packages\\xgboost\\core.py\u001b[0m in \u001b[0;36minner_f\u001b[1;34m(*args, **kwargs)\u001b[0m\n\u001b[0;32m    530\u001b[0m         \u001b[1;32mfor\u001b[0m \u001b[0mk\u001b[0m\u001b[1;33m,\u001b[0m \u001b[0marg\u001b[0m \u001b[1;32min\u001b[0m \u001b[0mzip\u001b[0m\u001b[1;33m(\u001b[0m\u001b[0msig\u001b[0m\u001b[1;33m.\u001b[0m\u001b[0mparameters\u001b[0m\u001b[1;33m,\u001b[0m \u001b[0margs\u001b[0m\u001b[1;33m)\u001b[0m\u001b[1;33m:\u001b[0m\u001b[1;33m\u001b[0m\u001b[1;33m\u001b[0m\u001b[0m\n\u001b[0;32m    531\u001b[0m             \u001b[0mkwargs\u001b[0m\u001b[1;33m[\u001b[0m\u001b[0mk\u001b[0m\u001b[1;33m]\u001b[0m \u001b[1;33m=\u001b[0m \u001b[0marg\u001b[0m\u001b[1;33m\u001b[0m\u001b[1;33m\u001b[0m\u001b[0m\n\u001b[1;32m--> 532\u001b[1;33m         \u001b[1;32mreturn\u001b[0m \u001b[0mf\u001b[0m\u001b[1;33m(\u001b[0m\u001b[1;33m**\u001b[0m\u001b[0mkwargs\u001b[0m\u001b[1;33m)\u001b[0m\u001b[1;33m\u001b[0m\u001b[1;33m\u001b[0m\u001b[0m\n\u001b[0m\u001b[0;32m    533\u001b[0m \u001b[1;33m\u001b[0m\u001b[0m\n\u001b[0;32m    534\u001b[0m     \u001b[1;32mreturn\u001b[0m \u001b[0minner_f\u001b[0m\u001b[1;33m\u001b[0m\u001b[1;33m\u001b[0m\u001b[0m\n",
      "\u001b[1;32mc:\\ProgramData\\Anaconda3\\lib\\site-packages\\xgboost\\sklearn.py\u001b[0m in \u001b[0;36mfit\u001b[1;34m(self, X, y, sample_weight, base_margin, eval_set, eval_metric, early_stopping_rounds, verbose, xgb_model, sample_weight_eval_set, base_margin_eval_set, feature_weights, callbacks)\u001b[0m\n\u001b[0;32m   1380\u001b[0m             \u001b[0mxgb_model\u001b[0m\u001b[1;33m,\u001b[0m \u001b[0meval_metric\u001b[0m\u001b[1;33m,\u001b[0m \u001b[0mparams\u001b[0m\u001b[1;33m,\u001b[0m \u001b[0mearly_stopping_rounds\u001b[0m\u001b[1;33m,\u001b[0m \u001b[0mcallbacks\u001b[0m\u001b[1;33m\u001b[0m\u001b[1;33m\u001b[0m\u001b[0m\n\u001b[0;32m   1381\u001b[0m         )\n\u001b[1;32m-> 1382\u001b[1;33m         train_dmatrix, evals = _wrap_evaluation_matrices(\n\u001b[0m\u001b[0;32m   1383\u001b[0m             \u001b[0mmissing\u001b[0m\u001b[1;33m=\u001b[0m\u001b[0mself\u001b[0m\u001b[1;33m.\u001b[0m\u001b[0mmissing\u001b[0m\u001b[1;33m,\u001b[0m\u001b[1;33m\u001b[0m\u001b[1;33m\u001b[0m\u001b[0m\n\u001b[0;32m   1384\u001b[0m             \u001b[0mX\u001b[0m\u001b[1;33m=\u001b[0m\u001b[0mX\u001b[0m\u001b[1;33m,\u001b[0m\u001b[1;33m\u001b[0m\u001b[1;33m\u001b[0m\u001b[0m\n",
      "\u001b[1;32mc:\\ProgramData\\Anaconda3\\lib\\site-packages\\xgboost\\sklearn.py\u001b[0m in \u001b[0;36m_wrap_evaluation_matrices\u001b[1;34m(missing, X, y, group, qid, sample_weight, base_margin, feature_weights, eval_set, sample_weight_eval_set, base_margin_eval_set, eval_group, eval_qid, create_dmatrix, enable_categorical)\u001b[0m\n\u001b[0;32m    399\u001b[0m \u001b[1;33m\u001b[0m\u001b[0m\n\u001b[0;32m    400\u001b[0m     \"\"\"\n\u001b[1;32m--> 401\u001b[1;33m     train_dmatrix = create_dmatrix(\n\u001b[0m\u001b[0;32m    402\u001b[0m         \u001b[0mdata\u001b[0m\u001b[1;33m=\u001b[0m\u001b[0mX\u001b[0m\u001b[1;33m,\u001b[0m\u001b[1;33m\u001b[0m\u001b[1;33m\u001b[0m\u001b[0m\n\u001b[0;32m    403\u001b[0m         \u001b[0mlabel\u001b[0m\u001b[1;33m=\u001b[0m\u001b[0my\u001b[0m\u001b[1;33m,\u001b[0m\u001b[1;33m\u001b[0m\u001b[1;33m\u001b[0m\u001b[0m\n",
      "\u001b[1;32mc:\\ProgramData\\Anaconda3\\lib\\site-packages\\xgboost\\sklearn.py\u001b[0m in \u001b[0;36m<lambda>\u001b[1;34m(**kwargs)\u001b[0m\n\u001b[0;32m   1394\u001b[0m             \u001b[0meval_group\u001b[0m\u001b[1;33m=\u001b[0m\u001b[1;32mNone\u001b[0m\u001b[1;33m,\u001b[0m\u001b[1;33m\u001b[0m\u001b[1;33m\u001b[0m\u001b[0m\n\u001b[0;32m   1395\u001b[0m             \u001b[0meval_qid\u001b[0m\u001b[1;33m=\u001b[0m\u001b[1;32mNone\u001b[0m\u001b[1;33m,\u001b[0m\u001b[1;33m\u001b[0m\u001b[1;33m\u001b[0m\u001b[0m\n\u001b[1;32m-> 1396\u001b[1;33m             \u001b[0mcreate_dmatrix\u001b[0m\u001b[1;33m=\u001b[0m\u001b[1;32mlambda\u001b[0m \u001b[1;33m**\u001b[0m\u001b[0mkwargs\u001b[0m\u001b[1;33m:\u001b[0m \u001b[0mDMatrix\u001b[0m\u001b[1;33m(\u001b[0m\u001b[0mnthread\u001b[0m\u001b[1;33m=\u001b[0m\u001b[0mself\u001b[0m\u001b[1;33m.\u001b[0m\u001b[0mn_jobs\u001b[0m\u001b[1;33m,\u001b[0m \u001b[1;33m**\u001b[0m\u001b[0mkwargs\u001b[0m\u001b[1;33m)\u001b[0m\u001b[1;33m,\u001b[0m\u001b[1;33m\u001b[0m\u001b[1;33m\u001b[0m\u001b[0m\n\u001b[0m\u001b[0;32m   1397\u001b[0m             \u001b[0menable_categorical\u001b[0m\u001b[1;33m=\u001b[0m\u001b[0mself\u001b[0m\u001b[1;33m.\u001b[0m\u001b[0menable_categorical\u001b[0m\u001b[1;33m,\u001b[0m\u001b[1;33m\u001b[0m\u001b[1;33m\u001b[0m\u001b[0m\n\u001b[0;32m   1398\u001b[0m         )\n",
      "\u001b[1;32mc:\\ProgramData\\Anaconda3\\lib\\site-packages\\xgboost\\core.py\u001b[0m in \u001b[0;36minner_f\u001b[1;34m(*args, **kwargs)\u001b[0m\n\u001b[0;32m    530\u001b[0m         \u001b[1;32mfor\u001b[0m \u001b[0mk\u001b[0m\u001b[1;33m,\u001b[0m \u001b[0marg\u001b[0m \u001b[1;32min\u001b[0m \u001b[0mzip\u001b[0m\u001b[1;33m(\u001b[0m\u001b[0msig\u001b[0m\u001b[1;33m.\u001b[0m\u001b[0mparameters\u001b[0m\u001b[1;33m,\u001b[0m \u001b[0margs\u001b[0m\u001b[1;33m)\u001b[0m\u001b[1;33m:\u001b[0m\u001b[1;33m\u001b[0m\u001b[1;33m\u001b[0m\u001b[0m\n\u001b[0;32m    531\u001b[0m             \u001b[0mkwargs\u001b[0m\u001b[1;33m[\u001b[0m\u001b[0mk\u001b[0m\u001b[1;33m]\u001b[0m \u001b[1;33m=\u001b[0m \u001b[0marg\u001b[0m\u001b[1;33m\u001b[0m\u001b[1;33m\u001b[0m\u001b[0m\n\u001b[1;32m--> 532\u001b[1;33m         \u001b[1;32mreturn\u001b[0m \u001b[0mf\u001b[0m\u001b[1;33m(\u001b[0m\u001b[1;33m**\u001b[0m\u001b[0mkwargs\u001b[0m\u001b[1;33m)\u001b[0m\u001b[1;33m\u001b[0m\u001b[1;33m\u001b[0m\u001b[0m\n\u001b[0m\u001b[0;32m    533\u001b[0m \u001b[1;33m\u001b[0m\u001b[0m\n\u001b[0;32m    534\u001b[0m     \u001b[1;32mreturn\u001b[0m \u001b[0minner_f\u001b[0m\u001b[1;33m\u001b[0m\u001b[1;33m\u001b[0m\u001b[0m\n",
      "\u001b[1;32mc:\\ProgramData\\Anaconda3\\lib\\site-packages\\xgboost\\core.py\u001b[0m in \u001b[0;36m__init__\u001b[1;34m(self, data, label, weight, base_margin, missing, silent, feature_names, feature_types, nthread, group, qid, label_lower_bound, label_upper_bound, feature_weights, enable_categorical)\u001b[0m\n\u001b[0;32m    664\u001b[0m \u001b[1;33m\u001b[0m\u001b[0m\n\u001b[0;32m    665\u001b[0m         \u001b[1;32mif\u001b[0m \u001b[0mfeature_names\u001b[0m \u001b[1;32mis\u001b[0m \u001b[1;32mnot\u001b[0m \u001b[1;32mNone\u001b[0m\u001b[1;33m:\u001b[0m\u001b[1;33m\u001b[0m\u001b[1;33m\u001b[0m\u001b[0m\n\u001b[1;32m--> 666\u001b[1;33m             \u001b[0mself\u001b[0m\u001b[1;33m.\u001b[0m\u001b[0mfeature_names\u001b[0m \u001b[1;33m=\u001b[0m \u001b[0mfeature_names\u001b[0m\u001b[1;33m\u001b[0m\u001b[1;33m\u001b[0m\u001b[0m\n\u001b[0m\u001b[0;32m    667\u001b[0m         \u001b[1;32mif\u001b[0m \u001b[0mfeature_types\u001b[0m \u001b[1;32mis\u001b[0m \u001b[1;32mnot\u001b[0m \u001b[1;32mNone\u001b[0m\u001b[1;33m:\u001b[0m\u001b[1;33m\u001b[0m\u001b[1;33m\u001b[0m\u001b[0m\n\u001b[0;32m    668\u001b[0m             \u001b[0mself\u001b[0m\u001b[1;33m.\u001b[0m\u001b[0mfeature_types\u001b[0m \u001b[1;33m=\u001b[0m \u001b[0mfeature_types\u001b[0m\u001b[1;33m\u001b[0m\u001b[1;33m\u001b[0m\u001b[0m\n",
      "\u001b[1;32mc:\\ProgramData\\Anaconda3\\lib\\site-packages\\xgboost\\core.py\u001b[0m in \u001b[0;36mfeature_names\u001b[1;34m(self, feature_names)\u001b[0m\n\u001b[0;32m   1042\u001b[0m                        \u001b[1;32mnot\u001b[0m \u001b[0many\u001b[0m\u001b[1;33m(\u001b[0m\u001b[0mx\u001b[0m \u001b[1;32min\u001b[0m \u001b[0mf\u001b[0m \u001b[1;32mfor\u001b[0m \u001b[0mx\u001b[0m \u001b[1;32min\u001b[0m \u001b[0mset\u001b[0m\u001b[1;33m(\u001b[0m\u001b[1;33m(\u001b[0m\u001b[1;34m'['\u001b[0m\u001b[1;33m,\u001b[0m \u001b[1;34m']'\u001b[0m\u001b[1;33m,\u001b[0m \u001b[1;34m'<'\u001b[0m\u001b[1;33m)\u001b[0m\u001b[1;33m)\u001b[0m\u001b[1;33m)\u001b[0m\u001b[1;33m\u001b[0m\u001b[1;33m\u001b[0m\u001b[0m\n\u001b[0;32m   1043\u001b[0m                        for f in feature_names):\n\u001b[1;32m-> 1044\u001b[1;33m                 \u001b[1;32mraise\u001b[0m \u001b[0mValueError\u001b[0m\u001b[1;33m(\u001b[0m\u001b[1;34m'feature_names must be string, and may not contain [, ] or <'\u001b[0m\u001b[1;33m)\u001b[0m\u001b[1;33m\u001b[0m\u001b[1;33m\u001b[0m\u001b[0m\n\u001b[0m\u001b[0;32m   1045\u001b[0m             \u001b[0mfeature_names_bytes\u001b[0m \u001b[1;33m=\u001b[0m \u001b[1;33m[\u001b[0m\u001b[0mbytes\u001b[0m\u001b[1;33m(\u001b[0m\u001b[0mf\u001b[0m\u001b[1;33m,\u001b[0m \u001b[0mencoding\u001b[0m\u001b[1;33m=\u001b[0m\u001b[1;34m'utf-8'\u001b[0m\u001b[1;33m)\u001b[0m \u001b[1;32mfor\u001b[0m \u001b[0mf\u001b[0m \u001b[1;32min\u001b[0m \u001b[0mfeature_names\u001b[0m\u001b[1;33m]\u001b[0m\u001b[1;33m\u001b[0m\u001b[1;33m\u001b[0m\u001b[0m\n\u001b[0;32m   1046\u001b[0m             c_feature_names = (ctypes.c_char_p *\n",
      "\u001b[1;31mValueError\u001b[0m: feature_names must be string, and may not contain [, ] or <"
     ]
    }
   ],
   "source": [
    "#XG 부스트 모형 구현\n",
    "from xgboost import XGBClassifier\n",
    "from sklearn.model_selection import train_test_split\n",
    "import xgboost as xgb ## XGBoost 불러오기\n",
    "from xgboost import plot_importance \n",
    "X_train_XG= df1[['[제조]총자본증가율', '[제조]자기자본증가율', '[제조]매출채권회전률',  '[제조]순운전자본비율','[제조]자기자본배율', '[제조]비유동비율', '[제조]유동자산구성비율', '[제조]자기자본구성비율','[제조]자본분배율']]\n",
    "X_train_XG.columns = [['[제조]총자본증가율', '[제조]자기자본증가율', '[제조]매출채권회전률',  '[제조]순운전자본비율','[제조]자기자본배율', '[제조]비유동비율', '[제조]유동자산구성비율', '[제조]자기자본구성비율','[제조]자본분배율']]\n",
    "X_test_XG = df2[['[제조]총자본증가율', '[제조]자기자본증가율', '[제조]매출채권회전률',  '[제조]순운전자본비율','[제조]자기자본배율', '[제조]비유동비율', '[제조]유동자산구성비율', '[제조]자기자본구성비율','[제조]자본분배율']]\n",
    "X_test_XG.columns =[['[제조]총자본증가율', '[제조]자기자본증가율', '[제조]매출채권회전률',  '[제조]순운전자본비율','[제조]자기자본배율', '[제조]비유동비율', '[제조]유동자산구성비율', '[제조]자기자본구성비율','[제조]자본분배율']]\n",
    "y_train_XG = df1[\"label\"]\n",
    "y_test_XG = df2[\"label\"]\n",
    "X_tr_XG, X_val_XG, y_tr_XG, y_val_XG = train_test_split(X_train_XG, y_train_XG,test_size = 0.1, random_state = 156)\n",
    "# df1 = df[df['year']<2019] #train\n",
    "# df2 = df[df['year']>=2019] #test\n",
    "# train data label 분리 test data label 분리\n",
    "params_dict = {'objective' : 'binary:logistic',\n",
    "               'n_estimators' : 400,\n",
    "               'learning_rate' : 0.05,\n",
    "               'max_depth' : 3,\n",
    "               'eval_metric' : 'logloss'\n",
    "               }\n",
    "\n",
    "xgb_wrapper = XGBClassifier(Param=params_dict)\n",
    "\n",
    "xgb_wrapper.fit(X_train_XG, y_train_XG, verbose = True)\n",
    "\n",
    "\n",
    "xgb_pred = xgb_wrapper.predict(X_test)\n",
    "xgb_pred_proba = xgb_wrapper.predict_proba(X_test)\n",
    "\n",
    "\n"
   ]
  },
  {
   "cell_type": "code",
   "execution_count": 4,
   "metadata": {},
   "outputs": [
    {
     "ename": "NameError",
     "evalue": "name 'xgb_wrapper' is not defined",
     "output_type": "error",
     "traceback": [
      "\u001b[1;31m---------------------------------------------------------------------------\u001b[0m",
      "\u001b[1;31mNameError\u001b[0m                                 Traceback (most recent call last)",
      "Cell \u001b[1;32mIn [4], line 10\u001b[0m\n\u001b[0;32m      2\u001b[0m \u001b[38;5;28;01mfrom\u001b[39;00m \u001b[38;5;21;01msklearn\u001b[39;00m\u001b[38;5;21;01m.\u001b[39;00m\u001b[38;5;21;01mmodel_selection\u001b[39;00m \u001b[38;5;28;01mimport\u001b[39;00m GridSearchCV\n\u001b[0;32m      4\u001b[0m params \u001b[38;5;241m=\u001b[39m {\n\u001b[0;32m      5\u001b[0m           \u001b[38;5;124m'\u001b[39m\u001b[38;5;124mn_estimators\u001b[39m\u001b[38;5;124m'\u001b[39m:[\u001b[38;5;241m20\u001b[39m,\u001b[38;5;241m40\u001b[39m,\u001b[38;5;241m60\u001b[39m,\u001b[38;5;241m80\u001b[39m,\u001b[38;5;241m100\u001b[39m],\n\u001b[0;32m      6\u001b[0m           \u001b[38;5;124m'\u001b[39m\u001b[38;5;124mlearning_rate\u001b[39m\u001b[38;5;124m'\u001b[39m:[\u001b[38;5;241m0.03\u001b[39m,\u001b[38;5;241m0.05\u001b[39m,\u001b[38;5;241m0.07\u001b[39m,\u001b[38;5;241m0.09\u001b[39m],\n\u001b[0;32m      7\u001b[0m           \u001b[38;5;124m'\u001b[39m\u001b[38;5;124mmax_depth\u001b[39m\u001b[38;5;124m'\u001b[39m : [\u001b[38;5;241m4\u001b[39m,\u001b[38;5;241m6\u001b[39m,\u001b[38;5;241m8\u001b[39m,\u001b[38;5;241m10\u001b[39m]\n\u001b[0;32m      8\u001b[0m           }\n\u001b[1;32m---> 10\u001b[0m grid_clf \u001b[38;5;241m=\u001b[39m GridSearchCV(\u001b[43mxgb_wrapper\u001b[49m, param_grid\u001b[38;5;241m=\u001b[39mparams, scoring\u001b[38;5;241m=\u001b[39m\u001b[38;5;124m'\u001b[39m\u001b[38;5;124maccuracy\u001b[39m\u001b[38;5;124m'\u001b[39m, cv\u001b[38;5;241m=\u001b[39m\u001b[38;5;241m5\u001b[39m)\n\u001b[0;32m     11\u001b[0m grid_clf\u001b[38;5;241m.\u001b[39mfit(X_train_XG,y_train_XG)\n\u001b[0;32m     12\u001b[0m \u001b[38;5;28mprint\u001b[39m(\u001b[38;5;124m'\u001b[39m\u001b[38;5;124m최적 하이퍼 파라미어:\u001b[39m\u001b[38;5;132;01m{0}\u001b[39;00m\u001b[38;5;124m, 최적 평균 정확도:\u001b[39m\u001b[38;5;132;01m{1:.3f}\u001b[39;00m\u001b[38;5;124m'\u001b[39m\u001b[38;5;241m.\u001b[39mformat(grid_clf\u001b[38;5;241m.\u001b[39mbest_params_, grid_clf\u001b[38;5;241m.\u001b[39mbest_score_))\n",
      "\u001b[1;31mNameError\u001b[0m: name 'xgb_wrapper' is not defined"
     ]
    }
   ],
   "source": [
    "#xgb 최적 하이퍼 파라미터\n",
    "from sklearn.model_selection import GridSearchCV\n",
    "\n",
    "params = {\n",
    "          'n_estimators':[20,40,60,80,100],\n",
    "          'learning_rate':[0.03,0.05,0.07,0.09],\n",
    "          'max_depth' : [4,6,8,10]\n",
    "          }\n",
    "\n",
    "grid_clf = GridSearchCV(xgb_wrapper, param_grid=params, scoring='accuracy', cv=5)\n",
    "grid_clf.fit(X_train_XG,y_train_XG)\n",
    "print('최적 하이퍼 파라미어:{0}, 최적 평균 정확도:{1:.3f}'.format(grid_clf.best_params_, grid_clf.best_score_))"
   ]
  },
  {
   "cell_type": "code",
   "execution_count": 5,
   "metadata": {},
   "outputs": [
    {
     "ename": "NameError",
     "evalue": "name 'XGBClassifier' is not defined",
     "output_type": "error",
     "traceback": [
      "\u001b[1;31m---------------------------------------------------------------------------\u001b[0m",
      "\u001b[1;31mNameError\u001b[0m                                 Traceback (most recent call last)",
      "Cell \u001b[1;32mIn [5], line 3\u001b[0m\n\u001b[0;32m      1\u001b[0m \u001b[38;5;66;03m# xgb부스트 최적의 파라미터\u001b[39;00m\n\u001b[0;32m      2\u001b[0m \u001b[38;5;66;03m#최적 하이퍼 파라미어:{'learning_rate': 0.07, 'max_depth': 4, 'n_estimators': 100}, 최적 평균 정확도:0.984\u001b[39;00m\n\u001b[1;32m----> 3\u001b[0m xgb_wrapper \u001b[38;5;241m=\u001b[39m \u001b[43mXGBClassifier\u001b[49m(learning_rate\u001b[38;5;241m=\u001b[39m \u001b[38;5;241m0.07\u001b[39m, max_depth\u001b[38;5;241m=\u001b[39m \u001b[38;5;241m4\u001b[39m, n_estimators\u001b[38;5;241m=\u001b[39m \u001b[38;5;241m100\u001b[39m)\n\u001b[0;32m      5\u001b[0m xgb_wrapper\u001b[38;5;241m.\u001b[39mfit(X_train_XG, y_train_XG, verbose \u001b[38;5;241m=\u001b[39m \u001b[38;5;28;01mTrue\u001b[39;00m)\n\u001b[0;32m      7\u001b[0m xgb_best_pred \u001b[38;5;241m=\u001b[39m xgb_wrapper\u001b[38;5;241m.\u001b[39mpredict(X_test)\n",
      "\u001b[1;31mNameError\u001b[0m: name 'XGBClassifier' is not defined"
     ]
    }
   ],
   "source": [
    "# xgb부스트 최적의 파라미터\n",
    "#최적 하이퍼 파라미어:{'learning_rate': 0.07, 'max_depth': 4, 'n_estimators': 100}, 최적 평균 정확도:0.984\n",
    "xgb_wrapper = XGBClassifier(learning_rate= 0.07, max_depth= 4, n_estimators= 100)\n",
    "\n",
    "xgb_wrapper.fit(X_train_XG, y_train_XG, verbose = True)\n",
    "\n",
    "xgb_best_pred = xgb_wrapper.predict(X_test)\n",
    "xgb_best_pred_proba = xgb_wrapper.predict_proba(X_test)"
   ]
  },
  {
   "cell_type": "code",
   "execution_count": 42,
   "metadata": {},
   "outputs": [],
   "source": [
    "#퍼셉트론 구현\n",
    "# eta : 학습률 (float), n_iter : 훈련 데이터 반복 횟수 (int), w_ : 학습된 가중치 (1d-array)\n",
    "class Perceptron(object):\n",
    "    \n",
    "    def __init__(self, eta = 0.01, n_iter = 50, random_state = 1): #초기화\n",
    "        self.eta = eta\n",
    "        self.n_iter = n_iter\n",
    "        self.random_state = random_state\n",
    "        \n",
    "    \n",
    "    def fit(self, X, y): #학습\n",
    "        rgen = np.random.RandomState(self.random_state)\n",
    "        self.w_ = rgen.normal(loc = 0, scale = 0.01,\n",
    "                             size = 1 + X.shape[1])\n",
    "        \n",
    "        self.errors_ = []\n",
    "        for _ in range(self.n_iter):\n",
    "            errors = 0\n",
    "            for i in range(len(X)):\n",
    "                xi = X.iloc[i].values\n",
    "                target = y[i]f\n",
    "                update = self.eta * (target - self.predict(xi))\n",
    "                self.w_[1:] += update * xi\n",
    "                self.w_[0] += update\n",
    "                errors += int(update != 0.0)\n",
    "            self.errors_.append(errors)\n",
    "        return self\n",
    "    \n",
    "    def predict(self, X): #추론\n",
    "        return np.where(self.net_input(X) >= 0.0, 1, 0)\n",
    "    \n",
    "    def net_input(self, X):\n",
    "        return np.dot(X, self.w_[1:]) + self.w_[0]\n",
    "\n",
    "\n",
    "\n",
    "#초기(pc)\n",
    "pc_clf = Perceptron(n_iter = 10)\n",
    "pc_clf.fit(X_train, y_train)\n",
    "pc_pred = pc_clf.predict(X_test)\n",
    "\n",
    "\n",
    "\n",
    "\n"
   ]
  },
  {
   "cell_type": "code",
   "execution_count": 43,
   "metadata": {},
   "outputs": [
    {
     "name": "stdout",
     "output_type": "stream",
     "text": [
      "1\n",
      "0.23626373626373626\n",
      "2\n",
      "0.24358974358974358\n",
      "3\n",
      "0.23717948717948717\n",
      "4\n",
      "0.23809523809523808\n",
      "5\n",
      "0.23534798534798534\n",
      "6\n",
      "0.23992673992673993\n",
      "7\n",
      "0.24084249084249085\n",
      "8\n",
      "0.24725274725274726\n",
      "9\n",
      "0.2326007326007326\n",
      "10\n",
      "0.25366300366300365\n"
     ]
    }
   ],
   "source": [
    "from sklearn.metrics import accuracy_score\n",
    "\n",
    "pc_scores = []\n",
    "for i in range(1,11):\n",
    "    pc_clf = Perceptron(n_iter=i)\n",
    "    pc_clf.fit(X_train, y_train)\n",
    "    pc_pred = pc_clf.predict(X_test)\n",
    "    \n",
    "    pc_scores=accuracy_score(y_test, pc_pred)\n",
    "    print(i)\n",
    "    print(pc_scores)\n",
    "\n"
   ]
  },
  {
   "cell_type": "code",
   "execution_count": 44,
   "metadata": {},
   "outputs": [],
   "source": [
    "# 퍼셉트론 최적의 파라미터\n",
    "pc_clf = Perceptron(n_iter = 3)\n",
    "pc_clf.fit(X_train, y_train)\n",
    "pc_best_pred = pc_clf.predict(X_test)\n",
    "\n"
   ]
  },
  {
   "cell_type": "markdown",
   "metadata": {},
   "source": [
    "### lda_pred : 선형판별 분석 예측 값\n",
    "### dt_pred : 디시전트리 예측 값\n",
    "### dt_best_pred : 랜덤 포레스트 최적의 파라미터 값\n",
    "### rf_pred : 랜덤 포레스트 예측 값\n",
    "### rf_best_pred : 랜덤 포레스트 최적의 파라미터 값\n",
    "### lr_pred : 로지스틱 회귀 예측 값\n",
    "### lr_best_pred : 랜덤 포레스트 최적의 파라미터 값\n",
    "### knn_pred : knn 예측 값\n",
    "### knn_best_pred : knn 최적의 파라미터 값\n",
    "### xgb_pred : xgb 예측 값\n",
    "### xgb_best_pred : 랜덤 포레스트 최적의 파라미터 값\n",
    "### pc_pred : 퍼셉트론 예측 값\n"
   ]
  },
  {
   "cell_type": "code",
   "execution_count": 46,
   "metadata": {},
   "outputs": [
    {
     "name": "stdout",
     "output_type": "stream",
     "text": [
      "lda\n",
      "오차행렬\n",
      "[[788  54]\n",
      " [ 78 172]]\n",
      "정확도: 0.8791, 정밀도 : 0.7611, 재현율:0.6880,F1 스코어:0.7227\n",
      "ROC 스코어: 0.8119, PR score : 0.5950\n",
      "None\n",
      "디시전트리\n",
      "오차행렬\n",
      "[[810  32]\n",
      " [158  92]]\n",
      "정확도: 0.8260, 정밀도 : 0.7419, 재현율:0.3680,F1 스코어:0.4920\n",
      "ROC 스코어: 0.6650, PR score : 0.4177\n",
      "None\n",
      "디시전트리 최적의 모델\n",
      "로지스틱\n",
      "오차행렬\n",
      "[[790  52]\n",
      " [ 62 188]]\n",
      "정확도: 0.8956, 정밀도 : 0.7833, 재현율:0.7520,F1 스코어:0.7673\n",
      "ROC 스코어: 0.8451, PR score : 0.6458\n",
      "None\n",
      "로지스틱회귀 최적의 모델\n",
      "오차행렬\n",
      "[[784  58]\n",
      " [ 62 188]]\n",
      "정확도: 0.8901, 정밀도 : 0.7642, 재현율:0.7520,F1 스코어:0.7581\n",
      "ROC 스코어: 0.8416, PR score : 0.6315\n",
      "None\n",
      "Knn\n",
      "오차행렬\n",
      "[[758  84]\n",
      " [118 132]]\n",
      "정확도: 0.8150, 정밀도 : 0.6111, 재현율:0.5280,F1 스코어:0.5665\n",
      "ROC 스코어: 0.7141, PR score : 0.4307\n",
      "None\n",
      "Knn 최적의 모델\n",
      "오차행렬\n",
      "[[799  43]\n",
      " [171  79]]\n",
      "정확도: 0.8040, 정밀도 : 0.6475, 재현율:0.3160,F1 스코어:0.4247\n",
      "ROC 스코어: 0.6325, PR score : 0.3612\n",
      "None\n",
      "xgb\n"
     ]
    },
    {
     "ename": "NameError",
     "evalue": "name 'xgb_pred' is not defined",
     "output_type": "error",
     "traceback": [
      "\u001b[1;31m---------------------------------------------------------------------------\u001b[0m",
      "\u001b[1;31mNameError\u001b[0m                                 Traceback (most recent call last)",
      "\u001b[1;32m<ipython-input-46-bd2ca0ca53e2>\u001b[0m in \u001b[0;36m<module>\u001b[1;34m\u001b[0m\n\u001b[0;32m     39\u001b[0m \u001b[0mprint\u001b[0m\u001b[1;33m(\u001b[0m\u001b[0mget_clf_eval\u001b[0m\u001b[1;33m(\u001b[0m\u001b[0my_test\u001b[0m\u001b[1;33m,\u001b[0m \u001b[0mknn_best_pred\u001b[0m\u001b[1;33m)\u001b[0m\u001b[1;33m)\u001b[0m\u001b[1;33m\u001b[0m\u001b[1;33m\u001b[0m\u001b[0m\n\u001b[0;32m     40\u001b[0m \u001b[0mprint\u001b[0m\u001b[1;33m(\u001b[0m\u001b[1;34m\"xgb\"\u001b[0m\u001b[1;33m)\u001b[0m\u001b[1;33m\u001b[0m\u001b[1;33m\u001b[0m\u001b[0m\n\u001b[1;32m---> 41\u001b[1;33m \u001b[0mprint\u001b[0m\u001b[1;33m(\u001b[0m\u001b[0mget_clf_eval\u001b[0m\u001b[1;33m(\u001b[0m\u001b[0my_test\u001b[0m\u001b[1;33m,\u001b[0m \u001b[0mxgb_pred\u001b[0m\u001b[1;33m)\u001b[0m\u001b[1;33m)\u001b[0m\u001b[1;33m\u001b[0m\u001b[1;33m\u001b[0m\u001b[0m\n\u001b[0m\u001b[0;32m     42\u001b[0m \u001b[0mprint\u001b[0m\u001b[1;33m(\u001b[0m\u001b[1;34m\"xgb 최적의 모델\"\u001b[0m\u001b[1;33m)\u001b[0m\u001b[1;33m\u001b[0m\u001b[1;33m\u001b[0m\u001b[0m\n\u001b[0;32m     43\u001b[0m \u001b[0mprint\u001b[0m\u001b[1;33m(\u001b[0m\u001b[0mget_clf_eval\u001b[0m\u001b[1;33m(\u001b[0m\u001b[0my_test\u001b[0m\u001b[1;33m,\u001b[0m \u001b[0mxgb_best_pred\u001b[0m\u001b[1;33m)\u001b[0m\u001b[1;33m)\u001b[0m\u001b[1;33m\u001b[0m\u001b[1;33m\u001b[0m\u001b[0m\n",
      "\u001b[1;31mNameError\u001b[0m: name 'xgb_pred' is not defined"
     ]
    }
   ],
   "source": [
    "\n",
    "from sklearn.model_selection import train_test_split\n",
    "from sklearn.metrics import confusion_matrix, accuracy_score, precision_score, recall_score\n",
    "from sklearn.metrics import confusion_matrix, f1_score, roc_auc_score, average_precision_score\n",
    "\n",
    "\n",
    "import warnings\n",
    "\n",
    "def get_clf_eval(y_test, pred):\n",
    "    confusion = confusion_matrix(y_test, pred)\n",
    "    accuracy = accuracy_score(y_test, pred)\n",
    "    precision = precision_score(y_test, pred)\n",
    "    recall = recall_score(y_test, pred)\n",
    "    roc_score = roc_auc_score(y_test, pred)\n",
    "    pr_score = average_precision_score(y_test, pred)\n",
    "    f1 = f1_score(y_test, pred)\n",
    "    \n",
    "    print('오차행렬')\n",
    "    print(confusion)\n",
    "    print('정확도: {0:.4f}, 정밀도 : {1:.4f}, 재현율:{2:.4f},F1 스코어:{3:.4f}'.format(accuracy, precision, recall, f1, roc_score))\n",
    "    print('ROC 스코어: {0:.4f}, PR score : {1:.4f}'.format(roc_score, pr_score))\n",
    "    \n",
    "print(\"lda\") \n",
    "print(get_clf_eval(y_test, lda_pred))\n",
    "print(\"디시전트리\") \n",
    "print(get_clf_eval(y_test, dt_pred))\n",
    "print(\"디시전트리 최적의 모델\") \n",
    "print(get_clf_eval(y_test, dt_best_pred))\n",
    "# print(\"랜덤포레스트\") \n",
    "# print(get_clf_eval(y_test, rf_pred))\n",
    "# print(\"랜덤포레스트 최적의 모델\") \n",
    "# print(get_clf_eval(y_test, rf_best_pred))\n",
    "print(\"로지스틱\") \n",
    "print(get_clf_eval(y_test, lr_pred))\n",
    "print(\"로지스틱회귀 최적의 모델\")\n",
    "print(get_clf_eval(y_test, lr_best_pred))\n",
    "print(\"Knn\")\n",
    "print(get_clf_eval(y_test, knn_pred))\n",
    "print(\"Knn 최적의 모델\")\n",
    "print(get_clf_eval(y_test, knn_best_pred))\n",
    "print(\"xgb\")\n",
    "print(get_clf_eval(y_test, xgb_pred))\n",
    "print(\"xgb 최적의 모델\")\n",
    "print(get_clf_eval(y_test, xgb_best_pred))\n",
    "print(\"다중 퍼셉트론\")\n",
    "print(get_clf_eval(y_test, pc_pred))\n",
    "print(\"다중 퍼셉트론 최적의 모델\")\n",
    "print(get_clf_eval(y_test, pc_best_pred))\n",
    "\n"
   ]
  },
  {
   "cell_type": "code",
   "execution_count": 47,
   "metadata": {},
   "outputs": [
    {
     "name": "stdout",
     "output_type": "stream",
     "text": [
      "임곗값: 0.1\n",
      "오차행렬\n",
      "[[292 550]\n",
      " [  0 250]]\n",
      "정확도: 0.4963, 정밀도 : 0.3125, 재현율:1.0000,F1 스코어:0.4762\n",
      "ROC 스코어: 0.6734, PR score : 0.3125\n",
      "임곗값: 0.2\n",
      "오차행렬\n",
      "[[532 310]\n",
      " [ 19 231]]\n",
      "정확도: 0.6987, 정밀도 : 0.4270, 재현율:0.9240,F1 스코어:0.5841\n",
      "ROC 스코어: 0.7779, PR score : 0.4119\n",
      "임곗값: 0.3\n",
      "오차행렬\n",
      "[[677 165]\n",
      " [ 37 213]]\n",
      "정확도: 0.8150, 정밀도 : 0.5635, 재현율:0.8520,F1 스코어:0.6783\n",
      "ROC 스코어: 0.8280, PR score : 0.5140\n",
      "임곗값: 0.4\n",
      "오차행렬\n",
      "[[755  87]\n",
      " [ 56 194]]\n",
      "정확도: 0.8690, 정밀도 : 0.6904, 재현율:0.7760,F1 스코어:0.7307\n",
      "ROC 스코어: 0.8363, PR score : 0.5870\n",
      "임곗값: 0.5\n",
      "오차행렬\n",
      "[[788  54]\n",
      " [ 78 172]]\n",
      "정확도: 0.8791, 정밀도 : 0.7611, 재현율:0.6880,F1 스코어:0.7227\n",
      "ROC 스코어: 0.8119, PR score : 0.5950\n",
      "임곗값: 0.6\n",
      "오차행렬\n",
      "[[806  36]\n",
      " [107 143]]\n",
      "정확도: 0.8690, 정밀도 : 0.7989, 재현율:0.5720,F1 스코어:0.6667\n",
      "ROC 스코어: 0.7646, PR score : 0.5549\n",
      "임곗값: 0.7\n",
      "오차행렬\n",
      "[[825  17]\n",
      " [131 119]]\n",
      "정확도: 0.8645, 정밀도 : 0.8750, 재현율:0.4760,F1 스코어:0.6166\n",
      "ROC 스코어: 0.7279, PR score : 0.5365\n",
      "임곗값: 0.8\n",
      "오차행렬\n",
      "[[832  10]\n",
      " [163  87]]\n",
      "정확도: 0.8416, 정밀도 : 0.8969, 재현율:0.3480,F1 스코어:0.5014\n",
      "ROC 스코어: 0.6681, PR score : 0.4614\n",
      "임곗값: 0.9\n",
      "오차행렬\n",
      "[[840   2]\n",
      " [234  16]]\n",
      "정확도: 0.7839, 정밀도 : 0.8889, 재현율:0.0640,F1 스코어:0.1194\n",
      "ROC 스코어: 0.5308, PR score : 0.2712\n"
     ]
    }
   ],
   "source": [
    "# 임계값에 따른 오차행렬및 스코어 \n",
    "from sklearn.preprocessing import Binarizer\n",
    "thresholds = [0.1,0.2,0.3,0.4,0.5,0.6,0.7,0.8,0.9]\n",
    "# thresholds = [0.6,0.65,0.7,0.75,0.8,0.85,0.9]\n",
    "\n",
    "def get_eval_by_threshold(y_test, pred_proba_c1, thresholds):\n",
    "    for custom_threshold in thresholds:\n",
    "        binarizer = Binarizer(threshold=custom_threshold).fit(pred_proba_c1)\n",
    "        custom_predict = binarizer.transform(pred_proba_c1)\n",
    "        print(\"임곗값:\", custom_threshold)\n",
    "        get_clf_eval(y_test, custom_predict)\n",
    "# lda 임계값 행렬 F1 스코어가 제일 좋은 임계값 0.7  재현율은 0.1\n",
    "get_eval_by_threshold(y_test , lda_pred_proba[:,1].reshape(-1,1), thresholds)\n",
    "# get_eval_by_threshold(y_test , lda_pred[:,1].reshape(-1,1), thresholds)\n"
   ]
  },
  {
   "cell_type": "code",
   "execution_count": 37,
   "metadata": {},
   "outputs": [
    {
     "name": "stdout",
     "output_type": "stream",
     "text": [
      "임곗값: 0.1\n",
      "오차행렬\n",
      "[[2488   49]\n",
      " [  24    6]]\n",
      "정확도: 0.9716, 정밀도 : 0.1091, 재현율:0.2000,F1 스코어:0.1412\n",
      "ROC 스코어: 0.5903, PR score : 0.0312\n",
      "임곗값: 0.2\n",
      "오차행렬\n",
      "[[2488   49]\n",
      " [  24    6]]\n",
      "정확도: 0.9716, 정밀도 : 0.1091, 재현율:0.2000,F1 스코어:0.1412\n",
      "ROC 스코어: 0.5903, PR score : 0.0312\n",
      "임곗값: 0.3\n",
      "오차행렬\n",
      "[[2488   49]\n",
      " [  24    6]]\n",
      "정확도: 0.9716, 정밀도 : 0.1091, 재현율:0.2000,F1 스코어:0.1412\n",
      "ROC 스코어: 0.5903, PR score : 0.0312\n",
      "임곗값: 0.4\n",
      "오차행렬\n",
      "[[2488   49]\n",
      " [  24    6]]\n",
      "정확도: 0.9716, 정밀도 : 0.1091, 재현율:0.2000,F1 스코어:0.1412\n",
      "ROC 스코어: 0.5903, PR score : 0.0312\n",
      "임곗값: 0.5\n",
      "오차행렬\n",
      "[[2488   49]\n",
      " [  24    6]]\n",
      "정확도: 0.9716, 정밀도 : 0.1091, 재현율:0.2000,F1 스코어:0.1412\n",
      "ROC 스코어: 0.5903, PR score : 0.0312\n",
      "임곗값: 0.6\n",
      "오차행렬\n",
      "[[2488   49]\n",
      " [  24    6]]\n",
      "정확도: 0.9716, 정밀도 : 0.1091, 재현율:0.2000,F1 스코어:0.1412\n",
      "ROC 스코어: 0.5903, PR score : 0.0312\n",
      "임곗값: 0.7\n",
      "오차행렬\n",
      "[[2488   49]\n",
      " [  24    6]]\n",
      "정확도: 0.9716, 정밀도 : 0.1091, 재현율:0.2000,F1 스코어:0.1412\n",
      "ROC 스코어: 0.5903, PR score : 0.0312\n",
      "임곗값: 0.8\n",
      "오차행렬\n",
      "[[2488   49]\n",
      " [  24    6]]\n",
      "정확도: 0.9716, 정밀도 : 0.1091, 재현율:0.2000,F1 스코어:0.1412\n",
      "ROC 스코어: 0.5903, PR score : 0.0312\n",
      "임곗값: 0.9\n",
      "오차행렬\n",
      "[[2488   49]\n",
      " [  24    6]]\n",
      "정확도: 0.9716, 정밀도 : 0.1091, 재현율:0.2000,F1 스코어:0.1412\n",
      "ROC 스코어: 0.5903, PR score : 0.0312\n"
     ]
    }
   ],
   "source": [
    "#디시전 트리\n",
    "# 성능값 일정\n",
    "get_eval_by_threshold(y_test , dt_pred_proba[:,1].reshape(-1,1), thresholds)"
   ]
  },
  {
   "cell_type": "code",
   "execution_count": 50,
   "metadata": {},
   "outputs": [
    {
     "name": "stdout",
     "output_type": "stream",
     "text": [
      "임곗값: 0.1\n",
      "오차행렬\n",
      "[[759  83]\n",
      " [131 119]]\n",
      "정확도: 0.8040, 정밀도 : 0.5891, 재현율:0.4760,F1 스코어:0.5265\n",
      "ROC 스코어: 0.6887, PR score : 0.4004\n",
      "임곗값: 0.2\n",
      "오차행렬\n",
      "[[786  56]\n",
      " [142 108]]\n",
      "정확도: 0.8187, 정밀도 : 0.6585, 재현율:0.4320,F1 스코어:0.5217\n",
      "ROC 스코어: 0.6827, PR score : 0.4145\n",
      "임곗값: 0.3\n",
      "오차행렬\n",
      "[[786  56]\n",
      " [142 108]]\n",
      "정확도: 0.8187, 정밀도 : 0.6585, 재현율:0.4320,F1 스코어:0.5217\n",
      "ROC 스코어: 0.6827, PR score : 0.4145\n",
      "임곗값: 0.4\n",
      "오차행렬\n",
      "[[786  56]\n",
      " [142 108]]\n",
      "정확도: 0.8187, 정밀도 : 0.6585, 재현율:0.4320,F1 스코어:0.5217\n",
      "ROC 스코어: 0.6827, PR score : 0.4145\n",
      "임곗값: 0.5\n",
      "오차행렬\n",
      "[[787  55]\n",
      " [142 108]]\n",
      "정확도: 0.8196, 정밀도 : 0.6626, 재현율:0.4320,F1 스코어:0.5230\n",
      "ROC 스코어: 0.6833, PR score : 0.4163\n",
      "임곗값: 0.6\n",
      "오차행렬\n",
      "[[790  52]\n",
      " [142 108]]\n",
      "정확도: 0.8223, 정밀도 : 0.6750, 재현율:0.4320,F1 스코어:0.5268\n",
      "ROC 스코어: 0.6851, PR score : 0.4216\n",
      "임곗값: 0.7\n",
      "오차행렬\n",
      "[[802  40]\n",
      " [148 102]]\n",
      "정확도: 0.8278, 정밀도 : 0.7183, 재현율:0.4080,F1 스코어:0.5204\n",
      "ROC 스코어: 0.6802, PR score : 0.4286\n",
      "임곗값: 0.8\n",
      "오차행렬\n",
      "[[810  32]\n",
      " [157  93]]\n",
      "정확도: 0.8269, 정밀도 : 0.7440, 재현율:0.3720,F1 스코어:0.4960\n",
      "ROC 스코어: 0.6670, PR score : 0.4205\n",
      "임곗값: 0.9\n",
      "오차행렬\n",
      "[[823  19]\n",
      " [200  50]]\n",
      "정확도: 0.7995, 정밀도 : 0.7246, 재현율:0.2000,F1 스코어:0.3135\n",
      "ROC 스코어: 0.5887, PR score : 0.3281\n"
     ]
    }
   ],
   "source": [
    "# 디시전트리 최적\n",
    "# 임계값 0.3 때 F1 스코어가 가장 좋음 재현율은 0.1\n",
    "get_eval_by_threshold(y_test , dt_best_pred_proba[:,1].reshape(-1,1), thresholds)"
   ]
  },
  {
   "cell_type": "code",
   "execution_count": 39,
   "metadata": {},
   "outputs": [
    {
     "name": "stdout",
     "output_type": "stream",
     "text": [
      "임곗값: 0.1\n",
      "오차행렬\n",
      "[[2444   93]\n",
      " [  19   11]]\n",
      "정확도: 0.9564, 정밀도 : 0.1058, 재현율:0.3667,F1 스코어:0.1642\n",
      "ROC 스코어: 0.6650, PR score : 0.0462\n",
      "임곗값: 0.2\n",
      "오차행렬\n",
      "[[2498   39]\n",
      " [  23    7]]\n",
      "정확도: 0.9758, 정밀도 : 0.1522, 재현율:0.2333,F1 스코어:0.1842\n",
      "ROC 스코어: 0.6090, PR score : 0.0445\n",
      "임곗값: 0.3\n",
      "오차행렬\n",
      "[[2515   22]\n",
      " [  27    3]]\n",
      "정확도: 0.9809, 정밀도 : 0.1200, 재현율:0.1000,F1 스코어:0.1091\n",
      "ROC 스코어: 0.5457, PR score : 0.0225\n",
      "임곗값: 0.4\n",
      "오차행렬\n",
      "[[2523   14]\n",
      " [  29    1]]\n",
      "정확도: 0.9832, 정밀도 : 0.0667, 재현율:0.0333,F1 스코어:0.0444\n",
      "ROC 스코어: 0.5139, PR score : 0.0135\n",
      "임곗값: 0.5\n",
      "오차행렬\n",
      "[[2529    8]\n",
      " [  29    1]]\n",
      "정확도: 0.9856, 정밀도 : 0.1111, 재현율:0.0333,F1 스코어:0.0513\n",
      "ROC 스코어: 0.5151, PR score : 0.0150\n",
      "임곗값: 0.6\n",
      "오차행렬\n",
      "[[2532    5]\n",
      " [  29    1]]\n",
      "정확도: 0.9868, 정밀도 : 0.1667, 재현율:0.0333,F1 스코어:0.0556\n",
      "ROC 스코어: 0.5157, PR score : 0.0169\n",
      "임곗값: 0.7\n",
      "오차행렬\n",
      "[[2536    1]\n",
      " [  29    1]]\n",
      "정확도: 0.9883, 정밀도 : 0.5000, 재현율:0.0333,F1 스코어:0.0625\n",
      "ROC 스코어: 0.5165, PR score : 0.0280\n",
      "임곗값: 0.8\n",
      "오차행렬\n",
      "[[2537    0]\n",
      " [  30    0]]\n",
      "정확도: 0.9883, 정밀도 : 0.0000, 재현율:0.0000,F1 스코어:0.0000\n",
      "ROC 스코어: 0.5000, PR score : 0.0117\n",
      "임곗값: 0.9\n",
      "오차행렬\n",
      "[[2537    0]\n",
      " [  30    0]]\n",
      "정확도: 0.9883, 정밀도 : 0.0000, 재현율:0.0000,F1 스코어:0.0000\n",
      "ROC 스코어: 0.5000, PR score : 0.0117\n"
     ]
    },
    {
     "name": "stderr",
     "output_type": "stream",
     "text": [
      "c:\\Users\\82104\\AppData\\Local\\Programs\\Python\\Python39-32\\lib\\site-packages\\sklearn\\metrics\\_classification.py:1334: UndefinedMetricWarning: Precision is ill-defined and being set to 0.0 due to no predicted samples. Use `zero_division` parameter to control this behavior.\n",
      "  _warn_prf(average, modifier, msg_start, len(result))\n",
      "c:\\Users\\82104\\AppData\\Local\\Programs\\Python\\Python39-32\\lib\\site-packages\\sklearn\\metrics\\_classification.py:1334: UndefinedMetricWarning: Precision is ill-defined and being set to 0.0 due to no predicted samples. Use `zero_division` parameter to control this behavior.\n",
      "  _warn_prf(average, modifier, msg_start, len(result))\n"
     ]
    }
   ],
   "source": [
    "#로지스틱 회귀\n",
    "#0.1 때 F1 스코어가 제일 좋음\n",
    "get_eval_by_threshold(y_test , lr_pred_proba[:,1].reshape(-1,1), thresholds)"
   ]
  },
  {
   "cell_type": "code",
   "execution_count": 40,
   "metadata": {},
   "outputs": [
    {
     "name": "stdout",
     "output_type": "stream",
     "text": [
      "임곗값: 0.1\n",
      "오차행렬\n",
      "[[2447   90]\n",
      " [  19   11]]\n",
      "정확도: 0.9575, 정밀도 : 0.1089, 재현율:0.3667,F1 스코어:0.1679\n",
      "ROC 스코어: 0.6656, PR score : 0.0473\n",
      "임곗값: 0.2\n",
      "오차행렬\n",
      "[[2498   39]\n",
      " [  24    6]]\n",
      "정확도: 0.9755, 정밀도 : 0.1333, 재현율:0.2000,F1 스코어:0.1600\n",
      "ROC 스코어: 0.5923, PR score : 0.0360\n",
      "임곗값: 0.3\n",
      "오차행렬\n",
      "[[2516   21]\n",
      " [  27    3]]\n",
      "정확도: 0.9813, 정밀도 : 0.1250, 재현율:0.1000,F1 스코어:0.1111\n",
      "ROC 스코어: 0.5459, PR score : 0.0230\n",
      "임곗값: 0.4\n",
      "오차행렬\n",
      "[[2523   14]\n",
      " [  29    1]]\n",
      "정확도: 0.9832, 정밀도 : 0.0667, 재현율:0.0333,F1 스코어:0.0444\n",
      "ROC 스코어: 0.5139, PR score : 0.0135\n",
      "임곗값: 0.5\n",
      "오차행렬\n",
      "[[2529    8]\n",
      " [  29    1]]\n",
      "정확도: 0.9856, 정밀도 : 0.1111, 재현율:0.0333,F1 스코어:0.0513\n",
      "ROC 스코어: 0.5151, PR score : 0.0150\n",
      "임곗값: 0.6\n",
      "오차행렬\n",
      "[[2532    5]\n",
      " [  29    1]]\n",
      "정확도: 0.9868, 정밀도 : 0.1667, 재현율:0.0333,F1 스코어:0.0556\n",
      "ROC 스코어: 0.5157, PR score : 0.0169\n",
      "임곗값: 0.7\n",
      "오차행렬\n",
      "[[2536    1]\n",
      " [  29    1]]\n",
      "정확도: 0.9883, 정밀도 : 0.5000, 재현율:0.0333,F1 스코어:0.0625\n",
      "ROC 스코어: 0.5165, PR score : 0.0280\n",
      "임곗값: 0.8\n",
      "오차행렬\n",
      "[[2537    0]\n",
      " [  30    0]]\n",
      "정확도: 0.9883, 정밀도 : 0.0000, 재현율:0.0000,F1 스코어:0.0000\n",
      "ROC 스코어: 0.5000, PR score : 0.0117\n",
      "임곗값: 0.9\n",
      "오차행렬\n",
      "[[2537    0]\n",
      " [  30    0]]\n",
      "정확도: 0.9883, 정밀도 : 0.0000, 재현율:0.0000,F1 스코어:0.0000\n",
      "ROC 스코어: 0.5000, PR score : 0.0117\n"
     ]
    },
    {
     "name": "stderr",
     "output_type": "stream",
     "text": [
      "c:\\Users\\82104\\AppData\\Local\\Programs\\Python\\Python39-32\\lib\\site-packages\\sklearn\\metrics\\_classification.py:1334: UndefinedMetricWarning: Precision is ill-defined and being set to 0.0 due to no predicted samples. Use `zero_division` parameter to control this behavior.\n",
      "  _warn_prf(average, modifier, msg_start, len(result))\n",
      "c:\\Users\\82104\\AppData\\Local\\Programs\\Python\\Python39-32\\lib\\site-packages\\sklearn\\metrics\\_classification.py:1334: UndefinedMetricWarning: Precision is ill-defined and being set to 0.0 due to no predicted samples. Use `zero_division` parameter to control this behavior.\n",
      "  _warn_prf(average, modifier, msg_start, len(result))\n"
     ]
    }
   ],
   "source": [
    "# 로지 회귀 최적 파라미터\n",
    "# 임계값 0.1일때 F1 스코어 최대\n",
    "get_eval_by_threshold(y_test , lr_best_pred_proba[:,1].reshape(-1,1), thresholds)"
   ]
  },
  {
   "cell_type": "code",
   "execution_count": 59,
   "metadata": {},
   "outputs": [
    {
     "name": "stdout",
     "output_type": "stream",
     "text": [
      "임곗값: 0.1\n"
     ]
    },
    {
     "ename": "ValueError",
     "evalue": "Found input variables with inconsistent numbers of samples: [1092, 5000]",
     "output_type": "error",
     "traceback": [
      "\u001b[1;31m---------------------------------------------------------------------------\u001b[0m",
      "\u001b[1;31mValueError\u001b[0m                                Traceback (most recent call last)",
      "\u001b[1;32m<ipython-input-59-3a4b595ac3ae>\u001b[0m in \u001b[0;36m<module>\u001b[1;34m\u001b[0m\n\u001b[0;32m      1\u001b[0m \u001b[1;31m#랜덤 포레스트\u001b[0m\u001b[1;33m\u001b[0m\u001b[1;33m\u001b[0m\u001b[1;33m\u001b[0m\u001b[0m\n\u001b[0;32m      2\u001b[0m \u001b[1;31m# 임계값 0.4일 때 F1스코어 최대\u001b[0m\u001b[1;33m\u001b[0m\u001b[1;33m\u001b[0m\u001b[1;33m\u001b[0m\u001b[0m\n\u001b[1;32m----> 3\u001b[1;33m \u001b[0mget_eval_by_threshold\u001b[0m\u001b[1;33m(\u001b[0m\u001b[0my_test\u001b[0m \u001b[1;33m,\u001b[0m \u001b[0mrf_pred_proba\u001b[0m\u001b[1;33m[\u001b[0m\u001b[1;33m:\u001b[0m\u001b[1;33m,\u001b[0m\u001b[1;36m1\u001b[0m\u001b[1;33m]\u001b[0m\u001b[1;33m.\u001b[0m\u001b[0mreshape\u001b[0m\u001b[1;33m(\u001b[0m\u001b[1;33m-\u001b[0m\u001b[1;36m1\u001b[0m\u001b[1;33m,\u001b[0m\u001b[1;36m1\u001b[0m\u001b[1;33m)\u001b[0m\u001b[1;33m,\u001b[0m \u001b[0mthresholds\u001b[0m\u001b[1;33m)\u001b[0m\u001b[1;33m\u001b[0m\u001b[1;33m\u001b[0m\u001b[0m\n\u001b[0m",
      "\u001b[1;32m<ipython-input-47-a2f2ccb1cb6f>\u001b[0m in \u001b[0;36mget_eval_by_threshold\u001b[1;34m(y_test, pred_proba_c1, thresholds)\u001b[0m\n\u001b[0;32m      9\u001b[0m         \u001b[0mcustom_predict\u001b[0m \u001b[1;33m=\u001b[0m \u001b[0mbinarizer\u001b[0m\u001b[1;33m.\u001b[0m\u001b[0mtransform\u001b[0m\u001b[1;33m(\u001b[0m\u001b[0mpred_proba_c1\u001b[0m\u001b[1;33m)\u001b[0m\u001b[1;33m\u001b[0m\u001b[1;33m\u001b[0m\u001b[0m\n\u001b[0;32m     10\u001b[0m         \u001b[0mprint\u001b[0m\u001b[1;33m(\u001b[0m\u001b[1;34m\"임곗값:\"\u001b[0m\u001b[1;33m,\u001b[0m \u001b[0mcustom_threshold\u001b[0m\u001b[1;33m)\u001b[0m\u001b[1;33m\u001b[0m\u001b[1;33m\u001b[0m\u001b[0m\n\u001b[1;32m---> 11\u001b[1;33m         \u001b[0mget_clf_eval\u001b[0m\u001b[1;33m(\u001b[0m\u001b[0my_test\u001b[0m\u001b[1;33m,\u001b[0m \u001b[0mcustom_predict\u001b[0m\u001b[1;33m)\u001b[0m\u001b[1;33m\u001b[0m\u001b[1;33m\u001b[0m\u001b[0m\n\u001b[0m\u001b[0;32m     12\u001b[0m \u001b[1;31m# lda 임계값 행렬 F1 스코어가 제일 좋은 임계값 0.7  재현율은 0.1\u001b[0m\u001b[1;33m\u001b[0m\u001b[1;33m\u001b[0m\u001b[1;33m\u001b[0m\u001b[0m\n\u001b[0;32m     13\u001b[0m \u001b[0mget_eval_by_threshold\u001b[0m\u001b[1;33m(\u001b[0m\u001b[0my_test\u001b[0m \u001b[1;33m,\u001b[0m \u001b[0mlda_pred_proba\u001b[0m\u001b[1;33m[\u001b[0m\u001b[1;33m:\u001b[0m\u001b[1;33m,\u001b[0m\u001b[1;36m1\u001b[0m\u001b[1;33m]\u001b[0m\u001b[1;33m.\u001b[0m\u001b[0mreshape\u001b[0m\u001b[1;33m(\u001b[0m\u001b[1;33m-\u001b[0m\u001b[1;36m1\u001b[0m\u001b[1;33m,\u001b[0m\u001b[1;36m1\u001b[0m\u001b[1;33m)\u001b[0m\u001b[1;33m,\u001b[0m \u001b[0mthresholds\u001b[0m\u001b[1;33m)\u001b[0m\u001b[1;33m\u001b[0m\u001b[1;33m\u001b[0m\u001b[0m\n",
      "\u001b[1;32m<ipython-input-46-bd2ca0ca53e2>\u001b[0m in \u001b[0;36mget_clf_eval\u001b[1;34m(y_test, pred)\u001b[0m\n\u001b[0;32m      7\u001b[0m \u001b[1;33m\u001b[0m\u001b[0m\n\u001b[0;32m      8\u001b[0m \u001b[1;32mdef\u001b[0m \u001b[0mget_clf_eval\u001b[0m\u001b[1;33m(\u001b[0m\u001b[0my_test\u001b[0m\u001b[1;33m,\u001b[0m \u001b[0mpred\u001b[0m\u001b[1;33m)\u001b[0m\u001b[1;33m:\u001b[0m\u001b[1;33m\u001b[0m\u001b[1;33m\u001b[0m\u001b[0m\n\u001b[1;32m----> 9\u001b[1;33m     \u001b[0mconfusion\u001b[0m \u001b[1;33m=\u001b[0m \u001b[0mconfusion_matrix\u001b[0m\u001b[1;33m(\u001b[0m\u001b[0my_test\u001b[0m\u001b[1;33m,\u001b[0m \u001b[0mpred\u001b[0m\u001b[1;33m)\u001b[0m\u001b[1;33m\u001b[0m\u001b[1;33m\u001b[0m\u001b[0m\n\u001b[0m\u001b[0;32m     10\u001b[0m     \u001b[0maccuracy\u001b[0m \u001b[1;33m=\u001b[0m \u001b[0maccuracy_score\u001b[0m\u001b[1;33m(\u001b[0m\u001b[0my_test\u001b[0m\u001b[1;33m,\u001b[0m \u001b[0mpred\u001b[0m\u001b[1;33m)\u001b[0m\u001b[1;33m\u001b[0m\u001b[1;33m\u001b[0m\u001b[0m\n\u001b[0;32m     11\u001b[0m     \u001b[0mprecision\u001b[0m \u001b[1;33m=\u001b[0m \u001b[0mprecision_score\u001b[0m\u001b[1;33m(\u001b[0m\u001b[0my_test\u001b[0m\u001b[1;33m,\u001b[0m \u001b[0mpred\u001b[0m\u001b[1;33m)\u001b[0m\u001b[1;33m\u001b[0m\u001b[1;33m\u001b[0m\u001b[0m\n",
      "\u001b[1;32mc:\\ProgramData\\Anaconda3\\lib\\site-packages\\sklearn\\metrics\\_classification.py\u001b[0m in \u001b[0;36mconfusion_matrix\u001b[1;34m(y_true, y_pred, labels, sample_weight, normalize)\u001b[0m\n\u001b[0;32m    305\u001b[0m     \u001b[1;33m(\u001b[0m\u001b[1;36m0\u001b[0m\u001b[1;33m,\u001b[0m \u001b[1;36m2\u001b[0m\u001b[1;33m,\u001b[0m \u001b[1;36m1\u001b[0m\u001b[1;33m,\u001b[0m \u001b[1;36m1\u001b[0m\u001b[1;33m)\u001b[0m\u001b[1;33m\u001b[0m\u001b[1;33m\u001b[0m\u001b[0m\n\u001b[0;32m    306\u001b[0m     \"\"\"\n\u001b[1;32m--> 307\u001b[1;33m     \u001b[0my_type\u001b[0m\u001b[1;33m,\u001b[0m \u001b[0my_true\u001b[0m\u001b[1;33m,\u001b[0m \u001b[0my_pred\u001b[0m \u001b[1;33m=\u001b[0m \u001b[0m_check_targets\u001b[0m\u001b[1;33m(\u001b[0m\u001b[0my_true\u001b[0m\u001b[1;33m,\u001b[0m \u001b[0my_pred\u001b[0m\u001b[1;33m)\u001b[0m\u001b[1;33m\u001b[0m\u001b[1;33m\u001b[0m\u001b[0m\n\u001b[0m\u001b[0;32m    308\u001b[0m     \u001b[1;32mif\u001b[0m \u001b[0my_type\u001b[0m \u001b[1;32mnot\u001b[0m \u001b[1;32min\u001b[0m \u001b[1;33m(\u001b[0m\u001b[1;34m\"binary\"\u001b[0m\u001b[1;33m,\u001b[0m \u001b[1;34m\"multiclass\"\u001b[0m\u001b[1;33m)\u001b[0m\u001b[1;33m:\u001b[0m\u001b[1;33m\u001b[0m\u001b[1;33m\u001b[0m\u001b[0m\n\u001b[0;32m    309\u001b[0m         \u001b[1;32mraise\u001b[0m \u001b[0mValueError\u001b[0m\u001b[1;33m(\u001b[0m\u001b[1;34m\"%s is not supported\"\u001b[0m \u001b[1;33m%\u001b[0m \u001b[0my_type\u001b[0m\u001b[1;33m)\u001b[0m\u001b[1;33m\u001b[0m\u001b[1;33m\u001b[0m\u001b[0m\n",
      "\u001b[1;32mc:\\ProgramData\\Anaconda3\\lib\\site-packages\\sklearn\\metrics\\_classification.py\u001b[0m in \u001b[0;36m_check_targets\u001b[1;34m(y_true, y_pred)\u001b[0m\n\u001b[0;32m     82\u001b[0m     \u001b[0my_pred\u001b[0m \u001b[1;33m:\u001b[0m \u001b[0marray\u001b[0m \u001b[1;32mor\u001b[0m \u001b[0mindicator\u001b[0m \u001b[0mmatrix\u001b[0m\u001b[1;33m\u001b[0m\u001b[1;33m\u001b[0m\u001b[0m\n\u001b[0;32m     83\u001b[0m     \"\"\"\n\u001b[1;32m---> 84\u001b[1;33m     \u001b[0mcheck_consistent_length\u001b[0m\u001b[1;33m(\u001b[0m\u001b[0my_true\u001b[0m\u001b[1;33m,\u001b[0m \u001b[0my_pred\u001b[0m\u001b[1;33m)\u001b[0m\u001b[1;33m\u001b[0m\u001b[1;33m\u001b[0m\u001b[0m\n\u001b[0m\u001b[0;32m     85\u001b[0m     \u001b[0mtype_true\u001b[0m \u001b[1;33m=\u001b[0m \u001b[0mtype_of_target\u001b[0m\u001b[1;33m(\u001b[0m\u001b[0my_true\u001b[0m\u001b[1;33m,\u001b[0m \u001b[0minput_name\u001b[0m\u001b[1;33m=\u001b[0m\u001b[1;34m\"y_true\"\u001b[0m\u001b[1;33m)\u001b[0m\u001b[1;33m\u001b[0m\u001b[1;33m\u001b[0m\u001b[0m\n\u001b[0;32m     86\u001b[0m     \u001b[0mtype_pred\u001b[0m \u001b[1;33m=\u001b[0m \u001b[0mtype_of_target\u001b[0m\u001b[1;33m(\u001b[0m\u001b[0my_pred\u001b[0m\u001b[1;33m,\u001b[0m \u001b[0minput_name\u001b[0m\u001b[1;33m=\u001b[0m\u001b[1;34m\"y_pred\"\u001b[0m\u001b[1;33m)\u001b[0m\u001b[1;33m\u001b[0m\u001b[1;33m\u001b[0m\u001b[0m\n",
      "\u001b[1;32mc:\\ProgramData\\Anaconda3\\lib\\site-packages\\sklearn\\utils\\validation.py\u001b[0m in \u001b[0;36mcheck_consistent_length\u001b[1;34m(*arrays)\u001b[0m\n\u001b[0;32m    385\u001b[0m     \u001b[0muniques\u001b[0m \u001b[1;33m=\u001b[0m \u001b[0mnp\u001b[0m\u001b[1;33m.\u001b[0m\u001b[0munique\u001b[0m\u001b[1;33m(\u001b[0m\u001b[0mlengths\u001b[0m\u001b[1;33m)\u001b[0m\u001b[1;33m\u001b[0m\u001b[1;33m\u001b[0m\u001b[0m\n\u001b[0;32m    386\u001b[0m     \u001b[1;32mif\u001b[0m \u001b[0mlen\u001b[0m\u001b[1;33m(\u001b[0m\u001b[0muniques\u001b[0m\u001b[1;33m)\u001b[0m \u001b[1;33m>\u001b[0m \u001b[1;36m1\u001b[0m\u001b[1;33m:\u001b[0m\u001b[1;33m\u001b[0m\u001b[1;33m\u001b[0m\u001b[0m\n\u001b[1;32m--> 387\u001b[1;33m         raise ValueError(\n\u001b[0m\u001b[0;32m    388\u001b[0m             \u001b[1;34m\"Found input variables with inconsistent numbers of samples: %r\"\u001b[0m\u001b[1;33m\u001b[0m\u001b[1;33m\u001b[0m\u001b[0m\n\u001b[0;32m    389\u001b[0m             \u001b[1;33m%\u001b[0m \u001b[1;33m[\u001b[0m\u001b[0mint\u001b[0m\u001b[1;33m(\u001b[0m\u001b[0ml\u001b[0m\u001b[1;33m)\u001b[0m \u001b[1;32mfor\u001b[0m \u001b[0ml\u001b[0m \u001b[1;32min\u001b[0m \u001b[0mlengths\u001b[0m\u001b[1;33m]\u001b[0m\u001b[1;33m\u001b[0m\u001b[1;33m\u001b[0m\u001b[0m\n",
      "\u001b[1;31mValueError\u001b[0m: Found input variables with inconsistent numbers of samples: [1092, 5000]"
     ]
    }
   ],
   "source": [
    "#랜덤 포레스트\n",
    "# 임계값 0.4일 때 F1스코어 최대\n",
    "get_eval_by_threshold(y_test , rf_pred_proba[:,1].reshape(-1,1), thresholds)\n"
   ]
  },
  {
   "cell_type": "code",
   "execution_count": 60,
   "metadata": {},
   "outputs": [
    {
     "name": "stdout",
     "output_type": "stream",
     "text": [
      "임곗값: 0.1\n",
      "오차행렬\n",
      "[[514 328]\n",
      " [ 13 237]]\n",
      "정확도: 0.6877, 정밀도 : 0.4195, 재현율:0.9480,F1 스코어:0.5816\n",
      "ROC 스코어: 0.7792, PR score : 0.4096\n",
      "임곗값: 0.2\n",
      "오차행렬\n",
      "[[639 203]\n",
      " [ 48 202]]\n",
      "정확도: 0.7701, 정밀도 : 0.4988, 재현율:0.8080,F1 스코어:0.6168\n",
      "ROC 스코어: 0.7835, PR score : 0.4470\n",
      "임곗값: 0.3\n",
      "오차행렬\n",
      "[[738 104]\n",
      " [ 59 191]]\n",
      "정확도: 0.8507, 정밀도 : 0.6475, 재현율:0.7640,F1 스코어:0.7009\n",
      "ROC 스코어: 0.8202, PR score : 0.5487\n",
      "임곗값: 0.4\n",
      "오차행렬\n",
      "[[781  61]\n",
      " [ 94 156]]\n",
      "정확도: 0.8581, 정밀도 : 0.7189, 재현율:0.6240,F1 스코어:0.6681\n",
      "ROC 스코어: 0.7758, PR score : 0.5347\n",
      "임곗값: 0.5\n",
      "오차행렬\n",
      "[[811  31]\n",
      " [121 129]]\n",
      "정확도: 0.8608, 정밀도 : 0.8063, 재현율:0.5160,F1 스코어:0.6293\n",
      "ROC 스코어: 0.7396, PR score : 0.5268\n",
      "임곗값: 0.6\n",
      "오차행렬\n",
      "[[828  14]\n",
      " [154  96]]\n",
      "정확도: 0.8462, 정밀도 : 0.8727, 재현율:0.3840,F1 스코어:0.5333\n",
      "ROC 스코어: 0.6837, PR score : 0.4762\n",
      "임곗값: 0.7\n",
      "오차행렬\n",
      "[[832  10]\n",
      " [174  76]]\n",
      "정확도: 0.8315, 정밀도 : 0.8837, 재현율:0.3040,F1 스코어:0.4524\n",
      "ROC 스코어: 0.6461, PR score : 0.4280\n",
      "임곗값: 0.8\n",
      "오차행렬\n",
      "[[835   7]\n",
      " [183  67]]\n",
      "정확도: 0.8260, 정밀도 : 0.9054, 재현율:0.2680,F1 스코어:0.4136\n",
      "ROC 스코어: 0.6298, PR score : 0.4102\n",
      "임곗값: 0.9\n",
      "오차행렬\n",
      "[[836   6]\n",
      " [204  46]]\n",
      "정확도: 0.8077, 정밀도 : 0.8846, 재현율:0.1840,F1 스코어:0.3046\n",
      "ROC 스코어: 0.5884, PR score : 0.3496\n"
     ]
    }
   ],
   "source": [
    "#랜덤 포레스트 최적 파라미터 \n",
    "#임계값 0.4일 때 최대\n",
    "get_eval_by_threshold(y_test , rf_best_pred_proba[:,1].reshape(-1,1), thresholds)"
   ]
  },
  {
   "cell_type": "code",
   "execution_count": 61,
   "metadata": {},
   "outputs": [
    {
     "name": "stdout",
     "output_type": "stream",
     "text": [
      "임곗값: 0.1\n",
      "오차행렬\n",
      "[[818  24]\n",
      " [140 110]]\n",
      "정확도: 0.8498, 정밀도 : 0.8209, 재현율:0.4400,F1 스코어:0.5729\n",
      "ROC 스코어: 0.7057, PR score : 0.4894\n",
      "임곗값: 0.2\n",
      "오차행렬\n",
      "[[818  24]\n",
      " [140 110]]\n",
      "정확도: 0.8498, 정밀도 : 0.8209, 재현율:0.4400,F1 스코어:0.5729\n",
      "ROC 스코어: 0.7057, PR score : 0.4894\n",
      "임곗값: 0.3\n",
      "오차행렬\n",
      "[[818  24]\n",
      " [140 110]]\n",
      "정확도: 0.8498, 정밀도 : 0.8209, 재현율:0.4400,F1 스코어:0.5729\n",
      "ROC 스코어: 0.7057, PR score : 0.4894\n",
      "임곗값: 0.4\n",
      "오차행렬\n",
      "[[819  23]\n",
      " [147 103]]\n",
      "정확도: 0.8443, 정밀도 : 0.8175, 재현율:0.4120,F1 스코어:0.5479\n",
      "ROC 스코어: 0.6923, PR score : 0.4714\n",
      "임곗값: 0.5\n",
      "오차행렬\n",
      "[[819  23]\n",
      " [147 103]]\n",
      "정확도: 0.8443, 정밀도 : 0.8175, 재현율:0.4120,F1 스코어:0.5479\n",
      "ROC 스코어: 0.6923, PR score : 0.4714\n",
      "임곗값: 0.6\n",
      "오차행렬\n",
      "[[822  20]\n",
      " [157  93]]\n",
      "정확도: 0.8379, 정밀도 : 0.8230, 재현율:0.3720,F1 스코어:0.5124\n",
      "ROC 스코어: 0.6741, PR score : 0.4499\n",
      "임곗값: 0.7\n",
      "오차행렬\n",
      "[[822  20]\n",
      " [157  93]]\n",
      "정확도: 0.8379, 정밀도 : 0.8230, 재현율:0.3720,F1 스코어:0.5124\n",
      "ROC 스코어: 0.6741, PR score : 0.4499\n",
      "임곗값: 0.8\n",
      "오차행렬\n",
      "[[830  12]\n",
      " [195  55]]\n",
      "정확도: 0.8104, 정밀도 : 0.8209, 재현율:0.2200,F1 스코어:0.3470\n",
      "ROC 스코어: 0.6029, PR score : 0.3592\n",
      "임곗값: 0.9\n",
      "오차행렬\n",
      "[[830  12]\n",
      " [195  55]]\n",
      "정확도: 0.8104, 정밀도 : 0.8209, 재현율:0.2200,F1 스코어:0.3470\n",
      "ROC 스코어: 0.6029, PR score : 0.3592\n"
     ]
    }
   ],
   "source": [
    "#knn \n",
    "#임계값 0.1일때 최대\n",
    "get_eval_by_threshold(y_test , knn_pred_proba[:,1].reshape(-1,1), thresholds)"
   ]
  },
  {
   "cell_type": "code",
   "execution_count": 62,
   "metadata": {},
   "outputs": [
    {
     "name": "stdout",
     "output_type": "stream",
     "text": [
      "임곗값: 0.1\n",
      "오차행렬\n",
      "[[819  23]\n",
      " [147 103]]\n",
      "정확도: 0.8443, 정밀도 : 0.8175, 재현율:0.4120,F1 스코어:0.5479\n",
      "ROC 스코어: 0.6923, PR score : 0.4714\n",
      "임곗값: 0.2\n",
      "오차행렬\n",
      "[[819  23]\n",
      " [147 103]]\n",
      "정확도: 0.8443, 정밀도 : 0.8175, 재현율:0.4120,F1 스코어:0.5479\n",
      "ROC 스코어: 0.6923, PR score : 0.4714\n",
      "임곗값: 0.3\n",
      "오차행렬\n",
      "[[819  23]\n",
      " [147 103]]\n",
      "정확도: 0.8443, 정밀도 : 0.8175, 재현율:0.4120,F1 스코어:0.5479\n",
      "ROC 스코어: 0.6923, PR score : 0.4714\n",
      "임곗값: 0.4\n",
      "오차행렬\n",
      "[[822  20]\n",
      " [157  93]]\n",
      "정확도: 0.8379, 정밀도 : 0.8230, 재현율:0.3720,F1 스코어:0.5124\n",
      "ROC 스코어: 0.6741, PR score : 0.4499\n",
      "임곗값: 0.5\n",
      "오차행렬\n",
      "[[822  20]\n",
      " [157  93]]\n",
      "정확도: 0.8379, 정밀도 : 0.8230, 재현율:0.3720,F1 스코어:0.5124\n",
      "ROC 스코어: 0.6741, PR score : 0.4499\n",
      "임곗값: 0.6\n",
      "오차행렬\n",
      "[[822  20]\n",
      " [157  93]]\n",
      "정확도: 0.8379, 정밀도 : 0.8230, 재현율:0.3720,F1 스코어:0.5124\n",
      "ROC 스코어: 0.6741, PR score : 0.4499\n",
      "임곗값: 0.7\n",
      "오차행렬\n",
      "[[830  12]\n",
      " [195  55]]\n",
      "정확도: 0.8104, 정밀도 : 0.8209, 재현율:0.2200,F1 스코어:0.3470\n",
      "ROC 스코어: 0.6029, PR score : 0.3592\n",
      "임곗값: 0.8\n",
      "오차행렬\n",
      "[[830  12]\n",
      " [195  55]]\n",
      "정확도: 0.8104, 정밀도 : 0.8209, 재현율:0.2200,F1 스코어:0.3470\n",
      "ROC 스코어: 0.6029, PR score : 0.3592\n",
      "임곗값: 0.9\n",
      "오차행렬\n",
      "[[830  12]\n",
      " [195  55]]\n",
      "정확도: 0.8104, 정밀도 : 0.8209, 재현율:0.2200,F1 스코어:0.3470\n",
      "ROC 스코어: 0.6029, PR score : 0.3592\n"
     ]
    }
   ],
   "source": [
    "#knn 최적 파라미터 적용\n",
    "#임계값. 0.1\n",
    "get_eval_by_threshold(y_test , knn_best_pred_proba[:,1].reshape(-1,1), thresholds)"
   ]
  },
  {
   "cell_type": "code",
   "execution_count": 45,
   "metadata": {},
   "outputs": [
    {
     "ename": "NameError",
     "evalue": "name 'xgb_pred_proba' is not defined",
     "output_type": "error",
     "traceback": [
      "\u001b[1;31m---------------------------------------------------------------------------\u001b[0m",
      "\u001b[1;31mNameError\u001b[0m                                 Traceback (most recent call last)",
      "Cell \u001b[1;32mIn [45], line 3\u001b[0m\n\u001b[0;32m      1\u001b[0m \u001b[38;5;66;03m#xgb \u001b[39;00m\n\u001b[0;32m      2\u001b[0m \u001b[38;5;66;03m#입계값 0.1일 때 최대\u001b[39;00m\n\u001b[1;32m----> 3\u001b[0m get_eval_by_threshold(y_test , \u001b[43mxgb_pred_proba\u001b[49m[:,\u001b[38;5;241m1\u001b[39m]\u001b[38;5;241m.\u001b[39mreshape(\u001b[38;5;241m-\u001b[39m\u001b[38;5;241m1\u001b[39m,\u001b[38;5;241m1\u001b[39m), thresholds)\n",
      "\u001b[1;31mNameError\u001b[0m: name 'xgb_pred_proba' is not defined"
     ]
    }
   ],
   "source": [
    "#xgb \n",
    "#입계값 0.1일 때 최대\n",
    "get_eval_by_threshold(y_test , xgb_pred_proba[:,1].reshape(-1,1), thresholds)"
   ]
  },
  {
   "cell_type": "code",
   "execution_count": 46,
   "metadata": {},
   "outputs": [
    {
     "ename": "NameError",
     "evalue": "name 'xgb_best_pred_proba' is not defined",
     "output_type": "error",
     "traceback": [
      "\u001b[1;31m---------------------------------------------------------------------------\u001b[0m",
      "\u001b[1;31mNameError\u001b[0m                                 Traceback (most recent call last)",
      "Cell \u001b[1;32mIn [46], line 3\u001b[0m\n\u001b[0;32m      1\u001b[0m \u001b[38;5;66;03m# xgb 최적 파라미터 적용\u001b[39;00m\n\u001b[0;32m      2\u001b[0m \u001b[38;5;66;03m# 임계값 0.3일때 최대\u001b[39;00m\n\u001b[1;32m----> 3\u001b[0m get_eval_by_threshold(y_test , \u001b[43mxgb_best_pred_proba\u001b[49m[:,\u001b[38;5;241m1\u001b[39m]\u001b[38;5;241m.\u001b[39mreshape(\u001b[38;5;241m-\u001b[39m\u001b[38;5;241m1\u001b[39m,\u001b[38;5;241m1\u001b[39m), thresholds)\n",
      "\u001b[1;31mNameError\u001b[0m: name 'xgb_best_pred_proba' is not defined"
     ]
    }
   ],
   "source": [
    "# xgb 최적 파라미터 적용\n",
    "# 임계값 0.3일때 최대\n",
    "get_eval_by_threshold(y_test , xgb_best_pred_proba[:,1].reshape(-1,1), thresholds)"
   ]
  },
  {
   "cell_type": "code",
   "execution_count": 51,
   "metadata": {},
   "outputs": [
    {
     "data": {
      "image/png": "[encoded data removed]",
      "text/plain": [
       "<Figure size 432x288 with 1 Axes>"
      ]
     },
     "metadata": {
      "needs_background": "light"
     },
     "output_type": "display_data"
    },
    {
     "name": "stdout",
     "output_type": "stream",
     "text": [
      "lda의 ROC AUC값: 0.9048\n"
     ]
    }
   ],
   "source": [
    "from sklearn.metrics import roc_curve\n",
    "from sklearn.metrics import roc_auc_score\n",
    "def roc_curve_plot(y_test, pred_proba_c1):\n",
    "    fprs, tprs, thresholds = roc_curve(y_test, pred_proba_c1)\n",
    "    \n",
    "    plt.plot(fprs, tprs, label='ROC')\n",
    "    plt.plot([0,1],[0,1], 'k--', label = 'Random')\n",
    "    \n",
    "    start, end= plt.xlim()\n",
    "    plt.xticks(np.round(np.arange(start, end, 0.1),2))\n",
    "    plt.xlim(0,1); plt.ylim(0,1)\n",
    "    plt.xlabel('FPR(1-Sensitivity)'); plt.ylabel('TPR(Recall)')\n",
    "    plt.legend()\n",
    "    plt.show()\n",
    "    \n",
    "roc_curve_plot(y_test, lda_clf.predict_proba(X_test)[:,1])\n",
    "pred_proba = lda_clf.predict_proba(X_test)[:,1]\n",
    "roc_score = roc_auc_score(y_test, pred_proba)\n",
    "print('lda의 ROC AUC값: {0:.4f}'.format(roc_score))\n"
   ]
  },
  {
   "cell_type": "code",
   "execution_count": 52,
   "metadata": {},
   "outputs": [
    {
     "data": {
      "image/png": "[encoded data removed]",
      "text/plain": [
       "<Figure size 432x288 with 1 Axes>"
      ]
     },
     "metadata": {
      "needs_background": "light"
     },
     "output_type": "display_data"
    },
    {
     "name": "stdout",
     "output_type": "stream",
     "text": [
      "lda의 ROC AUC값: 0.8119\n"
     ]
    }
   ],
   "source": [
    "roc_curve_plot(y_test, lda_clf.predict(X_test))\n",
    "roc_score = roc_auc_score(y_test, lda_pred)\n",
    "print('lda의 ROC AUC값: {0:.4f}'.format(roc_score))"
   ]
  },
  {
   "cell_type": "code",
   "execution_count": 53,
   "metadata": {},
   "outputs": [
    {
     "data": {
      "image/png": "[encoded data removed]",
      "text/plain": [
       "<Figure size 432x288 with 1 Axes>"
      ]
     },
     "metadata": {
      "needs_background": "light"
     },
     "output_type": "display_data"
    },
    {
     "name": "stdout",
     "output_type": "stream",
     "text": [
      "dt ROC AUC값: 0.6650\n"
     ]
    }
   ],
   "source": [
    "roc_curve_plot(y_test, dt_clf.predict_proba(X_test)[:,1])\n",
    "pred_proba = dt_clf.predict_proba(X_test)[:,1]\n",
    "roc_score = roc_auc_score(y_test, pred_proba)\n",
    "print('dt ROC AUC값: {0:.4f}'.format(roc_score))\n"
   ]
  },
  {
   "cell_type": "code",
   "execution_count": 54,
   "metadata": {},
   "outputs": [
    {
     "data": {
      "image/png": "[encoded data removed]",
      "text/plain": [
       "<Figure size 432x288 with 1 Axes>"
      ]
     },
     "metadata": {
      "needs_background": "light"
     },
     "output_type": "display_data"
    },
    {
     "name": "stdout",
     "output_type": "stream",
     "text": [
      "rf ROC AUC값: 1.0000\n"
     ]
    }
   ],
   "source": [
    "roc_curve_plot(y_test, rf_clf.predict_proba(X_test)[:,1])\n",
    "pred_proba = rf_clf.predict_proba(X_test)[:,1]\n",
    "roc_score = roc_auc_score(y_test, pred_proba)\n",
    "print('rf ROC AUC값: {0:.4f}'.format(roc_score))"
   ]
  },
  {
   "cell_type": "code",
   "execution_count": 55,
   "metadata": {},
   "outputs": [
    {
     "data": {
      "image/png": "[encoded data removed]",
      "text/plain": [
       "<Figure size 432x288 with 1 Axes>"
      ]
     },
     "metadata": {
      "needs_background": "light"
     },
     "output_type": "display_data"
    },
    {
     "name": "stdout",
     "output_type": "stream",
     "text": [
      "lr ROC AUC값: 0.9248\n"
     ]
    }
   ],
   "source": [
    "roc_curve_plot(y_test, lr_clf.predict_proba(X_test)[:,1])\n",
    "pred_proba = lr_clf.predict_proba(X_test)[:,1]\n",
    "roc_score = roc_auc_score(y_test, pred_proba)\n",
    "print('lr ROC AUC값: {0:.4f}'.format(roc_score))"
   ]
  },
  {
   "cell_type": "code",
   "execution_count": 56,
   "metadata": {},
   "outputs": [
    {
     "name": "stderr",
     "output_type": "stream",
     "text": [
      "c:\\ProgramData\\Anaconda3\\lib\\site-packages\\sklearn\\base.py:443: UserWarning: X has feature names, but KNeighborsClassifier was fitted without feature names\n",
      "  warnings.warn(\n"
     ]
    },
    {
     "data": {
      "image/png": "[encoded data removed]",
      "text/plain": [
       "<Figure size 432x288 with 1 Axes>"
      ]
     },
     "metadata": {
      "needs_background": "light"
     },
     "output_type": "display_data"
    },
    {
     "name": "stdout",
     "output_type": "stream",
     "text": [
      "knn ROC AUC값: 0.6925\n"
     ]
    },
    {
     "name": "stderr",
     "output_type": "stream",
     "text": [
      "c:\\ProgramData\\Anaconda3\\lib\\site-packages\\sklearn\\base.py:443: UserWarning: X has feature names, but KNeighborsClassifier was fitted without feature names\n",
      "  warnings.warn(\n"
     ]
    }
   ],
   "source": [
    "roc_curve_plot(y_test, knn_clf.predict_proba(X_test)[:,1])\n",
    "pred_proba = knn_clf.predict_proba(X_test)[:,1]\n",
    "roc_score = roc_auc_score(y_test, pred_proba)\n",
    "print('knn ROC AUC값: {0:.4f}'.format(roc_score))"
   ]
  },
  {
   "cell_type": "code",
   "execution_count": 57,
   "metadata": {},
   "outputs": [
    {
     "name": "stderr",
     "output_type": "stream",
     "text": [
      "c:\\ProgramData\\Anaconda3\\lib\\site-packages\\sklearn\\base.py:443: UserWarning: X has feature names, but KNeighborsClassifier was fitted without feature names\n",
      "  warnings.warn(\n"
     ]
    },
    {
     "data": {
      "image/png": "[encoded data removed]",
      "text/plain": [
       "<Figure size 432x288 with 1 Axes>"
      ]
     },
     "metadata": {
      "needs_background": "light"
     },
     "output_type": "display_data"
    },
    {
     "name": "stdout",
     "output_type": "stream",
     "text": [
      "knn ROC AUC값: 0.6925\n"
     ]
    },
    {
     "name": "stderr",
     "output_type": "stream",
     "text": [
      "c:\\ProgramData\\Anaconda3\\lib\\site-packages\\sklearn\\base.py:443: UserWarning: X has feature names, but KNeighborsClassifier was fitted without feature names\n",
      "  warnings.warn(\n"
     ]
    }
   ],
   "source": [
    "roc_curve_plot(y_test, knn_clf.predict_proba(X_test)[:,1])\n",
    "pred_proba = knn_clf.predict_proba(X_test)[:,1]\n",
    "roc_score = roc_auc_score(y_test, pred_proba)\n",
    "print('knn ROC AUC값: {0:.4f}'.format(roc_score))\n"
   ]
  },
  {
   "cell_type": "code",
   "execution_count": null,
   "metadata": {},
   "outputs": [],
   "source": []
  }
 ],
 "metadata": {
  "kernelspec": {
   "display_name": "Python 3.8.8 ('base')",
   "language": "python",
   "name": "python3"
  },
  "language_info": {
   "codemirror_mode": {
    "name": "ipython",
    "version": 3
   },
   "file_extension": ".py",
   "mimetype": "text/x-python",
   "name": "python",
   "nbconvert_exporter": "python",
   "pygments_lexer": "ipython3",
   "version": "3.8.8"
  },
  "orig_nbformat": 4,
  "vscode": {
   "interpreter": {
    "hash": "ad2bdc8ecc057115af97d19610ffacc2b4e99fae6737bb82f5d7fb13d2f2c186"
   }
  }
 },
 "nbformat": 4,
 "nbformat_minor": 2
}
